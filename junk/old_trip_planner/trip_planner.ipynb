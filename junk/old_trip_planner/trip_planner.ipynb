{
 "cells": [
  {
   "cell_type": "markdown",
   "metadata": {},
   "source": [
    "# Imports"
   ]
  },
  {
   "cell_type": "code",
   "execution_count": 20,
   "metadata": {},
   "outputs": [],
   "source": [
    "import os\n",
    "from dotenv import load_dotenv\n",
    "import pandas as pd\n",
    "import numpy as np\n",
    "import plotly.express as px\n",
    "import plotly.io as pio # new library\n",
    "import random #new library\n",
    "import folium #new library\n",
    "from simple_colors import * #new library\n",
    "from pathlib import Path\n",
    "import json\n",
    "\n",
    "# Relevant imports for Flights Section\n",
    "from skyscanner_request import skyscanner_api  # connects to the 'skyscanner_request.py' function file\n",
    "\n",
    "# Relevant imports for Hotels section\n",
    "from booking_locations_request import booking_locations_api # connects to the booking_locations_request.py\" function file\n",
    "from booking_hotels_request import booking_hotels_api # connects to the booking_locations_request.py\" function file"
   ]
  },
  {
   "cell_type": "markdown",
   "metadata": {},
   "source": [
    "# Client Data"
   ]
  },
  {
   "cell_type": "code",
   "execution_count": 21,
   "metadata": {},
   "outputs": [],
   "source": [
    "# Load data on world airports\n",
    "\n",
    "# Set path to CSV of airports\n",
    "airports_path = Path('../../resources/datasets/airports_short.csv')\n",
    "us_cities_path = Path('../../resources/datasets/us_cities_states_counties.csv')\n",
    "\n",
    "# Read files\n",
    "csv_df = pd.read_csv(airports_path).set_index('id')\n",
    "airports_df = csv_df[['name','type','municipality','iata_code','iso_country', 'iso_region']]\n",
    "\n",
    "csv_df = pd.read_csv(us_cities_path)\n",
    "us_cities_df = csv_df\n"
   ]
  },
  {
   "cell_type": "code",
   "execution_count": 15,
   "metadata": {},
   "outputs": [
    {
     "data": {
      "text/html": [
       "<div>\n",
       "<style scoped>\n",
       "    .dataframe tbody tr th:only-of-type {\n",
       "        vertical-align: middle;\n",
       "    }\n",
       "\n",
       "    .dataframe tbody tr th {\n",
       "        vertical-align: top;\n",
       "    }\n",
       "\n",
       "    .dataframe thead th {\n",
       "        text-align: right;\n",
       "    }\n",
       "</style>\n",
       "<table border=\"1\" class=\"dataframe\">\n",
       "  <thead>\n",
       "    <tr style=\"text-align: right;\">\n",
       "      <th></th>\n",
       "      <th>name</th>\n",
       "      <th>type</th>\n",
       "      <th>municipality</th>\n",
       "      <th>iata_code</th>\n",
       "      <th>iso_country</th>\n",
       "      <th>iso_region</th>\n",
       "    </tr>\n",
       "    <tr>\n",
       "      <th>id</th>\n",
       "      <th></th>\n",
       "      <th></th>\n",
       "      <th></th>\n",
       "      <th></th>\n",
       "      <th></th>\n",
       "      <th></th>\n",
       "    </tr>\n",
       "  </thead>\n",
       "  <tbody>\n",
       "    <tr>\n",
       "      <th>18945</th>\n",
       "      <td>Boulder City-Lake Mead International Airport</td>\n",
       "      <td>large_airport</td>\n",
       "      <td>Boulder City</td>\n",
       "      <td>BLD</td>\n",
       "      <td>US</td>\n",
       "      <td>US-NV</td>\n",
       "    </tr>\n",
       "    <tr>\n",
       "      <th>18966</th>\n",
       "      <td>Mesquite International Airport</td>\n",
       "      <td>large_airport</td>\n",
       "      <td>Mesquite</td>\n",
       "      <td>MFH</td>\n",
       "      <td>US</td>\n",
       "      <td>US-NV</td>\n",
       "    </tr>\n",
       "    <tr>\n",
       "      <th>16091</th>\n",
       "      <td>Albuquerque International Sunport</td>\n",
       "      <td>large_airport</td>\n",
       "      <td>Albuquerque</td>\n",
       "      <td>ABQ</td>\n",
       "      <td>US</td>\n",
       "      <td>US-NM</td>\n",
       "    </tr>\n",
       "    <tr>\n",
       "      <th>3362</th>\n",
       "      <td>California Redwood Coast-Humboldt County Inter...</td>\n",
       "      <td>large_airport</td>\n",
       "      <td>Arcata/Eureka</td>\n",
       "      <td>ACV</td>\n",
       "      <td>US</td>\n",
       "      <td>US-CA</td>\n",
       "    </tr>\n",
       "    <tr>\n",
       "      <th>3364</th>\n",
       "      <td>Joint Base Andrews</td>\n",
       "      <td>large_airport</td>\n",
       "      <td>Camp Springs</td>\n",
       "      <td>ADW</td>\n",
       "      <td>US</td>\n",
       "      <td>US-MD</td>\n",
       "    </tr>\n",
       "  </tbody>\n",
       "</table>\n",
       "</div>"
      ],
      "text/plain": [
       "                                                    name           type  \\\n",
       "id                                                                        \n",
       "18945       Boulder City-Lake Mead International Airport  large_airport   \n",
       "18966                     Mesquite International Airport  large_airport   \n",
       "16091                  Albuquerque International Sunport  large_airport   \n",
       "3362   California Redwood Coast-Humboldt County Inter...  large_airport   \n",
       "3364                                  Joint Base Andrews  large_airport   \n",
       "\n",
       "        municipality iata_code iso_country iso_region  \n",
       "id                                                     \n",
       "18945   Boulder City       BLD          US      US-NV  \n",
       "18966       Mesquite       MFH          US      US-NV  \n",
       "16091    Albuquerque       ABQ          US      US-NM  \n",
       "3362   Arcata/Eureka       ACV          US      US-CA  \n",
       "3364    Camp Springs       ADW          US      US-MD  "
      ]
     },
     "execution_count": 15,
     "metadata": {},
     "output_type": "execute_result"
    }
   ],
   "source": [
    "# Create new dataframe with airports from the US\n",
    "us_airports = airports_df.loc[airports_df['iso_country']==\"US\"]\n",
    "us_airports.head()"
   ]
  },
  {
   "cell_type": "code",
   "execution_count": 28,
   "metadata": {},
   "outputs": [
    {
     "name": "stdout",
     "output_type": "stream",
     "text": [
      "Random airport #1 FTW\n",
      "Random airport #2 JFK\n"
     ]
    }
   ],
   "source": [
    "# Select two random airports from the us_airports_df\n",
    "\n",
    "list_airports = us_airports.index.values.tolist()\n",
    "\n",
    "airports=[]\n",
    "\n",
    "for i in range(0,2):\n",
    "    random_airport = random.choice(list_airports)\n",
    "    airports.append(random_airport)\n",
    "    print(f\"Random airport #{i+1} {us_airports.loc[airports[i]]['iata_code']}\")"
   ]
  },
  {
   "cell_type": "code",
   "execution_count": 29,
   "metadata": {},
   "outputs": [
    {
     "name": "stdout",
     "output_type": "stream",
     "text": [
      "Random ISO region: NY\n",
      "Random city from ISO region: East Amherst\n"
     ]
    }
   ],
   "source": [
    "# Create new variable with iso_region code for destination (in the case of the US, these would be iso_region codes for the States)\n",
    "destination_iso_region = airports_df.loc[airports[1]]['iso_region']\n",
    "destination_iso_region = destination_iso_region[3:]\n",
    "print(f'Random ISO region: {destination_iso_region}')\n",
    "\n",
    "# Select a random city located in the iso_region of choice\n",
    "iso_region_rows = us_cities_df.loc[us_cities_df['State short'] == destination_iso_region]\n",
    "city_iso_region = random.choice(iso_region_rows['City'].tolist())\n",
    "print(f'Random city from ISO region: {city_iso_region}')\n"
   ]
  },
  {
   "cell_type": "code",
   "execution_count": 30,
   "metadata": {},
   "outputs": [],
   "source": [
    "# Generate required variables to run APIs\n",
    "\n",
    "departure_date = \"2022-04-12\"\n",
    "return_date = \"2022-04-20\"\n",
    "market_country = \"US\" # country where client is currently present\n",
    "\n",
    "# Set input variables for skyscanner API request\n",
    "\n",
    "departure_airport = str(airports_df.loc[airports[0]]['iata_code'])\n",
    "destination_airport = str(airports_df.loc[airports[1]]['iata_code'])\n",
    "locale_skyscanner = \"en-US\"\n",
    "currency = \"USD\"\n",
    "\n",
    "# Set input variables for BOOKING.COM API request\n",
    "destination_city = city_iso_region\n",
    "locale_booking = \"en-us\"\n",
    "nr_rooms = 1\n",
    "nr_adults = 1"
   ]
  },
  {
   "cell_type": "markdown",
   "metadata": {
    "tags": []
   },
   "source": [
    "# SKYSCANNER API Request"
   ]
  },
  {
   "cell_type": "code",
   "execution_count": 31,
   "metadata": {},
   "outputs": [
    {
     "data": {
      "text/plain": [
       "{'Quotes': [],\n",
       " 'Carriers': [],\n",
       " 'Places': [],\n",
       " 'Currencies': [{'Code': 'USD',\n",
       "   'Symbol': '$',\n",
       "   'ThousandsSeparator': ',',\n",
       "   'DecimalSeparator': '.',\n",
       "   'SymbolOnLeft': True,\n",
       "   'SpaceBetweenAmountAndSymbol': False,\n",
       "   'RoundingCoefficient': 0,\n",
       "   'DecimalDigits': 2}]}"
      ]
     },
     "execution_count": 31,
     "metadata": {},
     "output_type": "execute_result"
    }
   ],
   "source": [
    "# Make an API request from skyscanner\n",
    "\n",
    "flight_response = skyscanner_api(\n",
    "    market_country, \n",
    "    departure_date, \n",
    "    return_date, \n",
    "    departure_airport, \n",
    "    destination_airport, \n",
    "    locale_skyscanner, \n",
    "    currency\n",
    ")\n",
    "\n",
    "flight_response"
   ]
  },
  {
   "cell_type": "code",
   "execution_count": 9,
   "metadata": {},
   "outputs": [],
   "source": [
    "# Extract values for itinerary into variables\n",
    "\n",
    "# Create loop that stores all quotes provided by the API\n",
    "\n",
    "for quote in range(len(flight_response['Quotes'])):\n",
    "\n",
    "    if quote == 0:  # If there's only one quote, everything below will be stored in a variable\n",
    "\n",
    "        flight_price = [flight_response['Quotes'][quote]['MinPrice']]\n",
    "        airline = [flight_response['Carriers'][quote]['Name']]\n",
    "        departure_date = flight_response['Quotes'][quote]['OutboundLeg']['DepartureDate']\n",
    "        departure_airport = flight_response['Places'][0]['Name']\n",
    "        departure_airport_code = flight_response['Places'][0]['IataCode']\n",
    "        arrival_airport = flight_response['Places'][1]['Name']\n",
    "        arrival_airport_code = flight_response['Places'][1]['IataCode']\n",
    "        if flight_response['Quotes'][quote]['Direct'] == True:\n",
    "            layover = [\"Direct flight\"]\n",
    "        elif flight_response['Quotes'][quote]['Direct'] != True:\n",
    "            layover = [\"Flight with layover(s)\"]\n",
    "\n",
    "    else: # If there is more than one quote, the new flights and airlines will be appended to their respective variables\n",
    "        new_flight = flight_response['Quotes'][quote]['MinPrice']\n",
    "        new_airline = flight_response['Carriers'][quote]['Name']\n",
    "        flight_price.append(new_flight)\n",
    "        airline.append(new_airline)\n",
    "\n",
    "        if flight_response['Quotes'][quote]['Direct'] == True:\n",
    "            new_layover = \"Direct flight\"\n",
    "            layover.append(new_layover)\n",
    "        elif flight_response['Quotes'][quote]['Direct'] != True:\n",
    "            new_layover = \"Flight with layover(s)\"\n",
    "            layover.append(new_layover)\n"
   ]
  },
  {
   "cell_type": "code",
   "execution_count": 10,
   "metadata": {},
   "outputs": [
    {
     "data": {
      "text/html": [
       "<div>\n",
       "<style scoped>\n",
       "    .dataframe tbody tr th:only-of-type {\n",
       "        vertical-align: middle;\n",
       "    }\n",
       "\n",
       "    .dataframe tbody tr th {\n",
       "        vertical-align: top;\n",
       "    }\n",
       "\n",
       "    .dataframe thead th {\n",
       "        text-align: right;\n",
       "    }\n",
       "</style>\n",
       "<table border=\"1\" class=\"dataframe\">\n",
       "  <thead>\n",
       "    <tr style=\"text-align: right;\">\n",
       "      <th></th>\n",
       "      <th>MinPrice</th>\n",
       "      <th>Direct</th>\n",
       "      <th>QuoteDateTime</th>\n",
       "      <th>OutboundLeg.CarrierIds</th>\n",
       "      <th>OutboundLeg.OriginId</th>\n",
       "      <th>OutboundLeg.DestinationId</th>\n",
       "      <th>OutboundLeg.DepartureDate</th>\n",
       "    </tr>\n",
       "    <tr>\n",
       "      <th>QuoteId</th>\n",
       "      <th></th>\n",
       "      <th></th>\n",
       "      <th></th>\n",
       "      <th></th>\n",
       "      <th></th>\n",
       "      <th></th>\n",
       "      <th></th>\n",
       "    </tr>\n",
       "  </thead>\n",
       "  <tbody>\n",
       "    <tr>\n",
       "      <th>1</th>\n",
       "      <td>104</td>\n",
       "      <td>False</td>\n",
       "      <td>2021-10-25T14:13:00</td>\n",
       "      <td>[851]</td>\n",
       "      <td>65368</td>\n",
       "      <td>60987</td>\n",
       "      <td>2021-12-01T00:00:00</td>\n",
       "    </tr>\n",
       "    <tr>\n",
       "      <th>2</th>\n",
       "      <td>148</td>\n",
       "      <td>True</td>\n",
       "      <td>2021-10-25T14:13:00</td>\n",
       "      <td>[870]</td>\n",
       "      <td>65368</td>\n",
       "      <td>60987</td>\n",
       "      <td>2021-12-01T00:00:00</td>\n",
       "    </tr>\n",
       "  </tbody>\n",
       "</table>\n",
       "</div>"
      ],
      "text/plain": [
       "         MinPrice  Direct        QuoteDateTime OutboundLeg.CarrierIds  \\\n",
       "QuoteId                                                                 \n",
       "1             104   False  2021-10-25T14:13:00                  [851]   \n",
       "2             148    True  2021-10-25T14:13:00                  [870]   \n",
       "\n",
       "         OutboundLeg.OriginId  OutboundLeg.DestinationId  \\\n",
       "QuoteId                                                    \n",
       "1                       65368                      60987   \n",
       "2                       65368                      60987   \n",
       "\n",
       "        OutboundLeg.DepartureDate  \n",
       "QuoteId                            \n",
       "1             2021-12-01T00:00:00  \n",
       "2             2021-12-01T00:00:00  "
      ]
     },
     "execution_count": 10,
     "metadata": {},
     "output_type": "execute_result"
    }
   ],
   "source": [
    "# Create dataframe of quotes\n",
    "\n",
    "quotes_list = flight_response['Quotes']\n",
    "flight_quotes_df = pd.json_normalize(quotes_list).set_index('QuoteId') #json_normalize creates extra columns for the nested fields\n",
    "\n",
    "flight_quotes_df"
   ]
  },
  {
   "cell_type": "code",
   "execution_count": 11,
   "metadata": {},
   "outputs": [
    {
     "data": {
      "text/html": [
       "<div>\n",
       "<style scoped>\n",
       "    .dataframe tbody tr th:only-of-type {\n",
       "        vertical-align: middle;\n",
       "    }\n",
       "\n",
       "    .dataframe tbody tr th {\n",
       "        vertical-align: top;\n",
       "    }\n",
       "\n",
       "    .dataframe thead th {\n",
       "        text-align: right;\n",
       "    }\n",
       "</style>\n",
       "<table border=\"1\" class=\"dataframe\">\n",
       "  <thead>\n",
       "    <tr style=\"text-align: right;\">\n",
       "      <th></th>\n",
       "      <th>MinPrice</th>\n",
       "      <th>Direct</th>\n",
       "      <th>QuoteDateTime</th>\n",
       "      <th>OutboundLeg.CarrierIds</th>\n",
       "      <th>OutboundLeg.OriginId</th>\n",
       "      <th>OutboundLeg.DestinationId</th>\n",
       "      <th>OutboundLeg.DepartureDate</th>\n",
       "    </tr>\n",
       "    <tr>\n",
       "      <th>QuoteId</th>\n",
       "      <th></th>\n",
       "      <th></th>\n",
       "      <th></th>\n",
       "      <th></th>\n",
       "      <th></th>\n",
       "      <th></th>\n",
       "      <th></th>\n",
       "    </tr>\n",
       "  </thead>\n",
       "  <tbody>\n",
       "    <tr>\n",
       "      <th>1</th>\n",
       "      <td>104</td>\n",
       "      <td>False</td>\n",
       "      <td>2021-10-25T14:13:00</td>\n",
       "      <td>[Alaska Airlines]</td>\n",
       "      <td>65368</td>\n",
       "      <td>60987</td>\n",
       "      <td>2021-12-01T00:00:00</td>\n",
       "    </tr>\n",
       "    <tr>\n",
       "      <th>2</th>\n",
       "      <td>148</td>\n",
       "      <td>True</td>\n",
       "      <td>2021-10-25T14:13:00</td>\n",
       "      <td>[jetBlue]</td>\n",
       "      <td>65368</td>\n",
       "      <td>60987</td>\n",
       "      <td>2021-12-01T00:00:00</td>\n",
       "    </tr>\n",
       "  </tbody>\n",
       "</table>\n",
       "</div>"
      ],
      "text/plain": [
       "         MinPrice  Direct        QuoteDateTime OutboundLeg.CarrierIds  \\\n",
       "QuoteId                                                                 \n",
       "1             104   False  2021-10-25T14:13:00      [Alaska Airlines]   \n",
       "2             148    True  2021-10-25T14:13:00              [jetBlue]   \n",
       "\n",
       "         OutboundLeg.OriginId  OutboundLeg.DestinationId  \\\n",
       "QuoteId                                                    \n",
       "1                       65368                      60987   \n",
       "2                       65368                      60987   \n",
       "\n",
       "        OutboundLeg.DepartureDate  \n",
       "QuoteId                            \n",
       "1             2021-12-01T00:00:00  \n",
       "2             2021-12-01T00:00:00  "
      ]
     },
     "execution_count": 11,
     "metadata": {},
     "output_type": "execute_result"
    }
   ],
   "source": [
    "# Replace the CarrierIds by the Carrier Name on flight_quotes_df\n",
    "# This code goes through every quote and can handle quotes that have more than one carrier\n",
    "\n",
    "# Create dataframe of carriers (contains carrier id and name)\n",
    "carriers_df = pd.DataFrame(flight_response['Carriers']).set_index('CarrierId')\n",
    "\n",
    "\n",
    "# Create loop that will replace the Carrier Ids with Carrier Names\n",
    "\n",
    "carriers_row = []\n",
    "carriers = []\n",
    "\n",
    "for row in range(len(flight_quotes_df['OutboundLeg.CarrierIds'])):\n",
    "\n",
    "    # List all carriers for each quote\n",
    "    quote_carriers = flight_quotes_df['OutboundLeg.CarrierIds'].iloc[row]\n",
    "    \n",
    "    # For the row in question: for each carrier, append the Carrier name to a list of carriers in the row\n",
    "    for carrier in range(len(quote_carriers)):\n",
    "        carrier_id = quote_carriers[carrier]\n",
    "        carrier_name = carriers_df.loc[carrier_id]['Name']\n",
    "        carriers_row.append(carrier_name)\n",
    "        \n",
    "    # Store the carriers in each row for all rows\n",
    "    carriers.append(carriers_row)\n",
    "    carriers_row = []\n",
    "\n",
    "# Replace the carrier IDs for carrier names in the flight_quotes_df\n",
    "flight_quotes_df['OutboundLeg.CarrierIds'] = carriers\n",
    "flight_quotes_df\n"
   ]
  },
  {
   "cell_type": "code",
   "execution_count": 12,
   "metadata": {},
   "outputs": [
    {
     "data": {
      "text/html": [
       "<div>\n",
       "<style scoped>\n",
       "    .dataframe tbody tr th:only-of-type {\n",
       "        vertical-align: middle;\n",
       "    }\n",
       "\n",
       "    .dataframe tbody tr th {\n",
       "        vertical-align: top;\n",
       "    }\n",
       "\n",
       "    .dataframe thead th {\n",
       "        text-align: right;\n",
       "    }\n",
       "</style>\n",
       "<table border=\"1\" class=\"dataframe\">\n",
       "  <thead>\n",
       "    <tr style=\"text-align: right;\">\n",
       "      <th></th>\n",
       "      <th>Flight Cost</th>\n",
       "      <th>Direct</th>\n",
       "      <th>QuoteDateTime</th>\n",
       "      <th>Carriers</th>\n",
       "      <th>OutboundLeg.OriginId</th>\n",
       "      <th>OutboundLeg.DestinationId</th>\n",
       "      <th>OutboundLeg.DepartureDate</th>\n",
       "    </tr>\n",
       "    <tr>\n",
       "      <th>QuoteId</th>\n",
       "      <th></th>\n",
       "      <th></th>\n",
       "      <th></th>\n",
       "      <th></th>\n",
       "      <th></th>\n",
       "      <th></th>\n",
       "      <th></th>\n",
       "    </tr>\n",
       "  </thead>\n",
       "  <tbody>\n",
       "    <tr>\n",
       "      <th>1</th>\n",
       "      <td>104</td>\n",
       "      <td>False</td>\n",
       "      <td>2021-10-25T14:13:00</td>\n",
       "      <td>Alaska Airlines</td>\n",
       "      <td>65368</td>\n",
       "      <td>60987</td>\n",
       "      <td>2021-12-01T00:00:00</td>\n",
       "    </tr>\n",
       "    <tr>\n",
       "      <th>2</th>\n",
       "      <td>148</td>\n",
       "      <td>True</td>\n",
       "      <td>2021-10-25T14:13:00</td>\n",
       "      <td>jetBlue</td>\n",
       "      <td>65368</td>\n",
       "      <td>60987</td>\n",
       "      <td>2021-12-01T00:00:00</td>\n",
       "    </tr>\n",
       "  </tbody>\n",
       "</table>\n",
       "</div>"
      ],
      "text/plain": [
       "         Flight Cost  Direct        QuoteDateTime         Carriers  \\\n",
       "QuoteId                                                              \n",
       "1                104   False  2021-10-25T14:13:00  Alaska Airlines   \n",
       "2                148    True  2021-10-25T14:13:00          jetBlue   \n",
       "\n",
       "         OutboundLeg.OriginId  OutboundLeg.DestinationId  \\\n",
       "QuoteId                                                    \n",
       "1                       65368                      60987   \n",
       "2                       65368                      60987   \n",
       "\n",
       "        OutboundLeg.DepartureDate  \n",
       "QuoteId                            \n",
       "1             2021-12-01T00:00:00  \n",
       "2             2021-12-01T00:00:00  "
      ]
     },
     "execution_count": 12,
     "metadata": {},
     "output_type": "execute_result"
    }
   ],
   "source": [
    "# Make changes to dataframe\n",
    "\n",
    "# Rename columns on dataframe\n",
    "flight_quotes_df.rename(columns={'MinPrice': 'Flight Cost', 'OutboundLeg.CarrierIds': 'Carriers'}, inplace=True)\n",
    "\n",
    "\n",
    "# Create loop that transforms the list of carriers for each row into a string\n",
    "\n",
    "rows =[]\n",
    "for item in range(len(flight_quotes_df['Carriers'])):\n",
    "    row_values = flight_quotes_df['Carriers'].iloc[item]\n",
    "    row_as_string = \" \".join(map(str,row_values)) #this turns the list [] into a string with all elements\n",
    "    rows.append(row_as_string)\n",
    "\n",
    "flight_quotes_df['Carriers'] = rows\n",
    "flight_quotes_df"
   ]
  },
  {
   "cell_type": "code",
   "execution_count": 13,
   "metadata": {},
   "outputs": [
    {
     "data": {
      "application/vnd.plotly.v1+json": {
       "config": {
        "plotlyServerURL": "https://plot.ly"
       },
       "data": [
        {
         "alignmentgroup": "True",
         "hovertemplate": "Carriers=%{x}<br>Flight Cost=%{y}<extra></extra>",
         "legendgroup": "",
         "marker": {
          "color": "orange",
          "pattern": {
           "shape": ""
          }
         },
         "name": "",
         "offsetgroup": "",
         "orientation": "v",
         "showlegend": false,
         "textposition": "auto",
         "type": "bar",
         "x": [
          "Alaska Airlines",
          "jetBlue"
         ],
         "xaxis": "x",
         "y": [
          104,
          148
         ],
         "yaxis": "y"
        }
       ],
       "layout": {
        "barmode": "relative",
        "legend": {
         "title": {
          "text": "Price"
         },
         "tracegroupgap": 0
        },
        "template": {
         "data": {
          "bar": [
           {
            "error_x": {
             "color": "#2a3f5f"
            },
            "error_y": {
             "color": "#2a3f5f"
            },
            "marker": {
             "line": {
              "color": "#E5ECF6",
              "width": 0.5
             },
             "pattern": {
              "fillmode": "overlay",
              "size": 10,
              "solidity": 0.2
             }
            },
            "type": "bar"
           }
          ],
          "barpolar": [
           {
            "marker": {
             "line": {
              "color": "#E5ECF6",
              "width": 0.5
             },
             "pattern": {
              "fillmode": "overlay",
              "size": 10,
              "solidity": 0.2
             }
            },
            "type": "barpolar"
           }
          ],
          "carpet": [
           {
            "aaxis": {
             "endlinecolor": "#2a3f5f",
             "gridcolor": "white",
             "linecolor": "white",
             "minorgridcolor": "white",
             "startlinecolor": "#2a3f5f"
            },
            "baxis": {
             "endlinecolor": "#2a3f5f",
             "gridcolor": "white",
             "linecolor": "white",
             "minorgridcolor": "white",
             "startlinecolor": "#2a3f5f"
            },
            "type": "carpet"
           }
          ],
          "choropleth": [
           {
            "colorbar": {
             "outlinewidth": 0,
             "ticks": ""
            },
            "type": "choropleth"
           }
          ],
          "contour": [
           {
            "colorbar": {
             "outlinewidth": 0,
             "ticks": ""
            },
            "colorscale": [
             [
              0,
              "#0d0887"
             ],
             [
              0.1111111111111111,
              "#46039f"
             ],
             [
              0.2222222222222222,
              "#7201a8"
             ],
             [
              0.3333333333333333,
              "#9c179e"
             ],
             [
              0.4444444444444444,
              "#bd3786"
             ],
             [
              0.5555555555555556,
              "#d8576b"
             ],
             [
              0.6666666666666666,
              "#ed7953"
             ],
             [
              0.7777777777777778,
              "#fb9f3a"
             ],
             [
              0.8888888888888888,
              "#fdca26"
             ],
             [
              1,
              "#f0f921"
             ]
            ],
            "type": "contour"
           }
          ],
          "contourcarpet": [
           {
            "colorbar": {
             "outlinewidth": 0,
             "ticks": ""
            },
            "type": "contourcarpet"
           }
          ],
          "heatmap": [
           {
            "colorbar": {
             "outlinewidth": 0,
             "ticks": ""
            },
            "colorscale": [
             [
              0,
              "#0d0887"
             ],
             [
              0.1111111111111111,
              "#46039f"
             ],
             [
              0.2222222222222222,
              "#7201a8"
             ],
             [
              0.3333333333333333,
              "#9c179e"
             ],
             [
              0.4444444444444444,
              "#bd3786"
             ],
             [
              0.5555555555555556,
              "#d8576b"
             ],
             [
              0.6666666666666666,
              "#ed7953"
             ],
             [
              0.7777777777777778,
              "#fb9f3a"
             ],
             [
              0.8888888888888888,
              "#fdca26"
             ],
             [
              1,
              "#f0f921"
             ]
            ],
            "type": "heatmap"
           }
          ],
          "heatmapgl": [
           {
            "colorbar": {
             "outlinewidth": 0,
             "ticks": ""
            },
            "colorscale": [
             [
              0,
              "#0d0887"
             ],
             [
              0.1111111111111111,
              "#46039f"
             ],
             [
              0.2222222222222222,
              "#7201a8"
             ],
             [
              0.3333333333333333,
              "#9c179e"
             ],
             [
              0.4444444444444444,
              "#bd3786"
             ],
             [
              0.5555555555555556,
              "#d8576b"
             ],
             [
              0.6666666666666666,
              "#ed7953"
             ],
             [
              0.7777777777777778,
              "#fb9f3a"
             ],
             [
              0.8888888888888888,
              "#fdca26"
             ],
             [
              1,
              "#f0f921"
             ]
            ],
            "type": "heatmapgl"
           }
          ],
          "histogram": [
           {
            "marker": {
             "pattern": {
              "fillmode": "overlay",
              "size": 10,
              "solidity": 0.2
             }
            },
            "type": "histogram"
           }
          ],
          "histogram2d": [
           {
            "colorbar": {
             "outlinewidth": 0,
             "ticks": ""
            },
            "colorscale": [
             [
              0,
              "#0d0887"
             ],
             [
              0.1111111111111111,
              "#46039f"
             ],
             [
              0.2222222222222222,
              "#7201a8"
             ],
             [
              0.3333333333333333,
              "#9c179e"
             ],
             [
              0.4444444444444444,
              "#bd3786"
             ],
             [
              0.5555555555555556,
              "#d8576b"
             ],
             [
              0.6666666666666666,
              "#ed7953"
             ],
             [
              0.7777777777777778,
              "#fb9f3a"
             ],
             [
              0.8888888888888888,
              "#fdca26"
             ],
             [
              1,
              "#f0f921"
             ]
            ],
            "type": "histogram2d"
           }
          ],
          "histogram2dcontour": [
           {
            "colorbar": {
             "outlinewidth": 0,
             "ticks": ""
            },
            "colorscale": [
             [
              0,
              "#0d0887"
             ],
             [
              0.1111111111111111,
              "#46039f"
             ],
             [
              0.2222222222222222,
              "#7201a8"
             ],
             [
              0.3333333333333333,
              "#9c179e"
             ],
             [
              0.4444444444444444,
              "#bd3786"
             ],
             [
              0.5555555555555556,
              "#d8576b"
             ],
             [
              0.6666666666666666,
              "#ed7953"
             ],
             [
              0.7777777777777778,
              "#fb9f3a"
             ],
             [
              0.8888888888888888,
              "#fdca26"
             ],
             [
              1,
              "#f0f921"
             ]
            ],
            "type": "histogram2dcontour"
           }
          ],
          "mesh3d": [
           {
            "colorbar": {
             "outlinewidth": 0,
             "ticks": ""
            },
            "type": "mesh3d"
           }
          ],
          "parcoords": [
           {
            "line": {
             "colorbar": {
              "outlinewidth": 0,
              "ticks": ""
             }
            },
            "type": "parcoords"
           }
          ],
          "pie": [
           {
            "automargin": true,
            "type": "pie"
           }
          ],
          "scatter": [
           {
            "marker": {
             "colorbar": {
              "outlinewidth": 0,
              "ticks": ""
             }
            },
            "type": "scatter"
           }
          ],
          "scatter3d": [
           {
            "line": {
             "colorbar": {
              "outlinewidth": 0,
              "ticks": ""
             }
            },
            "marker": {
             "colorbar": {
              "outlinewidth": 0,
              "ticks": ""
             }
            },
            "type": "scatter3d"
           }
          ],
          "scattercarpet": [
           {
            "marker": {
             "colorbar": {
              "outlinewidth": 0,
              "ticks": ""
             }
            },
            "type": "scattercarpet"
           }
          ],
          "scattergeo": [
           {
            "marker": {
             "colorbar": {
              "outlinewidth": 0,
              "ticks": ""
             }
            },
            "type": "scattergeo"
           }
          ],
          "scattergl": [
           {
            "marker": {
             "colorbar": {
              "outlinewidth": 0,
              "ticks": ""
             }
            },
            "type": "scattergl"
           }
          ],
          "scattermapbox": [
           {
            "marker": {
             "colorbar": {
              "outlinewidth": 0,
              "ticks": ""
             }
            },
            "type": "scattermapbox"
           }
          ],
          "scatterpolar": [
           {
            "marker": {
             "colorbar": {
              "outlinewidth": 0,
              "ticks": ""
             }
            },
            "type": "scatterpolar"
           }
          ],
          "scatterpolargl": [
           {
            "marker": {
             "colorbar": {
              "outlinewidth": 0,
              "ticks": ""
             }
            },
            "type": "scatterpolargl"
           }
          ],
          "scatterternary": [
           {
            "marker": {
             "colorbar": {
              "outlinewidth": 0,
              "ticks": ""
             }
            },
            "type": "scatterternary"
           }
          ],
          "surface": [
           {
            "colorbar": {
             "outlinewidth": 0,
             "ticks": ""
            },
            "colorscale": [
             [
              0,
              "#0d0887"
             ],
             [
              0.1111111111111111,
              "#46039f"
             ],
             [
              0.2222222222222222,
              "#7201a8"
             ],
             [
              0.3333333333333333,
              "#9c179e"
             ],
             [
              0.4444444444444444,
              "#bd3786"
             ],
             [
              0.5555555555555556,
              "#d8576b"
             ],
             [
              0.6666666666666666,
              "#ed7953"
             ],
             [
              0.7777777777777778,
              "#fb9f3a"
             ],
             [
              0.8888888888888888,
              "#fdca26"
             ],
             [
              1,
              "#f0f921"
             ]
            ],
            "type": "surface"
           }
          ],
          "table": [
           {
            "cells": {
             "fill": {
              "color": "#EBF0F8"
             },
             "line": {
              "color": "white"
             }
            },
            "header": {
             "fill": {
              "color": "#C8D4E3"
             },
             "line": {
              "color": "white"
             }
            },
            "type": "table"
           }
          ]
         },
         "layout": {
          "annotationdefaults": {
           "arrowcolor": "#2a3f5f",
           "arrowhead": 0,
           "arrowwidth": 1
          },
          "autotypenumbers": "strict",
          "coloraxis": {
           "colorbar": {
            "outlinewidth": 0,
            "ticks": ""
           }
          },
          "colorscale": {
           "diverging": [
            [
             0,
             "#8e0152"
            ],
            [
             0.1,
             "#c51b7d"
            ],
            [
             0.2,
             "#de77ae"
            ],
            [
             0.3,
             "#f1b6da"
            ],
            [
             0.4,
             "#fde0ef"
            ],
            [
             0.5,
             "#f7f7f7"
            ],
            [
             0.6,
             "#e6f5d0"
            ],
            [
             0.7,
             "#b8e186"
            ],
            [
             0.8,
             "#7fbc41"
            ],
            [
             0.9,
             "#4d9221"
            ],
            [
             1,
             "#276419"
            ]
           ],
           "sequential": [
            [
             0,
             "#0d0887"
            ],
            [
             0.1111111111111111,
             "#46039f"
            ],
            [
             0.2222222222222222,
             "#7201a8"
            ],
            [
             0.3333333333333333,
             "#9c179e"
            ],
            [
             0.4444444444444444,
             "#bd3786"
            ],
            [
             0.5555555555555556,
             "#d8576b"
            ],
            [
             0.6666666666666666,
             "#ed7953"
            ],
            [
             0.7777777777777778,
             "#fb9f3a"
            ],
            [
             0.8888888888888888,
             "#fdca26"
            ],
            [
             1,
             "#f0f921"
            ]
           ],
           "sequentialminus": [
            [
             0,
             "#0d0887"
            ],
            [
             0.1111111111111111,
             "#46039f"
            ],
            [
             0.2222222222222222,
             "#7201a8"
            ],
            [
             0.3333333333333333,
             "#9c179e"
            ],
            [
             0.4444444444444444,
             "#bd3786"
            ],
            [
             0.5555555555555556,
             "#d8576b"
            ],
            [
             0.6666666666666666,
             "#ed7953"
            ],
            [
             0.7777777777777778,
             "#fb9f3a"
            ],
            [
             0.8888888888888888,
             "#fdca26"
            ],
            [
             1,
             "#f0f921"
            ]
           ]
          },
          "colorway": [
           "#636efa",
           "#EF553B",
           "#00cc96",
           "#ab63fa",
           "#FFA15A",
           "#19d3f3",
           "#FF6692",
           "#B6E880",
           "#FF97FF",
           "#FECB52"
          ],
          "font": {
           "color": "#2a3f5f"
          },
          "geo": {
           "bgcolor": "white",
           "lakecolor": "white",
           "landcolor": "#E5ECF6",
           "showlakes": true,
           "showland": true,
           "subunitcolor": "white"
          },
          "hoverlabel": {
           "align": "left"
          },
          "hovermode": "closest",
          "mapbox": {
           "style": "light"
          },
          "paper_bgcolor": "white",
          "plot_bgcolor": "#E5ECF6",
          "polar": {
           "angularaxis": {
            "gridcolor": "white",
            "linecolor": "white",
            "ticks": ""
           },
           "bgcolor": "#E5ECF6",
           "radialaxis": {
            "gridcolor": "white",
            "linecolor": "white",
            "ticks": ""
           }
          },
          "scene": {
           "xaxis": {
            "backgroundcolor": "#E5ECF6",
            "gridcolor": "white",
            "gridwidth": 2,
            "linecolor": "white",
            "showbackground": true,
            "ticks": "",
            "zerolinecolor": "white"
           },
           "yaxis": {
            "backgroundcolor": "#E5ECF6",
            "gridcolor": "white",
            "gridwidth": 2,
            "linecolor": "white",
            "showbackground": true,
            "ticks": "",
            "zerolinecolor": "white"
           },
           "zaxis": {
            "backgroundcolor": "#E5ECF6",
            "gridcolor": "white",
            "gridwidth": 2,
            "linecolor": "white",
            "showbackground": true,
            "ticks": "",
            "zerolinecolor": "white"
           }
          },
          "shapedefaults": {
           "line": {
            "color": "#2a3f5f"
           }
          },
          "ternary": {
           "aaxis": {
            "gridcolor": "white",
            "linecolor": "white",
            "ticks": ""
           },
           "baxis": {
            "gridcolor": "white",
            "linecolor": "white",
            "ticks": ""
           },
           "bgcolor": "#E5ECF6",
           "caxis": {
            "gridcolor": "white",
            "linecolor": "white",
            "ticks": ""
           }
          },
          "title": {
           "x": 0.05
          },
          "xaxis": {
           "automargin": true,
           "gridcolor": "white",
           "linecolor": "white",
           "ticks": "",
           "title": {
            "standoff": 15
           },
           "zerolinecolor": "white",
           "zerolinewidth": 2
          },
          "yaxis": {
           "automargin": true,
           "gridcolor": "white",
           "linecolor": "white",
           "ticks": "",
           "title": {
            "standoff": 15
           },
           "zerolinecolor": "white",
           "zerolinewidth": 2
          }
         }
        },
        "title": {
         "text": "JFK to LAX Flight Quotes"
        },
        "xaxis": {
         "anchor": "y",
         "domain": [
          0,
          1
         ],
         "title": {
          "text": "Carriers"
         }
        },
        "yaxis": {
         "anchor": "x",
         "domain": [
          0,
          1
         ],
         "title": {
          "text": "Flight Cost (USD)"
         }
        }
       }
      }
     },
     "metadata": {},
     "output_type": "display_data"
    }
   ],
   "source": [
    "# Plot a comparison of the quotes\n",
    "\n",
    "flight_quotes_plot = px.bar(flight_quotes_df, \n",
    "    x='Carriers', \n",
    "    y='Flight Cost',\n",
    "    title = f\"{departure_airport_code} to {arrival_airport_code} Flight Quotes\",\n",
    "    color_discrete_sequence =['orange']*len(flight_quotes_df),\n",
    ")\n",
    "\n",
    "\n",
    "flight_quotes_plot.update_layout(\n",
    "    yaxis_title=\"Flight Cost (USD)\",\n",
    "    legend_title=\"Price\"\n",
    ")\n",
    "\n",
    "flight_quotes_plot"
   ]
  },
  {
   "cell_type": "code",
   "execution_count": null,
   "metadata": {},
   "outputs": [],
   "source": [
    "# Print itinerary quote(s)\n",
    "\n",
    "if len(flight_response['Quotes']) == 1:  # if there's only one quote, the message below is printed\n",
    "\n",
    "    print(f\"Here's the cheapest flight information we have found:\")\n",
    "    print(f\"----------------------------------------------------------\")\n",
    "    print(f\"-{layover[quote]}-\")\n",
    "    print(f\"{airline} for ${flight_price}, leaving on {departure_date}\")\n",
    "    print(f\"Departing from {departure_airport}, {departure_airport_code}\")\n",
    "    print(f\"Arriving at {arrival_airport}, {arrival_airport_code}\")\n",
    "\n",
    "elif len(flight_response['Quotes']) > 1: # if there's more than one quote, all options are printed\n",
    "    \n",
    "    print(f\"Here are some flight options we have found:\")\n",
    "    print(f\"----------------------------------------------------------\")\n",
    "\n",
    "    for quote in range(len(flight_response['Quotes'])):\n",
    "        print(f\"Option {quote + 1 }:\")\n",
    "        print(f\"-{layover[quote]}-\")\n",
    "        print(f\"{airline[quote]} for ${flight_price[quote]}, leaving on {departure_date}\")\n",
    "        print(f\"Departing from {departure_airport}, {departure_airport_code}\")\n",
    "        print(f\"Arriving at {arrival_airport}, {arrival_airport_code}\")\n",
    "        print(f\" \")\n"
   ]
  },
  {
   "cell_type": "code",
   "execution_count": 32,
   "metadata": {},
   "outputs": [],
   "source": [
    "# Export the flight quotes to a text file that contains the final results\n",
    "\n",
    "# Set output file name\n",
    "output_path = 'flights_output.txt'\n",
    "\n",
    "# Open the output path as a file object\n",
    "with open(output_path, 'w') as file:\n",
    "    if len(flight_response['Quotes']) == 1:  # if there's only one quote, the message below is printed\n",
    "\n",
    "        file.write(f\"Here's the cheapest flight information we have found:\\n\")\n",
    "        file.write(f\"----------------------------------------------------------\\n\")\n",
    "        file.write(f\"-{layover[quote]}-\\n\")\n",
    "        file.write(f\"{airline} for ${flight_price}, leaving on {departure_date}\\n\")\n",
    "        file.write(f\"Departing from {departure_airport}, {departure_airport_code}\\n\")\n",
    "        file.write(f\"Arriving at {arrival_airport}, {arrival_airport_code}\\n\")\n",
    "\n",
    "    elif len(flight_response['Quotes']) > 1: # if there's more than one quote, all options are printed\n",
    "    \n",
    "        file.write(f\"Here are some flight options we have found:\\n\")\n",
    "        file.write(f\"----------------------------------------------------------\\n\")\n",
    "\n",
    "        for quote in range(len(flight_response['Quotes'])):\n",
    "            file.write(f\"Option {quote + 1 }:\\n\")\n",
    "            file.write(f\"-{layover[quote]}-\\n\")\n",
    "            file.write(f\"{airline[quote]} for ${flight_price[quote]}, leaving on {departure_date}\\n\")\n",
    "            file.write(f\"Departing from {departure_airport}, {departure_airport_code}\\n\")\n",
    "            file.write(f\"Arriving at {arrival_airport}, {arrival_airport_code}\\n\")\n",
    "            file.write(f\" \\n\")\n"
   ]
  },
  {
   "cell_type": "markdown",
   "metadata": {},
   "source": [
    "# BOOKING.COM API Requests"
   ]
  },
  {
   "cell_type": "code",
   "execution_count": 33,
   "metadata": {},
   "outputs": [],
   "source": [
    "# Read the Mapbox API key\n",
    "load_dotenv()\n",
    "map_box_api = os.getenv(\"mapbox\")"
   ]
  },
  {
   "cell_type": "code",
   "execution_count": 34,
   "metadata": {},
   "outputs": [
    {
     "ename": "NameError",
     "evalue": "name 'city' is not defined",
     "output_type": "error",
     "traceback": [
      "\u001b[1;31m---------------------------------------------------------------------------\u001b[0m",
      "\u001b[1;31mNameError\u001b[0m                                 Traceback (most recent call last)",
      "\u001b[1;32m~\\AppData\\Local\\Temp/ipykernel_61048/2106536288.py\u001b[0m in \u001b[0;36m<module>\u001b[1;34m\u001b[0m\n\u001b[0;32m      1\u001b[0m \u001b[1;31m# Make API request from Booking.com for number of hotels in the city by location (districts, landmarks, areas, etc.)\u001b[0m\u001b[1;33m\u001b[0m\u001b[1;33m\u001b[0m\u001b[1;33m\u001b[0m\u001b[0m\n\u001b[1;32m----> 2\u001b[1;33m \u001b[0mlocation_endpoint_response\u001b[0m \u001b[1;33m=\u001b[0m \u001b[0mbooking_locations_api\u001b[0m\u001b[1;33m(\u001b[0m\u001b[0mcity\u001b[0m\u001b[1;33m,\u001b[0m \u001b[0mlocale_booking\u001b[0m\u001b[1;33m)\u001b[0m\u001b[1;33m\u001b[0m\u001b[1;33m\u001b[0m\u001b[0m\n\u001b[0m",
      "\u001b[1;31mNameError\u001b[0m: name 'city' is not defined"
     ]
    }
   ],
   "source": [
    "# Make API request from Booking.com for number of hotels in the city by location (districts, landmarks, areas, etc.)\n",
    "location_endpoint_response = booking_locations_api(destination_city, locale_booking)\n"
   ]
  },
  {
   "cell_type": "code",
   "execution_count": 6,
   "metadata": {},
   "outputs": [
    {
     "data": {
      "text/html": [
       "<div>\n",
       "<style scoped>\n",
       "    .dataframe tbody tr th:only-of-type {\n",
       "        vertical-align: middle;\n",
       "    }\n",
       "\n",
       "    .dataframe tbody tr th {\n",
       "        vertical-align: top;\n",
       "    }\n",
       "\n",
       "    .dataframe thead th {\n",
       "        text-align: right;\n",
       "    }\n",
       "</style>\n",
       "<table border=\"1\" class=\"dataframe\">\n",
       "  <thead>\n",
       "    <tr style=\"text-align: right;\">\n",
       "      <th></th>\n",
       "      <th>longitude</th>\n",
       "      <th>label</th>\n",
       "      <th>nr_hotels</th>\n",
       "      <th>latitude</th>\n",
       "      <th>city_name</th>\n",
       "      <th>dest_type</th>\n",
       "      <th>name</th>\n",
       "    </tr>\n",
       "    <tr>\n",
       "      <th>dest_id</th>\n",
       "      <th></th>\n",
       "      <th></th>\n",
       "      <th></th>\n",
       "      <th></th>\n",
       "      <th></th>\n",
       "      <th></th>\n",
       "      <th></th>\n",
       "    </tr>\n",
       "  </thead>\n",
       "  <tbody>\n",
       "    <tr>\n",
       "      <th>20088325</th>\n",
       "      <td>-73.981895</td>\n",
       "      <td>New York, New York State, United States</td>\n",
       "      <td>1382</td>\n",
       "      <td>40.768074</td>\n",
       "      <td>New York</td>\n",
       "      <td>city</td>\n",
       "      <td>New York</td>\n",
       "    </tr>\n",
       "    <tr>\n",
       "      <th>2306</th>\n",
       "      <td>-73.984912</td>\n",
       "      <td>Central New York City, New York, New York Stat...</td>\n",
       "      <td>258</td>\n",
       "      <td>40.759591</td>\n",
       "      <td>New York</td>\n",
       "      <td>district</td>\n",
       "      <td>Central New York City</td>\n",
       "    </tr>\n",
       "    <tr>\n",
       "      <th>929</th>\n",
       "      <td>-73.970891</td>\n",
       "      <td>Manhattan, New York, New York State, United St...</td>\n",
       "      <td>647</td>\n",
       "      <td>40.776115</td>\n",
       "      <td>New York</td>\n",
       "      <td>district</td>\n",
       "      <td>Manhattan</td>\n",
       "    </tr>\n",
       "    <tr>\n",
       "      <th>1397916</th>\n",
       "      <td>-73.988439</td>\n",
       "      <td>Riu Plaza New York Times Square, New York, New...</td>\n",
       "      <td>1</td>\n",
       "      <td>40.760248</td>\n",
       "      <td>New York</td>\n",
       "      <td>hotel</td>\n",
       "      <td>Riu Plaza New York Times Square</td>\n",
       "    </tr>\n",
       "    <tr>\n",
       "      <th>973</th>\n",
       "      <td>-73.965827</td>\n",
       "      <td>New York Central Park, New York, New York Stat...</td>\n",
       "      <td>54</td>\n",
       "      <td>40.782019</td>\n",
       "      <td>New York</td>\n",
       "      <td>district</td>\n",
       "      <td>New York Central Park</td>\n",
       "    </tr>\n",
       "  </tbody>\n",
       "</table>\n",
       "</div>"
      ],
      "text/plain": [
       "          longitude                                              label  \\\n",
       "dest_id                                                                  \n",
       "20088325 -73.981895            New York, New York State, United States   \n",
       "2306     -73.984912  Central New York City, New York, New York Stat...   \n",
       "929      -73.970891  Manhattan, New York, New York State, United St...   \n",
       "1397916  -73.988439  Riu Plaza New York Times Square, New York, New...   \n",
       "973      -73.965827  New York Central Park, New York, New York Stat...   \n",
       "\n",
       "          nr_hotels   latitude city_name dest_type  \\\n",
       "dest_id                                              \n",
       "20088325       1382  40.768074  New York      city   \n",
       "2306            258  40.759591  New York  district   \n",
       "929             647  40.776115  New York  district   \n",
       "1397916           1  40.760248  New York     hotel   \n",
       "973              54  40.782019  New York  district   \n",
       "\n",
       "                                     name  \n",
       "dest_id                                    \n",
       "20088325                         New York  \n",
       "2306                Central New York City  \n",
       "929                             Manhattan  \n",
       "1397916   Riu Plaza New York Times Square  \n",
       "973                 New York Central Park  "
      ]
     },
     "execution_count": 6,
     "metadata": {},
     "output_type": "execute_result"
    }
   ],
   "source": [
    "# Make changes to the dataframe\n",
    "locations_df = pd.DataFrame.from_dict(location_endpoint_response).set_index('dest_id')\n",
    "locations_df.drop(columns = ['country', 'city_ufi', 'landmark_type', 'region','rtl', 'timezone', 'lc', 'cc1', 'image_url', 'hotels', 'type'], inplace =True)\n",
    "locations_df"
   ]
  },
  {
   "cell_type": "code",
   "execution_count": 7,
   "metadata": {},
   "outputs": [
    {
     "data": {
      "application/vnd.plotly.v1+json": {
       "config": {
        "plotlyServerURL": "https://plot.ly"
       },
       "data": [
        {
         "customdata": [
          [
           "New York",
           "city",
           1382,
           -73.981895,
           40.768074,
           "New York"
          ]
         ],
         "hovertemplate": "<b>%{hovertext}</b><br><br>dest_type=%{customdata[1]}<br>nr_hotels=%{customdata[2]}<br>name=%{customdata[0]}<extra></extra>",
         "hovertext": [
          "New York"
         ],
         "lat": [
          40.768074
         ],
         "legendgroup": "city",
         "lon": [
          -73.981895
         ],
         "marker": {
          "color": "#636efa",
          "opacity": 0.9,
          "size": [
           1382
          ],
          "sizemode": "area",
          "sizeref": 3.455
         },
         "mode": "markers",
         "name": "city",
         "showlegend": true,
         "subplot": "mapbox",
         "type": "scattermapbox"
        },
        {
         "customdata": [
          [
           "Central New York City",
           "district",
           258,
           -73.984912181,
           40.7595910840001,
           "New York"
          ],
          [
           "Manhattan",
           "district",
           647,
           -73.970890883,
           40.7761146670001,
           "New York"
          ],
          [
           "New York Central Park",
           "district",
           54,
           -73.965827423,
           40.782019135,
           "New York"
          ]
         ],
         "hovertemplate": "<b>%{hovertext}</b><br><br>dest_type=%{customdata[1]}<br>nr_hotels=%{customdata[2]}<br>name=%{customdata[0]}<extra></extra>",
         "hovertext": [
          "Central New York City",
          "Manhattan",
          "New York Central Park"
         ],
         "lat": [
          40.7595910840001,
          40.7761146670001,
          40.782019135
         ],
         "legendgroup": "district",
         "lon": [
          -73.984912181,
          -73.970890883,
          -73.965827423
         ],
         "marker": {
          "color": "#EF553B",
          "opacity": 0.9,
          "size": [
           258,
           647,
           54
          ],
          "sizemode": "area",
          "sizeref": 3.455
         },
         "mode": "markers",
         "name": "district",
         "showlegend": true,
         "subplot": "mapbox",
         "type": "scattermapbox"
        },
        {
         "customdata": [
          [
           "Riu Plaza New York Times Square",
           "hotel",
           1,
           -73.988439,
           40.760248,
           "New York"
          ]
         ],
         "hovertemplate": "<b>%{hovertext}</b><br><br>dest_type=%{customdata[1]}<br>nr_hotels=%{customdata[2]}<br>name=%{customdata[0]}<extra></extra>",
         "hovertext": [
          "Riu Plaza New York Times Square"
         ],
         "lat": [
          40.760248
         ],
         "legendgroup": "hotel",
         "lon": [
          -73.988439
         ],
         "marker": {
          "color": "#00cc96",
          "opacity": 0.9,
          "size": [
           1
          ],
          "sizemode": "area",
          "sizeref": 3.455
         },
         "mode": "markers",
         "name": "hotel",
         "showlegend": true,
         "subplot": "mapbox",
         "type": "scattermapbox"
        }
       ],
       "layout": {
        "height": 1000,
        "legend": {
         "itemsizing": "constant",
         "title": {
          "text": "dest_type"
         },
         "tracegroupgap": 0
        },
        "mapbox": {
         "accesstoken": "pk.eyJ1IjoiYW1hcmNlY28iLCJhIjoiY2t1dzhtaHJlNGtlOTJvb2Y2a3Vnc3I5cSJ9.cdjd7d-Jkkf2Om7Y6tZtng",
         "center": {
          "lat": 40.769209377200035,
          "lon": -73.97839289739998
         },
         "domain": {
          "x": [
           0,
           1
          ],
          "y": [
           0,
           1
          ]
         },
         "zoom": 11
        },
        "margin": {
         "t": 60
        },
        "template": {
         "data": {
          "bar": [
           {
            "error_x": {
             "color": "#2a3f5f"
            },
            "error_y": {
             "color": "#2a3f5f"
            },
            "marker": {
             "line": {
              "color": "#E5ECF6",
              "width": 0.5
             },
             "pattern": {
              "fillmode": "overlay",
              "size": 10,
              "solidity": 0.2
             }
            },
            "type": "bar"
           }
          ],
          "barpolar": [
           {
            "marker": {
             "line": {
              "color": "#E5ECF6",
              "width": 0.5
             },
             "pattern": {
              "fillmode": "overlay",
              "size": 10,
              "solidity": 0.2
             }
            },
            "type": "barpolar"
           }
          ],
          "carpet": [
           {
            "aaxis": {
             "endlinecolor": "#2a3f5f",
             "gridcolor": "white",
             "linecolor": "white",
             "minorgridcolor": "white",
             "startlinecolor": "#2a3f5f"
            },
            "baxis": {
             "endlinecolor": "#2a3f5f",
             "gridcolor": "white",
             "linecolor": "white",
             "minorgridcolor": "white",
             "startlinecolor": "#2a3f5f"
            },
            "type": "carpet"
           }
          ],
          "choropleth": [
           {
            "colorbar": {
             "outlinewidth": 0,
             "ticks": ""
            },
            "type": "choropleth"
           }
          ],
          "contour": [
           {
            "colorbar": {
             "outlinewidth": 0,
             "ticks": ""
            },
            "colorscale": [
             [
              0,
              "#0d0887"
             ],
             [
              0.1111111111111111,
              "#46039f"
             ],
             [
              0.2222222222222222,
              "#7201a8"
             ],
             [
              0.3333333333333333,
              "#9c179e"
             ],
             [
              0.4444444444444444,
              "#bd3786"
             ],
             [
              0.5555555555555556,
              "#d8576b"
             ],
             [
              0.6666666666666666,
              "#ed7953"
             ],
             [
              0.7777777777777778,
              "#fb9f3a"
             ],
             [
              0.8888888888888888,
              "#fdca26"
             ],
             [
              1,
              "#f0f921"
             ]
            ],
            "type": "contour"
           }
          ],
          "contourcarpet": [
           {
            "colorbar": {
             "outlinewidth": 0,
             "ticks": ""
            },
            "type": "contourcarpet"
           }
          ],
          "heatmap": [
           {
            "colorbar": {
             "outlinewidth": 0,
             "ticks": ""
            },
            "colorscale": [
             [
              0,
              "#0d0887"
             ],
             [
              0.1111111111111111,
              "#46039f"
             ],
             [
              0.2222222222222222,
              "#7201a8"
             ],
             [
              0.3333333333333333,
              "#9c179e"
             ],
             [
              0.4444444444444444,
              "#bd3786"
             ],
             [
              0.5555555555555556,
              "#d8576b"
             ],
             [
              0.6666666666666666,
              "#ed7953"
             ],
             [
              0.7777777777777778,
              "#fb9f3a"
             ],
             [
              0.8888888888888888,
              "#fdca26"
             ],
             [
              1,
              "#f0f921"
             ]
            ],
            "type": "heatmap"
           }
          ],
          "heatmapgl": [
           {
            "colorbar": {
             "outlinewidth": 0,
             "ticks": ""
            },
            "colorscale": [
             [
              0,
              "#0d0887"
             ],
             [
              0.1111111111111111,
              "#46039f"
             ],
             [
              0.2222222222222222,
              "#7201a8"
             ],
             [
              0.3333333333333333,
              "#9c179e"
             ],
             [
              0.4444444444444444,
              "#bd3786"
             ],
             [
              0.5555555555555556,
              "#d8576b"
             ],
             [
              0.6666666666666666,
              "#ed7953"
             ],
             [
              0.7777777777777778,
              "#fb9f3a"
             ],
             [
              0.8888888888888888,
              "#fdca26"
             ],
             [
              1,
              "#f0f921"
             ]
            ],
            "type": "heatmapgl"
           }
          ],
          "histogram": [
           {
            "marker": {
             "pattern": {
              "fillmode": "overlay",
              "size": 10,
              "solidity": 0.2
             }
            },
            "type": "histogram"
           }
          ],
          "histogram2d": [
           {
            "colorbar": {
             "outlinewidth": 0,
             "ticks": ""
            },
            "colorscale": [
             [
              0,
              "#0d0887"
             ],
             [
              0.1111111111111111,
              "#46039f"
             ],
             [
              0.2222222222222222,
              "#7201a8"
             ],
             [
              0.3333333333333333,
              "#9c179e"
             ],
             [
              0.4444444444444444,
              "#bd3786"
             ],
             [
              0.5555555555555556,
              "#d8576b"
             ],
             [
              0.6666666666666666,
              "#ed7953"
             ],
             [
              0.7777777777777778,
              "#fb9f3a"
             ],
             [
              0.8888888888888888,
              "#fdca26"
             ],
             [
              1,
              "#f0f921"
             ]
            ],
            "type": "histogram2d"
           }
          ],
          "histogram2dcontour": [
           {
            "colorbar": {
             "outlinewidth": 0,
             "ticks": ""
            },
            "colorscale": [
             [
              0,
              "#0d0887"
             ],
             [
              0.1111111111111111,
              "#46039f"
             ],
             [
              0.2222222222222222,
              "#7201a8"
             ],
             [
              0.3333333333333333,
              "#9c179e"
             ],
             [
              0.4444444444444444,
              "#bd3786"
             ],
             [
              0.5555555555555556,
              "#d8576b"
             ],
             [
              0.6666666666666666,
              "#ed7953"
             ],
             [
              0.7777777777777778,
              "#fb9f3a"
             ],
             [
              0.8888888888888888,
              "#fdca26"
             ],
             [
              1,
              "#f0f921"
             ]
            ],
            "type": "histogram2dcontour"
           }
          ],
          "mesh3d": [
           {
            "colorbar": {
             "outlinewidth": 0,
             "ticks": ""
            },
            "type": "mesh3d"
           }
          ],
          "parcoords": [
           {
            "line": {
             "colorbar": {
              "outlinewidth": 0,
              "ticks": ""
             }
            },
            "type": "parcoords"
           }
          ],
          "pie": [
           {
            "automargin": true,
            "type": "pie"
           }
          ],
          "scatter": [
           {
            "marker": {
             "colorbar": {
              "outlinewidth": 0,
              "ticks": ""
             }
            },
            "type": "scatter"
           }
          ],
          "scatter3d": [
           {
            "line": {
             "colorbar": {
              "outlinewidth": 0,
              "ticks": ""
             }
            },
            "marker": {
             "colorbar": {
              "outlinewidth": 0,
              "ticks": ""
             }
            },
            "type": "scatter3d"
           }
          ],
          "scattercarpet": [
           {
            "marker": {
             "colorbar": {
              "outlinewidth": 0,
              "ticks": ""
             }
            },
            "type": "scattercarpet"
           }
          ],
          "scattergeo": [
           {
            "marker": {
             "colorbar": {
              "outlinewidth": 0,
              "ticks": ""
             }
            },
            "type": "scattergeo"
           }
          ],
          "scattergl": [
           {
            "marker": {
             "colorbar": {
              "outlinewidth": 0,
              "ticks": ""
             }
            },
            "type": "scattergl"
           }
          ],
          "scattermapbox": [
           {
            "marker": {
             "colorbar": {
              "outlinewidth": 0,
              "ticks": ""
             }
            },
            "type": "scattermapbox"
           }
          ],
          "scatterpolar": [
           {
            "marker": {
             "colorbar": {
              "outlinewidth": 0,
              "ticks": ""
             }
            },
            "type": "scatterpolar"
           }
          ],
          "scatterpolargl": [
           {
            "marker": {
             "colorbar": {
              "outlinewidth": 0,
              "ticks": ""
             }
            },
            "type": "scatterpolargl"
           }
          ],
          "scatterternary": [
           {
            "marker": {
             "colorbar": {
              "outlinewidth": 0,
              "ticks": ""
             }
            },
            "type": "scatterternary"
           }
          ],
          "surface": [
           {
            "colorbar": {
             "outlinewidth": 0,
             "ticks": ""
            },
            "colorscale": [
             [
              0,
              "#0d0887"
             ],
             [
              0.1111111111111111,
              "#46039f"
             ],
             [
              0.2222222222222222,
              "#7201a8"
             ],
             [
              0.3333333333333333,
              "#9c179e"
             ],
             [
              0.4444444444444444,
              "#bd3786"
             ],
             [
              0.5555555555555556,
              "#d8576b"
             ],
             [
              0.6666666666666666,
              "#ed7953"
             ],
             [
              0.7777777777777778,
              "#fb9f3a"
             ],
             [
              0.8888888888888888,
              "#fdca26"
             ],
             [
              1,
              "#f0f921"
             ]
            ],
            "type": "surface"
           }
          ],
          "table": [
           {
            "cells": {
             "fill": {
              "color": "#EBF0F8"
             },
             "line": {
              "color": "white"
             }
            },
            "header": {
             "fill": {
              "color": "#C8D4E3"
             },
             "line": {
              "color": "white"
             }
            },
            "type": "table"
           }
          ]
         },
         "layout": {
          "annotationdefaults": {
           "arrowcolor": "#2a3f5f",
           "arrowhead": 0,
           "arrowwidth": 1
          },
          "autotypenumbers": "strict",
          "coloraxis": {
           "colorbar": {
            "outlinewidth": 0,
            "ticks": ""
           }
          },
          "colorscale": {
           "diverging": [
            [
             0,
             "#8e0152"
            ],
            [
             0.1,
             "#c51b7d"
            ],
            [
             0.2,
             "#de77ae"
            ],
            [
             0.3,
             "#f1b6da"
            ],
            [
             0.4,
             "#fde0ef"
            ],
            [
             0.5,
             "#f7f7f7"
            ],
            [
             0.6,
             "#e6f5d0"
            ],
            [
             0.7,
             "#b8e186"
            ],
            [
             0.8,
             "#7fbc41"
            ],
            [
             0.9,
             "#4d9221"
            ],
            [
             1,
             "#276419"
            ]
           ],
           "sequential": [
            [
             0,
             "#0d0887"
            ],
            [
             0.1111111111111111,
             "#46039f"
            ],
            [
             0.2222222222222222,
             "#7201a8"
            ],
            [
             0.3333333333333333,
             "#9c179e"
            ],
            [
             0.4444444444444444,
             "#bd3786"
            ],
            [
             0.5555555555555556,
             "#d8576b"
            ],
            [
             0.6666666666666666,
             "#ed7953"
            ],
            [
             0.7777777777777778,
             "#fb9f3a"
            ],
            [
             0.8888888888888888,
             "#fdca26"
            ],
            [
             1,
             "#f0f921"
            ]
           ],
           "sequentialminus": [
            [
             0,
             "#0d0887"
            ],
            [
             0.1111111111111111,
             "#46039f"
            ],
            [
             0.2222222222222222,
             "#7201a8"
            ],
            [
             0.3333333333333333,
             "#9c179e"
            ],
            [
             0.4444444444444444,
             "#bd3786"
            ],
            [
             0.5555555555555556,
             "#d8576b"
            ],
            [
             0.6666666666666666,
             "#ed7953"
            ],
            [
             0.7777777777777778,
             "#fb9f3a"
            ],
            [
             0.8888888888888888,
             "#fdca26"
            ],
            [
             1,
             "#f0f921"
            ]
           ]
          },
          "colorway": [
           "#636efa",
           "#EF553B",
           "#00cc96",
           "#ab63fa",
           "#FFA15A",
           "#19d3f3",
           "#FF6692",
           "#B6E880",
           "#FF97FF",
           "#FECB52"
          ],
          "font": {
           "color": "#2a3f5f"
          },
          "geo": {
           "bgcolor": "white",
           "lakecolor": "white",
           "landcolor": "#E5ECF6",
           "showlakes": true,
           "showland": true,
           "subunitcolor": "white"
          },
          "hoverlabel": {
           "align": "left"
          },
          "hovermode": "closest",
          "mapbox": {
           "style": "light"
          },
          "paper_bgcolor": "white",
          "plot_bgcolor": "#E5ECF6",
          "polar": {
           "angularaxis": {
            "gridcolor": "white",
            "linecolor": "white",
            "ticks": ""
           },
           "bgcolor": "#E5ECF6",
           "radialaxis": {
            "gridcolor": "white",
            "linecolor": "white",
            "ticks": ""
           }
          },
          "scene": {
           "xaxis": {
            "backgroundcolor": "#E5ECF6",
            "gridcolor": "white",
            "gridwidth": 2,
            "linecolor": "white",
            "showbackground": true,
            "ticks": "",
            "zerolinecolor": "white"
           },
           "yaxis": {
            "backgroundcolor": "#E5ECF6",
            "gridcolor": "white",
            "gridwidth": 2,
            "linecolor": "white",
            "showbackground": true,
            "ticks": "",
            "zerolinecolor": "white"
           },
           "zaxis": {
            "backgroundcolor": "#E5ECF6",
            "gridcolor": "white",
            "gridwidth": 2,
            "linecolor": "white",
            "showbackground": true,
            "ticks": "",
            "zerolinecolor": "white"
           }
          },
          "shapedefaults": {
           "line": {
            "color": "#2a3f5f"
           }
          },
          "ternary": {
           "aaxis": {
            "gridcolor": "white",
            "linecolor": "white",
            "ticks": ""
           },
           "baxis": {
            "gridcolor": "white",
            "linecolor": "white",
            "ticks": ""
           },
           "bgcolor": "#E5ECF6",
           "caxis": {
            "gridcolor": "white",
            "linecolor": "white",
            "ticks": ""
           }
          },
          "title": {
           "x": 0.05
          },
          "xaxis": {
           "automargin": true,
           "gridcolor": "white",
           "linecolor": "white",
           "ticks": "",
           "title": {
            "standoff": 15
           },
           "zerolinecolor": "white",
           "zerolinewidth": 2
          },
          "yaxis": {
           "automargin": true,
           "gridcolor": "white",
           "linecolor": "white",
           "ticks": "",
           "title": {
            "standoff": 15
           },
           "zerolinecolor": "white",
           "zerolinewidth": 2
          }
         }
        },
        "width": 1000
       }
      }
     },
     "metadata": {},
     "output_type": "display_data"
    }
   ],
   "source": [
    "# Set the mapbox access token\n",
    "px.set_mapbox_access_token(map_box_api)\n",
    "\n",
    "# Create a scatter mapbox to analyze neighborhood info\n",
    "locations_map_plot = px.scatter_mapbox(\n",
    "    locations_df,\n",
    "    lat=\"latitude\",\n",
    "    lon=\"longitude\",\n",
    "    width=1000, \n",
    "    height=1000,\n",
    "    opacity=0.9,\n",
    "    color = locations_df['dest_type'],\n",
    "    size = locations_df['nr_hotels'],\n",
    "    hover_name = locations_df['name'],\n",
    "    hover_data = {'name':True, 'dest_type': True, 'nr_hotels':True, 'longitude': False, 'latitude': False, 'city_name': False},\n",
    "    zoom = 11\n",
    ")\n",
    "\n",
    "locations_map_plot.show()"
   ]
  },
  {
   "cell_type": "code",
   "execution_count": 8,
   "metadata": {},
   "outputs": [],
   "source": [
    "# Make API request from Booking.com for hotels in a specific dest_id (districts, landmarks, areas, etc.)\n",
    "\n",
    "# Select a random dest_id from the locations_df\n",
    "list_dest_ids = locations_df.index.values.tolist()\n",
    "random_dest_id = random.choice(list_dest_ids)\n",
    "dest_type = locations_df.loc[random_dest_id]['dest_type']\n",
    "\n",
    "# Run API request\n",
    "hotels_endpoint_response = booking_hotels_api(dest_type, departure_date, return_date, nr_rooms, locale_booking, random_dest_id, nr_adults)\n",
    "\n"
   ]
  },
  {
   "cell_type": "code",
   "execution_count": 130,
   "metadata": {},
   "outputs": [
    {
     "data": {
      "text/html": [
       "<div>\n",
       "<style scoped>\n",
       "    .dataframe tbody tr th:only-of-type {\n",
       "        vertical-align: middle;\n",
       "    }\n",
       "\n",
       "    .dataframe tbody tr th {\n",
       "        vertical-align: top;\n",
       "    }\n",
       "\n",
       "    .dataframe thead th {\n",
       "        text-align: right;\n",
       "    }\n",
       "</style>\n",
       "<table border=\"1\" class=\"dataframe\">\n",
       "  <thead>\n",
       "    <tr style=\"text-align: right;\">\n",
       "      <th></th>\n",
       "      <th>hotel_name</th>\n",
       "      <th>min_total_price</th>\n",
       "      <th>distance_to_cc</th>\n",
       "      <th>district</th>\n",
       "      <th>address</th>\n",
       "      <th>zip</th>\n",
       "      <th>review_score_word</th>\n",
       "      <th>review_score</th>\n",
       "      <th>checkout</th>\n",
       "      <th>latitude</th>\n",
       "      <th>longitude</th>\n",
       "      <th>urgency_message</th>\n",
       "      <th>url</th>\n",
       "    </tr>\n",
       "    <tr>\n",
       "      <th>hotel_id</th>\n",
       "      <th></th>\n",
       "      <th></th>\n",
       "      <th></th>\n",
       "      <th></th>\n",
       "      <th></th>\n",
       "      <th></th>\n",
       "      <th></th>\n",
       "      <th></th>\n",
       "      <th></th>\n",
       "      <th></th>\n",
       "      <th></th>\n",
       "      <th></th>\n",
       "      <th></th>\n",
       "    </tr>\n",
       "  </thead>\n",
       "  <tbody>\n",
       "    <tr>\n",
       "      <th>7366978</th>\n",
       "      <td>Nap York Youth Hostel</td>\n",
       "      <td>1070.912500</td>\n",
       "      <td>0.30</td>\n",
       "      <td>Manhattan</td>\n",
       "      <td>940 8th Avenue 4th floor</td>\n",
       "      <td>NY 10019</td>\n",
       "      <td>Very Good</td>\n",
       "      <td>8.0</td>\n",
       "      <td>{'from': '08:00', 'until': '10:00'}</td>\n",
       "      <td>40.765665</td>\n",
       "      <td>-73.983232</td>\n",
       "      <td>Only 4 left at this price on Booking.com</td>\n",
       "      <td>https://www.booking.com/hotel/us/nap-york-new-...</td>\n",
       "    </tr>\n",
       "    <tr>\n",
       "      <th>1106729</th>\n",
       "      <td>West Side YMCA</td>\n",
       "      <td>1371.200000</td>\n",
       "      <td>0.35</td>\n",
       "      <td>Upper West Side</td>\n",
       "      <td>5 West 63rd Street</td>\n",
       "      <td>NY 10023</td>\n",
       "      <td>Good</td>\n",
       "      <td>7.3</td>\n",
       "      <td>{'from': '', 'until': '11:00'}</td>\n",
       "      <td>40.770845</td>\n",
       "      <td>-73.980612</td>\n",
       "      <td>NaN</td>\n",
       "      <td>https://www.booking.com/hotel/us/west-side-ymc...</td>\n",
       "    </tr>\n",
       "    <tr>\n",
       "      <th>2039182</th>\n",
       "      <td>Park West Hotel</td>\n",
       "      <td>3083.104750</td>\n",
       "      <td>3.90</td>\n",
       "      <td>Upper West Side</td>\n",
       "      <td>465 Central Park West</td>\n",
       "      <td>NY 10025</td>\n",
       "      <td>Pleasant</td>\n",
       "      <td>6.5</td>\n",
       "      <td>{'until': '12:30', 'from': '12:00'}</td>\n",
       "      <td>40.798527</td>\n",
       "      <td>-73.960044</td>\n",
       "      <td>Only 3 left at this price on Booking.com</td>\n",
       "      <td>https://www.booking.com/hotel/us/astor-on-cent...</td>\n",
       "    </tr>\n",
       "    <tr>\n",
       "      <th>182507</th>\n",
       "      <td>La Quinta by Wyndham New York City Central Park</td>\n",
       "      <td>3699.943375</td>\n",
       "      <td>1.00</td>\n",
       "      <td>Upper West Side</td>\n",
       "      <td>31 West 71st Street</td>\n",
       "      <td>NY 10023</td>\n",
       "      <td>Good</td>\n",
       "      <td>7.3</td>\n",
       "      <td>{'until': '12:00', 'from': ''}</td>\n",
       "      <td>40.776145</td>\n",
       "      <td>-73.977684</td>\n",
       "      <td>NaN</td>\n",
       "      <td>https://www.booking.com/hotel/us/la-quinta-new...</td>\n",
       "    </tr>\n",
       "    <tr>\n",
       "      <th>46601</th>\n",
       "      <td>Sonder l Chambers</td>\n",
       "      <td>4803.320250</td>\n",
       "      <td>0.80</td>\n",
       "      <td>Manhattan</td>\n",
       "      <td>15 West 56th Street</td>\n",
       "      <td>NY 10019</td>\n",
       "      <td>Excellent</td>\n",
       "      <td>8.8</td>\n",
       "      <td>{'from': '', 'until': '11:00'}</td>\n",
       "      <td>40.762866</td>\n",
       "      <td>-73.975599</td>\n",
       "      <td>Only 1 left at this price on Booking.com</td>\n",
       "      <td>https://www.booking.com/hotel/us/chambers.html</td>\n",
       "    </tr>\n",
       "  </tbody>\n",
       "</table>\n",
       "</div>"
      ],
      "text/plain": [
       "                                               hotel_name  min_total_price  \\\n",
       "hotel_id                                                                     \n",
       "7366978                             Nap York Youth Hostel      1070.912500   \n",
       "1106729                                    West Side YMCA      1371.200000   \n",
       "2039182                                   Park West Hotel      3083.104750   \n",
       "182507    La Quinta by Wyndham New York City Central Park      3699.943375   \n",
       "46601                                   Sonder l Chambers      4803.320250   \n",
       "\n",
       "         distance_to_cc         district                   address       zip  \\\n",
       "hotel_id                                                                       \n",
       "7366978            0.30        Manhattan  940 8th Avenue 4th floor  NY 10019   \n",
       "1106729            0.35  Upper West Side        5 West 63rd Street  NY 10023   \n",
       "2039182            3.90  Upper West Side     465 Central Park West  NY 10025   \n",
       "182507             1.00  Upper West Side       31 West 71st Street  NY 10023   \n",
       "46601              0.80        Manhattan       15 West 56th Street  NY 10019   \n",
       "\n",
       "         review_score_word  review_score                             checkout  \\\n",
       "hotel_id                                                                        \n",
       "7366978          Very Good           8.0  {'from': '08:00', 'until': '10:00'}   \n",
       "1106729               Good           7.3       {'from': '', 'until': '11:00'}   \n",
       "2039182           Pleasant           6.5  {'until': '12:30', 'from': '12:00'}   \n",
       "182507                Good           7.3       {'until': '12:00', 'from': ''}   \n",
       "46601            Excellent           8.8       {'from': '', 'until': '11:00'}   \n",
       "\n",
       "           latitude  longitude                           urgency_message  \\\n",
       "hotel_id                                                                   \n",
       "7366978   40.765665 -73.983232  Only 4 left at this price on Booking.com   \n",
       "1106729   40.770845 -73.980612                                       NaN   \n",
       "2039182   40.798527 -73.960044  Only 3 left at this price on Booking.com   \n",
       "182507    40.776145 -73.977684                                       NaN   \n",
       "46601     40.762866 -73.975599  Only 1 left at this price on Booking.com   \n",
       "\n",
       "                                                        url  \n",
       "hotel_id                                                     \n",
       "7366978   https://www.booking.com/hotel/us/nap-york-new-...  \n",
       "1106729   https://www.booking.com/hotel/us/west-side-ymc...  \n",
       "2039182   https://www.booking.com/hotel/us/astor-on-cent...  \n",
       "182507    https://www.booking.com/hotel/us/la-quinta-new...  \n",
       "46601        https://www.booking.com/hotel/us/chambers.html  "
      ]
     },
     "execution_count": 130,
     "metadata": {},
     "output_type": "execute_result"
    }
   ],
   "source": [
    "# Generate dataframe with hotel results\n",
    "\n",
    "hotels_df = pd.DataFrame.from_dict(hotels_endpoint_response[\"result\"])\n",
    "\n",
    "# Filter out desired columns from dataframe\n",
    "desired_cols = [\"hotel_id\",\"hotel_name\",\"min_total_price\",\"distance_to_cc\", \"district\",\"address\",\"zip\",\"review_score_word\",\"review_score\",\"checkout\",\"latitude\",\"longitude\",\"urgency_message\",\"url\"]\n",
    "hotels_df = hotels_df[hotels_df.columns.intersection(desired_cols)]\n",
    "\n",
    "# Organize dataframe columns, sort by price(lowest to highest) and set index to hotel_id\n",
    "hotels_df = hotels_df.reindex(columns=desired_cols).set_index('hotel_id').sort_values('min_total_price')\n",
    "#hotels_df['min_total_price'] = hotels_df['min_total_price'].map('${:,.2f}'.format)\n",
    "hotels_df.head(5)"
   ]
  },
  {
   "cell_type": "code",
   "execution_count": 10,
   "metadata": {},
   "outputs": [
    {
     "data": {
      "application/vnd.plotly.v1+json": {
       "config": {
        "plotlyServerURL": "https://plot.ly"
       },
       "data": [
        {
         "hovertemplate": "<b>Price</b>: $%{x:.2f} <br> <b>Score</b>: %{y}",
         "hovertext": [
          "Nap York Youth Hostel",
          "Sonder l Chambers",
          "AKA Central Park",
          "Park Central",
          "Shoreham Hotel",
          "WestHouse Hotel New York",
          "Le Meridien New York, Central Park",
          "West 57th Street by Hilton Club",
          "Park Lane New York",
          "Thompson Central Park - New York",
          "JW Marriott Essex House New York",
          "1 Hotel Central Park",
          "The Ritz-Carlton New York, Central Park"
         ],
         "legendgroup": "Manhattan",
         "marker": {
          "color": "#636efa",
          "size": [
           1070.9125,
           4803.32025,
           4816.175,
           5346.778,
           5437.375125,
           7135.79935,
           7900.7625,
           9320.949175,
           10053.823,
           12455.19625,
           12867.74,
           13327.02085,
           20944.975
          ],
          "sizemode": "area",
          "sizeref": 53.68493125,
          "symbol": "circle"
         },
         "mode": "markers",
         "name": "Manhattan",
         "orientation": "v",
         "showlegend": true,
         "type": "scatter",
         "x": [
          1070.9125,
          4803.32025,
          4816.175,
          5346.778,
          5437.375125,
          7135.79935,
          7900.7625,
          9320.949175,
          10053.823,
          12455.19625,
          12867.74,
          13327.02085,
          20944.975
         ],
         "xaxis": "x",
         "y": [
          8,
          8.8,
          8.6,
          7.8,
          7.8,
          8.1,
          7.4,
          8.4,
          7.7,
          8,
          8.3,
          8.7,
          8.5
         ],
         "yaxis": "y"
        },
        {
         "hovertemplate": "<b>Price</b>: $%{x:.2f} <br> <b>Score</b>: %{y}",
         "hovertext": [
          "West Side YMCA",
          "Park West Hotel",
          "La Quinta by Wyndham New York City Central Park",
          "Trump International New York"
         ],
         "legendgroup": "Upper West Side",
         "marker": {
          "color": "#EF553B",
          "size": [
           1371.2,
           3083.10475,
           3699.943375,
           14661.725
          ],
          "sizemode": "area",
          "sizeref": 53.68493125,
          "symbol": "circle"
         },
         "mode": "markers",
         "name": "Upper West Side",
         "orientation": "v",
         "showlegend": true,
         "type": "scatter",
         "x": [
          1371.2,
          3083.10475,
          3699.943375,
          14661.725
         ],
         "xaxis": "x",
         "y": [
          7.3,
          6.5,
          7.3,
          9
         ],
         "yaxis": "y"
        },
        {
         "hovertemplate": "<b>Price</b>: $%{x:.2f} <br> <b>Score</b>: %{y}",
         "hovertext": [
          "Loews Regency New York Hotel",
          "The Pierre, A Taj Hotel, New York"
         ],
         "legendgroup": "Upper East Side",
         "marker": {
          "color": "#00cc96",
          "size": [
           12926.245,
           18457.21795
          ],
          "sizemode": "area",
          "sizeref": 53.68493125,
          "symbol": "circle"
         },
         "mode": "markers",
         "name": "Upper East Side",
         "orientation": "v",
         "showlegend": true,
         "type": "scatter",
         "x": [
          12926.245,
          18457.21795
         ],
         "xaxis": "x",
         "y": [
          8.7,
          8.9
         ],
         "yaxis": "y"
        },
        {
         "hovertemplate": "<b>Price</b>: $%{x:.2f} <br> <b>Score</b>: %{y}",
         "hovertext": [
          "The St. Regis New York"
         ],
         "legendgroup": "Midtown East",
         "marker": {
          "color": "#ab63fa",
          "size": [
           21473.9725
          ],
          "sizemode": "area",
          "sizeref": 53.68493125,
          "symbol": "circle"
         },
         "mode": "markers",
         "name": "Midtown East",
         "orientation": "v",
         "showlegend": true,
         "type": "scatter",
         "x": [
          21473.9725
         ],
         "xaxis": "x",
         "y": [
          8.2
         ],
         "yaxis": "y"
        }
       ],
       "layout": {
        "legend": {
         "itemsizing": "constant",
         "title": {
          "text": "District"
         },
         "tracegroupgap": 0
        },
        "template": {
         "data": {
          "bar": [
           {
            "error_x": {
             "color": "#2a3f5f"
            },
            "error_y": {
             "color": "#2a3f5f"
            },
            "marker": {
             "line": {
              "color": "#E5ECF6",
              "width": 0.5
             },
             "pattern": {
              "fillmode": "overlay",
              "size": 10,
              "solidity": 0.2
             }
            },
            "type": "bar"
           }
          ],
          "barpolar": [
           {
            "marker": {
             "line": {
              "color": "#E5ECF6",
              "width": 0.5
             },
             "pattern": {
              "fillmode": "overlay",
              "size": 10,
              "solidity": 0.2
             }
            },
            "type": "barpolar"
           }
          ],
          "carpet": [
           {
            "aaxis": {
             "endlinecolor": "#2a3f5f",
             "gridcolor": "white",
             "linecolor": "white",
             "minorgridcolor": "white",
             "startlinecolor": "#2a3f5f"
            },
            "baxis": {
             "endlinecolor": "#2a3f5f",
             "gridcolor": "white",
             "linecolor": "white",
             "minorgridcolor": "white",
             "startlinecolor": "#2a3f5f"
            },
            "type": "carpet"
           }
          ],
          "choropleth": [
           {
            "colorbar": {
             "outlinewidth": 0,
             "ticks": ""
            },
            "type": "choropleth"
           }
          ],
          "contour": [
           {
            "colorbar": {
             "outlinewidth": 0,
             "ticks": ""
            },
            "colorscale": [
             [
              0,
              "#0d0887"
             ],
             [
              0.1111111111111111,
              "#46039f"
             ],
             [
              0.2222222222222222,
              "#7201a8"
             ],
             [
              0.3333333333333333,
              "#9c179e"
             ],
             [
              0.4444444444444444,
              "#bd3786"
             ],
             [
              0.5555555555555556,
              "#d8576b"
             ],
             [
              0.6666666666666666,
              "#ed7953"
             ],
             [
              0.7777777777777778,
              "#fb9f3a"
             ],
             [
              0.8888888888888888,
              "#fdca26"
             ],
             [
              1,
              "#f0f921"
             ]
            ],
            "type": "contour"
           }
          ],
          "contourcarpet": [
           {
            "colorbar": {
             "outlinewidth": 0,
             "ticks": ""
            },
            "type": "contourcarpet"
           }
          ],
          "heatmap": [
           {
            "colorbar": {
             "outlinewidth": 0,
             "ticks": ""
            },
            "colorscale": [
             [
              0,
              "#0d0887"
             ],
             [
              0.1111111111111111,
              "#46039f"
             ],
             [
              0.2222222222222222,
              "#7201a8"
             ],
             [
              0.3333333333333333,
              "#9c179e"
             ],
             [
              0.4444444444444444,
              "#bd3786"
             ],
             [
              0.5555555555555556,
              "#d8576b"
             ],
             [
              0.6666666666666666,
              "#ed7953"
             ],
             [
              0.7777777777777778,
              "#fb9f3a"
             ],
             [
              0.8888888888888888,
              "#fdca26"
             ],
             [
              1,
              "#f0f921"
             ]
            ],
            "type": "heatmap"
           }
          ],
          "heatmapgl": [
           {
            "colorbar": {
             "outlinewidth": 0,
             "ticks": ""
            },
            "colorscale": [
             [
              0,
              "#0d0887"
             ],
             [
              0.1111111111111111,
              "#46039f"
             ],
             [
              0.2222222222222222,
              "#7201a8"
             ],
             [
              0.3333333333333333,
              "#9c179e"
             ],
             [
              0.4444444444444444,
              "#bd3786"
             ],
             [
              0.5555555555555556,
              "#d8576b"
             ],
             [
              0.6666666666666666,
              "#ed7953"
             ],
             [
              0.7777777777777778,
              "#fb9f3a"
             ],
             [
              0.8888888888888888,
              "#fdca26"
             ],
             [
              1,
              "#f0f921"
             ]
            ],
            "type": "heatmapgl"
           }
          ],
          "histogram": [
           {
            "marker": {
             "pattern": {
              "fillmode": "overlay",
              "size": 10,
              "solidity": 0.2
             }
            },
            "type": "histogram"
           }
          ],
          "histogram2d": [
           {
            "colorbar": {
             "outlinewidth": 0,
             "ticks": ""
            },
            "colorscale": [
             [
              0,
              "#0d0887"
             ],
             [
              0.1111111111111111,
              "#46039f"
             ],
             [
              0.2222222222222222,
              "#7201a8"
             ],
             [
              0.3333333333333333,
              "#9c179e"
             ],
             [
              0.4444444444444444,
              "#bd3786"
             ],
             [
              0.5555555555555556,
              "#d8576b"
             ],
             [
              0.6666666666666666,
              "#ed7953"
             ],
             [
              0.7777777777777778,
              "#fb9f3a"
             ],
             [
              0.8888888888888888,
              "#fdca26"
             ],
             [
              1,
              "#f0f921"
             ]
            ],
            "type": "histogram2d"
           }
          ],
          "histogram2dcontour": [
           {
            "colorbar": {
             "outlinewidth": 0,
             "ticks": ""
            },
            "colorscale": [
             [
              0,
              "#0d0887"
             ],
             [
              0.1111111111111111,
              "#46039f"
             ],
             [
              0.2222222222222222,
              "#7201a8"
             ],
             [
              0.3333333333333333,
              "#9c179e"
             ],
             [
              0.4444444444444444,
              "#bd3786"
             ],
             [
              0.5555555555555556,
              "#d8576b"
             ],
             [
              0.6666666666666666,
              "#ed7953"
             ],
             [
              0.7777777777777778,
              "#fb9f3a"
             ],
             [
              0.8888888888888888,
              "#fdca26"
             ],
             [
              1,
              "#f0f921"
             ]
            ],
            "type": "histogram2dcontour"
           }
          ],
          "mesh3d": [
           {
            "colorbar": {
             "outlinewidth": 0,
             "ticks": ""
            },
            "type": "mesh3d"
           }
          ],
          "parcoords": [
           {
            "line": {
             "colorbar": {
              "outlinewidth": 0,
              "ticks": ""
             }
            },
            "type": "parcoords"
           }
          ],
          "pie": [
           {
            "automargin": true,
            "type": "pie"
           }
          ],
          "scatter": [
           {
            "marker": {
             "colorbar": {
              "outlinewidth": 0,
              "ticks": ""
             }
            },
            "type": "scatter"
           }
          ],
          "scatter3d": [
           {
            "line": {
             "colorbar": {
              "outlinewidth": 0,
              "ticks": ""
             }
            },
            "marker": {
             "colorbar": {
              "outlinewidth": 0,
              "ticks": ""
             }
            },
            "type": "scatter3d"
           }
          ],
          "scattercarpet": [
           {
            "marker": {
             "colorbar": {
              "outlinewidth": 0,
              "ticks": ""
             }
            },
            "type": "scattercarpet"
           }
          ],
          "scattergeo": [
           {
            "marker": {
             "colorbar": {
              "outlinewidth": 0,
              "ticks": ""
             }
            },
            "type": "scattergeo"
           }
          ],
          "scattergl": [
           {
            "marker": {
             "colorbar": {
              "outlinewidth": 0,
              "ticks": ""
             }
            },
            "type": "scattergl"
           }
          ],
          "scattermapbox": [
           {
            "marker": {
             "colorbar": {
              "outlinewidth": 0,
              "ticks": ""
             }
            },
            "type": "scattermapbox"
           }
          ],
          "scatterpolar": [
           {
            "marker": {
             "colorbar": {
              "outlinewidth": 0,
              "ticks": ""
             }
            },
            "type": "scatterpolar"
           }
          ],
          "scatterpolargl": [
           {
            "marker": {
             "colorbar": {
              "outlinewidth": 0,
              "ticks": ""
             }
            },
            "type": "scatterpolargl"
           }
          ],
          "scatterternary": [
           {
            "marker": {
             "colorbar": {
              "outlinewidth": 0,
              "ticks": ""
             }
            },
            "type": "scatterternary"
           }
          ],
          "surface": [
           {
            "colorbar": {
             "outlinewidth": 0,
             "ticks": ""
            },
            "colorscale": [
             [
              0,
              "#0d0887"
             ],
             [
              0.1111111111111111,
              "#46039f"
             ],
             [
              0.2222222222222222,
              "#7201a8"
             ],
             [
              0.3333333333333333,
              "#9c179e"
             ],
             [
              0.4444444444444444,
              "#bd3786"
             ],
             [
              0.5555555555555556,
              "#d8576b"
             ],
             [
              0.6666666666666666,
              "#ed7953"
             ],
             [
              0.7777777777777778,
              "#fb9f3a"
             ],
             [
              0.8888888888888888,
              "#fdca26"
             ],
             [
              1,
              "#f0f921"
             ]
            ],
            "type": "surface"
           }
          ],
          "table": [
           {
            "cells": {
             "fill": {
              "color": "#EBF0F8"
             },
             "line": {
              "color": "white"
             }
            },
            "header": {
             "fill": {
              "color": "#C8D4E3"
             },
             "line": {
              "color": "white"
             }
            },
            "type": "table"
           }
          ]
         },
         "layout": {
          "annotationdefaults": {
           "arrowcolor": "#2a3f5f",
           "arrowhead": 0,
           "arrowwidth": 1
          },
          "autotypenumbers": "strict",
          "coloraxis": {
           "colorbar": {
            "outlinewidth": 0,
            "ticks": ""
           }
          },
          "colorscale": {
           "diverging": [
            [
             0,
             "#8e0152"
            ],
            [
             0.1,
             "#c51b7d"
            ],
            [
             0.2,
             "#de77ae"
            ],
            [
             0.3,
             "#f1b6da"
            ],
            [
             0.4,
             "#fde0ef"
            ],
            [
             0.5,
             "#f7f7f7"
            ],
            [
             0.6,
             "#e6f5d0"
            ],
            [
             0.7,
             "#b8e186"
            ],
            [
             0.8,
             "#7fbc41"
            ],
            [
             0.9,
             "#4d9221"
            ],
            [
             1,
             "#276419"
            ]
           ],
           "sequential": [
            [
             0,
             "#0d0887"
            ],
            [
             0.1111111111111111,
             "#46039f"
            ],
            [
             0.2222222222222222,
             "#7201a8"
            ],
            [
             0.3333333333333333,
             "#9c179e"
            ],
            [
             0.4444444444444444,
             "#bd3786"
            ],
            [
             0.5555555555555556,
             "#d8576b"
            ],
            [
             0.6666666666666666,
             "#ed7953"
            ],
            [
             0.7777777777777778,
             "#fb9f3a"
            ],
            [
             0.8888888888888888,
             "#fdca26"
            ],
            [
             1,
             "#f0f921"
            ]
           ],
           "sequentialminus": [
            [
             0,
             "#0d0887"
            ],
            [
             0.1111111111111111,
             "#46039f"
            ],
            [
             0.2222222222222222,
             "#7201a8"
            ],
            [
             0.3333333333333333,
             "#9c179e"
            ],
            [
             0.4444444444444444,
             "#bd3786"
            ],
            [
             0.5555555555555556,
             "#d8576b"
            ],
            [
             0.6666666666666666,
             "#ed7953"
            ],
            [
             0.7777777777777778,
             "#fb9f3a"
            ],
            [
             0.8888888888888888,
             "#fdca26"
            ],
            [
             1,
             "#f0f921"
            ]
           ]
          },
          "colorway": [
           "#636efa",
           "#EF553B",
           "#00cc96",
           "#ab63fa",
           "#FFA15A",
           "#19d3f3",
           "#FF6692",
           "#B6E880",
           "#FF97FF",
           "#FECB52"
          ],
          "font": {
           "color": "#2a3f5f"
          },
          "geo": {
           "bgcolor": "white",
           "lakecolor": "white",
           "landcolor": "#E5ECF6",
           "showlakes": true,
           "showland": true,
           "subunitcolor": "white"
          },
          "hoverlabel": {
           "align": "left"
          },
          "hovermode": "closest",
          "mapbox": {
           "style": "light"
          },
          "paper_bgcolor": "white",
          "plot_bgcolor": "#E5ECF6",
          "polar": {
           "angularaxis": {
            "gridcolor": "white",
            "linecolor": "white",
            "ticks": ""
           },
           "bgcolor": "#E5ECF6",
           "radialaxis": {
            "gridcolor": "white",
            "linecolor": "white",
            "ticks": ""
           }
          },
          "scene": {
           "xaxis": {
            "backgroundcolor": "#E5ECF6",
            "gridcolor": "white",
            "gridwidth": 2,
            "linecolor": "white",
            "showbackground": true,
            "ticks": "",
            "zerolinecolor": "white"
           },
           "yaxis": {
            "backgroundcolor": "#E5ECF6",
            "gridcolor": "white",
            "gridwidth": 2,
            "linecolor": "white",
            "showbackground": true,
            "ticks": "",
            "zerolinecolor": "white"
           },
           "zaxis": {
            "backgroundcolor": "#E5ECF6",
            "gridcolor": "white",
            "gridwidth": 2,
            "linecolor": "white",
            "showbackground": true,
            "ticks": "",
            "zerolinecolor": "white"
           }
          },
          "shapedefaults": {
           "line": {
            "color": "#2a3f5f"
           }
          },
          "ternary": {
           "aaxis": {
            "gridcolor": "white",
            "linecolor": "white",
            "ticks": ""
           },
           "baxis": {
            "gridcolor": "white",
            "linecolor": "white",
            "ticks": ""
           },
           "bgcolor": "#E5ECF6",
           "caxis": {
            "gridcolor": "white",
            "linecolor": "white",
            "ticks": ""
           }
          },
          "title": {
           "x": 0.05
          },
          "xaxis": {
           "automargin": true,
           "gridcolor": "white",
           "linecolor": "white",
           "ticks": "",
           "title": {
            "standoff": 15
           },
           "zerolinecolor": "white",
           "zerolinewidth": 2
          },
          "yaxis": {
           "automargin": true,
           "gridcolor": "white",
           "linecolor": "white",
           "ticks": "",
           "title": {
            "standoff": 15
           },
           "zerolinecolor": "white",
           "zerolinewidth": 2
          }
         }
        },
        "title": {
         "text": "Hotel Pricing and Reviews by District"
        },
        "xaxis": {
         "anchor": "y",
         "domain": [
          0,
          1
         ],
         "title": {
          "text": "Price in USD"
         }
        },
        "yaxis": {
         "anchor": "x",
         "domain": [
          0,
          1
         ],
         "title": {
          "text": "Review Scores"
         }
        }
       }
      }
     },
     "metadata": {},
     "output_type": "display_data"
    }
   ],
   "source": [
    "hotel_pricing_plot = px.scatter(\n",
    "    hotels_df,\n",
    "    x= hotels_df['min_total_price'],\n",
    "    y = hotels_df['review_score'],\n",
    "    color = hotels_df['district'],\n",
    "    size = hotels_df['min_total_price'], \n",
    "    hover_name=hotels_df[\"hotel_name\"],\n",
    "    labels=dict(review_score=\"Review Scores\", district=\"District\", min_total_price = \"Price in USD for entire stay\"),\n",
    "    title=\"Hotel Pricing and Reviews by District\" \n",
    ")\n",
    "\n",
    "hotel_pricing_plot.update_traces(hovertemplate ='<b>Price</b>: $%{x:.2f} <br> <b>Score</b>: %{y}')\n",
    "\n",
    "hotel_pricing_plot"
   ]
  },
  {
   "cell_type": "code",
   "execution_count": 11,
   "metadata": {},
   "outputs": [
    {
     "data": {
      "text/html": [
       "<div style=\"width:100%;\"><div style=\"position:relative;width:100%;height:0;padding-bottom:60%;\"><span style=\"color:#565656\">Make this Notebook Trusted to load map: File -> Trust Notebook</span><iframe src=\"about:blank\" style=\"position:absolute;width:100%;height:100%;left:0;top:0;border:none !important;\" data-html=%3C%21DOCTYPE%20html%3E%0A%3Chead%3E%20%20%20%20%0A%20%20%20%20%3Cmeta%20http-equiv%3D%22content-type%22%20content%3D%22text/html%3B%20charset%3DUTF-8%22%20/%3E%0A%20%20%20%20%0A%20%20%20%20%20%20%20%20%3Cscript%3E%0A%20%20%20%20%20%20%20%20%20%20%20%20L_NO_TOUCH%20%3D%20false%3B%0A%20%20%20%20%20%20%20%20%20%20%20%20L_DISABLE_3D%20%3D%20false%3B%0A%20%20%20%20%20%20%20%20%3C/script%3E%0A%20%20%20%20%0A%20%20%20%20%3Cstyle%3Ehtml%2C%20body%20%7Bwidth%3A%20100%25%3Bheight%3A%20100%25%3Bmargin%3A%200%3Bpadding%3A%200%3B%7D%3C/style%3E%0A%20%20%20%20%3Cstyle%3E%23map%20%7Bposition%3Aabsolute%3Btop%3A0%3Bbottom%3A0%3Bright%3A0%3Bleft%3A0%3B%7D%3C/style%3E%0A%20%20%20%20%3Cscript%20src%3D%22https%3A//cdn.jsdelivr.net/npm/leaflet%401.6.0/dist/leaflet.js%22%3E%3C/script%3E%0A%20%20%20%20%3Cscript%20src%3D%22https%3A//code.jquery.com/jquery-1.12.4.min.js%22%3E%3C/script%3E%0A%20%20%20%20%3Cscript%20src%3D%22https%3A//maxcdn.bootstrapcdn.com/bootstrap/3.2.0/js/bootstrap.min.js%22%3E%3C/script%3E%0A%20%20%20%20%3Cscript%20src%3D%22https%3A//cdnjs.cloudflare.com/ajax/libs/Leaflet.awesome-markers/2.0.2/leaflet.awesome-markers.js%22%3E%3C/script%3E%0A%20%20%20%20%3Clink%20rel%3D%22stylesheet%22%20href%3D%22https%3A//cdn.jsdelivr.net/npm/leaflet%401.6.0/dist/leaflet.css%22/%3E%0A%20%20%20%20%3Clink%20rel%3D%22stylesheet%22%20href%3D%22https%3A//maxcdn.bootstrapcdn.com/bootstrap/3.2.0/css/bootstrap.min.css%22/%3E%0A%20%20%20%20%3Clink%20rel%3D%22stylesheet%22%20href%3D%22https%3A//maxcdn.bootstrapcdn.com/bootstrap/3.2.0/css/bootstrap-theme.min.css%22/%3E%0A%20%20%20%20%3Clink%20rel%3D%22stylesheet%22%20href%3D%22https%3A//maxcdn.bootstrapcdn.com/font-awesome/4.6.3/css/font-awesome.min.css%22/%3E%0A%20%20%20%20%3Clink%20rel%3D%22stylesheet%22%20href%3D%22https%3A//cdnjs.cloudflare.com/ajax/libs/Leaflet.awesome-markers/2.0.2/leaflet.awesome-markers.css%22/%3E%0A%20%20%20%20%3Clink%20rel%3D%22stylesheet%22%20href%3D%22https%3A//cdn.jsdelivr.net/gh/python-visualization/folium/folium/templates/leaflet.awesome.rotate.min.css%22/%3E%0A%20%20%20%20%0A%20%20%20%20%20%20%20%20%20%20%20%20%3Cmeta%20name%3D%22viewport%22%20content%3D%22width%3Ddevice-width%2C%0A%20%20%20%20%20%20%20%20%20%20%20%20%20%20%20%20initial-scale%3D1.0%2C%20maximum-scale%3D1.0%2C%20user-scalable%3Dno%22%20/%3E%0A%20%20%20%20%20%20%20%20%20%20%20%20%3Cstyle%3E%0A%20%20%20%20%20%20%20%20%20%20%20%20%20%20%20%20%23map_8f9c0d0d3f904543b7b4750415ce04d9%20%7B%0A%20%20%20%20%20%20%20%20%20%20%20%20%20%20%20%20%20%20%20%20position%3A%20relative%3B%0A%20%20%20%20%20%20%20%20%20%20%20%20%20%20%20%20%20%20%20%20width%3A%20100.0%25%3B%0A%20%20%20%20%20%20%20%20%20%20%20%20%20%20%20%20%20%20%20%20height%3A%20100.0%25%3B%0A%20%20%20%20%20%20%20%20%20%20%20%20%20%20%20%20%20%20%20%20left%3A%200.0%25%3B%0A%20%20%20%20%20%20%20%20%20%20%20%20%20%20%20%20%20%20%20%20top%3A%200.0%25%3B%0A%20%20%20%20%20%20%20%20%20%20%20%20%20%20%20%20%7D%0A%20%20%20%20%20%20%20%20%20%20%20%20%3C/style%3E%0A%20%20%20%20%20%20%20%20%0A%3C/head%3E%0A%3Cbody%3E%20%20%20%20%0A%20%20%20%20%0A%20%20%20%20%20%20%20%20%20%20%20%20%3Cdiv%20class%3D%22folium-map%22%20id%3D%22map_8f9c0d0d3f904543b7b4750415ce04d9%22%20%3E%3C/div%3E%0A%20%20%20%20%20%20%20%20%0A%3C/body%3E%0A%3Cscript%3E%20%20%20%20%0A%20%20%20%20%0A%20%20%20%20%20%20%20%20%20%20%20%20var%20map_8f9c0d0d3f904543b7b4750415ce04d9%20%3D%20L.map%28%0A%20%20%20%20%20%20%20%20%20%20%20%20%20%20%20%20%22map_8f9c0d0d3f904543b7b4750415ce04d9%22%2C%0A%20%20%20%20%20%20%20%20%20%20%20%20%20%20%20%20%7B%0A%20%20%20%20%20%20%20%20%20%20%20%20%20%20%20%20%20%20%20%20center%3A%20%5B40.765665%2C%20-73.983232%5D%2C%0A%20%20%20%20%20%20%20%20%20%20%20%20%20%20%20%20%20%20%20%20crs%3A%20L.CRS.EPSG3857%2C%0A%20%20%20%20%20%20%20%20%20%20%20%20%20%20%20%20%20%20%20%20zoom%3A%2012%2C%0A%20%20%20%20%20%20%20%20%20%20%20%20%20%20%20%20%20%20%20%20zoomControl%3A%20true%2C%0A%20%20%20%20%20%20%20%20%20%20%20%20%20%20%20%20%20%20%20%20preferCanvas%3A%20false%2C%0A%20%20%20%20%20%20%20%20%20%20%20%20%20%20%20%20%7D%0A%20%20%20%20%20%20%20%20%20%20%20%20%29%3B%0A%0A%20%20%20%20%20%20%20%20%20%20%20%20%0A%0A%20%20%20%20%20%20%20%20%0A%20%20%20%20%0A%20%20%20%20%20%20%20%20%20%20%20%20var%20tile_layer_e91da7ec55eb478fa7da5b02e3e8cf1b%20%3D%20L.tileLayer%28%0A%20%20%20%20%20%20%20%20%20%20%20%20%20%20%20%20%22https%3A//%7Bs%7D.tile.openstreetmap.org/%7Bz%7D/%7Bx%7D/%7By%7D.png%22%2C%0A%20%20%20%20%20%20%20%20%20%20%20%20%20%20%20%20%7B%22attribution%22%3A%20%22Data%20by%20%5Cu0026copy%3B%20%5Cu003ca%20href%3D%5C%22http%3A//openstreetmap.org%5C%22%5Cu003eOpenStreetMap%5Cu003c/a%5Cu003e%2C%20under%20%5Cu003ca%20href%3D%5C%22http%3A//www.openstreetmap.org/copyright%5C%22%5Cu003eODbL%5Cu003c/a%5Cu003e.%22%2C%20%22detectRetina%22%3A%20false%2C%20%22maxNativeZoom%22%3A%2018%2C%20%22maxZoom%22%3A%2018%2C%20%22minZoom%22%3A%200%2C%20%22noWrap%22%3A%20false%2C%20%22opacity%22%3A%201%2C%20%22subdomains%22%3A%20%22abc%22%2C%20%22tms%22%3A%20false%7D%0A%20%20%20%20%20%20%20%20%20%20%20%20%29.addTo%28map_8f9c0d0d3f904543b7b4750415ce04d9%29%3B%0A%20%20%20%20%20%20%20%20%0A%20%20%20%20%0A%20%20%20%20%20%20%20%20%20%20%20%20var%20marker_f7d2a896665a435db62ed8ac58b2542a%20%3D%20L.marker%28%0A%20%20%20%20%20%20%20%20%20%20%20%20%20%20%20%20%5B40.765665%2C%20-73.983232%5D%2C%0A%20%20%20%20%20%20%20%20%20%20%20%20%20%20%20%20%7B%7D%0A%20%20%20%20%20%20%20%20%20%20%20%20%29.addTo%28map_8f9c0d0d3f904543b7b4750415ce04d9%29%3B%0A%20%20%20%20%20%20%20%20%0A%20%20%20%20%0A%20%20%20%20%20%20%20%20%20%20%20%20var%20icon_d1e1ac02d4da4a7689ee356fc4d8ee79%20%3D%20L.AwesomeMarkers.icon%28%0A%20%20%20%20%20%20%20%20%20%20%20%20%20%20%20%20%7B%22extraClasses%22%3A%20%22fa-rotate-0%22%2C%20%22icon%22%3A%20%22bed%22%2C%20%22iconColor%22%3A%20%22white%22%2C%20%22markerColor%22%3A%20%22blue%22%2C%20%22prefix%22%3A%20%22fa%22%7D%0A%20%20%20%20%20%20%20%20%20%20%20%20%29%3B%0A%20%20%20%20%20%20%20%20%20%20%20%20marker_f7d2a896665a435db62ed8ac58b2542a.setIcon%28icon_d1e1ac02d4da4a7689ee356fc4d8ee79%29%3B%0A%20%20%20%20%20%20%20%20%0A%20%20%20%20%0A%20%20%20%20%20%20%20%20var%20popup_cd5cfbc641af48809c889496eab544f5%20%3D%20L.popup%28%7B%22maxWidth%22%3A%20%22100%25%22%7D%29%3B%0A%0A%20%20%20%20%20%20%20%20%0A%20%20%20%20%20%20%20%20%20%20%20%20var%20html_6246407bcfa74dee8e0b442027213512%20%3D%20%24%28%60%3Cdiv%20id%3D%22html_6246407bcfa74dee8e0b442027213512%22%20style%3D%22width%3A%20100.0%25%3B%20height%3A%20100.0%25%3B%22%3E8.0/10%3C/div%3E%60%29%5B0%5D%3B%0A%20%20%20%20%20%20%20%20%20%20%20%20popup_cd5cfbc641af48809c889496eab544f5.setContent%28html_6246407bcfa74dee8e0b442027213512%29%3B%0A%20%20%20%20%20%20%20%20%0A%0A%20%20%20%20%20%20%20%20marker_f7d2a896665a435db62ed8ac58b2542a.bindPopup%28popup_cd5cfbc641af48809c889496eab544f5%29%0A%20%20%20%20%20%20%20%20%3B%0A%0A%20%20%20%20%20%20%20%20%0A%20%20%20%20%0A%20%20%20%20%0A%20%20%20%20%20%20%20%20%20%20%20%20marker_f7d2a896665a435db62ed8ac58b2542a.bindTooltip%28%0A%20%20%20%20%20%20%20%20%20%20%20%20%20%20%20%20%60%3Cdiv%3E%0A%20%20%20%20%20%20%20%20%20%20%20%20%20%20%20%20%20%20%20%20%20Nap%20York%20Youth%20Hostel%0A%20%20%20%20%20%20%20%20%20%20%20%20%20%20%20%20%20%3C/div%3E%60%2C%0A%20%20%20%20%20%20%20%20%20%20%20%20%20%20%20%20%7B%22sticky%22%3A%20true%7D%0A%20%20%20%20%20%20%20%20%20%20%20%20%29%3B%0A%20%20%20%20%20%20%20%20%0A%20%20%20%20%0A%20%20%20%20%20%20%20%20%20%20%20%20var%20marker_13696e366a13437e942ecc962c3e39f4%20%3D%20L.marker%28%0A%20%20%20%20%20%20%20%20%20%20%20%20%20%20%20%20%5B40.7708451%2C%20-73.9806124%5D%2C%0A%20%20%20%20%20%20%20%20%20%20%20%20%20%20%20%20%7B%7D%0A%20%20%20%20%20%20%20%20%20%20%20%20%29.addTo%28map_8f9c0d0d3f904543b7b4750415ce04d9%29%3B%0A%20%20%20%20%20%20%20%20%0A%20%20%20%20%0A%20%20%20%20%20%20%20%20%20%20%20%20var%20icon_e50aead6021e4223906e2f463c73c99c%20%3D%20L.AwesomeMarkers.icon%28%0A%20%20%20%20%20%20%20%20%20%20%20%20%20%20%20%20%7B%22extraClasses%22%3A%20%22fa-rotate-0%22%2C%20%22icon%22%3A%20%22bed%22%2C%20%22iconColor%22%3A%20%22white%22%2C%20%22markerColor%22%3A%20%22blue%22%2C%20%22prefix%22%3A%20%22fa%22%7D%0A%20%20%20%20%20%20%20%20%20%20%20%20%29%3B%0A%20%20%20%20%20%20%20%20%20%20%20%20marker_13696e366a13437e942ecc962c3e39f4.setIcon%28icon_e50aead6021e4223906e2f463c73c99c%29%3B%0A%20%20%20%20%20%20%20%20%0A%20%20%20%20%0A%20%20%20%20%20%20%20%20var%20popup_1cd76395e02b4edcb75819f8f04bf34a%20%3D%20L.popup%28%7B%22maxWidth%22%3A%20%22100%25%22%7D%29%3B%0A%0A%20%20%20%20%20%20%20%20%0A%20%20%20%20%20%20%20%20%20%20%20%20var%20html_b0082697ebc146c8bb3408f61fb6f60b%20%3D%20%24%28%60%3Cdiv%20id%3D%22html_b0082697ebc146c8bb3408f61fb6f60b%22%20style%3D%22width%3A%20100.0%25%3B%20height%3A%20100.0%25%3B%22%3E7.3/10%3C/div%3E%60%29%5B0%5D%3B%0A%20%20%20%20%20%20%20%20%20%20%20%20popup_1cd76395e02b4edcb75819f8f04bf34a.setContent%28html_b0082697ebc146c8bb3408f61fb6f60b%29%3B%0A%20%20%20%20%20%20%20%20%0A%0A%20%20%20%20%20%20%20%20marker_13696e366a13437e942ecc962c3e39f4.bindPopup%28popup_1cd76395e02b4edcb75819f8f04bf34a%29%0A%20%20%20%20%20%20%20%20%3B%0A%0A%20%20%20%20%20%20%20%20%0A%20%20%20%20%0A%20%20%20%20%0A%20%20%20%20%20%20%20%20%20%20%20%20marker_13696e366a13437e942ecc962c3e39f4.bindTooltip%28%0A%20%20%20%20%20%20%20%20%20%20%20%20%20%20%20%20%60%3Cdiv%3E%0A%20%20%20%20%20%20%20%20%20%20%20%20%20%20%20%20%20%20%20%20%20West%20Side%20YMCA%0A%20%20%20%20%20%20%20%20%20%20%20%20%20%20%20%20%20%3C/div%3E%60%2C%0A%20%20%20%20%20%20%20%20%20%20%20%20%20%20%20%20%7B%22sticky%22%3A%20true%7D%0A%20%20%20%20%20%20%20%20%20%20%20%20%29%3B%0A%20%20%20%20%20%20%20%20%0A%20%20%20%20%0A%20%20%20%20%20%20%20%20%20%20%20%20var%20marker_d668cce65a2b44319503935bab6838d6%20%3D%20L.marker%28%0A%20%20%20%20%20%20%20%20%20%20%20%20%20%20%20%20%5B40.7985269%2C%20-73.9600439%5D%2C%0A%20%20%20%20%20%20%20%20%20%20%20%20%20%20%20%20%7B%7D%0A%20%20%20%20%20%20%20%20%20%20%20%20%29.addTo%28map_8f9c0d0d3f904543b7b4750415ce04d9%29%3B%0A%20%20%20%20%20%20%20%20%0A%20%20%20%20%0A%20%20%20%20%20%20%20%20%20%20%20%20var%20icon_a7fe1ddb4ccf4048a591176db317f8f5%20%3D%20L.AwesomeMarkers.icon%28%0A%20%20%20%20%20%20%20%20%20%20%20%20%20%20%20%20%7B%22extraClasses%22%3A%20%22fa-rotate-0%22%2C%20%22icon%22%3A%20%22bed%22%2C%20%22iconColor%22%3A%20%22white%22%2C%20%22markerColor%22%3A%20%22blue%22%2C%20%22prefix%22%3A%20%22fa%22%7D%0A%20%20%20%20%20%20%20%20%20%20%20%20%29%3B%0A%20%20%20%20%20%20%20%20%20%20%20%20marker_d668cce65a2b44319503935bab6838d6.setIcon%28icon_a7fe1ddb4ccf4048a591176db317f8f5%29%3B%0A%20%20%20%20%20%20%20%20%0A%20%20%20%20%0A%20%20%20%20%20%20%20%20var%20popup_679092e97fa146bf94fb9903447a052e%20%3D%20L.popup%28%7B%22maxWidth%22%3A%20%22100%25%22%7D%29%3B%0A%0A%20%20%20%20%20%20%20%20%0A%20%20%20%20%20%20%20%20%20%20%20%20var%20html_bccd39591f3a4651833927e68477f24a%20%3D%20%24%28%60%3Cdiv%20id%3D%22html_bccd39591f3a4651833927e68477f24a%22%20style%3D%22width%3A%20100.0%25%3B%20height%3A%20100.0%25%3B%22%3E6.5/10%3C/div%3E%60%29%5B0%5D%3B%0A%20%20%20%20%20%20%20%20%20%20%20%20popup_679092e97fa146bf94fb9903447a052e.setContent%28html_bccd39591f3a4651833927e68477f24a%29%3B%0A%20%20%20%20%20%20%20%20%0A%0A%20%20%20%20%20%20%20%20marker_d668cce65a2b44319503935bab6838d6.bindPopup%28popup_679092e97fa146bf94fb9903447a052e%29%0A%20%20%20%20%20%20%20%20%3B%0A%0A%20%20%20%20%20%20%20%20%0A%20%20%20%20%0A%20%20%20%20%0A%20%20%20%20%20%20%20%20%20%20%20%20marker_d668cce65a2b44319503935bab6838d6.bindTooltip%28%0A%20%20%20%20%20%20%20%20%20%20%20%20%20%20%20%20%60%3Cdiv%3E%0A%20%20%20%20%20%20%20%20%20%20%20%20%20%20%20%20%20%20%20%20%20Park%20West%20Hotel%0A%20%20%20%20%20%20%20%20%20%20%20%20%20%20%20%20%20%3C/div%3E%60%2C%0A%20%20%20%20%20%20%20%20%20%20%20%20%20%20%20%20%7B%22sticky%22%3A%20true%7D%0A%20%20%20%20%20%20%20%20%20%20%20%20%29%3B%0A%20%20%20%20%20%20%20%20%0A%20%20%20%20%0A%20%20%20%20%20%20%20%20%20%20%20%20var%20marker_aa448c60e926409696f1b1a458b5ab24%20%3D%20L.marker%28%0A%20%20%20%20%20%20%20%20%20%20%20%20%20%20%20%20%5B40.7761451564527%2C%20-73.9776836335659%5D%2C%0A%20%20%20%20%20%20%20%20%20%20%20%20%20%20%20%20%7B%7D%0A%20%20%20%20%20%20%20%20%20%20%20%20%29.addTo%28map_8f9c0d0d3f904543b7b4750415ce04d9%29%3B%0A%20%20%20%20%20%20%20%20%0A%20%20%20%20%0A%20%20%20%20%20%20%20%20%20%20%20%20var%20icon_78b1e88c85264ef2b8d7f91a0e62bcf5%20%3D%20L.AwesomeMarkers.icon%28%0A%20%20%20%20%20%20%20%20%20%20%20%20%20%20%20%20%7B%22extraClasses%22%3A%20%22fa-rotate-0%22%2C%20%22icon%22%3A%20%22bed%22%2C%20%22iconColor%22%3A%20%22white%22%2C%20%22markerColor%22%3A%20%22blue%22%2C%20%22prefix%22%3A%20%22fa%22%7D%0A%20%20%20%20%20%20%20%20%20%20%20%20%29%3B%0A%20%20%20%20%20%20%20%20%20%20%20%20marker_aa448c60e926409696f1b1a458b5ab24.setIcon%28icon_78b1e88c85264ef2b8d7f91a0e62bcf5%29%3B%0A%20%20%20%20%20%20%20%20%0A%20%20%20%20%0A%20%20%20%20%20%20%20%20var%20popup_2fc42af27f7f4a6ab4225830def4bf30%20%3D%20L.popup%28%7B%22maxWidth%22%3A%20%22100%25%22%7D%29%3B%0A%0A%20%20%20%20%20%20%20%20%0A%20%20%20%20%20%20%20%20%20%20%20%20var%20html_7f0123d7abbc4a5caac9abb9da34c4d0%20%3D%20%24%28%60%3Cdiv%20id%3D%22html_7f0123d7abbc4a5caac9abb9da34c4d0%22%20style%3D%22width%3A%20100.0%25%3B%20height%3A%20100.0%25%3B%22%3E7.3/10%3C/div%3E%60%29%5B0%5D%3B%0A%20%20%20%20%20%20%20%20%20%20%20%20popup_2fc42af27f7f4a6ab4225830def4bf30.setContent%28html_7f0123d7abbc4a5caac9abb9da34c4d0%29%3B%0A%20%20%20%20%20%20%20%20%0A%0A%20%20%20%20%20%20%20%20marker_aa448c60e926409696f1b1a458b5ab24.bindPopup%28popup_2fc42af27f7f4a6ab4225830def4bf30%29%0A%20%20%20%20%20%20%20%20%3B%0A%0A%20%20%20%20%20%20%20%20%0A%20%20%20%20%0A%20%20%20%20%0A%20%20%20%20%20%20%20%20%20%20%20%20marker_aa448c60e926409696f1b1a458b5ab24.bindTooltip%28%0A%20%20%20%20%20%20%20%20%20%20%20%20%20%20%20%20%60%3Cdiv%3E%0A%20%20%20%20%20%20%20%20%20%20%20%20%20%20%20%20%20%20%20%20%20La%20Quinta%20by%20Wyndham%20New%20York%20City%20Central%20Park%0A%20%20%20%20%20%20%20%20%20%20%20%20%20%20%20%20%20%3C/div%3E%60%2C%0A%20%20%20%20%20%20%20%20%20%20%20%20%20%20%20%20%7B%22sticky%22%3A%20true%7D%0A%20%20%20%20%20%20%20%20%20%20%20%20%29%3B%0A%20%20%20%20%20%20%20%20%0A%20%20%20%20%0A%20%20%20%20%20%20%20%20%20%20%20%20var%20marker_ee5306eac46943bcaff59d94f06e9e60%20%3D%20L.marker%28%0A%20%20%20%20%20%20%20%20%20%20%20%20%20%20%20%20%5B40.7628657041427%2C%20-73.9755992218852%5D%2C%0A%20%20%20%20%20%20%20%20%20%20%20%20%20%20%20%20%7B%7D%0A%20%20%20%20%20%20%20%20%20%20%20%20%29.addTo%28map_8f9c0d0d3f904543b7b4750415ce04d9%29%3B%0A%20%20%20%20%20%20%20%20%0A%20%20%20%20%0A%20%20%20%20%20%20%20%20%20%20%20%20var%20icon_aa88b633e946495490f02f19df3ea5b9%20%3D%20L.AwesomeMarkers.icon%28%0A%20%20%20%20%20%20%20%20%20%20%20%20%20%20%20%20%7B%22extraClasses%22%3A%20%22fa-rotate-0%22%2C%20%22icon%22%3A%20%22bed%22%2C%20%22iconColor%22%3A%20%22white%22%2C%20%22markerColor%22%3A%20%22blue%22%2C%20%22prefix%22%3A%20%22fa%22%7D%0A%20%20%20%20%20%20%20%20%20%20%20%20%29%3B%0A%20%20%20%20%20%20%20%20%20%20%20%20marker_ee5306eac46943bcaff59d94f06e9e60.setIcon%28icon_aa88b633e946495490f02f19df3ea5b9%29%3B%0A%20%20%20%20%20%20%20%20%0A%20%20%20%20%0A%20%20%20%20%20%20%20%20var%20popup_9963515b96be4a71a9617429573b764e%20%3D%20L.popup%28%7B%22maxWidth%22%3A%20%22100%25%22%7D%29%3B%0A%0A%20%20%20%20%20%20%20%20%0A%20%20%20%20%20%20%20%20%20%20%20%20var%20html_96513dc531cd4f4d9918c8b1c5ddb9ac%20%3D%20%24%28%60%3Cdiv%20id%3D%22html_96513dc531cd4f4d9918c8b1c5ddb9ac%22%20style%3D%22width%3A%20100.0%25%3B%20height%3A%20100.0%25%3B%22%3E8.8/10%3C/div%3E%60%29%5B0%5D%3B%0A%20%20%20%20%20%20%20%20%20%20%20%20popup_9963515b96be4a71a9617429573b764e.setContent%28html_96513dc531cd4f4d9918c8b1c5ddb9ac%29%3B%0A%20%20%20%20%20%20%20%20%0A%0A%20%20%20%20%20%20%20%20marker_ee5306eac46943bcaff59d94f06e9e60.bindPopup%28popup_9963515b96be4a71a9617429573b764e%29%0A%20%20%20%20%20%20%20%20%3B%0A%0A%20%20%20%20%20%20%20%20%0A%20%20%20%20%0A%20%20%20%20%0A%20%20%20%20%20%20%20%20%20%20%20%20marker_ee5306eac46943bcaff59d94f06e9e60.bindTooltip%28%0A%20%20%20%20%20%20%20%20%20%20%20%20%20%20%20%20%60%3Cdiv%3E%0A%20%20%20%20%20%20%20%20%20%20%20%20%20%20%20%20%20%20%20%20%20Sonder%20l%20Chambers%0A%20%20%20%20%20%20%20%20%20%20%20%20%20%20%20%20%20%3C/div%3E%60%2C%0A%20%20%20%20%20%20%20%20%20%20%20%20%20%20%20%20%7B%22sticky%22%3A%20true%7D%0A%20%20%20%20%20%20%20%20%20%20%20%20%29%3B%0A%20%20%20%20%20%20%20%20%0A%20%20%20%20%0A%20%20%20%20%20%20%20%20%20%20%20%20var%20marker_c06f451604534d03b7d6cb9f67adadbf%20%3D%20L.marker%28%0A%20%20%20%20%20%20%20%20%20%20%20%20%20%20%20%20%5B40.7644030651776%2C%20-73.9756575599313%5D%2C%0A%20%20%20%20%20%20%20%20%20%20%20%20%20%20%20%20%7B%7D%0A%20%20%20%20%20%20%20%20%20%20%20%20%29.addTo%28map_8f9c0d0d3f904543b7b4750415ce04d9%29%3B%0A%20%20%20%20%20%20%20%20%0A%20%20%20%20%0A%20%20%20%20%20%20%20%20%20%20%20%20var%20icon_07cd06051bc94025ac45f692c2351db6%20%3D%20L.AwesomeMarkers.icon%28%0A%20%20%20%20%20%20%20%20%20%20%20%20%20%20%20%20%7B%22extraClasses%22%3A%20%22fa-rotate-0%22%2C%20%22icon%22%3A%20%22bed%22%2C%20%22iconColor%22%3A%20%22white%22%2C%20%22markerColor%22%3A%20%22blue%22%2C%20%22prefix%22%3A%20%22fa%22%7D%0A%20%20%20%20%20%20%20%20%20%20%20%20%29%3B%0A%20%20%20%20%20%20%20%20%20%20%20%20marker_c06f451604534d03b7d6cb9f67adadbf.setIcon%28icon_07cd06051bc94025ac45f692c2351db6%29%3B%0A%20%20%20%20%20%20%20%20%0A%20%20%20%20%0A%20%20%20%20%20%20%20%20var%20popup_4599e224bffa482aaf9417f98d246153%20%3D%20L.popup%28%7B%22maxWidth%22%3A%20%22100%25%22%7D%29%3B%0A%0A%20%20%20%20%20%20%20%20%0A%20%20%20%20%20%20%20%20%20%20%20%20var%20html_a69c4788a01b47278740f7b789349986%20%3D%20%24%28%60%3Cdiv%20id%3D%22html_a69c4788a01b47278740f7b789349986%22%20style%3D%22width%3A%20100.0%25%3B%20height%3A%20100.0%25%3B%22%3E8.6/10%3C/div%3E%60%29%5B0%5D%3B%0A%20%20%20%20%20%20%20%20%20%20%20%20popup_4599e224bffa482aaf9417f98d246153.setContent%28html_a69c4788a01b47278740f7b789349986%29%3B%0A%20%20%20%20%20%20%20%20%0A%0A%20%20%20%20%20%20%20%20marker_c06f451604534d03b7d6cb9f67adadbf.bindPopup%28popup_4599e224bffa482aaf9417f98d246153%29%0A%20%20%20%20%20%20%20%20%3B%0A%0A%20%20%20%20%20%20%20%20%0A%20%20%20%20%0A%20%20%20%20%0A%20%20%20%20%20%20%20%20%20%20%20%20marker_c06f451604534d03b7d6cb9f67adadbf.bindTooltip%28%0A%20%20%20%20%20%20%20%20%20%20%20%20%20%20%20%20%60%3Cdiv%3E%0A%20%20%20%20%20%20%20%20%20%20%20%20%20%20%20%20%20%20%20%20%20AKA%20Central%20Park%0A%20%20%20%20%20%20%20%20%20%20%20%20%20%20%20%20%20%3C/div%3E%60%2C%0A%20%20%20%20%20%20%20%20%20%20%20%20%20%20%20%20%7B%22sticky%22%3A%20true%7D%0A%20%20%20%20%20%20%20%20%20%20%20%20%29%3B%0A%20%20%20%20%20%20%20%20%0A%20%20%20%20%0A%20%20%20%20%20%20%20%20%20%20%20%20var%20marker_44cb886d42b5412c9e9888c570f678a0%20%3D%20L.marker%28%0A%20%20%20%20%20%20%20%20%20%20%20%20%20%20%20%20%5B40.7645879320974%2C%20-73.980937153101%5D%2C%0A%20%20%20%20%20%20%20%20%20%20%20%20%20%20%20%20%7B%7D%0A%20%20%20%20%20%20%20%20%20%20%20%20%29.addTo%28map_8f9c0d0d3f904543b7b4750415ce04d9%29%3B%0A%20%20%20%20%20%20%20%20%0A%20%20%20%20%0A%20%20%20%20%20%20%20%20%20%20%20%20var%20icon_7f2f776a7f8e4f63ac924479b8443b56%20%3D%20L.AwesomeMarkers.icon%28%0A%20%20%20%20%20%20%20%20%20%20%20%20%20%20%20%20%7B%22extraClasses%22%3A%20%22fa-rotate-0%22%2C%20%22icon%22%3A%20%22bed%22%2C%20%22iconColor%22%3A%20%22white%22%2C%20%22markerColor%22%3A%20%22blue%22%2C%20%22prefix%22%3A%20%22fa%22%7D%0A%20%20%20%20%20%20%20%20%20%20%20%20%29%3B%0A%20%20%20%20%20%20%20%20%20%20%20%20marker_44cb886d42b5412c9e9888c570f678a0.setIcon%28icon_7f2f776a7f8e4f63ac924479b8443b56%29%3B%0A%20%20%20%20%20%20%20%20%0A%20%20%20%20%0A%20%20%20%20%20%20%20%20var%20popup_aa11e6436a1c4f0dbd9b5f3e4d32462f%20%3D%20L.popup%28%7B%22maxWidth%22%3A%20%22100%25%22%7D%29%3B%0A%0A%20%20%20%20%20%20%20%20%0A%20%20%20%20%20%20%20%20%20%20%20%20var%20html_bc1af27eaf344699a90fec525bb824e5%20%3D%20%24%28%60%3Cdiv%20id%3D%22html_bc1af27eaf344699a90fec525bb824e5%22%20style%3D%22width%3A%20100.0%25%3B%20height%3A%20100.0%25%3B%22%3E7.8/10%3C/div%3E%60%29%5B0%5D%3B%0A%20%20%20%20%20%20%20%20%20%20%20%20popup_aa11e6436a1c4f0dbd9b5f3e4d32462f.setContent%28html_bc1af27eaf344699a90fec525bb824e5%29%3B%0A%20%20%20%20%20%20%20%20%0A%0A%20%20%20%20%20%20%20%20marker_44cb886d42b5412c9e9888c570f678a0.bindPopup%28popup_aa11e6436a1c4f0dbd9b5f3e4d32462f%29%0A%20%20%20%20%20%20%20%20%3B%0A%0A%20%20%20%20%20%20%20%20%0A%20%20%20%20%0A%20%20%20%20%0A%20%20%20%20%20%20%20%20%20%20%20%20marker_44cb886d42b5412c9e9888c570f678a0.bindTooltip%28%0A%20%20%20%20%20%20%20%20%20%20%20%20%20%20%20%20%60%3Cdiv%3E%0A%20%20%20%20%20%20%20%20%20%20%20%20%20%20%20%20%20%20%20%20%20Park%20Central%0A%20%20%20%20%20%20%20%20%20%20%20%20%20%20%20%20%20%3C/div%3E%60%2C%0A%20%20%20%20%20%20%20%20%20%20%20%20%20%20%20%20%7B%22sticky%22%3A%20true%7D%0A%20%20%20%20%20%20%20%20%20%20%20%20%29%3B%0A%20%20%20%20%20%20%20%20%0A%20%20%20%20%0A%20%20%20%20%20%20%20%20%20%20%20%20var%20marker_7d2777c52ded46ebb14d9957e4e98978%20%3D%20L.marker%28%0A%20%20%20%20%20%20%20%20%20%20%20%20%20%20%20%20%5B40.7624213001252%2C%20-73.9763680100441%5D%2C%0A%20%20%20%20%20%20%20%20%20%20%20%20%20%20%20%20%7B%7D%0A%20%20%20%20%20%20%20%20%20%20%20%20%29.addTo%28map_8f9c0d0d3f904543b7b4750415ce04d9%29%3B%0A%20%20%20%20%20%20%20%20%0A%20%20%20%20%0A%20%20%20%20%20%20%20%20%20%20%20%20var%20icon_39eb0f71f3944822b9afadabfc16d184%20%3D%20L.AwesomeMarkers.icon%28%0A%20%20%20%20%20%20%20%20%20%20%20%20%20%20%20%20%7B%22extraClasses%22%3A%20%22fa-rotate-0%22%2C%20%22icon%22%3A%20%22bed%22%2C%20%22iconColor%22%3A%20%22white%22%2C%20%22markerColor%22%3A%20%22blue%22%2C%20%22prefix%22%3A%20%22fa%22%7D%0A%20%20%20%20%20%20%20%20%20%20%20%20%29%3B%0A%20%20%20%20%20%20%20%20%20%20%20%20marker_7d2777c52ded46ebb14d9957e4e98978.setIcon%28icon_39eb0f71f3944822b9afadabfc16d184%29%3B%0A%20%20%20%20%20%20%20%20%0A%20%20%20%20%0A%20%20%20%20%20%20%20%20var%20popup_fa2e3822b185406f83eb1cb4b0a1c110%20%3D%20L.popup%28%7B%22maxWidth%22%3A%20%22100%25%22%7D%29%3B%0A%0A%20%20%20%20%20%20%20%20%0A%20%20%20%20%20%20%20%20%20%20%20%20var%20html_34cb476345374538a583227d921dec3b%20%3D%20%24%28%60%3Cdiv%20id%3D%22html_34cb476345374538a583227d921dec3b%22%20style%3D%22width%3A%20100.0%25%3B%20height%3A%20100.0%25%3B%22%3E7.8/10%3C/div%3E%60%29%5B0%5D%3B%0A%20%20%20%20%20%20%20%20%20%20%20%20popup_fa2e3822b185406f83eb1cb4b0a1c110.setContent%28html_34cb476345374538a583227d921dec3b%29%3B%0A%20%20%20%20%20%20%20%20%0A%0A%20%20%20%20%20%20%20%20marker_7d2777c52ded46ebb14d9957e4e98978.bindPopup%28popup_fa2e3822b185406f83eb1cb4b0a1c110%29%0A%20%20%20%20%20%20%20%20%3B%0A%0A%20%20%20%20%20%20%20%20%0A%20%20%20%20%0A%20%20%20%20%0A%20%20%20%20%20%20%20%20%20%20%20%20marker_7d2777c52ded46ebb14d9957e4e98978.bindTooltip%28%0A%20%20%20%20%20%20%20%20%20%20%20%20%20%20%20%20%60%3Cdiv%3E%0A%20%20%20%20%20%20%20%20%20%20%20%20%20%20%20%20%20%20%20%20%20Shoreham%20Hotel%0A%20%20%20%20%20%20%20%20%20%20%20%20%20%20%20%20%20%3C/div%3E%60%2C%0A%20%20%20%20%20%20%20%20%20%20%20%20%20%20%20%20%7B%22sticky%22%3A%20true%7D%0A%20%20%20%20%20%20%20%20%20%20%20%20%29%3B%0A%20%20%20%20%20%20%20%20%0A%20%20%20%20%0A%20%20%20%20%20%20%20%20%20%20%20%20var%20marker_0b0861bd92bb4002b4b6434b5dcfc616%20%3D%20L.marker%28%0A%20%20%20%20%20%20%20%20%20%20%20%20%20%20%20%20%5B40.7645992616067%2C%20-73.9808902914868%5D%2C%0A%20%20%20%20%20%20%20%20%20%20%20%20%20%20%20%20%7B%7D%0A%20%20%20%20%20%20%20%20%20%20%20%20%29.addTo%28map_8f9c0d0d3f904543b7b4750415ce04d9%29%3B%0A%20%20%20%20%20%20%20%20%0A%20%20%20%20%0A%20%20%20%20%20%20%20%20%20%20%20%20var%20icon_ba6d28f6aab048f199d4c61e88f68a26%20%3D%20L.AwesomeMarkers.icon%28%0A%20%20%20%20%20%20%20%20%20%20%20%20%20%20%20%20%7B%22extraClasses%22%3A%20%22fa-rotate-0%22%2C%20%22icon%22%3A%20%22bed%22%2C%20%22iconColor%22%3A%20%22white%22%2C%20%22markerColor%22%3A%20%22blue%22%2C%20%22prefix%22%3A%20%22fa%22%7D%0A%20%20%20%20%20%20%20%20%20%20%20%20%29%3B%0A%20%20%20%20%20%20%20%20%20%20%20%20marker_0b0861bd92bb4002b4b6434b5dcfc616.setIcon%28icon_ba6d28f6aab048f199d4c61e88f68a26%29%3B%0A%20%20%20%20%20%20%20%20%0A%20%20%20%20%0A%20%20%20%20%20%20%20%20var%20popup_e57b2032d3d14ba986cd36cb5add6bc9%20%3D%20L.popup%28%7B%22maxWidth%22%3A%20%22100%25%22%7D%29%3B%0A%0A%20%20%20%20%20%20%20%20%0A%20%20%20%20%20%20%20%20%20%20%20%20var%20html_16623d691a454740add6e5844720f265%20%3D%20%24%28%60%3Cdiv%20id%3D%22html_16623d691a454740add6e5844720f265%22%20style%3D%22width%3A%20100.0%25%3B%20height%3A%20100.0%25%3B%22%3E8.1/10%3C/div%3E%60%29%5B0%5D%3B%0A%20%20%20%20%20%20%20%20%20%20%20%20popup_e57b2032d3d14ba986cd36cb5add6bc9.setContent%28html_16623d691a454740add6e5844720f265%29%3B%0A%20%20%20%20%20%20%20%20%0A%0A%20%20%20%20%20%20%20%20marker_0b0861bd92bb4002b4b6434b5dcfc616.bindPopup%28popup_e57b2032d3d14ba986cd36cb5add6bc9%29%0A%20%20%20%20%20%20%20%20%3B%0A%0A%20%20%20%20%20%20%20%20%0A%20%20%20%20%0A%20%20%20%20%0A%20%20%20%20%20%20%20%20%20%20%20%20marker_0b0861bd92bb4002b4b6434b5dcfc616.bindTooltip%28%0A%20%20%20%20%20%20%20%20%20%20%20%20%20%20%20%20%60%3Cdiv%3E%0A%20%20%20%20%20%20%20%20%20%20%20%20%20%20%20%20%20%20%20%20%20WestHouse%20Hotel%20New%20York%0A%20%20%20%20%20%20%20%20%20%20%20%20%20%20%20%20%20%3C/div%3E%60%2C%0A%20%20%20%20%20%20%20%20%20%20%20%20%20%20%20%20%7B%22sticky%22%3A%20true%7D%0A%20%20%20%20%20%20%20%20%20%20%20%20%29%3B%0A%20%20%20%20%20%20%20%20%0A%20%20%20%20%0A%20%20%20%20%20%20%20%20%20%20%20%20var%20marker_e68916243f4341aab3a5aa7f2c76e8ed%20%3D%20L.marker%28%0A%20%20%20%20%20%20%20%20%20%20%20%20%20%20%20%20%5B40.764494%2C%20-73.978447%5D%2C%0A%20%20%20%20%20%20%20%20%20%20%20%20%20%20%20%20%7B%7D%0A%20%20%20%20%20%20%20%20%20%20%20%20%29.addTo%28map_8f9c0d0d3f904543b7b4750415ce04d9%29%3B%0A%20%20%20%20%20%20%20%20%0A%20%20%20%20%0A%20%20%20%20%20%20%20%20%20%20%20%20var%20icon_db6a4e2eb0d844b0912226514371fa02%20%3D%20L.AwesomeMarkers.icon%28%0A%20%20%20%20%20%20%20%20%20%20%20%20%20%20%20%20%7B%22extraClasses%22%3A%20%22fa-rotate-0%22%2C%20%22icon%22%3A%20%22bed%22%2C%20%22iconColor%22%3A%20%22white%22%2C%20%22markerColor%22%3A%20%22blue%22%2C%20%22prefix%22%3A%20%22fa%22%7D%0A%20%20%20%20%20%20%20%20%20%20%20%20%29%3B%0A%20%20%20%20%20%20%20%20%20%20%20%20marker_e68916243f4341aab3a5aa7f2c76e8ed.setIcon%28icon_db6a4e2eb0d844b0912226514371fa02%29%3B%0A%20%20%20%20%20%20%20%20%0A%20%20%20%20%0A%20%20%20%20%20%20%20%20var%20popup_daa9a2ff6ea742c780bc4777c56c5655%20%3D%20L.popup%28%7B%22maxWidth%22%3A%20%22100%25%22%7D%29%3B%0A%0A%20%20%20%20%20%20%20%20%0A%20%20%20%20%20%20%20%20%20%20%20%20var%20html_cb11998ad6284f2aae3304f809fa0be1%20%3D%20%24%28%60%3Cdiv%20id%3D%22html_cb11998ad6284f2aae3304f809fa0be1%22%20style%3D%22width%3A%20100.0%25%3B%20height%3A%20100.0%25%3B%22%3E7.4/10%3C/div%3E%60%29%5B0%5D%3B%0A%20%20%20%20%20%20%20%20%20%20%20%20popup_daa9a2ff6ea742c780bc4777c56c5655.setContent%28html_cb11998ad6284f2aae3304f809fa0be1%29%3B%0A%20%20%20%20%20%20%20%20%0A%0A%20%20%20%20%20%20%20%20marker_e68916243f4341aab3a5aa7f2c76e8ed.bindPopup%28popup_daa9a2ff6ea742c780bc4777c56c5655%29%0A%20%20%20%20%20%20%20%20%3B%0A%0A%20%20%20%20%20%20%20%20%0A%20%20%20%20%0A%20%20%20%20%0A%20%20%20%20%20%20%20%20%20%20%20%20marker_e68916243f4341aab3a5aa7f2c76e8ed.bindTooltip%28%0A%20%20%20%20%20%20%20%20%20%20%20%20%20%20%20%20%60%3Cdiv%3E%0A%20%20%20%20%20%20%20%20%20%20%20%20%20%20%20%20%20%20%20%20%20Le%20Meridien%20New%20York%2C%20Central%20Park%0A%20%20%20%20%20%20%20%20%20%20%20%20%20%20%20%20%20%3C/div%3E%60%2C%0A%20%20%20%20%20%20%20%20%20%20%20%20%20%20%20%20%7B%22sticky%22%3A%20true%7D%0A%20%20%20%20%20%20%20%20%20%20%20%20%29%3B%0A%20%20%20%20%20%20%20%20%0A%20%20%20%20%0A%20%20%20%20%20%20%20%20%20%20%20%20var%20marker_214e380168a9489793574f7261ed3621%20%3D%20L.marker%28%0A%20%20%20%20%20%20%20%20%20%20%20%20%20%20%20%20%5B40.7645046404719%2C%20-73.9779780060053%5D%2C%0A%20%20%20%20%20%20%20%20%20%20%20%20%20%20%20%20%7B%7D%0A%20%20%20%20%20%20%20%20%20%20%20%20%29.addTo%28map_8f9c0d0d3f904543b7b4750415ce04d9%29%3B%0A%20%20%20%20%20%20%20%20%0A%20%20%20%20%0A%20%20%20%20%20%20%20%20%20%20%20%20var%20icon_baa0aa3e67a6471892175ced46b85952%20%3D%20L.AwesomeMarkers.icon%28%0A%20%20%20%20%20%20%20%20%20%20%20%20%20%20%20%20%7B%22extraClasses%22%3A%20%22fa-rotate-0%22%2C%20%22icon%22%3A%20%22bed%22%2C%20%22iconColor%22%3A%20%22white%22%2C%20%22markerColor%22%3A%20%22blue%22%2C%20%22prefix%22%3A%20%22fa%22%7D%0A%20%20%20%20%20%20%20%20%20%20%20%20%29%3B%0A%20%20%20%20%20%20%20%20%20%20%20%20marker_214e380168a9489793574f7261ed3621.setIcon%28icon_baa0aa3e67a6471892175ced46b85952%29%3B%0A%20%20%20%20%20%20%20%20%0A%20%20%20%20%0A%20%20%20%20%20%20%20%20var%20popup_c4aa56506f48477085da2fbe134d0d7d%20%3D%20L.popup%28%7B%22maxWidth%22%3A%20%22100%25%22%7D%29%3B%0A%0A%20%20%20%20%20%20%20%20%0A%20%20%20%20%20%20%20%20%20%20%20%20var%20html_6d4fe4a91a3a410990075d00a123fc50%20%3D%20%24%28%60%3Cdiv%20id%3D%22html_6d4fe4a91a3a410990075d00a123fc50%22%20style%3D%22width%3A%20100.0%25%3B%20height%3A%20100.0%25%3B%22%3E8.4/10%3C/div%3E%60%29%5B0%5D%3B%0A%20%20%20%20%20%20%20%20%20%20%20%20popup_c4aa56506f48477085da2fbe134d0d7d.setContent%28html_6d4fe4a91a3a410990075d00a123fc50%29%3B%0A%20%20%20%20%20%20%20%20%0A%0A%20%20%20%20%20%20%20%20marker_214e380168a9489793574f7261ed3621.bindPopup%28popup_c4aa56506f48477085da2fbe134d0d7d%29%0A%20%20%20%20%20%20%20%20%3B%0A%0A%20%20%20%20%20%20%20%20%0A%20%20%20%20%0A%20%20%20%20%0A%20%20%20%20%20%20%20%20%20%20%20%20marker_214e380168a9489793574f7261ed3621.bindTooltip%28%0A%20%20%20%20%20%20%20%20%20%20%20%20%20%20%20%20%60%3Cdiv%3E%0A%20%20%20%20%20%20%20%20%20%20%20%20%20%20%20%20%20%20%20%20%20West%2057th%20Street%20by%20Hilton%20Club%0A%20%20%20%20%20%20%20%20%20%20%20%20%20%20%20%20%20%3C/div%3E%60%2C%0A%20%20%20%20%20%20%20%20%20%20%20%20%20%20%20%20%7B%22sticky%22%3A%20true%7D%0A%20%20%20%20%20%20%20%20%20%20%20%20%29%3B%0A%20%20%20%20%20%20%20%20%0A%20%20%20%20%0A%20%20%20%20%20%20%20%20%20%20%20%20var%20marker_491a05988530415fafc7ac3fe99e7ea5%20%3D%20L.marker%28%0A%20%20%20%20%20%20%20%20%20%20%20%20%20%20%20%20%5B40.7650084516372%2C%20-73.9753836393356%5D%2C%0A%20%20%20%20%20%20%20%20%20%20%20%20%20%20%20%20%7B%7D%0A%20%20%20%20%20%20%20%20%20%20%20%20%29.addTo%28map_8f9c0d0d3f904543b7b4750415ce04d9%29%3B%0A%20%20%20%20%20%20%20%20%0A%20%20%20%20%0A%20%20%20%20%20%20%20%20%20%20%20%20var%20icon_053cd52ac2454499807b1c8579252d59%20%3D%20L.AwesomeMarkers.icon%28%0A%20%20%20%20%20%20%20%20%20%20%20%20%20%20%20%20%7B%22extraClasses%22%3A%20%22fa-rotate-0%22%2C%20%22icon%22%3A%20%22bed%22%2C%20%22iconColor%22%3A%20%22white%22%2C%20%22markerColor%22%3A%20%22blue%22%2C%20%22prefix%22%3A%20%22fa%22%7D%0A%20%20%20%20%20%20%20%20%20%20%20%20%29%3B%0A%20%20%20%20%20%20%20%20%20%20%20%20marker_491a05988530415fafc7ac3fe99e7ea5.setIcon%28icon_053cd52ac2454499807b1c8579252d59%29%3B%0A%20%20%20%20%20%20%20%20%0A%20%20%20%20%0A%20%20%20%20%20%20%20%20var%20popup_7778f5bc6c0f45ed8732774f8cef0169%20%3D%20L.popup%28%7B%22maxWidth%22%3A%20%22100%25%22%7D%29%3B%0A%0A%20%20%20%20%20%20%20%20%0A%20%20%20%20%20%20%20%20%20%20%20%20var%20html_93d17c876e2d49cbaa426c1fe429abde%20%3D%20%24%28%60%3Cdiv%20id%3D%22html_93d17c876e2d49cbaa426c1fe429abde%22%20style%3D%22width%3A%20100.0%25%3B%20height%3A%20100.0%25%3B%22%3E7.7/10%3C/div%3E%60%29%5B0%5D%3B%0A%20%20%20%20%20%20%20%20%20%20%20%20popup_7778f5bc6c0f45ed8732774f8cef0169.setContent%28html_93d17c876e2d49cbaa426c1fe429abde%29%3B%0A%20%20%20%20%20%20%20%20%0A%0A%20%20%20%20%20%20%20%20marker_491a05988530415fafc7ac3fe99e7ea5.bindPopup%28popup_7778f5bc6c0f45ed8732774f8cef0169%29%0A%20%20%20%20%20%20%20%20%3B%0A%0A%20%20%20%20%20%20%20%20%0A%20%20%20%20%0A%20%20%20%20%0A%20%20%20%20%20%20%20%20%20%20%20%20marker_491a05988530415fafc7ac3fe99e7ea5.bindTooltip%28%0A%20%20%20%20%20%20%20%20%20%20%20%20%20%20%20%20%60%3Cdiv%3E%0A%20%20%20%20%20%20%20%20%20%20%20%20%20%20%20%20%20%20%20%20%20Park%20Lane%20New%20York%0A%20%20%20%20%20%20%20%20%20%20%20%20%20%20%20%20%20%3C/div%3E%60%2C%0A%20%20%20%20%20%20%20%20%20%20%20%20%20%20%20%20%7B%22sticky%22%3A%20true%7D%0A%20%20%20%20%20%20%20%20%20%20%20%20%29%3B%0A%20%20%20%20%20%20%20%20%0A%20%20%20%20%0A%20%20%20%20%20%20%20%20%20%20%20%20var%20marker_c76ff23fb6d740bab322bc9566b9f5fe%20%3D%20L.marker%28%0A%20%20%20%20%20%20%20%20%20%20%20%20%20%20%20%20%5B40.7641694414114%2C%20-73.9786009490489%5D%2C%0A%20%20%20%20%20%20%20%20%20%20%20%20%20%20%20%20%7B%7D%0A%20%20%20%20%20%20%20%20%20%20%20%20%29.addTo%28map_8f9c0d0d3f904543b7b4750415ce04d9%29%3B%0A%20%20%20%20%20%20%20%20%0A%20%20%20%20%0A%20%20%20%20%20%20%20%20%20%20%20%20var%20icon_ee77edf66ebf40ed9df7454668951d20%20%3D%20L.AwesomeMarkers.icon%28%0A%20%20%20%20%20%20%20%20%20%20%20%20%20%20%20%20%7B%22extraClasses%22%3A%20%22fa-rotate-0%22%2C%20%22icon%22%3A%20%22bed%22%2C%20%22iconColor%22%3A%20%22white%22%2C%20%22markerColor%22%3A%20%22blue%22%2C%20%22prefix%22%3A%20%22fa%22%7D%0A%20%20%20%20%20%20%20%20%20%20%20%20%29%3B%0A%20%20%20%20%20%20%20%20%20%20%20%20marker_c76ff23fb6d740bab322bc9566b9f5fe.setIcon%28icon_ee77edf66ebf40ed9df7454668951d20%29%3B%0A%20%20%20%20%20%20%20%20%0A%20%20%20%20%0A%20%20%20%20%20%20%20%20var%20popup_95184d72cdba47d38b49a4132166a329%20%3D%20L.popup%28%7B%22maxWidth%22%3A%20%22100%25%22%7D%29%3B%0A%0A%20%20%20%20%20%20%20%20%0A%20%20%20%20%20%20%20%20%20%20%20%20var%20html_650f12d7526e4f90bb4f8bfdf6629a8f%20%3D%20%24%28%60%3Cdiv%20id%3D%22html_650f12d7526e4f90bb4f8bfdf6629a8f%22%20style%3D%22width%3A%20100.0%25%3B%20height%3A%20100.0%25%3B%22%3E8.0/10%3C/div%3E%60%29%5B0%5D%3B%0A%20%20%20%20%20%20%20%20%20%20%20%20popup_95184d72cdba47d38b49a4132166a329.setContent%28html_650f12d7526e4f90bb4f8bfdf6629a8f%29%3B%0A%20%20%20%20%20%20%20%20%0A%0A%20%20%20%20%20%20%20%20marker_c76ff23fb6d740bab322bc9566b9f5fe.bindPopup%28popup_95184d72cdba47d38b49a4132166a329%29%0A%20%20%20%20%20%20%20%20%3B%0A%0A%20%20%20%20%20%20%20%20%0A%20%20%20%20%0A%20%20%20%20%0A%20%20%20%20%20%20%20%20%20%20%20%20marker_c76ff23fb6d740bab322bc9566b9f5fe.bindTooltip%28%0A%20%20%20%20%20%20%20%20%20%20%20%20%20%20%20%20%60%3Cdiv%3E%0A%20%20%20%20%20%20%20%20%20%20%20%20%20%20%20%20%20%20%20%20%20Thompson%20Central%20Park%20-%20New%20York%0A%20%20%20%20%20%20%20%20%20%20%20%20%20%20%20%20%20%3C/div%3E%60%2C%0A%20%20%20%20%20%20%20%20%20%20%20%20%20%20%20%20%7B%22sticky%22%3A%20true%7D%0A%20%20%20%20%20%20%20%20%20%20%20%20%29%3B%0A%20%20%20%20%20%20%20%20%0A%20%20%20%20%0A%20%20%20%20%20%20%20%20%20%20%20%20var%20marker_ac93f008405e418a879b455d31147532%20%3D%20L.marker%28%0A%20%20%20%20%20%20%20%20%20%20%20%20%20%20%20%20%5B40.7664071170503%2C%20-73.9783729612827%5D%2C%0A%20%20%20%20%20%20%20%20%20%20%20%20%20%20%20%20%7B%7D%0A%20%20%20%20%20%20%20%20%20%20%20%20%29.addTo%28map_8f9c0d0d3f904543b7b4750415ce04d9%29%3B%0A%20%20%20%20%20%20%20%20%0A%20%20%20%20%0A%20%20%20%20%20%20%20%20%20%20%20%20var%20icon_8e82495623204dfeadc226f419104150%20%3D%20L.AwesomeMarkers.icon%28%0A%20%20%20%20%20%20%20%20%20%20%20%20%20%20%20%20%7B%22extraClasses%22%3A%20%22fa-rotate-0%22%2C%20%22icon%22%3A%20%22bed%22%2C%20%22iconColor%22%3A%20%22white%22%2C%20%22markerColor%22%3A%20%22blue%22%2C%20%22prefix%22%3A%20%22fa%22%7D%0A%20%20%20%20%20%20%20%20%20%20%20%20%29%3B%0A%20%20%20%20%20%20%20%20%20%20%20%20marker_ac93f008405e418a879b455d31147532.setIcon%28icon_8e82495623204dfeadc226f419104150%29%3B%0A%20%20%20%20%20%20%20%20%0A%20%20%20%20%0A%20%20%20%20%20%20%20%20var%20popup_0bd1692f1b364d70877ff995c0bc97de%20%3D%20L.popup%28%7B%22maxWidth%22%3A%20%22100%25%22%7D%29%3B%0A%0A%20%20%20%20%20%20%20%20%0A%20%20%20%20%20%20%20%20%20%20%20%20var%20html_6ba6ea80b4574c798b5856a3f96da712%20%3D%20%24%28%60%3Cdiv%20id%3D%22html_6ba6ea80b4574c798b5856a3f96da712%22%20style%3D%22width%3A%20100.0%25%3B%20height%3A%20100.0%25%3B%22%3E8.3/10%3C/div%3E%60%29%5B0%5D%3B%0A%20%20%20%20%20%20%20%20%20%20%20%20popup_0bd1692f1b364d70877ff995c0bc97de.setContent%28html_6ba6ea80b4574c798b5856a3f96da712%29%3B%0A%20%20%20%20%20%20%20%20%0A%0A%20%20%20%20%20%20%20%20marker_ac93f008405e418a879b455d31147532.bindPopup%28popup_0bd1692f1b364d70877ff995c0bc97de%29%0A%20%20%20%20%20%20%20%20%3B%0A%0A%20%20%20%20%20%20%20%20%0A%20%20%20%20%0A%20%20%20%20%0A%20%20%20%20%20%20%20%20%20%20%20%20marker_ac93f008405e418a879b455d31147532.bindTooltip%28%0A%20%20%20%20%20%20%20%20%20%20%20%20%20%20%20%20%60%3Cdiv%3E%0A%20%20%20%20%20%20%20%20%20%20%20%20%20%20%20%20%20%20%20%20%20JW%20Marriott%20Essex%20House%20New%20York%0A%20%20%20%20%20%20%20%20%20%20%20%20%20%20%20%20%20%3C/div%3E%60%2C%0A%20%20%20%20%20%20%20%20%20%20%20%20%20%20%20%20%7B%22sticky%22%3A%20true%7D%0A%20%20%20%20%20%20%20%20%20%20%20%20%29%3B%0A%20%20%20%20%20%20%20%20%0A%20%20%20%20%0A%20%20%20%20%20%20%20%20%20%20%20%20var%20marker_561756ae2e4b42f4abe6d4c8cd6aa69a%20%3D%20L.marker%28%0A%20%20%20%20%20%20%20%20%20%20%20%20%20%20%20%20%5B40.7644558577474%2C%20-73.968969630619%5D%2C%0A%20%20%20%20%20%20%20%20%20%20%20%20%20%20%20%20%7B%7D%0A%20%20%20%20%20%20%20%20%20%20%20%20%29.addTo%28map_8f9c0d0d3f904543b7b4750415ce04d9%29%3B%0A%20%20%20%20%20%20%20%20%0A%20%20%20%20%0A%20%20%20%20%20%20%20%20%20%20%20%20var%20icon_c2cb3d9a36fc4c71b5f5cac98020aea6%20%3D%20L.AwesomeMarkers.icon%28%0A%20%20%20%20%20%20%20%20%20%20%20%20%20%20%20%20%7B%22extraClasses%22%3A%20%22fa-rotate-0%22%2C%20%22icon%22%3A%20%22bed%22%2C%20%22iconColor%22%3A%20%22white%22%2C%20%22markerColor%22%3A%20%22blue%22%2C%20%22prefix%22%3A%20%22fa%22%7D%0A%20%20%20%20%20%20%20%20%20%20%20%20%29%3B%0A%20%20%20%20%20%20%20%20%20%20%20%20marker_561756ae2e4b42f4abe6d4c8cd6aa69a.setIcon%28icon_c2cb3d9a36fc4c71b5f5cac98020aea6%29%3B%0A%20%20%20%20%20%20%20%20%0A%20%20%20%20%0A%20%20%20%20%20%20%20%20var%20popup_8cf13adb01ee41b2a202f034c0338fe1%20%3D%20L.popup%28%7B%22maxWidth%22%3A%20%22100%25%22%7D%29%3B%0A%0A%20%20%20%20%20%20%20%20%0A%20%20%20%20%20%20%20%20%20%20%20%20var%20html_fd5b2b97a10846e6acaa671e0c44b0c7%20%3D%20%24%28%60%3Cdiv%20id%3D%22html_fd5b2b97a10846e6acaa671e0c44b0c7%22%20style%3D%22width%3A%20100.0%25%3B%20height%3A%20100.0%25%3B%22%3E8.7/10%3C/div%3E%60%29%5B0%5D%3B%0A%20%20%20%20%20%20%20%20%20%20%20%20popup_8cf13adb01ee41b2a202f034c0338fe1.setContent%28html_fd5b2b97a10846e6acaa671e0c44b0c7%29%3B%0A%20%20%20%20%20%20%20%20%0A%0A%20%20%20%20%20%20%20%20marker_561756ae2e4b42f4abe6d4c8cd6aa69a.bindPopup%28popup_8cf13adb01ee41b2a202f034c0338fe1%29%0A%20%20%20%20%20%20%20%20%3B%0A%0A%20%20%20%20%20%20%20%20%0A%20%20%20%20%0A%20%20%20%20%0A%20%20%20%20%20%20%20%20%20%20%20%20marker_561756ae2e4b42f4abe6d4c8cd6aa69a.bindTooltip%28%0A%20%20%20%20%20%20%20%20%20%20%20%20%20%20%20%20%60%3Cdiv%3E%0A%20%20%20%20%20%20%20%20%20%20%20%20%20%20%20%20%20%20%20%20%20Loews%20Regency%20New%20York%20Hotel%0A%20%20%20%20%20%20%20%20%20%20%20%20%20%20%20%20%20%3C/div%3E%60%2C%0A%20%20%20%20%20%20%20%20%20%20%20%20%20%20%20%20%7B%22sticky%22%3A%20true%7D%0A%20%20%20%20%20%20%20%20%20%20%20%20%29%3B%0A%20%20%20%20%20%20%20%20%0A%20%20%20%20%0A%20%20%20%20%20%20%20%20%20%20%20%20var%20marker_1de8fe580c6348a4a72b48beb0bd58c4%20%3D%20L.marker%28%0A%20%20%20%20%20%20%20%20%20%20%20%20%20%20%20%20%5B40.7648321%2C%20-73.9768231%5D%2C%0A%20%20%20%20%20%20%20%20%20%20%20%20%20%20%20%20%7B%7D%0A%20%20%20%20%20%20%20%20%20%20%20%20%29.addTo%28map_8f9c0d0d3f904543b7b4750415ce04d9%29%3B%0A%20%20%20%20%20%20%20%20%0A%20%20%20%20%0A%20%20%20%20%20%20%20%20%20%20%20%20var%20icon_91e624a67bd24dbe88b0885f1c222532%20%3D%20L.AwesomeMarkers.icon%28%0A%20%20%20%20%20%20%20%20%20%20%20%20%20%20%20%20%7B%22extraClasses%22%3A%20%22fa-rotate-0%22%2C%20%22icon%22%3A%20%22bed%22%2C%20%22iconColor%22%3A%20%22white%22%2C%20%22markerColor%22%3A%20%22blue%22%2C%20%22prefix%22%3A%20%22fa%22%7D%0A%20%20%20%20%20%20%20%20%20%20%20%20%29%3B%0A%20%20%20%20%20%20%20%20%20%20%20%20marker_1de8fe580c6348a4a72b48beb0bd58c4.setIcon%28icon_91e624a67bd24dbe88b0885f1c222532%29%3B%0A%20%20%20%20%20%20%20%20%0A%20%20%20%20%0A%20%20%20%20%20%20%20%20var%20popup_473199e5a061431d9509267a08f44fbb%20%3D%20L.popup%28%7B%22maxWidth%22%3A%20%22100%25%22%7D%29%3B%0A%0A%20%20%20%20%20%20%20%20%0A%20%20%20%20%20%20%20%20%20%20%20%20var%20html_eecd41b2d7e94544ae9d3ef793d977e0%20%3D%20%24%28%60%3Cdiv%20id%3D%22html_eecd41b2d7e94544ae9d3ef793d977e0%22%20style%3D%22width%3A%20100.0%25%3B%20height%3A%20100.0%25%3B%22%3E8.7/10%3C/div%3E%60%29%5B0%5D%3B%0A%20%20%20%20%20%20%20%20%20%20%20%20popup_473199e5a061431d9509267a08f44fbb.setContent%28html_eecd41b2d7e94544ae9d3ef793d977e0%29%3B%0A%20%20%20%20%20%20%20%20%0A%0A%20%20%20%20%20%20%20%20marker_1de8fe580c6348a4a72b48beb0bd58c4.bindPopup%28popup_473199e5a061431d9509267a08f44fbb%29%0A%20%20%20%20%20%20%20%20%3B%0A%0A%20%20%20%20%20%20%20%20%0A%20%20%20%20%0A%20%20%20%20%0A%20%20%20%20%20%20%20%20%20%20%20%20marker_1de8fe580c6348a4a72b48beb0bd58c4.bindTooltip%28%0A%20%20%20%20%20%20%20%20%20%20%20%20%20%20%20%20%60%3Cdiv%3E%0A%20%20%20%20%20%20%20%20%20%20%20%20%20%20%20%20%20%20%20%20%201%20Hotel%20Central%20Park%0A%20%20%20%20%20%20%20%20%20%20%20%20%20%20%20%20%20%3C/div%3E%60%2C%0A%20%20%20%20%20%20%20%20%20%20%20%20%20%20%20%20%7B%22sticky%22%3A%20true%7D%0A%20%20%20%20%20%20%20%20%20%20%20%20%29%3B%0A%20%20%20%20%20%20%20%20%0A%20%20%20%20%0A%20%20%20%20%20%20%20%20%20%20%20%20var%20marker_5535c782bc5e46598f0abd5d95391635%20%3D%20L.marker%28%0A%20%20%20%20%20%20%20%20%20%20%20%20%20%20%20%20%5B40.769089587591%2C%20-73.9814112335443%5D%2C%0A%20%20%20%20%20%20%20%20%20%20%20%20%20%20%20%20%7B%7D%0A%20%20%20%20%20%20%20%20%20%20%20%20%29.addTo%28map_8f9c0d0d3f904543b7b4750415ce04d9%29%3B%0A%20%20%20%20%20%20%20%20%0A%20%20%20%20%0A%20%20%20%20%20%20%20%20%20%20%20%20var%20icon_d6dc64f1640541ed8a051306e12b4c8a%20%3D%20L.AwesomeMarkers.icon%28%0A%20%20%20%20%20%20%20%20%20%20%20%20%20%20%20%20%7B%22extraClasses%22%3A%20%22fa-rotate-0%22%2C%20%22icon%22%3A%20%22bed%22%2C%20%22iconColor%22%3A%20%22white%22%2C%20%22markerColor%22%3A%20%22blue%22%2C%20%22prefix%22%3A%20%22fa%22%7D%0A%20%20%20%20%20%20%20%20%20%20%20%20%29%3B%0A%20%20%20%20%20%20%20%20%20%20%20%20marker_5535c782bc5e46598f0abd5d95391635.setIcon%28icon_d6dc64f1640541ed8a051306e12b4c8a%29%3B%0A%20%20%20%20%20%20%20%20%0A%20%20%20%20%0A%20%20%20%20%20%20%20%20var%20popup_cfd7369435b14e129dc03bf1c1b4637a%20%3D%20L.popup%28%7B%22maxWidth%22%3A%20%22100%25%22%7D%29%3B%0A%0A%20%20%20%20%20%20%20%20%0A%20%20%20%20%20%20%20%20%20%20%20%20var%20html_b931f34ca3b24baf95c8c53b433715d0%20%3D%20%24%28%60%3Cdiv%20id%3D%22html_b931f34ca3b24baf95c8c53b433715d0%22%20style%3D%22width%3A%20100.0%25%3B%20height%3A%20100.0%25%3B%22%3E9.0/10%3C/div%3E%60%29%5B0%5D%3B%0A%20%20%20%20%20%20%20%20%20%20%20%20popup_cfd7369435b14e129dc03bf1c1b4637a.setContent%28html_b931f34ca3b24baf95c8c53b433715d0%29%3B%0A%20%20%20%20%20%20%20%20%0A%0A%20%20%20%20%20%20%20%20marker_5535c782bc5e46598f0abd5d95391635.bindPopup%28popup_cfd7369435b14e129dc03bf1c1b4637a%29%0A%20%20%20%20%20%20%20%20%3B%0A%0A%20%20%20%20%20%20%20%20%0A%20%20%20%20%0A%20%20%20%20%0A%20%20%20%20%20%20%20%20%20%20%20%20marker_5535c782bc5e46598f0abd5d95391635.bindTooltip%28%0A%20%20%20%20%20%20%20%20%20%20%20%20%20%20%20%20%60%3Cdiv%3E%0A%20%20%20%20%20%20%20%20%20%20%20%20%20%20%20%20%20%20%20%20%20Trump%20International%20New%20York%0A%20%20%20%20%20%20%20%20%20%20%20%20%20%20%20%20%20%3C/div%3E%60%2C%0A%20%20%20%20%20%20%20%20%20%20%20%20%20%20%20%20%7B%22sticky%22%3A%20true%7D%0A%20%20%20%20%20%20%20%20%20%20%20%20%29%3B%0A%20%20%20%20%20%20%20%20%0A%20%20%20%20%0A%20%20%20%20%20%20%20%20%20%20%20%20var%20marker_aaf57cef0b744c5095088f635d31910f%20%3D%20L.marker%28%0A%20%20%20%20%20%20%20%20%20%20%20%20%20%20%20%20%5B40.7651440533852%2C%20-73.9713630080223%5D%2C%0A%20%20%20%20%20%20%20%20%20%20%20%20%20%20%20%20%7B%7D%0A%20%20%20%20%20%20%20%20%20%20%20%20%29.addTo%28map_8f9c0d0d3f904543b7b4750415ce04d9%29%3B%0A%20%20%20%20%20%20%20%20%0A%20%20%20%20%0A%20%20%20%20%20%20%20%20%20%20%20%20var%20icon_c8a12db147904862b3c14d92edb975e5%20%3D%20L.AwesomeMarkers.icon%28%0A%20%20%20%20%20%20%20%20%20%20%20%20%20%20%20%20%7B%22extraClasses%22%3A%20%22fa-rotate-0%22%2C%20%22icon%22%3A%20%22bed%22%2C%20%22iconColor%22%3A%20%22white%22%2C%20%22markerColor%22%3A%20%22blue%22%2C%20%22prefix%22%3A%20%22fa%22%7D%0A%20%20%20%20%20%20%20%20%20%20%20%20%29%3B%0A%20%20%20%20%20%20%20%20%20%20%20%20marker_aaf57cef0b744c5095088f635d31910f.setIcon%28icon_c8a12db147904862b3c14d92edb975e5%29%3B%0A%20%20%20%20%20%20%20%20%0A%20%20%20%20%0A%20%20%20%20%20%20%20%20var%20popup_456c3c0bbbf14f50a2a49c95e6599754%20%3D%20L.popup%28%7B%22maxWidth%22%3A%20%22100%25%22%7D%29%3B%0A%0A%20%20%20%20%20%20%20%20%0A%20%20%20%20%20%20%20%20%20%20%20%20var%20html_2cf3cad0a2324265bd2c2b2928288ad2%20%3D%20%24%28%60%3Cdiv%20id%3D%22html_2cf3cad0a2324265bd2c2b2928288ad2%22%20style%3D%22width%3A%20100.0%25%3B%20height%3A%20100.0%25%3B%22%3E8.9/10%3C/div%3E%60%29%5B0%5D%3B%0A%20%20%20%20%20%20%20%20%20%20%20%20popup_456c3c0bbbf14f50a2a49c95e6599754.setContent%28html_2cf3cad0a2324265bd2c2b2928288ad2%29%3B%0A%20%20%20%20%20%20%20%20%0A%0A%20%20%20%20%20%20%20%20marker_aaf57cef0b744c5095088f635d31910f.bindPopup%28popup_456c3c0bbbf14f50a2a49c95e6599754%29%0A%20%20%20%20%20%20%20%20%3B%0A%0A%20%20%20%20%20%20%20%20%0A%20%20%20%20%0A%20%20%20%20%0A%20%20%20%20%20%20%20%20%20%20%20%20marker_aaf57cef0b744c5095088f635d31910f.bindTooltip%28%0A%20%20%20%20%20%20%20%20%20%20%20%20%20%20%20%20%60%3Cdiv%3E%0A%20%20%20%20%20%20%20%20%20%20%20%20%20%20%20%20%20%20%20%20%20The%20Pierre%2C%20A%20Taj%20Hotel%2C%20New%20York%0A%20%20%20%20%20%20%20%20%20%20%20%20%20%20%20%20%20%3C/div%3E%60%2C%0A%20%20%20%20%20%20%20%20%20%20%20%20%20%20%20%20%7B%22sticky%22%3A%20true%7D%0A%20%20%20%20%20%20%20%20%20%20%20%20%29%3B%0A%20%20%20%20%20%20%20%20%0A%20%20%20%20%0A%20%20%20%20%20%20%20%20%20%20%20%20var%20marker_8c07cba0cd41462ca8e9b185cb90b6ce%20%3D%20L.marker%28%0A%20%20%20%20%20%20%20%20%20%20%20%20%20%20%20%20%5B40.7653152057583%2C%20-73.9760152995587%5D%2C%0A%20%20%20%20%20%20%20%20%20%20%20%20%20%20%20%20%7B%7D%0A%20%20%20%20%20%20%20%20%20%20%20%20%29.addTo%28map_8f9c0d0d3f904543b7b4750415ce04d9%29%3B%0A%20%20%20%20%20%20%20%20%0A%20%20%20%20%0A%20%20%20%20%20%20%20%20%20%20%20%20var%20icon_c563f68dd8dc47c7be172fd326024e07%20%3D%20L.AwesomeMarkers.icon%28%0A%20%20%20%20%20%20%20%20%20%20%20%20%20%20%20%20%7B%22extraClasses%22%3A%20%22fa-rotate-0%22%2C%20%22icon%22%3A%20%22bed%22%2C%20%22iconColor%22%3A%20%22white%22%2C%20%22markerColor%22%3A%20%22blue%22%2C%20%22prefix%22%3A%20%22fa%22%7D%0A%20%20%20%20%20%20%20%20%20%20%20%20%29%3B%0A%20%20%20%20%20%20%20%20%20%20%20%20marker_8c07cba0cd41462ca8e9b185cb90b6ce.setIcon%28icon_c563f68dd8dc47c7be172fd326024e07%29%3B%0A%20%20%20%20%20%20%20%20%0A%20%20%20%20%0A%20%20%20%20%20%20%20%20var%20popup_5e71a484fc894f0083a03a379b673751%20%3D%20L.popup%28%7B%22maxWidth%22%3A%20%22100%25%22%7D%29%3B%0A%0A%20%20%20%20%20%20%20%20%0A%20%20%20%20%20%20%20%20%20%20%20%20var%20html_9e844147605740bd820518a63c99bdca%20%3D%20%24%28%60%3Cdiv%20id%3D%22html_9e844147605740bd820518a63c99bdca%22%20style%3D%22width%3A%20100.0%25%3B%20height%3A%20100.0%25%3B%22%3E8.5/10%3C/div%3E%60%29%5B0%5D%3B%0A%20%20%20%20%20%20%20%20%20%20%20%20popup_5e71a484fc894f0083a03a379b673751.setContent%28html_9e844147605740bd820518a63c99bdca%29%3B%0A%20%20%20%20%20%20%20%20%0A%0A%20%20%20%20%20%20%20%20marker_8c07cba0cd41462ca8e9b185cb90b6ce.bindPopup%28popup_5e71a484fc894f0083a03a379b673751%29%0A%20%20%20%20%20%20%20%20%3B%0A%0A%20%20%20%20%20%20%20%20%0A%20%20%20%20%0A%20%20%20%20%0A%20%20%20%20%20%20%20%20%20%20%20%20marker_8c07cba0cd41462ca8e9b185cb90b6ce.bindTooltip%28%0A%20%20%20%20%20%20%20%20%20%20%20%20%20%20%20%20%60%3Cdiv%3E%0A%20%20%20%20%20%20%20%20%20%20%20%20%20%20%20%20%20%20%20%20%20The%20Ritz-Carlton%20New%20York%2C%20Central%20Park%0A%20%20%20%20%20%20%20%20%20%20%20%20%20%20%20%20%20%3C/div%3E%60%2C%0A%20%20%20%20%20%20%20%20%20%20%20%20%20%20%20%20%7B%22sticky%22%3A%20true%7D%0A%20%20%20%20%20%20%20%20%20%20%20%20%29%3B%0A%20%20%20%20%20%20%20%20%0A%20%20%20%20%0A%20%20%20%20%20%20%20%20%20%20%20%20var%20marker_9105d126ac874b1789907d2ec9875ca1%20%3D%20L.marker%28%0A%20%20%20%20%20%20%20%20%20%20%20%20%20%20%20%20%5B40.7614085557548%2C%20-73.9743939042092%5D%2C%0A%20%20%20%20%20%20%20%20%20%20%20%20%20%20%20%20%7B%7D%0A%20%20%20%20%20%20%20%20%20%20%20%20%29.addTo%28map_8f9c0d0d3f904543b7b4750415ce04d9%29%3B%0A%20%20%20%20%20%20%20%20%0A%20%20%20%20%0A%20%20%20%20%20%20%20%20%20%20%20%20var%20icon_e0d25a280dcf41028dfa0164f4a6439e%20%3D%20L.AwesomeMarkers.icon%28%0A%20%20%20%20%20%20%20%20%20%20%20%20%20%20%20%20%7B%22extraClasses%22%3A%20%22fa-rotate-0%22%2C%20%22icon%22%3A%20%22bed%22%2C%20%22iconColor%22%3A%20%22white%22%2C%20%22markerColor%22%3A%20%22blue%22%2C%20%22prefix%22%3A%20%22fa%22%7D%0A%20%20%20%20%20%20%20%20%20%20%20%20%29%3B%0A%20%20%20%20%20%20%20%20%20%20%20%20marker_9105d126ac874b1789907d2ec9875ca1.setIcon%28icon_e0d25a280dcf41028dfa0164f4a6439e%29%3B%0A%20%20%20%20%20%20%20%20%0A%20%20%20%20%0A%20%20%20%20%20%20%20%20var%20popup_6297f5ed03714fbb98c99423d5427f64%20%3D%20L.popup%28%7B%22maxWidth%22%3A%20%22100%25%22%7D%29%3B%0A%0A%20%20%20%20%20%20%20%20%0A%20%20%20%20%20%20%20%20%20%20%20%20var%20html_a0e0e0bc5d8b40a197afb87add062ea0%20%3D%20%24%28%60%3Cdiv%20id%3D%22html_a0e0e0bc5d8b40a197afb87add062ea0%22%20style%3D%22width%3A%20100.0%25%3B%20height%3A%20100.0%25%3B%22%3E8.2/10%3C/div%3E%60%29%5B0%5D%3B%0A%20%20%20%20%20%20%20%20%20%20%20%20popup_6297f5ed03714fbb98c99423d5427f64.setContent%28html_a0e0e0bc5d8b40a197afb87add062ea0%29%3B%0A%20%20%20%20%20%20%20%20%0A%0A%20%20%20%20%20%20%20%20marker_9105d126ac874b1789907d2ec9875ca1.bindPopup%28popup_6297f5ed03714fbb98c99423d5427f64%29%0A%20%20%20%20%20%20%20%20%3B%0A%0A%20%20%20%20%20%20%20%20%0A%20%20%20%20%0A%20%20%20%20%0A%20%20%20%20%20%20%20%20%20%20%20%20marker_9105d126ac874b1789907d2ec9875ca1.bindTooltip%28%0A%20%20%20%20%20%20%20%20%20%20%20%20%20%20%20%20%60%3Cdiv%3E%0A%20%20%20%20%20%20%20%20%20%20%20%20%20%20%20%20%20%20%20%20%20The%20St.%20Regis%20New%20York%0A%20%20%20%20%20%20%20%20%20%20%20%20%20%20%20%20%20%3C/div%3E%60%2C%0A%20%20%20%20%20%20%20%20%20%20%20%20%20%20%20%20%7B%22sticky%22%3A%20true%7D%0A%20%20%20%20%20%20%20%20%20%20%20%20%29%3B%0A%20%20%20%20%20%20%20%20%0A%3C/script%3E onload=\"this.contentDocument.open();this.contentDocument.write(    decodeURIComponent(this.getAttribute('data-html')));this.contentDocument.close();\" allowfullscreen webkitallowfullscreen mozallowfullscreen></iframe></div></div>"
      ],
      "text/plain": [
       "<folium.folium.Map at 0x27be47f5550>"
      ]
     },
     "execution_count": 11,
     "metadata": {},
     "output_type": "execute_result"
    }
   ],
   "source": [
    "# Use folium to create Map of hotels in dest_id of choice (district, landmark, city, etc.)\n",
    "\n",
    "# Creates map around a set of coordinates from the dataframe\n",
    "start_coords = [hotels_df['latitude'].iloc[0], hotels_df['longitude'].iloc[0]]\n",
    "m = folium.Map(location=start_coords, zoom_start=12)\n",
    "\n",
    "\n",
    "# Create loop that adds all hotel coordinates to the map\n",
    "coords = [hotels_df['latitude'].to_list(), hotels_df['longitude'].to_list()]\n",
    "\n",
    "for i in range(len(coords[0])):\n",
    "    folium.Marker(location= [coords[0][i], coords[1][i]],\n",
    "    tooltip= hotels_df['hotel_name'].iloc[i],\n",
    "    icon=folium.Icon(icon='bed', prefix='fa'),\n",
    "    popup =f\"{hotels_df['review_score'].iloc[i]}/10\"\n",
    "    ).add_to(m) \n",
    " \n",
    "hotels_map = m\n",
    "hotels_map\n",
    "\n",
    "# icon examples for hotels: \"bed\" \"h-square\" these two need the prefix 'fa' for font awesome website (recommended by folium documentation)"
   ]
  },
  {
   "cell_type": "code",
   "execution_count": 170,
   "metadata": {},
   "outputs": [
    {
     "name": "stdout",
     "output_type": "stream",
     "text": [
      "Here are some hotel options for you:\n",
      "----------------------------------------------------------\n",
      "\u001b[32mNap York Youth Hostel\u001b[0m (8.0/10.0)\n",
      "940 8th Avenue 4th floor NY 10019\n",
      "Price: $1070.91\n",
      "\u001b[34mhttps://www.booking.com/hotel/us/nap-york-new-york1.html\u001b[0m\n",
      "Only 4 left at this price on Booking.com\n",
      " \n",
      "\u001b[32mWest Side YMCA\u001b[0m (7.3/10.0)\n",
      "5 West 63rd Street NY 10023\n",
      "Price: $1371.20\n",
      "\u001b[34mhttps://www.booking.com/hotel/us/west-side-ymca.html\u001b[0m\n",
      " \n",
      "\u001b[32mPark West Hotel\u001b[0m (6.5/10.0)\n",
      "465 Central Park West NY 10025\n",
      "Price: $3083.10\n",
      "\u001b[34mhttps://www.booking.com/hotel/us/astor-on-central-park.html\u001b[0m\n",
      "Only 3 left at this price on Booking.com\n",
      " \n",
      "\u001b[32mLa Quinta by Wyndham New York City Central Park\u001b[0m (7.3/10.0)\n",
      "31 West 71st Street NY 10023\n",
      "Price: $3699.94\n",
      "\u001b[34mhttps://www.booking.com/hotel/us/la-quinta-new-york-city-central-park.html\u001b[0m\n",
      " \n",
      "\u001b[32mSonder l Chambers\u001b[0m (8.8/10.0)\n",
      "15 West 56th Street NY 10019\n",
      "Price: $4803.32\n",
      "\u001b[34mhttps://www.booking.com/hotel/us/chambers.html\u001b[0m\n",
      "Only 1 left at this price on Booking.com\n",
      " \n",
      "\u001b[32mAKA Central Park\u001b[0m (8.6/10.0)\n",
      "42 West 58th Street NY 10019\n",
      "Price: $4816.18\n",
      "\u001b[34mhttps://www.booking.com/hotel/us/korman-kommunities-central-park.html\u001b[0m\n",
      " \n",
      "\u001b[32mPark Central\u001b[0m (7.8/10.0)\n",
      "870 7th Avenue at 56th Street NY 10019\n",
      "Price: $5346.78\n",
      "\u001b[34mhttps://www.booking.com/hotel/us/park-central.html\u001b[0m\n",
      " \n",
      "\u001b[32mShoreham Hotel\u001b[0m (7.8/10.0)\n",
      "33 West 55th Street NY 10019\n",
      "Price: $5437.38\n",
      "\u001b[34mhttps://www.booking.com/hotel/us/shoreham.html\u001b[0m\n",
      "Only 4 left at this price on Booking.com\n",
      " \n",
      "\u001b[32mWestHouse Hotel New York\u001b[0m (8.1/10.0)\n",
      "201 West 55th Street NY 10019\n",
      "Price: $7135.80\n",
      "\u001b[34mhttps://www.booking.com/hotel/us/westhouse-new-york.html\u001b[0m\n",
      " \n",
      "\u001b[32mLe Meridien New York, Central Park\u001b[0m (7.4/10.0)\n",
      "120 West 57th Street NY 10019\n",
      "Price: $7900.76\n",
      "\u001b[34mhttps://www.booking.com/hotel/us/new-york-central-park-le-meridien.html\u001b[0m\n",
      " \n",
      "\u001b[32mWest 57th Street by Hilton Club\u001b[0m (8.4/10.0)\n",
      "102 West 57th Street NY 10019\n",
      "Price: $9320.95\n",
      "\u001b[34mhttps://www.booking.com/hotel/us/west-57th-street-by-hilton-club.html\u001b[0m\n",
      "Only 3 left at this price on Booking.com\n",
      " \n",
      "\u001b[32mPark Lane New York\u001b[0m (7.7/10.0)\n",
      "36 Central Park South NY 10019\n",
      "Price: $10053.82\n",
      "\u001b[34mhttps://www.booking.com/hotel/us/helmsley-park-lane.html\u001b[0m\n",
      " \n",
      "\u001b[32mThompson Central Park - New York\u001b[0m (8.0/10.0)\n",
      "119 West 56th Street NY 10019\n",
      "Price: $12455.20\n",
      "\u001b[34mhttps://www.booking.com/hotel/us/thompson-centralpark.html\u001b[0m\n",
      " \n",
      "\u001b[32mJW Marriott Essex House New York\u001b[0m (8.3/10.0)\n",
      "160 Central Park South NY 10019\n",
      "Price: $12867.74\n",
      "\u001b[34mhttps://www.booking.com/hotel/us/j-e-house-new-york-new-york.html\u001b[0m\n",
      "Only 3 left at this price on Booking.com\n",
      " \n",
      "\u001b[32mLoews Regency New York Hotel\u001b[0m (8.7/10.0)\n",
      "540 Park Avenue NY 10065\n",
      "Price: $12926.25\n",
      "\u001b[34mhttps://www.booking.com/hotel/us/loews-regency.html\u001b[0m\n",
      " \n",
      "\u001b[32m1 Hotel Central Park\u001b[0m (8.7/10.0)\n",
      "1414 Avenue of the Americas NY 10019\n",
      "Price: $13327.02\n",
      "\u001b[34mhttps://www.booking.com/hotel/us/1-hotel-central-park.html\u001b[0m\n",
      " \n",
      "\u001b[32mTrump International New York\u001b[0m (9.0/10.0)\n",
      "One Central Park West NY 10023\n",
      "Price: $14661.73\n",
      "\u001b[34mhttps://www.booking.com/hotel/us/trump-international-new-york.html\u001b[0m\n",
      "Only 3 left at this price on Booking.com\n",
      " \n",
      "\u001b[32mThe Pierre, A Taj Hotel, New York\u001b[0m (8.9/10.0)\n",
      "Two East 61st Street at 5th Avenue NY 10065\n",
      "Price: $18457.22\n",
      "\u001b[34mhttps://www.booking.com/hotel/us/the-pierre-a-taj.html\u001b[0m\n",
      " \n",
      "\u001b[32mThe Ritz-Carlton New York, Central Park\u001b[0m (8.5/10.0)\n",
      "50 Central Park South NY 10019\n",
      "Price: $20944.97\n",
      "\u001b[34mhttps://www.booking.com/hotel/us/the-ritz-carlton-new-york-central-park.html\u001b[0m\n",
      "Only 3 left at this price on Booking.com\n",
      " \n",
      "\u001b[32mThe St. Regis New York\u001b[0m (8.2/10.0)\n",
      "Two East 55th Street at Fifth Avenue NY 10022\n",
      "Price: $21473.97\n",
      "\u001b[34mhttps://www.booking.com/hotel/us/st-regis-new-york.html\u001b[0m\n",
      " \n"
     ]
    }
   ],
   "source": [
    "# Print hotel quotes\n",
    "\n",
    "print(f\"Here are some hotel options for you:\")\n",
    "print(f\"----------------------------------------------------------\")\n",
    "\n",
    "for quote in range(len(hotels_df)):\n",
    "    print(green(f\"{hotels_df['hotel_name'].iloc[quote]}\"), f\"({hotels_df['review_score'].iloc[quote]}/10.0)\")\n",
    "    print(f\"{hotels_df['address'].iloc[quote]} {hotels_df['zip'].iloc[quote]}\")\n",
    "    print(f\"Price: ${hotels_df['min_total_price'].iloc[quote]:.2f}\")\n",
    "    print(blue(f\"{hotels_df['url'].iloc[quote]}\"))\n",
    "\n",
    "    #this loop checks if there is an urgency_message for the hotel, if present, it prints the message\n",
    "    if type(hotels_df['urgency_message'].iloc[quote])==str:\n",
    "        print(f\"{hotels_df['urgency_message'].iloc[quote]}\")\n",
    "    elif type(hotels_df['urgency_message'].iloc[quote])==float:\n",
    "        pass\n",
    "\n",
    "    print(f\" \")"
   ]
  },
  {
   "cell_type": "code",
   "execution_count": 185,
   "metadata": {},
   "outputs": [],
   "source": [
    "# Export the analysis to a text file that contains the final results\n",
    "\n",
    "# Set output file name\n",
    "output_path = 'hotels_output.txt'\n",
    "\n",
    "# Open the output path as a file object\n",
    "with open(output_path, 'w') as file:\n",
    "    file.write(f\"Here are some hotel options for you:\\n\")\n",
    "    file.write(f\"----------------------------------------------------------\\n\")\n",
    "\n",
    "    for quote in range(len(hotels_df)):\n",
    "        file.write(f\"{hotels_df['hotel_name'].iloc[quote]}\\n\") \n",
    "        file.write(f\"{hotels_df['review_score'].iloc[quote]}/10.0)\\n\")\n",
    "        file.write(f\"{hotels_df['address'].iloc[quote]} {hotels_df['zip'].iloc[quote]}\\n\")\n",
    "        file.write(f\"Price: ${hotels_df['min_total_price'].iloc[quote]:.2f}\\n\")\n",
    "        file.write(f\"{hotels_df['url'].iloc[quote]}\\n\")\n",
    "\n",
    "        #this loop checks if there is an urgency_message for the hotel, if present, it prints the message\n",
    "        if type(hotels_df['urgency_message'].iloc[quote])==str:\n",
    "            file.write(f\"{hotels_df['urgency_message'].iloc[quote]}\\n\")\n",
    "        elif type(hotels_df['urgency_message'].iloc[quote])==float:\n",
    "            pass\n",
    "\n",
    "        file.write(f\" \\n\")"
   ]
  },
  {
   "cell_type": "code",
   "execution_count": null,
   "metadata": {},
   "outputs": [],
   "source": []
  }
 ],
 "metadata": {
  "interpreter": {
   "hash": "1b96bea370aa25765d77d0a7c5b93f2dc962ef269c95db79ebc3fe3f05623299"
  },
  "kernelspec": {
   "display_name": "Python 3.8.8 64-bit ('FinTech': conda)",
   "name": "python3"
  },
  "language_info": {
   "codemirror_mode": {
    "name": "ipython",
    "version": 3
   },
   "file_extension": ".py",
   "mimetype": "text/x-python",
   "name": "python",
   "nbconvert_exporter": "python",
   "pygments_lexer": "ipython3",
   "version": "3.8.8"
  },
  "widgets": {
   "application/vnd.jupyter.widget-state+json": {
    "state": {},
    "version_major": 2,
    "version_minor": 0
   }
  }
 },
 "nbformat": 4,
 "nbformat_minor": 4
}

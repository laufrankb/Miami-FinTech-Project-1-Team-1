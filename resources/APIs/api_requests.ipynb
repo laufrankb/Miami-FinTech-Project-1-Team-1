{
 "cells": [
  {
   "cell_type": "markdown",
   "metadata": {},
   "source": [
    "# SKYSCANNER API"
   ]
  },
  {
   "cell_type": "code",
   "execution_count": 9,
   "metadata": {},
   "outputs": [],
   "source": [
    "# Make necessary imports\n",
    "\n",
    "import json\n",
    "from skyscanner_request import skyscanner_api  # connects to the 'skyscanner_request.py' function file"
   ]
  },
  {
   "cell_type": "code",
   "execution_count": 10,
   "metadata": {},
   "outputs": [],
   "source": [
    "# Set input variables for skyscanner API request\n",
    "\n",
    "market_country = \"US\"\n",
    "departure_date = \"2021-12-01\"\n",
    "return_date = \"2022-01-15\"\n",
    "departure_airport = \"LAX\"\n",
    "destination_airport = \"JFK\"\n",
    "locale = \"en-US\"\n",
    "currency = \"USD\""
   ]
  },
  {
   "cell_type": "code",
   "execution_count": 11,
   "metadata": {},
   "outputs": [
    {
     "data": {
      "text/plain": [
       "{'Quotes': [{'QuoteId': 1,\n",
       "   'MinPrice': 99,\n",
       "   'Direct': False,\n",
       "   'OutboundLeg': {'CarrierIds': [851],\n",
       "    'OriginId': 65368,\n",
       "    'DestinationId': 60987,\n",
       "    'DepartureDate': '2021-12-01T00:00:00'},\n",
       "   'QuoteDateTime': '2021-10-19T19:48:00'},\n",
       "  {'QuoteId': 2,\n",
       "   'MinPrice': 128,\n",
       "   'Direct': True,\n",
       "   'OutboundLeg': {'CarrierIds': [870],\n",
       "    'OriginId': 65368,\n",
       "    'DestinationId': 60987,\n",
       "    'DepartureDate': '2021-12-01T00:00:00'},\n",
       "   'QuoteDateTime': '2021-10-19T19:48:00'}],\n",
       " 'Carriers': [{'CarrierId': 851, 'Name': 'Alaska Airlines'},\n",
       "  {'CarrierId': 870, 'Name': 'jetBlue'}],\n",
       " 'Places': [{'Name': 'New York John F. Kennedy',\n",
       "   'Type': 'Station',\n",
       "   'PlaceId': 60987,\n",
       "   'IataCode': 'JFK',\n",
       "   'SkyscannerCode': 'JFK',\n",
       "   'CityName': 'New York',\n",
       "   'CityId': 'NYCA',\n",
       "   'CountryName': 'United States'},\n",
       "  {'Name': 'Los Angeles International',\n",
       "   'Type': 'Station',\n",
       "   'PlaceId': 65368,\n",
       "   'IataCode': 'LAX',\n",
       "   'SkyscannerCode': 'LAX',\n",
       "   'CityName': 'Los Angeles',\n",
       "   'CityId': 'LAXA',\n",
       "   'CountryName': 'United States'}],\n",
       " 'Currencies': [{'Code': 'USD',\n",
       "   'Symbol': '$',\n",
       "   'ThousandsSeparator': ',',\n",
       "   'DecimalSeparator': '.',\n",
       "   'SymbolOnLeft': True,\n",
       "   'SpaceBetweenAmountAndSymbol': False,\n",
       "   'RoundingCoefficient': 0,\n",
       "   'DecimalDigits': 2}]}"
      ]
     },
     "execution_count": 11,
     "metadata": {},
     "output_type": "execute_result"
    }
   ],
   "source": [
    "# Make an API request from skyscanner\n",
    "\n",
    "response = skyscanner_api(\n",
    "    market_country, \n",
    "    departure_date, \n",
    "    return_date, \n",
    "    departure_airport, \n",
    "    destination_airport, \n",
    "    locale, \n",
    "    currency\n",
    ")\n",
    "\n",
    "response"
   ]
  },
  {
   "cell_type": "code",
   "execution_count": 72,
   "metadata": {},
   "outputs": [],
   "source": [
    "# Extract values for itinerary into variables\n",
    "\n",
    "\n",
    "# Create loop that stores all quotes provided by the API\n",
    "\n",
    "for quote in range(len(response['Quotes'])):\n",
    "\n",
    "    if quote == 0:\n",
    "\n",
    "        flight_price = [response['Quotes'][quote]['MinPrice']]\n",
    "        airline = [response['Carriers'][quote]['Name']]\n",
    "        departure_date = response['Quotes'][quote]['OutboundLeg']['DepartureDate']\n",
    "        departure_airport = response['Places'][0]['Name']\n",
    "        departure_airport_code = response['Places'][0]['IataCode']\n",
    "        arrival_airport = response['Places'][1]['Name']\n",
    "        arrival_airport_code = response['Places'][1]['IataCode']\n",
    "\n",
    "    else:\n",
    "        new_flight =response['Quotes'][quote]['MinPrice']\n",
    "        new_airline = response['Carriers'][quote]['Name']\n",
    "        flight_price.append(new_flight)\n",
    "        airline.append(new_airline)\n"
   ]
  },
  {
   "cell_type": "code",
   "execution_count": 75,
   "metadata": {},
   "outputs": [
    {
     "name": "stdout",
     "output_type": "stream",
     "text": [
      "Here are some flight options we have found:\n",
      "----------------------------------------------------------\n",
      "Option 1:\n",
      "Alaska Airlines for $99, leaving on 2021-12-01T00:00:00\n",
      "Departing from New York John F. Kennedy, JFK\n",
      "Arriving at Los Angeles International, LAX\n",
      " \n",
      "Option 2:\n",
      "jetBlue for $128, leaving on 2021-12-01T00:00:00\n",
      "Departing from New York John F. Kennedy, JFK\n",
      "Arriving at Los Angeles International, LAX\n",
      " \n"
     ]
    }
   ],
   "source": [
    "# Print itinerary quote(s)\n",
    "\n",
    "if len(response['Quotes']) == 1:\n",
    "    print(f\"Here's the cheapest flight information we have found:\")\n",
    "    print(f\"----------------------------------------------------------\")\n",
    "    print(f\"{airline} for ${flight_price}, leaving on {departure_date}\")\n",
    "    print(f\"Departing from {departure_airport}, {departure_airport_code}\")\n",
    "    print(f\"Arriving at {arrival_airport}, {arrival_airport_code}\")\n",
    "\n",
    "elif len(response['Quotes']) > 1:\n",
    "    print(f\"Here are some flight options we have found:\")\n",
    "    print(f\"----------------------------------------------------------\")\n",
    "\n",
    "    for quote in range(len(response['Quotes'])):\n",
    "        print(f\"Option {quote + 1 }:\")\n",
    "        print(f\"{airline[quote]} for ${flight_price[quote]}, leaving on {departure_date}\")\n",
    "        print(f\"Departing from {departure_airport}, {departure_airport_code}\")\n",
    "        print(f\"Arriving at {arrival_airport}, {arrival_airport_code}\")\n",
    "        print(f\" \")\n",
    "\n",
    "\n",
    "\n"
   ]
  },
  {
   "cell_type": "code",
   "execution_count": null,
   "metadata": {},
   "outputs": [],
   "source": []
  }
 ],
 "metadata": {
  "interpreter": {
   "hash": "1b96bea370aa25765d77d0a7c5b93f2dc962ef269c95db79ebc3fe3f05623299"
  },
  "kernelspec": {
   "display_name": "Python 3.8.8 64-bit ('FinTech': conda)",
   "name": "python3"
  },
  "language_info": {
   "codemirror_mode": {
    "name": "ipython",
    "version": 3
   },
   "file_extension": ".py",
   "mimetype": "text/x-python",
   "name": "python",
   "nbconvert_exporter": "python",
   "pygments_lexer": "ipython3",
   "version": "3.8.8"
  },
  "orig_nbformat": 4
 },
 "nbformat": 4,
 "nbformat_minor": 2
}

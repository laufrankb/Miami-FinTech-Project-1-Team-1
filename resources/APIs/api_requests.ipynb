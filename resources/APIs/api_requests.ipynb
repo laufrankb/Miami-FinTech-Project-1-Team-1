{
 "cells": [
  {
   "cell_type": "markdown",
   "metadata": {},
   "source": [
    "# SKYSCANNER API"
   ]
  },
  {
   "cell_type": "code",
   "execution_count": 1,
   "metadata": {},
   "outputs": [],
   "source": [
    "# Make necessary imports\n",
    "\n",
    "import json\n",
    "from skyscanner_request import skyscanner_api  # connects to the 'skyscanner_request.py' function file"
   ]
  },
  {
   "cell_type": "code",
   "execution_count": 2,
   "metadata": {},
   "outputs": [],
   "source": [
    "# Set input variables for skyscanner API request\n",
    "\n",
    "market_country = \"US\"\n",
    "departure_date = \"2021-12-01\"\n",
    "return_date = \"2022-01-15\"\n",
    "departure_airport = \"LAX\"\n",
    "destination_airport = \"JFK\"\n",
    "locale = \"en-US\"\n",
    "currency = \"USD\""
   ]
  },
  {
   "cell_type": "code",
   "execution_count": 7,
   "metadata": {},
   "outputs": [
    {
     "data": {
      "text/plain": [
       "{'errors': ['path param origin  is an invalid origin']}"
      ]
     },
     "execution_count": 7,
     "metadata": {},
     "output_type": "execute_result"
    }
   ],
   "source": [
    "# Make an API request from skyscanner\n",
    "\n",
    "response = skyscanner_api(\n",
    "    market_country, \n",
    "    departure_date, \n",
    "    return_date, \n",
    "    departure_airport, \n",
    "    destination_airport, \n",
    "    locale, \n",
    "    currency\n",
    ")\n",
    "\n",
    "response"
   ]
  },
  {
   "cell_type": "code",
   "execution_count": 8,
   "metadata": {},
   "outputs": [
    {
     "ename": "KeyError",
     "evalue": "'Quotes'",
     "output_type": "error",
     "traceback": [
      "\u001b[1;31m---------------------------------------------------------------------------\u001b[0m",
      "\u001b[1;31mKeyError\u001b[0m                                  Traceback (most recent call last)",
      "\u001b[1;32m~\\AppData\\Local\\Temp/ipykernel_48084/2513090936.py\u001b[0m in \u001b[0;36m<module>\u001b[1;34m\u001b[0m\n\u001b[0;32m      1\u001b[0m \u001b[1;31m# Extract values for itinerary into variables\u001b[0m\u001b[1;33m\u001b[0m\u001b[1;33m\u001b[0m\u001b[1;33m\u001b[0m\u001b[0m\n\u001b[0;32m      2\u001b[0m \u001b[1;33m\u001b[0m\u001b[0m\n\u001b[1;32m----> 3\u001b[1;33m \u001b[0mflight_price\u001b[0m \u001b[1;33m=\u001b[0m \u001b[0mresponse\u001b[0m\u001b[1;33m[\u001b[0m\u001b[1;34m'Quotes'\u001b[0m\u001b[1;33m]\u001b[0m\u001b[1;33m[\u001b[0m\u001b[1;36m0\u001b[0m\u001b[1;33m]\u001b[0m\u001b[1;33m[\u001b[0m\u001b[1;34m'MinPrice'\u001b[0m\u001b[1;33m]\u001b[0m\u001b[1;33m\u001b[0m\u001b[1;33m\u001b[0m\u001b[0m\n\u001b[0m\u001b[0;32m      4\u001b[0m \u001b[0mairline\u001b[0m \u001b[1;33m=\u001b[0m \u001b[0mresponse\u001b[0m\u001b[1;33m[\u001b[0m\u001b[1;34m'Carriers'\u001b[0m\u001b[1;33m]\u001b[0m\u001b[1;33m[\u001b[0m\u001b[1;36m0\u001b[0m\u001b[1;33m]\u001b[0m\u001b[1;33m[\u001b[0m\u001b[1;34m'Name'\u001b[0m\u001b[1;33m]\u001b[0m\u001b[1;33m\u001b[0m\u001b[1;33m\u001b[0m\u001b[0m\n\u001b[0;32m      5\u001b[0m \u001b[0mdeparture\u001b[0m \u001b[1;33m=\u001b[0m \u001b[0mresponse\u001b[0m\u001b[1;33m[\u001b[0m\u001b[1;34m'Quotes'\u001b[0m\u001b[1;33m]\u001b[0m\u001b[1;33m[\u001b[0m\u001b[1;36m0\u001b[0m\u001b[1;33m]\u001b[0m\u001b[1;33m[\u001b[0m\u001b[1;34m'OutboundLeg'\u001b[0m\u001b[1;33m]\u001b[0m\u001b[1;33m[\u001b[0m\u001b[1;34m'DepartureDate'\u001b[0m\u001b[1;33m]\u001b[0m\u001b[1;33m\u001b[0m\u001b[1;33m\u001b[0m\u001b[0m\n",
      "\u001b[1;31mKeyError\u001b[0m: 'Quotes'"
     ]
    }
   ],
   "source": [
    "# Extract values for itinerary into variables\n",
    "\n",
    "flight_price = response['Quotes'][0]['MinPrice']\n",
    "airline = response['Carriers'][0]['Name']\n",
    "departure = response['Quotes'][0]['OutboundLeg']['DepartureDate']\n",
    "departure_airport = response['Places'][0]['Name']\n",
    "departure_airport_code = response['Places'][0]['IataCode']\n",
    "arrival_airport = response['Places'][1]['Name']\n",
    "arrival_airport_code = response['Places'][1]['IataCode']\n"
   ]
  },
  {
   "cell_type": "code",
   "execution_count": 5,
   "metadata": {},
   "outputs": [
    {
     "name": "stdout",
     "output_type": "stream",
     "text": [
      "Here's the cheapest flight information we have found:\n",
      "----------------------------------------------------------\n",
      "Alaska Airlines for $99, leaving on 2021-12-01T00:00:00\n",
      "Departing from New York John F. Kennedy, JFK\n",
      "Arriving at Los Angeles International, LAX\n"
     ]
    }
   ],
   "source": [
    "# Print itinerary quote\n",
    "\n",
    "print(f\"Here's the cheapest flight information we have found:\")\n",
    "print(f\"----------------------------------------------------------\")\n",
    "print(f\"{airline} for ${flight_price}, leaving on {departure}\")\n",
    "print(f\"Departing from {departure_airport}, {departure_airport_code}\")\n",
    "print(f\"Arriving at {arrival_airport}, {arrival_airport_code}\")"
   ]
  },
  {
   "cell_type": "code",
   "execution_count": null,
   "metadata": {},
   "outputs": [],
   "source": []
  }
 ],
 "metadata": {
  "interpreter": {
   "hash": "1b96bea370aa25765d77d0a7c5b93f2dc962ef269c95db79ebc3fe3f05623299"
  },
  "kernelspec": {
   "display_name": "Python 3.8.8 64-bit ('FinTech': conda)",
   "name": "python3"
  },
  "language_info": {
   "codemirror_mode": {
    "name": "ipython",
    "version": 3
   },
   "file_extension": ".py",
   "mimetype": "text/x-python",
   "name": "python",
   "nbconvert_exporter": "python",
   "pygments_lexer": "ipython3",
   "version": "3.8.8"
  },
  "orig_nbformat": 4
 },
 "nbformat": 4,
 "nbformat_minor": 2
}

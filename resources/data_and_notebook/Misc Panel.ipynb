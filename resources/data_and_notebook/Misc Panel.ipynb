{
 "cells": [
  {
   "cell_type": "code",
   "execution_count": 18,
   "id": "d3667bcb",
   "metadata": {},
   "outputs": [],
   "source": [
    "# imports\n",
    "import panel as pn\n",
    "pn.extension('plotly')\n",
    "import plotly.express as px\n",
    "import pandas as pd\n",
    "import hvplot.pandas\n",
    "import matplotlib.pyplot as plt\n",
    "import os\n",
    "from panel.interact import interact\n",
    "from panel import widgets\n",
    "from pathlib import Path\n",
    "from dotenv import load_dotenv"
   ]
  },
  {
   "cell_type": "code",
   "execution_count": 19,
   "id": "f880566e",
   "metadata": {},
   "outputs": [],
   "source": [
    "# Read the Mapbox API key\n",
    "load_dotenv()\n",
    "map_box_api = os.getenv(\"mapbox\")\n",
    "px.set_mapbox_access_token(map_box_api)"
   ]
  },
  {
   "cell_type": "markdown",
   "id": "c0097c8f",
   "metadata": {},
   "source": [
    "# Import Data"
   ]
  },
  {
   "cell_type": "code",
   "execution_count": 20,
   "id": "b45c279d",
   "metadata": {},
   "outputs": [],
   "source": [
    "# Import the necessary CSVs to Pandas DataFrames\n",
    "\n",
    "file_path = Path(\"top_10_most_travelled_to_countries.csv\")\n",
    "top_10_most_travelled_to_countries = pd.read_csv(file_path)\n",
    "\n",
    "file_path = Path(\"mean_arrivals.csv\")\n",
    "mean_arrivals = pd.read_csv(file_path, index_col=\"Year\")\n",
    "\n",
    "file_path = Path(\"new_intl_tourism_flights_arrival.csv\")\n",
    "new_intl_tourism_flights_arrival = pd.read_csv(file_path)\n"
   ]
  },
  {
   "cell_type": "markdown",
   "id": "2aea5661",
   "metadata": {},
   "source": [
    "# Panel Viz"
   ]
  },
  {
   "cell_type": "code",
   "execution_count": 24,
   "id": "0e709fe5",
   "metadata": {},
   "outputs": [],
   "source": [
    "# Define Panel Visualization Functions\n",
    "def get_top_10_travelled_countries():\n",
    "    \"\"\"The Top 10 Most Travelled to Countries Worldwide.\"\"\"\n",
    "    \n",
    "    top_10_most_travelled_to_countries_plot = px.bar(\n",
    "        top_10_most_travelled_to_countries,\n",
    "        x=\"Country Name\",\n",
    "        y=\"Number of Arrivals\",\n",
    "        range_y=[10000000, 250000000],\n",
    "        title=\"Top 10 Most Travelled to Countries\",\n",
    "    )\n",
    "    return top_10_most_travelled_to_countries_plot\n",
    "    \n",
    "\n",
    "\n",
    "def get_average_arrivals():\n",
    "    \"\"\"Average Arrivals.\"\"\"\n",
    "    \n",
    "    average_number_of_arrivals_hvplot = mean_arrivals.hvplot(\n",
    "        x=\"Year\",\n",
    "        y=\"Number of Arrivals\",\n",
    "        kind=\"line\",\n",
    "        ylabel=\"Average Number of Arrivals Per Year\",\n",
    "        groupby=\"Country Name\",\n",
    "        color=\"purple\",\n",
    "        width=1000,\n",
    "        height=800\n",
    "    )\n",
    "    return average_number_of_arrivals_hvplot\n",
    "\n",
    "\n",
    "\n",
    "def get_number_arrivals_per_year():\n",
    "    \"\"\"Numer of Arrivals Each Year.\"\"\"\n",
    "    \n",
    "    number_of_arrivals_per_year = px.scatter_geo(\n",
    "        new_intl_tourism_flights_arrival, \n",
    "        lat=\"Latitude\", \n",
    "        lon=\"Longitude\", \n",
    "        color=\"Year\",\n",
    "        hover_name=\"Country Name\", \n",
    "        size=\"Number of Arrivals\",\n",
    "        animation_frame=\"Year\",\n",
    "        projection=\"natural earth\",\n",
    "        width=1000,\n",
    "        height=800\n",
    "    )\n",
    "    return number_of_arrivals_per_year\n",
    "\n",
    "\n"
   ]
  },
  {
   "cell_type": "code",
   "execution_count": 25,
   "id": "1984029a",
   "metadata": {},
   "outputs": [],
   "source": [
    "# Create The Dashboard\n",
    "\n",
    "intro = pn.pane.Markdown(\n",
    "    \"\"\"\n",
    "    # Welcome to our one of a kind Travel Experience\n",
    "\n",
    "    ## Adventure Awaits You\n",
    "\n",
    "    ### Let's Travel!\n",
    "  \n",
    "    \"\"\"\n",
    ")\n",
    "\n",
    "#Tabs with data \n",
    "tab_1 = pn.Row(\n",
    "    \"# The Top 10 Most Travelled to Countries Worldwide.\",\n",
    "    get_top_10_travelled_countries()\n",
    ")\n",
    "\n",
    "tab_2 = pn.Row(\n",
    "    \"# Average Arrivals.\",\n",
    "    get_average_arrivals()\n",
    ")\n",
    "\n",
    "tab_3 = pn.Column(\n",
    "    \"# Number of Arrivals Each Year\",\n",
    "    get_number_arrivals_per_year()\n",
    ")\n",
    "\n",
    "\n",
    "\n",
    "# Create dashboard Tabs\n",
    "travel_dashboard = pn.Tabs(\n",
    "    (\"Let's Travel\",intro),\n",
    "    (\"Top 10 Most Travelled to Countries\",tab_1),\n",
    "    (\"Average Arrivals\", tab_2),\n",
    "    (\"Number of Arrivals\",tab_3)\n",
    ")"
   ]
  },
  {
   "cell_type": "code",
   "execution_count": 26,
   "id": "b3b83a84",
   "metadata": {},
   "outputs": [
    {
     "data": {},
     "metadata": {},
     "output_type": "display_data"
    },
    {
     "data": {},
     "metadata": {},
     "output_type": "display_data"
    },
    {
     "data": {
      "application/vnd.holoviews_exec.v0+json": "",
      "text/html": [
       "<div id='1258'>\n",
       "\n",
       "\n",
       "\n",
       "\n",
       "\n",
       "  <div class=\"bk-root\" id=\"e14d4990-dada-437e-970d-2198fad23efd\" data-root-id=\"1258\"></div>\n",
       "</div>\n",
       "<script type=\"application/javascript\">(function(root) {\n",
       "  function embed_document(root) {\n",
       "    var docs_json = {\"eb42ff72-07e2-4657-bab0-679bcbfcb5eb\":{\"defs\":[{\"extends\":null,\"module\":null,\"name\":\"ReactiveHTML1\",\"overrides\":[],\"properties\":[]},{\"extends\":null,\"module\":null,\"name\":\"FlexBox1\",\"overrides\":[],\"properties\":[{\"default\":\"flex-start\",\"kind\":null,\"name\":\"align_content\"},{\"default\":\"flex-start\",\"kind\":null,\"name\":\"align_items\"},{\"default\":\"row\",\"kind\":null,\"name\":\"flex_direction\"},{\"default\":\"wrap\",\"kind\":null,\"name\":\"flex_wrap\"},{\"default\":\"flex-start\",\"kind\":null,\"name\":\"justify_content\"}]},{\"extends\":null,\"module\":null,\"name\":\"TemplateActions1\",\"overrides\":[],\"properties\":[{\"default\":0,\"kind\":null,\"name\":\"open_modal\"},{\"default\":0,\"kind\":null,\"name\":\"close_modal\"}]},{\"extends\":null,\"module\":null,\"name\":\"MaterialTemplateActions1\",\"overrides\":[],\"properties\":[{\"default\":0,\"kind\":null,\"name\":\"open_modal\"},{\"default\":0,\"kind\":null,\"name\":\"close_modal\"}]}],\"roots\":{\"references\":[{\"attributes\":{\"axis\":{\"id\":\"1285\"},\"dimension\":1,\"grid_line_color\":null,\"ticker\":null},\"id\":\"1288\",\"type\":\"Grid\"},{\"attributes\":{\"js_property_callbacks\":{\"change:active\":[{\"id\":\"1437\"},{\"id\":\"1454\"}]},\"margin\":[0,0,0,0],\"tabs\":[{\"id\":\"1260\"},{\"id\":\"1265\"},{\"id\":\"1347\"},{\"id\":\"1352\"}]},\"id\":\"1258\",\"type\":\"Tabs\"},{\"attributes\":{\"below\":[{\"id\":\"1281\"}],\"center\":[{\"id\":\"1284\"},{\"id\":\"1288\"}],\"height\":800,\"left\":[{\"id\":\"1285\"}],\"margin\":[5,5,5,5],\"min_border_bottom\":10,\"min_border_left\":10,\"min_border_right\":10,\"min_border_top\":10,\"renderers\":[{\"id\":\"1308\"}],\"sizing_mode\":\"fixed\",\"title\":{\"id\":\"1273\"},\"toolbar\":{\"id\":\"1295\"},\"width\":1000,\"x_range\":{\"id\":\"1269\"},\"x_scale\":{\"id\":\"1277\"},\"y_range\":{\"id\":\"1270\"},\"y_scale\":{\"id\":\"1279\"}},\"id\":\"1272\",\"subtype\":\"Figure\",\"type\":\"Plot\"},{\"attributes\":{\"axis\":{\"id\":\"1281\"},\"grid_line_color\":null,\"ticker\":null},\"id\":\"1284\",\"type\":\"Grid\"},{\"attributes\":{\"data\":[{\"geo\":\"geo\",\"hovertemplate\":\"<b>%{hovertext}</b><br><br>Year=%{marker.color}<br>Number of Arrivals=%{marker.size}<br>Latitude=%{lat}<br>Longitude=%{lon}<extra></extra>\",\"legendgroup\":\"\",\"marker\":{\"coloraxis\":\"coloraxis\",\"sizemode\":\"area\",\"sizeref\":529995.0,\"symbol\":\"circle\"},\"mode\":\"markers\",\"name\":\"\",\"showlegend\":false,\"type\":\"scattergeo\"}],\"data_sources\":[{\"id\":\"1350\"}],\"layout\":{\"coloraxis\":{\"colorbar\":{\"title\":{\"text\":\"Year\"}},\"colorscale\":[[0.0,\"#0d0887\"],[0.1111111111111111,\"#46039f\"],[0.2222222222222222,\"#7201a8\"],[0.3333333333333333,\"#9c179e\"],[0.4444444444444444,\"#bd3786\"],[0.5555555555555556,\"#d8576b\"],[0.6666666666666666,\"#ed7953\"],[0.7777777777777778,\"#fb9f3a\"],[0.8888888888888888,\"#fdca26\"],[1.0,\"#f0f921\"]]},\"geo\":{\"center\":{},\"domain\":{\"x\":[0.0,1.0],\"y\":[0.0,1.0]},\"projection\":{\"type\":\"natural earth\"}},\"height\":800,\"legend\":{\"itemsizing\":\"constant\",\"tracegroupgap\":0},\"margin\":{\"t\":60},\"sliders\":[{\"active\":0,\"currentvalue\":{\"prefix\":\"Year=\"},\"len\":0.9,\"pad\":{\"b\":10,\"t\":60},\"steps\":[{\"args\":[[\"1995\"],{\"frame\":{\"duration\":0,\"redraw\":true},\"fromcurrent\":true,\"mode\":\"immediate\",\"transition\":{\"duration\":0,\"easing\":\"linear\"}}],\"label\":\"1995\",\"method\":\"animate\"},{\"args\":[[\"1996\"],{\"frame\":{\"duration\":0,\"redraw\":true},\"fromcurrent\":true,\"mode\":\"immediate\",\"transition\":{\"duration\":0,\"easing\":\"linear\"}}],\"label\":\"1996\",\"method\":\"animate\"},{\"args\":[[\"1997\"],{\"frame\":{\"duration\":0,\"redraw\":true},\"fromcurrent\":true,\"mode\":\"immediate\",\"transition\":{\"duration\":0,\"easing\":\"linear\"}}],\"label\":\"1997\",\"method\":\"animate\"},{\"args\":[[\"1998\"],{\"frame\":{\"duration\":0,\"redraw\":true},\"fromcurrent\":true,\"mode\":\"immediate\",\"transition\":{\"duration\":0,\"easing\":\"linear\"}}],\"label\":\"1998\",\"method\":\"animate\"},{\"args\":[[\"1999\"],{\"frame\":{\"duration\":0,\"redraw\":true},\"fromcurrent\":true,\"mode\":\"immediate\",\"transition\":{\"duration\":0,\"easing\":\"linear\"}}],\"label\":\"1999\",\"method\":\"animate\"},{\"args\":[[\"2000\"],{\"frame\":{\"duration\":0,\"redraw\":true},\"fromcurrent\":true,\"mode\":\"immediate\",\"transition\":{\"duration\":0,\"easing\":\"linear\"}}],\"label\":\"2000\",\"method\":\"animate\"},{\"args\":[[\"2001\"],{\"frame\":{\"duration\":0,\"redraw\":true},\"fromcurrent\":true,\"mode\":\"immediate\",\"transition\":{\"duration\":0,\"easing\":\"linear\"}}],\"label\":\"2001\",\"method\":\"animate\"},{\"args\":[[\"2002\"],{\"frame\":{\"duration\":0,\"redraw\":true},\"fromcurrent\":true,\"mode\":\"immediate\",\"transition\":{\"duration\":0,\"easing\":\"linear\"}}],\"label\":\"2002\",\"method\":\"animate\"},{\"args\":[[\"2003\"],{\"frame\":{\"duration\":0,\"redraw\":true},\"fromcurrent\":true,\"mode\":\"immediate\",\"transition\":{\"duration\":0,\"easing\":\"linear\"}}],\"label\":\"2003\",\"method\":\"animate\"},{\"args\":[[\"2004\"],{\"frame\":{\"duration\":0,\"redraw\":true},\"fromcurrent\":true,\"mode\":\"immediate\",\"transition\":{\"duration\":0,\"easing\":\"linear\"}}],\"label\":\"2004\",\"method\":\"animate\"},{\"args\":[[\"2005\"],{\"frame\":{\"duration\":0,\"redraw\":true},\"fromcurrent\":true,\"mode\":\"immediate\",\"transition\":{\"duration\":0,\"easing\":\"linear\"}}],\"label\":\"2005\",\"method\":\"animate\"},{\"args\":[[\"2006\"],{\"frame\":{\"duration\":0,\"redraw\":true},\"fromcurrent\":true,\"mode\":\"immediate\",\"transition\":{\"duration\":0,\"easing\":\"linear\"}}],\"label\":\"2006\",\"method\":\"animate\"},{\"args\":[[\"2007\"],{\"frame\":{\"duration\":0,\"redraw\":true},\"fromcurrent\":true,\"mode\":\"immediate\",\"transition\":{\"duration\":0,\"easing\":\"linear\"}}],\"label\":\"2007\",\"method\":\"animate\"},{\"args\":[[\"2008\"],{\"frame\":{\"duration\":0,\"redraw\":true},\"fromcurrent\":true,\"mode\":\"immediate\",\"transition\":{\"duration\":0,\"easing\":\"linear\"}}],\"label\":\"2008\",\"method\":\"animate\"},{\"args\":[[\"2009\"],{\"frame\":{\"duration\":0,\"redraw\":true},\"fromcurrent\":true,\"mode\":\"immediate\",\"transition\":{\"duration\":0,\"easing\":\"linear\"}}],\"label\":\"2009\",\"method\":\"animate\"},{\"args\":[[\"2010\"],{\"frame\":{\"duration\":0,\"redraw\":true},\"fromcurrent\":true,\"mode\":\"immediate\",\"transition\":{\"duration\":0,\"easing\":\"linear\"}}],\"label\":\"2010\",\"method\":\"animate\"},{\"args\":[[\"2011\"],{\"frame\":{\"duration\":0,\"redraw\":true},\"fromcurrent\":true,\"mode\":\"immediate\",\"transition\":{\"duration\":0,\"easing\":\"linear\"}}],\"label\":\"2011\",\"method\":\"animate\"},{\"args\":[[\"2012\"],{\"frame\":{\"duration\":0,\"redraw\":true},\"fromcurrent\":true,\"mode\":\"immediate\",\"transition\":{\"duration\":0,\"easing\":\"linear\"}}],\"label\":\"2012\",\"method\":\"animate\"},{\"args\":[[\"2013\"],{\"frame\":{\"duration\":0,\"redraw\":true},\"fromcurrent\":true,\"mode\":\"immediate\",\"transition\":{\"duration\":0,\"easing\":\"linear\"}}],\"label\":\"2013\",\"method\":\"animate\"},{\"args\":[[\"2014\"],{\"frame\":{\"duration\":0,\"redraw\":true},\"fromcurrent\":true,\"mode\":\"immediate\",\"transition\":{\"duration\":0,\"easing\":\"linear\"}}],\"label\":\"2014\",\"method\":\"animate\"},{\"args\":[[\"2015\"],{\"frame\":{\"duration\":0,\"redraw\":true},\"fromcurrent\":true,\"mode\":\"immediate\",\"transition\":{\"duration\":0,\"easing\":\"linear\"}}],\"label\":\"2015\",\"method\":\"animate\"},{\"args\":[[\"2016\"],{\"frame\":{\"duration\":0,\"redraw\":true},\"fromcurrent\":true,\"mode\":\"immediate\",\"transition\":{\"duration\":0,\"easing\":\"linear\"}}],\"label\":\"2016\",\"method\":\"animate\"},{\"args\":[[\"2017\"],{\"frame\":{\"duration\":0,\"redraw\":true},\"fromcurrent\":true,\"mode\":\"immediate\",\"transition\":{\"duration\":0,\"easing\":\"linear\"}}],\"label\":\"2017\",\"method\":\"animate\"},{\"args\":[[\"2018\"],{\"frame\":{\"duration\":0,\"redraw\":true},\"fromcurrent\":true,\"mode\":\"immediate\",\"transition\":{\"duration\":0,\"easing\":\"linear\"}}],\"label\":\"2018\",\"method\":\"animate\"},{\"args\":[[\"2019\"],{\"frame\":{\"duration\":0,\"redraw\":true},\"fromcurrent\":true,\"mode\":\"immediate\",\"transition\":{\"duration\":0,\"easing\":\"linear\"}}],\"label\":\"2019\",\"method\":\"animate\"}],\"x\":0.1,\"xanchor\":\"left\",\"y\":0,\"yanchor\":\"top\"}],\"template\":{\"data\":{\"bar\":[{\"error_x\":{\"color\":\"#2a3f5f\"},\"error_y\":{\"color\":\"#2a3f5f\"},\"marker\":{\"line\":{\"color\":\"#E5ECF6\",\"width\":0.5},\"pattern\":{\"fillmode\":\"overlay\",\"size\":10,\"solidity\":0.2}},\"type\":\"bar\"}],\"barpolar\":[{\"marker\":{\"line\":{\"color\":\"#E5ECF6\",\"width\":0.5},\"pattern\":{\"fillmode\":\"overlay\",\"size\":10,\"solidity\":0.2}},\"type\":\"barpolar\"}],\"carpet\":[{\"aaxis\":{\"endlinecolor\":\"#2a3f5f\",\"gridcolor\":\"white\",\"linecolor\":\"white\",\"minorgridcolor\":\"white\",\"startlinecolor\":\"#2a3f5f\"},\"baxis\":{\"endlinecolor\":\"#2a3f5f\",\"gridcolor\":\"white\",\"linecolor\":\"white\",\"minorgridcolor\":\"white\",\"startlinecolor\":\"#2a3f5f\"},\"type\":\"carpet\"}],\"choropleth\":[{\"colorbar\":{\"outlinewidth\":0,\"ticks\":\"\"},\"type\":\"choropleth\"}],\"contour\":[{\"colorbar\":{\"outlinewidth\":0,\"ticks\":\"\"},\"colorscale\":[[0.0,\"#0d0887\"],[0.1111111111111111,\"#46039f\"],[0.2222222222222222,\"#7201a8\"],[0.3333333333333333,\"#9c179e\"],[0.4444444444444444,\"#bd3786\"],[0.5555555555555556,\"#d8576b\"],[0.6666666666666666,\"#ed7953\"],[0.7777777777777778,\"#fb9f3a\"],[0.8888888888888888,\"#fdca26\"],[1.0,\"#f0f921\"]],\"type\":\"contour\"}],\"contourcarpet\":[{\"colorbar\":{\"outlinewidth\":0,\"ticks\":\"\"},\"type\":\"contourcarpet\"}],\"heatmap\":[{\"colorbar\":{\"outlinewidth\":0,\"ticks\":\"\"},\"colorscale\":[[0.0,\"#0d0887\"],[0.1111111111111111,\"#46039f\"],[0.2222222222222222,\"#7201a8\"],[0.3333333333333333,\"#9c179e\"],[0.4444444444444444,\"#bd3786\"],[0.5555555555555556,\"#d8576b\"],[0.6666666666666666,\"#ed7953\"],[0.7777777777777778,\"#fb9f3a\"],[0.8888888888888888,\"#fdca26\"],[1.0,\"#f0f921\"]],\"type\":\"heatmap\"}],\"heatmapgl\":[{\"colorbar\":{\"outlinewidth\":0,\"ticks\":\"\"},\"colorscale\":[[0.0,\"#0d0887\"],[0.1111111111111111,\"#46039f\"],[0.2222222222222222,\"#7201a8\"],[0.3333333333333333,\"#9c179e\"],[0.4444444444444444,\"#bd3786\"],[0.5555555555555556,\"#d8576b\"],[0.6666666666666666,\"#ed7953\"],[0.7777777777777778,\"#fb9f3a\"],[0.8888888888888888,\"#fdca26\"],[1.0,\"#f0f921\"]],\"type\":\"heatmapgl\"}],\"histogram\":[{\"marker\":{\"pattern\":{\"fillmode\":\"overlay\",\"size\":10,\"solidity\":0.2}},\"type\":\"histogram\"}],\"histogram2d\":[{\"colorbar\":{\"outlinewidth\":0,\"ticks\":\"\"},\"colorscale\":[[0.0,\"#0d0887\"],[0.1111111111111111,\"#46039f\"],[0.2222222222222222,\"#7201a8\"],[0.3333333333333333,\"#9c179e\"],[0.4444444444444444,\"#bd3786\"],[0.5555555555555556,\"#d8576b\"],[0.6666666666666666,\"#ed7953\"],[0.7777777777777778,\"#fb9f3a\"],[0.8888888888888888,\"#fdca26\"],[1.0,\"#f0f921\"]],\"type\":\"histogram2d\"}],\"histogram2dcontour\":[{\"colorbar\":{\"outlinewidth\":0,\"ticks\":\"\"},\"colorscale\":[[0.0,\"#0d0887\"],[0.1111111111111111,\"#46039f\"],[0.2222222222222222,\"#7201a8\"],[0.3333333333333333,\"#9c179e\"],[0.4444444444444444,\"#bd3786\"],[0.5555555555555556,\"#d8576b\"],[0.6666666666666666,\"#ed7953\"],[0.7777777777777778,\"#fb9f3a\"],[0.8888888888888888,\"#fdca26\"],[1.0,\"#f0f921\"]],\"type\":\"histogram2dcontour\"}],\"mesh3d\":[{\"colorbar\":{\"outlinewidth\":0,\"ticks\":\"\"},\"type\":\"mesh3d\"}],\"parcoords\":[{\"line\":{\"colorbar\":{\"outlinewidth\":0,\"ticks\":\"\"}},\"type\":\"parcoords\"}],\"pie\":[{\"automargin\":true,\"type\":\"pie\"}],\"scatter\":[{\"marker\":{\"colorbar\":{\"outlinewidth\":0,\"ticks\":\"\"}},\"type\":\"scatter\"}],\"scatter3d\":[{\"line\":{\"colorbar\":{\"outlinewidth\":0,\"ticks\":\"\"}},\"marker\":{\"colorbar\":{\"outlinewidth\":0,\"ticks\":\"\"}},\"type\":\"scatter3d\"}],\"scattercarpet\":[{\"marker\":{\"colorbar\":{\"outlinewidth\":0,\"ticks\":\"\"}},\"type\":\"scattercarpet\"}],\"scattergeo\":[{\"marker\":{\"colorbar\":{\"outlinewidth\":0,\"ticks\":\"\"}},\"type\":\"scattergeo\"}],\"scattergl\":[{\"marker\":{\"colorbar\":{\"outlinewidth\":0,\"ticks\":\"\"}},\"type\":\"scattergl\"}],\"scattermapbox\":[{\"marker\":{\"colorbar\":{\"outlinewidth\":0,\"ticks\":\"\"}},\"type\":\"scattermapbox\"}],\"scatterpolar\":[{\"marker\":{\"colorbar\":{\"outlinewidth\":0,\"ticks\":\"\"}},\"type\":\"scatterpolar\"}],\"scatterpolargl\":[{\"marker\":{\"colorbar\":{\"outlinewidth\":0,\"ticks\":\"\"}},\"type\":\"scatterpolargl\"}],\"scatterternary\":[{\"marker\":{\"colorbar\":{\"outlinewidth\":0,\"ticks\":\"\"}},\"type\":\"scatterternary\"}],\"surface\":[{\"colorbar\":{\"outlinewidth\":0,\"ticks\":\"\"},\"colorscale\":[[0.0,\"#0d0887\"],[0.1111111111111111,\"#46039f\"],[0.2222222222222222,\"#7201a8\"],[0.3333333333333333,\"#9c179e\"],[0.4444444444444444,\"#bd3786\"],[0.5555555555555556,\"#d8576b\"],[0.6666666666666666,\"#ed7953\"],[0.7777777777777778,\"#fb9f3a\"],[0.8888888888888888,\"#fdca26\"],[1.0,\"#f0f921\"]],\"type\":\"surface\"}],\"table\":[{\"cells\":{\"fill\":{\"color\":\"#EBF0F8\"},\"line\":{\"color\":\"white\"}},\"header\":{\"fill\":{\"color\":\"#C8D4E3\"},\"line\":{\"color\":\"white\"}},\"type\":\"table\"}]},\"layout\":{\"annotationdefaults\":{\"arrowcolor\":\"#2a3f5f\",\"arrowhead\":0,\"arrowwidth\":1},\"autotypenumbers\":\"strict\",\"coloraxis\":{\"colorbar\":{\"outlinewidth\":0,\"ticks\":\"\"}},\"colorscale\":{\"diverging\":[[0,\"#8e0152\"],[0.1,\"#c51b7d\"],[0.2,\"#de77ae\"],[0.3,\"#f1b6da\"],[0.4,\"#fde0ef\"],[0.5,\"#f7f7f7\"],[0.6,\"#e6f5d0\"],[0.7,\"#b8e186\"],[0.8,\"#7fbc41\"],[0.9,\"#4d9221\"],[1,\"#276419\"]],\"sequential\":[[0.0,\"#0d0887\"],[0.1111111111111111,\"#46039f\"],[0.2222222222222222,\"#7201a8\"],[0.3333333333333333,\"#9c179e\"],[0.4444444444444444,\"#bd3786\"],[0.5555555555555556,\"#d8576b\"],[0.6666666666666666,\"#ed7953\"],[0.7777777777777778,\"#fb9f3a\"],[0.8888888888888888,\"#fdca26\"],[1.0,\"#f0f921\"]],\"sequentialminus\":[[0.0,\"#0d0887\"],[0.1111111111111111,\"#46039f\"],[0.2222222222222222,\"#7201a8\"],[0.3333333333333333,\"#9c179e\"],[0.4444444444444444,\"#bd3786\"],[0.5555555555555556,\"#d8576b\"],[0.6666666666666666,\"#ed7953\"],[0.7777777777777778,\"#fb9f3a\"],[0.8888888888888888,\"#fdca26\"],[1.0,\"#f0f921\"]]},\"colorway\":[\"#636efa\",\"#EF553B\",\"#00cc96\",\"#ab63fa\",\"#FFA15A\",\"#19d3f3\",\"#FF6692\",\"#B6E880\",\"#FF97FF\",\"#FECB52\"],\"font\":{\"color\":\"#2a3f5f\"},\"geo\":{\"bgcolor\":\"white\",\"lakecolor\":\"white\",\"landcolor\":\"#E5ECF6\",\"showlakes\":true,\"showland\":true,\"subunitcolor\":\"white\"},\"hoverlabel\":{\"align\":\"left\"},\"hovermode\":\"closest\",\"mapbox\":{\"style\":\"light\"},\"paper_bgcolor\":\"white\",\"plot_bgcolor\":\"#E5ECF6\",\"polar\":{\"angularaxis\":{\"gridcolor\":\"white\",\"linecolor\":\"white\",\"ticks\":\"\"},\"bgcolor\":\"#E5ECF6\",\"radialaxis\":{\"gridcolor\":\"white\",\"linecolor\":\"white\",\"ticks\":\"\"}},\"scene\":{\"xaxis\":{\"backgroundcolor\":\"#E5ECF6\",\"gridcolor\":\"white\",\"gridwidth\":2,\"linecolor\":\"white\",\"showbackground\":true,\"ticks\":\"\",\"zerolinecolor\":\"white\"},\"yaxis\":{\"backgroundcolor\":\"#E5ECF6\",\"gridcolor\":\"white\",\"gridwidth\":2,\"linecolor\":\"white\",\"showbackground\":true,\"ticks\":\"\",\"zerolinecolor\":\"white\"},\"zaxis\":{\"backgroundcolor\":\"#E5ECF6\",\"gridcolor\":\"white\",\"gridwidth\":2,\"linecolor\":\"white\",\"showbackground\":true,\"ticks\":\"\",\"zerolinecolor\":\"white\"}},\"shapedefaults\":{\"line\":{\"color\":\"#2a3f5f\"}},\"ternary\":{\"aaxis\":{\"gridcolor\":\"white\",\"linecolor\":\"white\",\"ticks\":\"\"},\"baxis\":{\"gridcolor\":\"white\",\"linecolor\":\"white\",\"ticks\":\"\"},\"bgcolor\":\"#E5ECF6\",\"caxis\":{\"gridcolor\":\"white\",\"linecolor\":\"white\",\"ticks\":\"\"}},\"title\":{\"x\":0.05},\"xaxis\":{\"automargin\":true,\"gridcolor\":\"white\",\"linecolor\":\"white\",\"ticks\":\"\",\"title\":{\"standoff\":15},\"zerolinecolor\":\"white\",\"zerolinewidth\":2},\"yaxis\":{\"automargin\":true,\"gridcolor\":\"white\",\"linecolor\":\"white\",\"ticks\":\"\",\"title\":{\"standoff\":15},\"zerolinecolor\":\"white\",\"zerolinewidth\":2}}},\"updatemenus\":[{\"buttons\":[{\"args\":[null,{\"frame\":{\"duration\":500,\"redraw\":true},\"fromcurrent\":true,\"mode\":\"immediate\",\"transition\":{\"duration\":500,\"easing\":\"linear\"}}],\"label\":\"&#9654;\",\"method\":\"animate\"},{\"args\":[[null],{\"frame\":{\"duration\":0,\"redraw\":true},\"fromcurrent\":true,\"mode\":\"immediate\",\"transition\":{\"duration\":0,\"easing\":\"linear\"}}],\"label\":\"&#9724;\",\"method\":\"animate\"}],\"direction\":\"left\",\"pad\":{\"r\":10,\"t\":70},\"showactive\":false,\"type\":\"buttons\",\"x\":0.1,\"xanchor\":\"right\",\"y\":0,\"yanchor\":\"top\"}],\"width\":1000},\"margin\":[5,5,5,5],\"name\":\"Plotly01867\",\"viewport_update_throttle\":200,\"visible\":false},\"id\":\"1351\",\"type\":\"panel.models.plotly.PlotlyPlot\"},{\"attributes\":{\"children\":[{\"id\":\"1272\"},{\"id\":\"1343\"}],\"margin\":[0,0,0,0],\"name\":\"Row01856\"},\"id\":\"1268\",\"type\":\"Row\"},{\"attributes\":{},\"id\":\"1303\",\"type\":\"Selection\"},{\"attributes\":{\"args\":{\"model\":{\"id\":\"1264\"}},\"code\":\"model.visible = (cb_obj.active == 1);\",\"tags\":[\"plotly_tab_fix1264\"]},\"id\":\"1454\",\"type\":\"CustomJS\"},{\"attributes\":{\"end\":14375779.309600001,\"reset_end\":14375779.309600001,\"reset_start\":1606608.3543999998,\"start\":1606608.3543999998,\"tags\":[[[\"Number of Arrivals\",\"Number of Arrivals\",null]]]},\"id\":\"1270\",\"type\":\"Range1d\"},{\"attributes\":{},\"id\":\"1286\",\"type\":\"BasicTicker\"},{\"attributes\":{\"css_classes\":[\"markdown\"],\"margin\":[5,5,5,5],\"name\":\"Markdown01825\",\"text\":\"&lt;h1&gt;Welcome to our one of a kind Travel Experience&lt;/h1&gt;\\n&lt;h2&gt;Adventure Awaits You&lt;/h2&gt;\\n&lt;h3&gt;Let&amp;rsquo;s Travel!&lt;/h3&gt;\"},\"id\":\"1259\",\"type\":\"panel.models.markup.HTML\"},{\"attributes\":{},\"id\":\"1330\",\"type\":\"UnionRenderers\"},{\"attributes\":{\"margin\":[5,5,5,5],\"name\":\"VSpacer01862\",\"sizing_mode\":\"stretch_height\"},\"id\":\"1346\",\"type\":\"Spacer\"},{\"attributes\":{\"bottom_units\":\"screen\",\"fill_alpha\":0.5,\"fill_color\":\"lightgrey\",\"left_units\":\"screen\",\"level\":\"overlay\",\"line_alpha\":1.0,\"line_color\":\"black\",\"line_dash\":[4,4],\"line_width\":2,\"right_units\":\"screen\",\"syncable\":false,\"top_units\":\"screen\"},\"id\":\"1294\",\"type\":\"BoxAnnotation\"},{\"attributes\":{\"reload\":false},\"id\":\"1526\",\"type\":\"panel.models.location.Location\"},{\"attributes\":{},\"id\":\"1353\",\"type\":\"UnionRenderers\"},{\"attributes\":{\"callback\":null,\"renderers\":[{\"id\":\"1308\"}],\"tags\":[\"hv_created\"],\"tooltips\":[[\"Year\",\"@{Year}\"],[\"Number of Arrivals\",\"@{Number_of_Arrivals}\"]]},\"id\":\"1271\",\"type\":\"HoverTool\"},{\"attributes\":{},\"id\":\"1357\",\"type\":\"Selection\"},{\"attributes\":{\"axis_label\":\"Year\",\"formatter\":{\"id\":\"1311\"},\"major_label_policy\":{\"id\":\"1313\"},\"ticker\":{\"id\":\"1282\"}},\"id\":\"1281\",\"type\":\"LinearAxis\"},{\"attributes\":{\"active_multi\":null,\"tools\":[{\"id\":\"1271\"},{\"id\":\"1289\"},{\"id\":\"1290\"},{\"id\":\"1291\"},{\"id\":\"1292\"},{\"id\":\"1293\"}]},\"id\":\"1295\",\"type\":\"Toolbar\"},{\"attributes\":{\"line_alpha\":0.2,\"line_color\":\"purple\",\"line_width\":2,\"x\":{\"field\":\"Year\"},\"y\":{\"field\":\"Number of Arrivals\"}},\"id\":\"1307\",\"type\":\"Line\"},{\"attributes\":{\"children\":[{\"id\":\"1267\"},{\"id\":\"1268\"}],\"margin\":[0,0,0,0],\"name\":\"Row01864\"},\"id\":\"1266\",\"type\":\"Row\"},{\"attributes\":{\"children\":[{\"id\":\"1349\"},{\"id\":\"1351\"}],\"margin\":[0,0,0,0],\"name\":\"Column01869\"},\"id\":\"1348\",\"type\":\"Column\"},{\"attributes\":{},\"id\":\"1356\",\"type\":\"UnionRenderers\"},{\"attributes\":{\"margin\":[20,20,20,20],\"min_width\":250,\"options\":[\"Africa Western and Central\",\"Albania\",\"Algeria\",\"Angola\",\"Antigua and Barbuda\",\"Argentina\",\"Armenia\",\"Aruba\",\"Australia\",\"Austria\",\"Azerbaijan\",\"Bahamas, The\",\"Bahrain\",\"Bangladesh\",\"Barbados\",\"Belgium\",\"Belize\",\"Benin\",\"Bermuda\",\"Bhutan\",\"Bolivia\",\"Botswana\",\"Brazil\",\"British Virgin Islands\",\"Bulgaria\",\"Burkina Faso\",\"Burundi\",\"Cabo Verde\",\"Cambodia\",\"Canada\",\"Cayman Islands\",\"Central African Republic\",\"Chad\",\"China\",\"Colombia\",\"Comoros\",\"Congo (the Democratic Republic of the)\",\"Costa Rica\",\"Cote d'Ivoire\",\"Croatia\",\"Cuba\",\"Curacao\",\"Cyprus\",\"Djibouti\",\"Dominica\",\"Dominican Republic\",\"Ecuador\",\"Egypt\",\"Eritrea\",\"Estonia\",\"Ethiopia\",\"Fiji\",\"Finland\",\"French Polynesia\",\"Gabon\",\"Gambia, The\",\"Georgia\",\"Germany\",\"Ghana\",\"Greece\",\"Grenada\",\"Guam\",\"Guatemala\",\"Guyana\",\"Haiti\",\"Hong Kong SAR, China\",\"Hungary\",\"Iceland\",\"India\",\"Indonesia\",\"Iran\",\"Iraq\",\"Ireland\",\"Israel\",\"Italy\",\"Jamaica\",\"Japan\",\"Jordan\",\"Kenya\",\"Korea\",\"Kuwait\",\"Lao PDR\",\"Latvia\",\"Lebanon\",\"Lesotho\",\"Libya\",\"Liechtenstein\",\"Lithuania\",\"Luxembourg\",\"Macao SAR, China\",\"Madagascar\",\"Malawi\",\"Malaysia\",\"Maldives\",\"Mali\",\"Malta\",\"Marshall Islands\",\"Mauritius\",\"Mexico\",\"Moldova\",\"Monaco\",\"Mongolia\",\"Morocco\",\"Myanmar\",\"Namibia\",\"Nepal\",\"Netherlands\",\"New Caledonia\",\"New Zealand\",\"Nicaragua\",\"Niger\",\"Nigeria\",\"North Macedonia\",\"Northern Mariana Islands\",\"Norway\",\"Pakistan\",\"Palau\",\"Panama\",\"Paraguay\",\"Philippines\",\"Poland\",\"Portugal\",\"Puerto Rico\",\"Romania\",\"Russian Federation\",\"San Marino\",\"Sao Tome and Principe\",\"Saudi Arabia\",\"Seychelles\",\"Singapore\",\"Sint Maarten (Dutch part)\",\"Slovenia\",\"Solomon Islands\",\"South Africa\",\"Spain\",\"Sri Lanka\",\"St. Kitts and Nevis\",\"St. Lucia\",\"St. Vincent and the Grenadines\",\"Sudan\",\"Suriname\",\"Sweden\",\"Switzerland\",\"Syrian Arab Republic\",\"Tanzania\",\"Thailand\",\"Togo\",\"Tonga\",\"Trinidad and Tobago\",\"Tunisia\",\"Turkey\",\"Turkmenistan\",\"Tuvalu\",\"Uganda\",\"Ukraine\",\"United Arab Emirates\",\"United Kingdom\",\"United States\",\"Uruguay\",\"Uzbekistan\",\"Vanuatu\",\"Venezuela, RB\",\"Vietnam\",\"Virgin Islands (U.S.)\",\"Zambia\",\"Zimbabwe\",\"Eswatini\",\"France\",\"Guinea\",\"Honduras\",\"Kazakhstan\",\"Micronesia\",\"Tajikistan\",\"Bosnia and Herzegovina\",\"Kyrgyz Republic\",\"Andorra\",\"Kiribati\",\"Mauritania\",\"Belarus\",\"El Salvador\",\"Guinea-Bissau\",\"Mozambique\",\"Oman\",\"Montenegro\",\"Serbia\",\"Czech Republic\",\"Denmark\",\"Senegal\",\"Brunei Darussalam\",\"Peru\",\"Cameroon\",\"Rwanda\",\"Samoa\",\"Timor-Leste\",\"Chile\",\"Papua New Guinea\",\"Turks and Caicos Islands\",\"Qatar\",\"American Samoa\",\"Congo, The\",\"Yemen\",\"Sierra Leone\",\"Slovak Republic\"],\"title\":\"Country Name\",\"value\":\"Africa Western and Central\",\"width\":250},\"id\":\"1345\",\"type\":\"Select\"},{\"attributes\":{\"data_source\":{\"id\":\"1302\"},\"glyph\":{\"id\":\"1305\"},\"hover_glyph\":null,\"muted_glyph\":{\"id\":\"1307\"},\"nonselection_glyph\":{\"id\":\"1306\"},\"selection_glyph\":{\"id\":\"1310\"},\"view\":{\"id\":\"1309\"}},\"id\":\"1308\",\"type\":\"GlyphRenderer\"},{\"attributes\":{\"children\":[{\"id\":\"1262\"},{\"id\":\"1264\"}],\"margin\":[0,0,0,0],\"name\":\"Row01831\"},\"id\":\"1261\",\"type\":\"Row\"},{\"attributes\":{\"css_classes\":[\"markdown\"],\"margin\":[5,5,5,5],\"name\":\"Markdown01827\",\"text\":\"&lt;h1&gt;The Top 10 Most Travelled to Countries Worldwide.&lt;/h1&gt;\"},\"id\":\"1262\",\"type\":\"panel.models.markup.HTML\"},{\"attributes\":{\"line_alpha\":0.1,\"line_color\":\"purple\",\"line_width\":2,\"x\":{\"field\":\"Year\"},\"y\":{\"field\":\"Number of Arrivals\"}},\"id\":\"1306\",\"type\":\"Line\"},{\"attributes\":{\"line_color\":\"purple\",\"line_width\":2,\"x\":{\"field\":\"Year\"},\"y\":{\"field\":\"Number of Arrivals\"}},\"id\":\"1310\",\"type\":\"Line\"},{\"attributes\":{},\"id\":\"1311\",\"type\":\"BasicTickFormatter\"},{\"attributes\":{},\"id\":\"1289\",\"type\":\"SaveTool\"},{\"attributes\":{\"data\":[{\"alignmentgroup\":\"True\",\"hovertemplate\":\"Country Name=%{x}<br>Number of Arrivals=%{y}<extra></extra>\",\"legendgroup\":\"\",\"marker\":{\"color\":\"#636efa\",\"pattern\":{\"shape\":\"\"}},\"name\":\"\",\"offsetgroup\":\"\",\"orientation\":\"v\",\"showlegend\":false,\"textposition\":\"auto\",\"type\":\"bar\",\"xaxis\":\"x\",\"yaxis\":\"y\"}],\"data_sources\":[{\"id\":\"1263\"}],\"layout\":{\"barmode\":\"relative\",\"legend\":{\"tracegroupgap\":0},\"template\":{\"data\":{\"bar\":[{\"error_x\":{\"color\":\"#2a3f5f\"},\"error_y\":{\"color\":\"#2a3f5f\"},\"marker\":{\"line\":{\"color\":\"#E5ECF6\",\"width\":0.5},\"pattern\":{\"fillmode\":\"overlay\",\"size\":10,\"solidity\":0.2}},\"type\":\"bar\"}],\"barpolar\":[{\"marker\":{\"line\":{\"color\":\"#E5ECF6\",\"width\":0.5},\"pattern\":{\"fillmode\":\"overlay\",\"size\":10,\"solidity\":0.2}},\"type\":\"barpolar\"}],\"carpet\":[{\"aaxis\":{\"endlinecolor\":\"#2a3f5f\",\"gridcolor\":\"white\",\"linecolor\":\"white\",\"minorgridcolor\":\"white\",\"startlinecolor\":\"#2a3f5f\"},\"baxis\":{\"endlinecolor\":\"#2a3f5f\",\"gridcolor\":\"white\",\"linecolor\":\"white\",\"minorgridcolor\":\"white\",\"startlinecolor\":\"#2a3f5f\"},\"type\":\"carpet\"}],\"choropleth\":[{\"colorbar\":{\"outlinewidth\":0,\"ticks\":\"\"},\"type\":\"choropleth\"}],\"contour\":[{\"colorbar\":{\"outlinewidth\":0,\"ticks\":\"\"},\"colorscale\":[[0.0,\"#0d0887\"],[0.1111111111111111,\"#46039f\"],[0.2222222222222222,\"#7201a8\"],[0.3333333333333333,\"#9c179e\"],[0.4444444444444444,\"#bd3786\"],[0.5555555555555556,\"#d8576b\"],[0.6666666666666666,\"#ed7953\"],[0.7777777777777778,\"#fb9f3a\"],[0.8888888888888888,\"#fdca26\"],[1.0,\"#f0f921\"]],\"type\":\"contour\"}],\"contourcarpet\":[{\"colorbar\":{\"outlinewidth\":0,\"ticks\":\"\"},\"type\":\"contourcarpet\"}],\"heatmap\":[{\"colorbar\":{\"outlinewidth\":0,\"ticks\":\"\"},\"colorscale\":[[0.0,\"#0d0887\"],[0.1111111111111111,\"#46039f\"],[0.2222222222222222,\"#7201a8\"],[0.3333333333333333,\"#9c179e\"],[0.4444444444444444,\"#bd3786\"],[0.5555555555555556,\"#d8576b\"],[0.6666666666666666,\"#ed7953\"],[0.7777777777777778,\"#fb9f3a\"],[0.8888888888888888,\"#fdca26\"],[1.0,\"#f0f921\"]],\"type\":\"heatmap\"}],\"heatmapgl\":[{\"colorbar\":{\"outlinewidth\":0,\"ticks\":\"\"},\"colorscale\":[[0.0,\"#0d0887\"],[0.1111111111111111,\"#46039f\"],[0.2222222222222222,\"#7201a8\"],[0.3333333333333333,\"#9c179e\"],[0.4444444444444444,\"#bd3786\"],[0.5555555555555556,\"#d8576b\"],[0.6666666666666666,\"#ed7953\"],[0.7777777777777778,\"#fb9f3a\"],[0.8888888888888888,\"#fdca26\"],[1.0,\"#f0f921\"]],\"type\":\"heatmapgl\"}],\"histogram\":[{\"marker\":{\"pattern\":{\"fillmode\":\"overlay\",\"size\":10,\"solidity\":0.2}},\"type\":\"histogram\"}],\"histogram2d\":[{\"colorbar\":{\"outlinewidth\":0,\"ticks\":\"\"},\"colorscale\":[[0.0,\"#0d0887\"],[0.1111111111111111,\"#46039f\"],[0.2222222222222222,\"#7201a8\"],[0.3333333333333333,\"#9c179e\"],[0.4444444444444444,\"#bd3786\"],[0.5555555555555556,\"#d8576b\"],[0.6666666666666666,\"#ed7953\"],[0.7777777777777778,\"#fb9f3a\"],[0.8888888888888888,\"#fdca26\"],[1.0,\"#f0f921\"]],\"type\":\"histogram2d\"}],\"histogram2dcontour\":[{\"colorbar\":{\"outlinewidth\":0,\"ticks\":\"\"},\"colorscale\":[[0.0,\"#0d0887\"],[0.1111111111111111,\"#46039f\"],[0.2222222222222222,\"#7201a8\"],[0.3333333333333333,\"#9c179e\"],[0.4444444444444444,\"#bd3786\"],[0.5555555555555556,\"#d8576b\"],[0.6666666666666666,\"#ed7953\"],[0.7777777777777778,\"#fb9f3a\"],[0.8888888888888888,\"#fdca26\"],[1.0,\"#f0f921\"]],\"type\":\"histogram2dcontour\"}],\"mesh3d\":[{\"colorbar\":{\"outlinewidth\":0,\"ticks\":\"\"},\"type\":\"mesh3d\"}],\"parcoords\":[{\"line\":{\"colorbar\":{\"outlinewidth\":0,\"ticks\":\"\"}},\"type\":\"parcoords\"}],\"pie\":[{\"automargin\":true,\"type\":\"pie\"}],\"scatter\":[{\"marker\":{\"colorbar\":{\"outlinewidth\":0,\"ticks\":\"\"}},\"type\":\"scatter\"}],\"scatter3d\":[{\"line\":{\"colorbar\":{\"outlinewidth\":0,\"ticks\":\"\"}},\"marker\":{\"colorbar\":{\"outlinewidth\":0,\"ticks\":\"\"}},\"type\":\"scatter3d\"}],\"scattercarpet\":[{\"marker\":{\"colorbar\":{\"outlinewidth\":0,\"ticks\":\"\"}},\"type\":\"scattercarpet\"}],\"scattergeo\":[{\"marker\":{\"colorbar\":{\"outlinewidth\":0,\"ticks\":\"\"}},\"type\":\"scattergeo\"}],\"scattergl\":[{\"marker\":{\"colorbar\":{\"outlinewidth\":0,\"ticks\":\"\"}},\"type\":\"scattergl\"}],\"scattermapbox\":[{\"marker\":{\"colorbar\":{\"outlinewidth\":0,\"ticks\":\"\"}},\"type\":\"scattermapbox\"}],\"scatterpolar\":[{\"marker\":{\"colorbar\":{\"outlinewidth\":0,\"ticks\":\"\"}},\"type\":\"scatterpolar\"}],\"scatterpolargl\":[{\"marker\":{\"colorbar\":{\"outlinewidth\":0,\"ticks\":\"\"}},\"type\":\"scatterpolargl\"}],\"scatterternary\":[{\"marker\":{\"colorbar\":{\"outlinewidth\":0,\"ticks\":\"\"}},\"type\":\"scatterternary\"}],\"surface\":[{\"colorbar\":{\"outlinewidth\":0,\"ticks\":\"\"},\"colorscale\":[[0.0,\"#0d0887\"],[0.1111111111111111,\"#46039f\"],[0.2222222222222222,\"#7201a8\"],[0.3333333333333333,\"#9c179e\"],[0.4444444444444444,\"#bd3786\"],[0.5555555555555556,\"#d8576b\"],[0.6666666666666666,\"#ed7953\"],[0.7777777777777778,\"#fb9f3a\"],[0.8888888888888888,\"#fdca26\"],[1.0,\"#f0f921\"]],\"type\":\"surface\"}],\"table\":[{\"cells\":{\"fill\":{\"color\":\"#EBF0F8\"},\"line\":{\"color\":\"white\"}},\"header\":{\"fill\":{\"color\":\"#C8D4E3\"},\"line\":{\"color\":\"white\"}},\"type\":\"table\"}]},\"layout\":{\"annotationdefaults\":{\"arrowcolor\":\"#2a3f5f\",\"arrowhead\":0,\"arrowwidth\":1},\"autotypenumbers\":\"strict\",\"coloraxis\":{\"colorbar\":{\"outlinewidth\":0,\"ticks\":\"\"}},\"colorscale\":{\"diverging\":[[0,\"#8e0152\"],[0.1,\"#c51b7d\"],[0.2,\"#de77ae\"],[0.3,\"#f1b6da\"],[0.4,\"#fde0ef\"],[0.5,\"#f7f7f7\"],[0.6,\"#e6f5d0\"],[0.7,\"#b8e186\"],[0.8,\"#7fbc41\"],[0.9,\"#4d9221\"],[1,\"#276419\"]],\"sequential\":[[0.0,\"#0d0887\"],[0.1111111111111111,\"#46039f\"],[0.2222222222222222,\"#7201a8\"],[0.3333333333333333,\"#9c179e\"],[0.4444444444444444,\"#bd3786\"],[0.5555555555555556,\"#d8576b\"],[0.6666666666666666,\"#ed7953\"],[0.7777777777777778,\"#fb9f3a\"],[0.8888888888888888,\"#fdca26\"],[1.0,\"#f0f921\"]],\"sequentialminus\":[[0.0,\"#0d0887\"],[0.1111111111111111,\"#46039f\"],[0.2222222222222222,\"#7201a8\"],[0.3333333333333333,\"#9c179e\"],[0.4444444444444444,\"#bd3786\"],[0.5555555555555556,\"#d8576b\"],[0.6666666666666666,\"#ed7953\"],[0.7777777777777778,\"#fb9f3a\"],[0.8888888888888888,\"#fdca26\"],[1.0,\"#f0f921\"]]},\"colorway\":[\"#636efa\",\"#EF553B\",\"#00cc96\",\"#ab63fa\",\"#FFA15A\",\"#19d3f3\",\"#FF6692\",\"#B6E880\",\"#FF97FF\",\"#FECB52\"],\"font\":{\"color\":\"#2a3f5f\"},\"geo\":{\"bgcolor\":\"white\",\"lakecolor\":\"white\",\"landcolor\":\"#E5ECF6\",\"showlakes\":true,\"showland\":true,\"subunitcolor\":\"white\"},\"hoverlabel\":{\"align\":\"left\"},\"hovermode\":\"closest\",\"mapbox\":{\"style\":\"light\"},\"paper_bgcolor\":\"white\",\"plot_bgcolor\":\"#E5ECF6\",\"polar\":{\"angularaxis\":{\"gridcolor\":\"white\",\"linecolor\":\"white\",\"ticks\":\"\"},\"bgcolor\":\"#E5ECF6\",\"radialaxis\":{\"gridcolor\":\"white\",\"linecolor\":\"white\",\"ticks\":\"\"}},\"scene\":{\"xaxis\":{\"backgroundcolor\":\"#E5ECF6\",\"gridcolor\":\"white\",\"gridwidth\":2,\"linecolor\":\"white\",\"showbackground\":true,\"ticks\":\"\",\"zerolinecolor\":\"white\"},\"yaxis\":{\"backgroundcolor\":\"#E5ECF6\",\"gridcolor\":\"white\",\"gridwidth\":2,\"linecolor\":\"white\",\"showbackground\":true,\"ticks\":\"\",\"zerolinecolor\":\"white\"},\"zaxis\":{\"backgroundcolor\":\"#E5ECF6\",\"gridcolor\":\"white\",\"gridwidth\":2,\"linecolor\":\"white\",\"showbackground\":true,\"ticks\":\"\",\"zerolinecolor\":\"white\"}},\"shapedefaults\":{\"line\":{\"color\":\"#2a3f5f\"}},\"ternary\":{\"aaxis\":{\"gridcolor\":\"white\",\"linecolor\":\"white\",\"ticks\":\"\"},\"baxis\":{\"gridcolor\":\"white\",\"linecolor\":\"white\",\"ticks\":\"\"},\"bgcolor\":\"#E5ECF6\",\"caxis\":{\"gridcolor\":\"white\",\"linecolor\":\"white\",\"ticks\":\"\"}},\"title\":{\"x\":0.05},\"xaxis\":{\"automargin\":true,\"gridcolor\":\"white\",\"linecolor\":\"white\",\"ticks\":\"\",\"title\":{\"standoff\":15},\"zerolinecolor\":\"white\",\"zerolinewidth\":2},\"yaxis\":{\"automargin\":true,\"gridcolor\":\"white\",\"linecolor\":\"white\",\"ticks\":\"\",\"title\":{\"standoff\":15},\"zerolinecolor\":\"white\",\"zerolinewidth\":2}}},\"title\":{\"text\":\"Top 10 Most Travelled to Countries\"},\"xaxis\":{\"anchor\":\"y\",\"domain\":[0.0,1.0],\"title\":{\"text\":\"Country Name\"}},\"yaxis\":{\"anchor\":\"x\",\"domain\":[0.0,1.0],\"range\":[10000000,250000000],\"title\":{\"text\":\"Number of Arrivals\"}}},\"margin\":[5,5,5,5],\"name\":\"Plotly01829\",\"viewport_update_throttle\":200,\"visible\":false},\"id\":\"1264\",\"type\":\"panel.models.plotly.PlotlyPlot\"},{\"attributes\":{\"source\":{\"id\":\"1302\"}},\"id\":\"1309\",\"type\":\"CDSView\"},{\"attributes\":{},\"id\":\"1290\",\"type\":\"PanTool\"},{\"attributes\":{},\"id\":\"1313\",\"type\":\"AllLabels\"},{\"attributes\":{},\"id\":\"1291\",\"type\":\"WheelZoomTool\"},{\"attributes\":{\"end\":2016.0,\"reset_end\":2016.0,\"reset_start\":1995.0,\"start\":1995.0,\"tags\":[[[\"Year\",\"Year\",null]]]},\"id\":\"1269\",\"type\":\"Range1d\"},{\"attributes\":{},\"id\":\"1277\",\"type\":\"LinearScale\"},{\"attributes\":{\"overlay\":{\"id\":\"1294\"}},\"id\":\"1292\",\"type\":\"BoxZoomTool\"},{\"attributes\":{},\"id\":\"1314\",\"type\":\"BasicTickFormatter\"},{\"attributes\":{\"args\":{\"model\":{\"id\":\"1351\"}},\"code\":\"model.visible = (cb_obj.active == 3);\",\"tags\":[\"plotly_tab_fix1351\"]},\"id\":\"1437\",\"type\":\"CustomJS\"},{\"attributes\":{\"data\":{\"x\":[[\"Canada\",\"Hungary\",\"Croatia\",\"Italy\",\"Poland\",\"Spain\",\"Mexico\",\"China\",\"United States\",\"France\"]],\"y\":[{\"__ndarray__\":\"AAAAgPK4gEEAAABASnuDQQAAAID2AIVByeU/oP3PkEEAAADA6TWRQQAAAOCgyJVBAAAAoFr+lUEAAACgrMCaQQUrh8qBkp5B4uHhgUL4pkE=\",\"dtype\":\"float64\",\"order\":\"little\",\"shape\":[10]}]},\"selected\":{\"id\":\"1354\"},\"selection_policy\":{\"id\":\"1353\"}},\"id\":\"1263\",\"type\":\"ColumnDataSource\"},{\"attributes\":{\"css_classes\":[\"markdown\"],\"margin\":[5,5,5,5],\"name\":\"Markdown01865\",\"text\":\"&lt;h1&gt;Number of Arrivals Each Year&lt;/h1&gt;\"},\"id\":\"1349\",\"type\":\"panel.models.markup.HTML\"},{\"attributes\":{},\"id\":\"1279\",\"type\":\"LinearScale\"},{\"attributes\":{\"children\":[{\"id\":\"1344\"},{\"id\":\"1346\"}],\"margin\":[0,0,0,0],\"name\":\"Column01863\"},\"id\":\"1343\",\"type\":\"Column\"},{\"attributes\":{\"children\":[{\"id\":\"1345\"}],\"css_classes\":[\"panel-widget-box\"],\"margin\":[5,5,5,5],\"name\":\"WidgetBox01857\"},\"id\":\"1344\",\"type\":\"Column\"},{\"attributes\":{},\"id\":\"1316\",\"type\":\"AllLabels\"},{\"attributes\":{\"data\":{\"hovertext\":[[\"Aruba\",\"Africa Western and Central\",\"Angola\",\"Albania\",\"United Arab Emirates\",\"Argentina\",\"Armenia\",\"Antigua and Barbuda\",\"Australia\",\"Austria\",\"Azerbaijan\",\"Burundi\",\"Belgium\",\"Benin\",\"Burkina Faso\",\"Bangladesh\",\"Bulgaria\",\"Bahrain\",\"Bahamas, The\",\"Belize\",\"Bermuda\",\"Bolivia\",\"Brazil\",\"Barbados\",\"Bhutan\",\"Botswana\",\"Central African Republic\",\"Canada\",\"Switzerland\",\"China\",\"Cote d'Ivoire\",\"Congo (the Democratic Republic of the)\",\"Colombia\",\"Comoros\",\"Cabo Verde\",\"Costa Rica\",\"Cuba\",\"Curacao\",\"Cayman Islands\",\"Cyprus\",\"Germany\",\"Djibouti\",\"Dominica\",\"Dominican Republic\",\"Algeria\",\"Ecuador\",\"Egypt\",\"Eritrea\",\"Spain\",\"Estonia\",\"Ethiopia\",\"Finland\",\"Fiji\",\"Gabon\",\"United Kingdom\",\"Georgia\",\"Ghana\",\"Gambia, The\",\"Greece\",\"Grenada\",\"Guatemala\",\"Guam\",\"Guyana\",\"Hong Kong SAR, China\",\"Croatia\",\"Haiti\",\"Hungary\",\"Indonesia\",\"India\",\"Ireland\",\"Iran\",\"Iraq\",\"Iceland\",\"Israel\",\"Italy\",\"Jamaica\",\"Jordan\",\"Japan\",\"Kenya\",\"Cambodia\",\"St. Kitts and Nevis\",\"Korea\",\"Kuwait\",\"Lao PDR\",\"Lebanon\",\"Libya\",\"St. Lucia\",\"Liechtenstein\",\"Sri Lanka\",\"Lesotho\",\"Lithuania\",\"Luxembourg\",\"Latvia\",\"Macao SAR, China\",\"Morocco\",\"Monaco\",\"Moldova\",\"Madagascar\",\"Maldives\",\"Mexico\",\"Marshall Islands\",\"North Macedonia\",\"Mali\",\"Malta\",\"Myanmar\",\"Mongolia\",\"Northern Mariana Islands\",\"Mauritius\",\"Malawi\",\"Malaysia\",\"Namibia\",\"New Caledonia\",\"Niger\",\"Nigeria\",\"Nicaragua\",\"Netherlands\",\"Norway\",\"Nepal\",\"New Zealand\",\"Pakistan\",\"Panama\",\"Philippines\",\"Palau\",\"Poland\",\"Puerto Rico\",\"Portugal\",\"Paraguay\",\"French Polynesia\",\"Romania\",\"Russian Federation\",\"Saudi Arabia\",\"Sudan\",\"Singapore\",\"Solomon Islands\",\"San Marino\",\"Sao Tome and Principe\",\"Suriname\",\"Slovenia\",\"Sweden\",\"Sint Maarten (Dutch part)\",\"Seychelles\",\"Syrian Arab Republic\",\"Chad\",\"Togo\",\"Thailand\",\"Turkmenistan\",\"Tonga\",\"Trinidad and Tobago\",\"Tunisia\",\"Turkey\",\"Tuvalu\",\"Tanzania\",\"Uganda\",\"Ukraine\",\"Uruguay\",\"United States\",\"Uzbekistan\",\"St. Vincent and the Grenadines\",\"Venezuela, RB\",\"British Virgin Islands\",\"Virgin Islands (U.S.)\",\"Vietnam\",\"Vanuatu\",\"South Africa\",\"Zambia\",\"Zimbabwe\"]],\"lat\":[{\"__ndarray__\":\"f3hMkwj7KEB9AWK3dBEVQOh0D79RwSfAyorh6gCARED+3CtOEAA4QOGK1TCNf0HAWA7jJINiRECFEbF3NTkxQPQknw2vxjjAmpmZmZmZR0A/37tyYjJEQM4Huqx4aQvAceB6ufRRSUBWdaCYBg8jQBY8O8+OJihAsItHTsuAN0AJFoczv01FQJdL9EO2JzpAZGZVOg7GOEBIrCBhc9MwQI9c7ReiJkBA+CKQAY8OMcDkVYypqqokwI+icyPRTCpA0cq9wKyMO0Bw5vy5DSs3wAbSau0iIRxA+/K4XomITkBb6O9KN2ZHQDrKwWwCgEFAMY1wpH31H0DlWllH+tkHwPpBXaRQZhBAr+nmh7ZoKMDaMRqeAwAwQIzFJX0QjCRA4niZvFwDN0DJ06h2PDwoQLHgfsADtDNApua8ELx9QUA27FJ+rYpJQJfdOM4SoSdAbgfZaO8YM0BuB9lo7xgzQEccV8gBADxA4kPkT69v9b9aEvtfCUE6QEFQyZRq5i9AveDTnLypQ0BDnm7qTWBNQFgTVQlgbCRA6XBjaZafT0C9ssF4vB8ywBe4PNaMzOy/ZtmTwOZZS0CptkAnKSpAQAXn5+FfDyBASS9q96vwKkDR/Hs6aH9DQNQQsLGmRShAgBlChG5FL0CfLTHgduYqQGXnyCXpXRNANxjqsMJZNkD5V0VuPMhGQNSYtbnWIzNAkKLO3EOXR0DDpFOy990DwD8k16jiWTZApFAWvr5uSkAJERVP4lJAQFjWR/E7jEBAwDPr1vw+UEDIfnEEBIg/QNc0SvK3UUVAF5qQe18vMkA8lR0srSo/QDfm0H2USUJAROYlWk0S9z/puks9ZgMrQGxB740hQDFANAQR8/b5QkAZ2HRO/UU9QLVtGAXB9zFAsrikDwLwQECX+4lvzdI6QJkzNs9spitAB05s9CCSR0CCeLh40zgeQGOusfCamj3AiwtRz8ysS0DrK1lfbuhIQHUzSGaaa0xA9iSwOQdRNkAQlNv2PSw/QJLBm3+F3kVA10NF5tukR0BXGGw0yuwywA75wr9j0xJA8umxLQOANkD0HOyoxf8hQLRUg9X9zkRAj9g4rLpeMEDPXzKfvfFBQGCuRQvQLDFALvcT35ppR0D93TtqTEwsQND9i1akRjTAPIljuJWJKsBylkhYCkcSQOx7Hu3JOzfAFfL3QUx0NMDcPB+vUbwxQBPazec3MyNASIDk59A3KUAzuWKQBUBKQINoUq8AQE5AXJ4Yo78bPEAi5Be5AsBEwJO00e+xVD5AbF1qhH4eIUDjMhOxLYApQEpI/yZvgxVAR5BKsaMbSkDcWJqlrjgyQMbVbfVBBERATaCIRQxRN8By6yQR0AgwwHWM0HQb/kZANLPgj+wrUEBgJA+fz585QCOp4Es8Ky1ARMNi1LW29T8slVxqKWkhwHqCDgQS+UVAbUiS1s5m7D9GX0GasZAQQK8ca5ATE0dA9t7OdGXWTUB9Hd2t0QYyQOjHuhNHoRLASW09nvFRQUAz1khcETovQNUGJ6JfjyFAiXVPw1zLLUA8rCY+LbBDQCH16FeE6jPAkfP+P068JUBK4YtABuxAQKmDYWXZekNAE8oMZfJHIcBbPGEuThkawOpRAqyfiPg/oVv5dly+SECM7f8tEnBAwMVwGkdR5ENA9l0R/G+pREAebRyxFs8pQN73ueu2JSRAXB5rRgZnMkBcHmtGBmcyQBdXpqmvlCpAhVLFnoeGMMBMJIc+DtE8wFP/xdiuCS3A8vLPZ5t0MsA=\",\"dtype\":\"float64\",\"order\":\"little\",\"shape\":[166]}],\"lon\":[{\"__ndarray__\":\"Qb7fw4B9UcBgJ1Af3Mo8QI3d9B2ykTFA+77JgP3/M0CjNEAO7/9KQDzhgPHnPVDAibxApDpWRkAUThyKTPpOwFyPwvUo2GBAZmZmZmZmKkD731uixORHQDT0T3Cx7j1AcxO1NLeqEkDanf9oSRECQAHwmTYtAvu/JPj7Uz+AVkB2az5TVHw5QBIAdzRpRElAg61t5QCAU8BqG9pbpTBWwH/v27WpMFDACPcUSnA/UMCamZmZmZlKwIZzDTM0w03Aftu4asOgVkBlpIOaxpc4QC3lIfiE/zNAtw2jIHj/WsAeEmM+xXYgQMvY0M3+P1pALJpzlZNFFsD0sAbef9I3QN9qQv8pOlLAiolyDkMkRkCx9bEnJgI4wND12PG6BFXAZ+oa0k01VMAfX+dLlDtRwHwRk7W3+lPA2JsYkpOSQEBnLzYIztgkQP5Ng/0ybEVANAkoHmGTUcA0CSgeYZNRwB2UMNP2/wdAscOY9HfXU8BspSH0fUQ9QPuKf+n+/0JAEu10MRdaE8CNSdro91Q5QGPHkK14U0NAnVlcLcHrOUA7g9CLZGBmQONyF7xDYSdAFg1jHG02CsDtVuB1R8dUwBWzFH/KR/G/igubXOf6LsDY07PF2vw1QHBBtixf2E7AD/fsFIZ5VsBwNqjbPRhiQI9ZUd4iUk3AP4BWqtWLXEAM+bGTCwMxQJDfNq7aFlLALjZSW4+BM0AD5zFv+nhdQO0ITEy8qlNARvk4iffqH8D/uFisPEhLQJYEqKllFkZAmBr8WBwbMsD1Jisr8m5BQPKU1XQ9WSlAvz105kNZU8C7fyxEh3hCQHdSuk+pZ2FAwAmFCDg3Q0D52F2gpDdaQF9wF6sXVk/A75kFZOuuX0CUjzi/vL9HQEpcbP9vp1lAdxN80/TrQUDN6+P8qB8yQBo2yvrNfE7AYWOo1DYbI0CnuAWmri1UQGAHKdPDVTxAg4L3+v+/N0AQbKaMyYQYQMNi1LX2wDhA1b0EXbF8XEAAW7lyUVgdwNBq7sxnsh1AKkE1FC2RPEBJxEq7hzhHQPW5f9EKVVJAj3IwmwAAWcCFQgQcAgBlQNUBtb2CtzVAjXfsDPhRAsCoa5LEN+UsQNfICW7//1dAqJ2r92X2WUCHUU2a1CZiQGQH8HEByUxAG64frBD3QEARaFXwAJFZQNh8AWK3UjFAy/4Ht8+RZEBhEKLGzqUiQFemqa/4/x9AFWjB1ctSVcBb5Og7Cf4WQGsQ5nYvMyJArEX6o94FVUD74MZ3s5plQLyyCwbXz1FAcPn+vF9IVMBQgHIlzK5eQEDO6tMgnWBA6NztemkiM0C5iXw1c5pQwFylYDL6jh/A9aCgFK0VTcCxkLQrkkFiwC8X8Z2YrzhAmEBbGLNvWEBiegygKS1FQPCuaZTkfT1ASMbFrHL0WUCmeMYcbeNjQAQfgxWn6ihAo1RnWgfcG0B8NIsG3wlMwCt75sStQC1Am7HD860KLUBMYXX1nYVPwAl0gSYduktAsoknFlOGQ0BOQSN9/wMzQEcE4+DSUfA/ehnFcks1WUC4OqUoPLJNQHlZEwt85mXAXNcerLV9TsARxk/j3swiQKi3UENldkFAzMkAuhBlZkCdrc0Q2ORBQC+2WnG7G0BAxYDbyZZFP0BhN2xblAJMwAH4p1SJHFnAdifpq/X5T0DYfWw3ZqNOwBGfb0qhVlHAoMrECDwkUMCgysQIPCRQwPc3DfZLG1tACk7Y2WsDZUAqcLIN3P04QOfXIN0ZjztAgkx8/zC/PUA=\",\"dtype\":\"float64\",\"order\":\"little\",\"shape\":[166]}],\"marker.color\":[[1995,1995,1995,1995,1995,1995,1995,1995,1995,1995,1995,1995,1995,1995,1995,1995,1995,1995,1995,1995,1995,1995,1995,1995,1995,1995,1995,1995,1995,1995,1995,1995,1995,1995,1995,1995,1995,1995,1995,1995,1995,1995,1995,1995,1995,1995,1995,1995,1995,1995,1995,1995,1995,1995,1995,1995,1995,1995,1995,1995,1995,1995,1995,1995,1995,1995,1995,1995,1995,1995,1995,1995,1995,1995,1995,1995,1995,1995,1995,1995,1995,1995,1995,1995,1995,1995,1995,1995,1995,1995,1995,1995,1995,1995,1995,1995,1995,1995,1995,1995,1995,1995,1995,1995,1995,1995,1995,1995,1995,1995,1995,1995,1995,1995,1995,1995,1995,1995,1995,1995,1995,1995,1995,1995,1995,1995,1995,1995,1995,1995,1995,1995,1995,1995,1995,1995,1995,1995,1995,1995,1995,1995,1995,1995,1995,1995,1995,1995,1995,1995,1995,1995,1995,1995,1995,1995,1995,1995,1995,1995,1995,1995,1995,1995,1995,1995]],\"marker.size\":[{\"__ndarray__\":\"AAAAAADVK0HfT433OGBEQQAAAAAAlMFAAAAAAACOEkEAAAAAfKlBQQAAAAC0dkFBAAAAAABwx0AAAAAAYEgbQQAAAABYbUxBAAAAgKBgcEEAAAAAgLT2QAAAAAAAmuBAAAAAALA1VUEAAAAAQLMhQQAAAAAARv5AAAAAAAALA0EAAAAAYoleQQAAAACsoUFBAAAAACy2SEEAAAAAwN8UQQAAAACQ/yBBAAAAAIBVEUEAAAAAWGE+QQAAAAAwSixBwXKEDADAskAAAAAAwGgjQQAAAAAAZNlAAAAAQBXdg0EAAAAANH9aQQAAAMB5HoZBAAAAAADzBkEAAAAAABfhQAAAAACo3TVBAAAAAAB21kAAAAAAAFjbQAAAAADAMixBAAAAAFC8JkEAAAAAgCsYQQAAAABA3C9BAAAAAGQwQUEAAAAAg1FsQQAAAAAAgtRAAAAAAMDHCEEAAAAAsI47QQAAAAAAvR9BAAAAAADbGkEAAAAAJOdHQQAAAADgORNBAAAAAM8DiUEAAAAADBtAQQAAAACAJflAAAAAADglO0EAAAAAgA0dQQAAAADAxwhBAAAAgFZydkEAAAAAgMD0QAAAAADAdBFBAAAAAAD55UAAAAAAeG5kQQAAAACghRZBAAAAAHAuIUEAAAAAUMg0QQAAAAAA4flAAAAAAHh0Y0EAAAAAVLVuQQAAAABAlRZBAAAAAAq2gkEAAAAAqH5QQQAAAABwNEBBAAAAABRhUkEAAAAAgJYbQQAAAAAAye1AAAAAAMDBCUEAAAAAaE1DQQAAAIAMkIpBAAAAAMC7OkEAAAAAZABJQQAAAAA0hUlBAAAAAGC5LUEAAAAAANsKQQAAAADAxwhBAAAAABSiTEEAAAAAuAQ2QQAAAABAHhVBAAAAAEB3G0EAAAAAQPQ7QQAAAABg1xhBAAAAAADP7EAAAAAAwEQZQQAAAABAgwlBAAAAACDWQ0EAAAAAAHAnQQAAAADo6jhBAAAAAFCSXUEAAAAAAP9EQQAAAABAcQxBAAAAAABA30AAAAAAgBP8QAAAAADgORNBAAAAwDVflEEAAAAAAHy1QAAAAADA8QFBAAAAAACC5EAAAAAAKDQyQQAAAACArgdBAAAAAABe+kAAAAAAQKEkQQAAAAAgrBpBAAAAAABwB0EAAAAA8n1cQQAAAAAgshlBAAAAAADJ/UAAAAAAABfhQAAAAACwdi9BAAAAACDQFEEAAAAA7BNZQQAAAAAA+UVBAAAAAOAnFkEAAAAA6H81QQAAAABAEhdBAAAAAKBzGUEAAAAAANs6QQAAAAAA4elAAAAAgMabk0EAAAAAbC5PQQAAAAALJGJBAAAAAEbnbUEAAAAAgLQGQQAAAABixVRBAAAAAGqgY0EAAAAA7MZQQQAAAAAAUtxAAAAAALo5W0Hl1TkGAAzHQAAAAAAgsklBP4178/83uEAAAAAAgNjwQAAAAADAViZBAAAAALifQUEAAAAAAEAvQQAAAACAAf9AAAAAAGQwQUEAAAAAAI7SQAAAAAAA4elAAAAAABCFWkEAAAAAQHEMQQAAAAAAHeBAAAAAAEA2EUEAAAAA4G5PQQAAAADmeV1BOp6F8/8fjEAAAAAAYAESQQAAAAAAiANBAAAAAGZfV0EAAAAA9JtAQQAAAIB0ApNBAAAAAAB29kAAAAAAgJwKQQAAAAAw0ypBAAAAAMC7CkEAAAAAyJA6QQAAAABYnTRBAAAAAAAF9EAAAAAAON5RQQAAAADA5QNBAAAAAECbNUE=\",\"dtype\":\"float64\",\"order\":\"little\",\"shape\":[166]}]},\"selected\":{\"id\":\"1357\"},\"selection_policy\":{\"id\":\"1356\"}},\"id\":\"1350\",\"type\":\"ColumnDataSource\"},{\"attributes\":{\"line_color\":\"purple\",\"line_width\":2,\"x\":{\"field\":\"Year\"},\"y\":{\"field\":\"Number of Arrivals\"}},\"id\":\"1305\",\"type\":\"Line\"},{\"attributes\":{\"child\":{\"id\":\"1261\"},\"name\":\"Row01831\",\"title\":\"Top 10 Most Travelled to Countries\"},\"id\":\"1265\",\"type\":\"Panel\"},{\"attributes\":{},\"id\":\"1293\",\"type\":\"ResetTool\"},{\"attributes\":{\"child\":{\"id\":\"1348\"},\"name\":\"Column01869\",\"title\":\"Number of Arrivals\"},\"id\":\"1352\",\"type\":\"Panel\"},{\"attributes\":{\"css_classes\":[\"markdown\"],\"margin\":[5,5,5,5],\"name\":\"Markdown01853\",\"text\":\"&lt;h1&gt;Average Arrivals.&lt;/h1&gt;\"},\"id\":\"1267\",\"type\":\"panel.models.markup.HTML\"},{\"attributes\":{\"axis_label\":\"Average Number of Arrivals Per Year\",\"formatter\":{\"id\":\"1314\"},\"major_label_policy\":{\"id\":\"1316\"},\"ticker\":{\"id\":\"1286\"}},\"id\":\"1285\",\"type\":\"LinearAxis\"},{\"attributes\":{\"client_comm_id\":\"9a057872d2c74427bada51fd17eee002\",\"comm_id\":\"cc6cf7519cdf4324813a584fb67d4f86\",\"plot_id\":\"1258\"},\"id\":\"1483\",\"type\":\"panel.models.comm_manager.CommManager\"},{\"attributes\":{\"data\":{\"Number of Arrivals\":{\"__ndarray__\":\"30+N9zhgREGq8dJdXxhHQfp+aixEvkhB5dAiK94cSkHZzveDO71NQdNNYgCRwk9B+FPj1bObUUFxPQoHCOtRQdejcG2OH1NB16NwJYRGVkFWDi36rxxYQexRuMaViFpBF9nO78LoYUGPwvU4wl9jQUjhehT+KGRBZmZmjqkdZUEOLbKF3fpgQc3MzMy8fmNB4XoUXrc8Y0EAAAAAvhxkQfYoXDfYY2lBrkfh6kYVaUE=\",\"dtype\":\"float64\",\"order\":\"little\",\"shape\":[22]},\"Number_of_Arrivals\":{\"__ndarray__\":\"30+N9zhgREGq8dJdXxhHQfp+aixEvkhB5dAiK94cSkHZzveDO71NQdNNYgCRwk9B+FPj1bObUUFxPQoHCOtRQdejcG2OH1NB16NwJYRGVkFWDi36rxxYQexRuMaViFpBF9nO78LoYUGPwvU4wl9jQUjhehT+KGRBZmZmjqkdZUEOLbKF3fpgQc3MzMy8fmNB4XoUXrc8Y0EAAAAAvhxkQfYoXDfYY2lBrkfh6kYVaUE=\",\"dtype\":\"float64\",\"order\":\"little\",\"shape\":[22]},\"Year\":[1995,1996,1997,1998,1999,2000,2001,2002,2003,2004,2005,2006,2007,2008,2009,2010,2011,2012,2013,2014,2015,2016]},\"selected\":{\"id\":\"1303\"},\"selection_policy\":{\"id\":\"1330\"}},\"id\":\"1302\",\"type\":\"ColumnDataSource\"},{\"attributes\":{\"text\":\"Country Name: Africa Western and Central\",\"text_color\":\"black\",\"text_font_size\":\"12pt\"},\"id\":\"1273\",\"type\":\"Title\"},{\"attributes\":{},\"id\":\"1354\",\"type\":\"Selection\"},{\"attributes\":{\"child\":{\"id\":\"1266\"},\"name\":\"Row01864\",\"title\":\"Average Arrivals\"},\"id\":\"1347\",\"type\":\"Panel\"},{\"attributes\":{},\"id\":\"1282\",\"type\":\"BasicTicker\"},{\"attributes\":{\"child\":{\"id\":\"1259\"},\"name\":\"Markdown01825\",\"title\":\"Let's Travel\"},\"id\":\"1260\",\"type\":\"Panel\"}],\"root_ids\":[\"1258\",\"1483\",\"1526\"]},\"title\":\"Bokeh Application\",\"version\":\"2.3.2\"}};\n",
       "    var render_items = [{\"docid\":\"eb42ff72-07e2-4657-bab0-679bcbfcb5eb\",\"root_ids\":[\"1258\"],\"roots\":{\"1258\":\"e14d4990-dada-437e-970d-2198fad23efd\"}}];\n",
       "    root.Bokeh.embed.embed_items_notebook(docs_json, render_items);\n",
       "  }\n",
       "  if (root.Bokeh !== undefined && root.Bokeh.Panel !== undefined && ( root['Plotly'] !== undefined)) {\n",
       "    embed_document(root);\n",
       "  } else {\n",
       "    var attempts = 0;\n",
       "    var timer = setInterval(function(root) {\n",
       "      if (root.Bokeh !== undefined && root.Bokeh.Panel !== undefined && (root['Plotly'] !== undefined)) {\n",
       "        clearInterval(timer);\n",
       "        embed_document(root);\n",
       "      } else if (document.readyState == \"complete\") {\n",
       "        attempts++;\n",
       "        if (attempts > 200) {\n",
       "          clearInterval(timer);\n",
       "          console.log(\"Bokeh: ERROR: Unable to run BokehJS code because BokehJS library is missing\");\n",
       "        }\n",
       "      }\n",
       "    }, 25, root)\n",
       "  }\n",
       "})(window);</script>"
      ],
      "text/plain": [
       "Tabs\n",
       "    [0] Markdown(str)\n",
       "    [1] Row\n",
       "        [0] Markdown(str)\n",
       "        [1] Plotly(Figure, visible=False)\n",
       "    [2] Row\n",
       "        [0] Markdown(str)\n",
       "        [1] Row\n",
       "            [0] HoloViews(DynamicMap)\n",
       "            [1] Column\n",
       "                [0] WidgetBox\n",
       "                    [0] Select(margin=(20, 20, 20, 20), name='Country Name', options=['Africa Western and Centr...], value='Africa Western a..., width=250)\n",
       "                [1] VSpacer()\n",
       "    [3] Column\n",
       "        [0] Markdown(str)\n",
       "        [1] Plotly(Figure, visible=False)"
      ]
     },
     "execution_count": 26,
     "metadata": {
      "application/vnd.holoviews_exec.v0+json": {
       "id": "1258"
      }
     },
     "output_type": "execute_result"
    }
   ],
   "source": [
    "# Serve the dashboard\n",
    "travel_dashboard.servable()"
   ]
  },
  {
   "cell_type": "code",
   "execution_count": null,
   "id": "41258815",
   "metadata": {},
   "outputs": [],
   "source": []
  }
 ],
 "metadata": {
  "kernelspec": {
   "display_name": "Python [conda env:pyvizenv] *",
   "language": "python",
   "name": "conda-env-pyvizenv-py"
  },
  "language_info": {
   "codemirror_mode": {
    "name": "ipython",
    "version": 3
   },
   "file_extension": ".py",
   "mimetype": "text/x-python",
   "name": "python",
   "nbconvert_exporter": "python",
   "pygments_lexer": "ipython3",
   "version": "3.7.10"
  }
 },
 "nbformat": 4,
 "nbformat_minor": 5
}

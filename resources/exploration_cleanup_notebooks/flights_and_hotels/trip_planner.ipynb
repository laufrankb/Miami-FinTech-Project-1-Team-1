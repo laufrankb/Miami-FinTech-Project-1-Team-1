{
 "cells": [
  {
   "cell_type": "markdown",
   "metadata": {},
   "source": [
    "# Imports"
   ]
  },
  {
   "cell_type": "code",
   "execution_count": 69,
   "metadata": {},
   "outputs": [],
   "source": [
    "import os\n",
    "from dotenv import load_dotenv\n",
    "import pandas as pd\n",
    "import numpy as np\n",
    "import plotly.express as px\n",
    "import scipy.stats as st #new library\n",
    "import random #new library\n",
    "import folium #new library\n",
    "from simple_colors import * #new library\n",
    "from pathlib import Path\n",
    "import json\n",
    "\n",
    "# Relevant imports for Flights Section\n",
    "from skyscanner_request import skyscanner_api  # connects to the 'skyscanner_request.py' function file\n",
    "\n",
    "# Relevant imports for Hotels section\n",
    "from booking_locations_request import booking_locations_api # connects to the booking_locations_request.py\" function file\n",
    "from booking_hotels_request import booking_hotels_api # connects to the booking_locations_request.py\" function file"
   ]
  },
  {
   "cell_type": "markdown",
   "metadata": {},
   "source": [
    "# Client Data"
   ]
  },
  {
   "cell_type": "code",
   "execution_count": 22,
   "metadata": {},
   "outputs": [],
   "source": [
    "# Generate required variables to run APIs\n",
    "\n",
    "departure_date = \"2021-12-01\"\n",
    "return_date = \"2021-12-15\"\n",
    "market_country = \"US\" # country where client is currently present\n",
    "\n",
    "# Set input variables for skyscanner API request\n",
    "\n",
    "departure_airport = \"LAX\"\n",
    "destination_airport = \"JFK\"\n",
    "locale_skyscanner = \"en-US\"\n",
    "currency = \"USD\"\n",
    "\n",
    "# Set input variables for BOOKING.COM API request\n",
    "destination_city = \"New York\"\n",
    "locale_booking = \"en-us\"\n",
    "nr_rooms = 1\n",
    "nr_adults = 1"
   ]
  },
  {
   "cell_type": "markdown",
   "metadata": {
    "tags": []
   },
   "source": [
    "# SKYSCANNER API Request"
   ]
  },
  {
   "cell_type": "code",
   "execution_count": 4,
   "metadata": {},
   "outputs": [
    {
     "data": {
      "text/plain": [
       "{'Quotes': [{'QuoteId': 1,\n",
       "   'MinPrice': 104,\n",
       "   'Direct': False,\n",
       "   'OutboundLeg': {'CarrierIds': [851],\n",
       "    'OriginId': 65368,\n",
       "    'DestinationId': 60987,\n",
       "    'DepartureDate': '2021-12-01T00:00:00'},\n",
       "   'QuoteDateTime': '2021-10-25T14:13:00'},\n",
       "  {'QuoteId': 2,\n",
       "   'MinPrice': 148,\n",
       "   'Direct': True,\n",
       "   'OutboundLeg': {'CarrierIds': [870],\n",
       "    'OriginId': 65368,\n",
       "    'DestinationId': 60987,\n",
       "    'DepartureDate': '2021-12-01T00:00:00'},\n",
       "   'QuoteDateTime': '2021-10-25T15:03:00'}],\n",
       " 'Carriers': [{'CarrierId': 851, 'Name': 'Alaska Airlines'},\n",
       "  {'CarrierId': 870, 'Name': 'jetBlue'}],\n",
       " 'Places': [{'Name': 'New York John F. Kennedy',\n",
       "   'Type': 'Station',\n",
       "   'PlaceId': 60987,\n",
       "   'IataCode': 'JFK',\n",
       "   'SkyscannerCode': 'JFK',\n",
       "   'CityName': 'New York',\n",
       "   'CityId': 'NYCA',\n",
       "   'CountryName': 'United States'},\n",
       "  {'Name': 'Los Angeles International',\n",
       "   'Type': 'Station',\n",
       "   'PlaceId': 65368,\n",
       "   'IataCode': 'LAX',\n",
       "   'SkyscannerCode': 'LAX',\n",
       "   'CityName': 'Los Angeles',\n",
       "   'CityId': 'LAXA',\n",
       "   'CountryName': 'United States'}],\n",
       " 'Currencies': [{'Code': 'USD',\n",
       "   'Symbol': '$',\n",
       "   'ThousandsSeparator': ',',\n",
       "   'DecimalSeparator': '.',\n",
       "   'SymbolOnLeft': True,\n",
       "   'SpaceBetweenAmountAndSymbol': False,\n",
       "   'RoundingCoefficient': 0,\n",
       "   'DecimalDigits': 2}]}"
      ]
     },
     "execution_count": 4,
     "metadata": {},
     "output_type": "execute_result"
    }
   ],
   "source": [
    "# Make an API request from skyscanner\n",
    "\n",
    "flight_response = skyscanner_api(\n",
    "    market_country, \n",
    "    departure_date, \n",
    "    return_date, \n",
    "    departure_airport, \n",
    "    destination_airport, \n",
    "    locale_skyscanner, \n",
    "    currency\n",
    ")\n",
    "\n",
    "flight_response"
   ]
  },
  {
   "cell_type": "code",
   "execution_count": 23,
   "metadata": {},
   "outputs": [],
   "source": [
    "# Extract values for itinerary into variables\n",
    "\n",
    "# Create loop that stores all quotes provided by the API\n",
    "\n",
    "for quote in range(len(flight_response['Quotes'])):\n",
    "\n",
    "    if quote == 0:  # If there's only one quote, everything below will be stored in a variable\n",
    "\n",
    "        flight_price = [flight_response['Quotes'][quote]['MinPrice']]\n",
    "        airline = [flight_response['Carriers'][quote]['Name']]\n",
    "        departure_date_time = flight_response['Quotes'][quote]['OutboundLeg']['DepartureDate']\n",
    "        departure_airport = flight_response['Places'][0]['Name']\n",
    "        departure_airport_code = flight_response['Places'][0]['IataCode']\n",
    "        arrival_airport = flight_response['Places'][1]['Name']\n",
    "        arrival_airport_code = flight_response['Places'][1]['IataCode']\n",
    "        if flight_response['Quotes'][quote]['Direct'] == True:\n",
    "            layover = [\"Direct flight\"]\n",
    "        elif flight_response['Quotes'][quote]['Direct'] != True:\n",
    "            layover = [\"Flight with layover(s)\"]\n",
    "\n",
    "    else: # If there is more than one quote, the new flights and airlines will be appended to their respective variables\n",
    "        new_flight = flight_response['Quotes'][quote]['MinPrice']\n",
    "        new_airline = flight_response['Carriers'][quote]['Name']\n",
    "        flight_price.append(new_flight)\n",
    "        airline.append(new_airline)\n",
    "\n",
    "        if flight_response['Quotes'][quote]['Direct'] == True:\n",
    "            new_layover = \"Direct flight\"\n",
    "            layover.append(new_layover)\n",
    "        elif flight_response['Quotes'][quote]['Direct'] != True:\n",
    "            new_layover = \"Flight with layover(s)\"\n",
    "            layover.append(new_layover)\n"
   ]
  },
  {
   "cell_type": "code",
   "execution_count": 24,
   "metadata": {},
   "outputs": [
    {
     "data": {
      "text/html": [
       "<div>\n",
       "<style scoped>\n",
       "    .dataframe tbody tr th:only-of-type {\n",
       "        vertical-align: middle;\n",
       "    }\n",
       "\n",
       "    .dataframe tbody tr th {\n",
       "        vertical-align: top;\n",
       "    }\n",
       "\n",
       "    .dataframe thead th {\n",
       "        text-align: right;\n",
       "    }\n",
       "</style>\n",
       "<table border=\"1\" class=\"dataframe\">\n",
       "  <thead>\n",
       "    <tr style=\"text-align: right;\">\n",
       "      <th></th>\n",
       "      <th>MinPrice</th>\n",
       "      <th>Direct</th>\n",
       "      <th>QuoteDateTime</th>\n",
       "      <th>OutboundLeg.CarrierIds</th>\n",
       "      <th>OutboundLeg.OriginId</th>\n",
       "      <th>OutboundLeg.DestinationId</th>\n",
       "      <th>OutboundLeg.DepartureDate</th>\n",
       "    </tr>\n",
       "    <tr>\n",
       "      <th>QuoteId</th>\n",
       "      <th></th>\n",
       "      <th></th>\n",
       "      <th></th>\n",
       "      <th></th>\n",
       "      <th></th>\n",
       "      <th></th>\n",
       "      <th></th>\n",
       "    </tr>\n",
       "  </thead>\n",
       "  <tbody>\n",
       "    <tr>\n",
       "      <th>1</th>\n",
       "      <td>104</td>\n",
       "      <td>False</td>\n",
       "      <td>2021-10-25T14:13:00</td>\n",
       "      <td>[851]</td>\n",
       "      <td>65368</td>\n",
       "      <td>60987</td>\n",
       "      <td>2021-12-01T00:00:00</td>\n",
       "    </tr>\n",
       "    <tr>\n",
       "      <th>2</th>\n",
       "      <td>148</td>\n",
       "      <td>True</td>\n",
       "      <td>2021-10-25T15:03:00</td>\n",
       "      <td>[870]</td>\n",
       "      <td>65368</td>\n",
       "      <td>60987</td>\n",
       "      <td>2021-12-01T00:00:00</td>\n",
       "    </tr>\n",
       "  </tbody>\n",
       "</table>\n",
       "</div>"
      ],
      "text/plain": [
       "         MinPrice  Direct        QuoteDateTime OutboundLeg.CarrierIds  \\\n",
       "QuoteId                                                                 \n",
       "1             104   False  2021-10-25T14:13:00                  [851]   \n",
       "2             148    True  2021-10-25T15:03:00                  [870]   \n",
       "\n",
       "         OutboundLeg.OriginId  OutboundLeg.DestinationId  \\\n",
       "QuoteId                                                    \n",
       "1                       65368                      60987   \n",
       "2                       65368                      60987   \n",
       "\n",
       "        OutboundLeg.DepartureDate  \n",
       "QuoteId                            \n",
       "1             2021-12-01T00:00:00  \n",
       "2             2021-12-01T00:00:00  "
      ]
     },
     "execution_count": 24,
     "metadata": {},
     "output_type": "execute_result"
    }
   ],
   "source": [
    "# Create dataframe of quotes\n",
    "\n",
    "quotes_list = flight_response['Quotes']\n",
    "flight_quotes_df = pd.json_normalize(quotes_list).set_index('QuoteId') #json_normalize creates extra columns for the nested fields\n",
    "\n",
    "flight_quotes_df"
   ]
  },
  {
   "cell_type": "code",
   "execution_count": 25,
   "metadata": {},
   "outputs": [
    {
     "data": {
      "text/html": [
       "<div>\n",
       "<style scoped>\n",
       "    .dataframe tbody tr th:only-of-type {\n",
       "        vertical-align: middle;\n",
       "    }\n",
       "\n",
       "    .dataframe tbody tr th {\n",
       "        vertical-align: top;\n",
       "    }\n",
       "\n",
       "    .dataframe thead th {\n",
       "        text-align: right;\n",
       "    }\n",
       "</style>\n",
       "<table border=\"1\" class=\"dataframe\">\n",
       "  <thead>\n",
       "    <tr style=\"text-align: right;\">\n",
       "      <th></th>\n",
       "      <th>MinPrice</th>\n",
       "      <th>Direct</th>\n",
       "      <th>QuoteDateTime</th>\n",
       "      <th>OutboundLeg.CarrierIds</th>\n",
       "      <th>OutboundLeg.OriginId</th>\n",
       "      <th>OutboundLeg.DestinationId</th>\n",
       "      <th>OutboundLeg.DepartureDate</th>\n",
       "    </tr>\n",
       "    <tr>\n",
       "      <th>QuoteId</th>\n",
       "      <th></th>\n",
       "      <th></th>\n",
       "      <th></th>\n",
       "      <th></th>\n",
       "      <th></th>\n",
       "      <th></th>\n",
       "      <th></th>\n",
       "    </tr>\n",
       "  </thead>\n",
       "  <tbody>\n",
       "    <tr>\n",
       "      <th>1</th>\n",
       "      <td>104</td>\n",
       "      <td>False</td>\n",
       "      <td>2021-10-25T14:13:00</td>\n",
       "      <td>[Alaska Airlines]</td>\n",
       "      <td>65368</td>\n",
       "      <td>60987</td>\n",
       "      <td>2021-12-01T00:00:00</td>\n",
       "    </tr>\n",
       "    <tr>\n",
       "      <th>2</th>\n",
       "      <td>148</td>\n",
       "      <td>True</td>\n",
       "      <td>2021-10-25T15:03:00</td>\n",
       "      <td>[jetBlue]</td>\n",
       "      <td>65368</td>\n",
       "      <td>60987</td>\n",
       "      <td>2021-12-01T00:00:00</td>\n",
       "    </tr>\n",
       "  </tbody>\n",
       "</table>\n",
       "</div>"
      ],
      "text/plain": [
       "         MinPrice  Direct        QuoteDateTime OutboundLeg.CarrierIds  \\\n",
       "QuoteId                                                                 \n",
       "1             104   False  2021-10-25T14:13:00      [Alaska Airlines]   \n",
       "2             148    True  2021-10-25T15:03:00              [jetBlue]   \n",
       "\n",
       "         OutboundLeg.OriginId  OutboundLeg.DestinationId  \\\n",
       "QuoteId                                                    \n",
       "1                       65368                      60987   \n",
       "2                       65368                      60987   \n",
       "\n",
       "        OutboundLeg.DepartureDate  \n",
       "QuoteId                            \n",
       "1             2021-12-01T00:00:00  \n",
       "2             2021-12-01T00:00:00  "
      ]
     },
     "execution_count": 25,
     "metadata": {},
     "output_type": "execute_result"
    }
   ],
   "source": [
    "# Replace the CarrierIds by the Carrier Name on flight_quotes_df\n",
    "# This code goes through every quote and can handle quotes that have more than one carrier\n",
    "\n",
    "# Create dataframe of carriers (contains carrier id and name)\n",
    "carriers_df = pd.DataFrame(flight_response['Carriers']).set_index('CarrierId')\n",
    "\n",
    "\n",
    "# Create loop that will replace the Carrier Ids with Carrier Names\n",
    "\n",
    "carriers_row = []\n",
    "carriers = []\n",
    "\n",
    "for row in range(len(flight_quotes_df['OutboundLeg.CarrierIds'])):\n",
    "\n",
    "    # List all carriers for each quote\n",
    "    quote_carriers = flight_quotes_df['OutboundLeg.CarrierIds'].iloc[row]\n",
    "    \n",
    "    # For the row in question: for each carrier, append the Carrier name to a list of carriers in the row\n",
    "    for carrier in range(len(quote_carriers)):\n",
    "        carrier_id = quote_carriers[carrier]\n",
    "        carrier_name = carriers_df.loc[carrier_id]['Name']\n",
    "        carriers_row.append(carrier_name)\n",
    "        \n",
    "    # Store the carriers in each row for all rows\n",
    "    carriers.append(carriers_row)\n",
    "    carriers_row = []\n",
    "\n",
    "# Replace the carrier IDs for carrier names in the flight_quotes_df\n",
    "flight_quotes_df['OutboundLeg.CarrierIds'] = carriers\n",
    "flight_quotes_df\n"
   ]
  },
  {
   "cell_type": "code",
   "execution_count": 26,
   "metadata": {},
   "outputs": [
    {
     "data": {
      "text/html": [
       "<div>\n",
       "<style scoped>\n",
       "    .dataframe tbody tr th:only-of-type {\n",
       "        vertical-align: middle;\n",
       "    }\n",
       "\n",
       "    .dataframe tbody tr th {\n",
       "        vertical-align: top;\n",
       "    }\n",
       "\n",
       "    .dataframe thead th {\n",
       "        text-align: right;\n",
       "    }\n",
       "</style>\n",
       "<table border=\"1\" class=\"dataframe\">\n",
       "  <thead>\n",
       "    <tr style=\"text-align: right;\">\n",
       "      <th></th>\n",
       "      <th>Flight Cost</th>\n",
       "      <th>Direct</th>\n",
       "      <th>QuoteDateTime</th>\n",
       "      <th>Carriers</th>\n",
       "      <th>OutboundLeg.OriginId</th>\n",
       "      <th>OutboundLeg.DestinationId</th>\n",
       "      <th>OutboundLeg.DepartureDate</th>\n",
       "    </tr>\n",
       "    <tr>\n",
       "      <th>QuoteId</th>\n",
       "      <th></th>\n",
       "      <th></th>\n",
       "      <th></th>\n",
       "      <th></th>\n",
       "      <th></th>\n",
       "      <th></th>\n",
       "      <th></th>\n",
       "    </tr>\n",
       "  </thead>\n",
       "  <tbody>\n",
       "    <tr>\n",
       "      <th>1</th>\n",
       "      <td>104</td>\n",
       "      <td>False</td>\n",
       "      <td>2021-10-25T14:13:00</td>\n",
       "      <td>Alaska Airlines</td>\n",
       "      <td>65368</td>\n",
       "      <td>60987</td>\n",
       "      <td>2021-12-01T00:00:00</td>\n",
       "    </tr>\n",
       "    <tr>\n",
       "      <th>2</th>\n",
       "      <td>148</td>\n",
       "      <td>True</td>\n",
       "      <td>2021-10-25T15:03:00</td>\n",
       "      <td>jetBlue</td>\n",
       "      <td>65368</td>\n",
       "      <td>60987</td>\n",
       "      <td>2021-12-01T00:00:00</td>\n",
       "    </tr>\n",
       "  </tbody>\n",
       "</table>\n",
       "</div>"
      ],
      "text/plain": [
       "         Flight Cost  Direct        QuoteDateTime         Carriers  \\\n",
       "QuoteId                                                              \n",
       "1                104   False  2021-10-25T14:13:00  Alaska Airlines   \n",
       "2                148    True  2021-10-25T15:03:00          jetBlue   \n",
       "\n",
       "         OutboundLeg.OriginId  OutboundLeg.DestinationId  \\\n",
       "QuoteId                                                    \n",
       "1                       65368                      60987   \n",
       "2                       65368                      60987   \n",
       "\n",
       "        OutboundLeg.DepartureDate  \n",
       "QuoteId                            \n",
       "1             2021-12-01T00:00:00  \n",
       "2             2021-12-01T00:00:00  "
      ]
     },
     "execution_count": 26,
     "metadata": {},
     "output_type": "execute_result"
    }
   ],
   "source": [
    "# Make changes to dataframe\n",
    "\n",
    "# Rename columns on dataframe\n",
    "flight_quotes_df.rename(columns={'MinPrice': 'Flight Cost', 'OutboundLeg.CarrierIds': 'Carriers'}, inplace=True)\n",
    "\n",
    "\n",
    "# Create loop that transforms the list of carriers for each row into a string\n",
    "\n",
    "rows =[]\n",
    "for item in range(len(flight_quotes_df['Carriers'])):\n",
    "    row_values = flight_quotes_df['Carriers'].iloc[item]\n",
    "    row_as_string = \" \".join(map(str,row_values)) #this turns the list [] into a string with all elements\n",
    "    rows.append(row_as_string)\n",
    "\n",
    "flight_quotes_df['Carriers'] = rows\n",
    "flight_quotes_df"
   ]
  },
  {
   "cell_type": "code",
   "execution_count": 27,
   "metadata": {},
   "outputs": [
    {
     "data": {
      "application/vnd.plotly.v1+json": {
       "config": {
        "plotlyServerURL": "https://plot.ly"
       },
       "data": [
        {
         "alignmentgroup": "True",
         "hovertemplate": "Carriers=%{x}<br>Flight Cost=%{y}<extra></extra>",
         "legendgroup": "",
         "marker": {
          "color": "orange",
          "pattern": {
           "shape": ""
          }
         },
         "name": "",
         "offsetgroup": "",
         "orientation": "v",
         "showlegend": false,
         "textposition": "auto",
         "type": "bar",
         "x": [
          "Alaska Airlines",
          "jetBlue"
         ],
         "xaxis": "x",
         "y": [
          104,
          148
         ],
         "yaxis": "y"
        }
       ],
       "layout": {
        "barmode": "relative",
        "legend": {
         "title": {
          "text": "Price"
         },
         "tracegroupgap": 0
        },
        "template": {
         "data": {
          "bar": [
           {
            "error_x": {
             "color": "#2a3f5f"
            },
            "error_y": {
             "color": "#2a3f5f"
            },
            "marker": {
             "line": {
              "color": "#E5ECF6",
              "width": 0.5
             },
             "pattern": {
              "fillmode": "overlay",
              "size": 10,
              "solidity": 0.2
             }
            },
            "type": "bar"
           }
          ],
          "barpolar": [
           {
            "marker": {
             "line": {
              "color": "#E5ECF6",
              "width": 0.5
             },
             "pattern": {
              "fillmode": "overlay",
              "size": 10,
              "solidity": 0.2
             }
            },
            "type": "barpolar"
           }
          ],
          "carpet": [
           {
            "aaxis": {
             "endlinecolor": "#2a3f5f",
             "gridcolor": "white",
             "linecolor": "white",
             "minorgridcolor": "white",
             "startlinecolor": "#2a3f5f"
            },
            "baxis": {
             "endlinecolor": "#2a3f5f",
             "gridcolor": "white",
             "linecolor": "white",
             "minorgridcolor": "white",
             "startlinecolor": "#2a3f5f"
            },
            "type": "carpet"
           }
          ],
          "choropleth": [
           {
            "colorbar": {
             "outlinewidth": 0,
             "ticks": ""
            },
            "type": "choropleth"
           }
          ],
          "contour": [
           {
            "colorbar": {
             "outlinewidth": 0,
             "ticks": ""
            },
            "colorscale": [
             [
              0,
              "#0d0887"
             ],
             [
              0.1111111111111111,
              "#46039f"
             ],
             [
              0.2222222222222222,
              "#7201a8"
             ],
             [
              0.3333333333333333,
              "#9c179e"
             ],
             [
              0.4444444444444444,
              "#bd3786"
             ],
             [
              0.5555555555555556,
              "#d8576b"
             ],
             [
              0.6666666666666666,
              "#ed7953"
             ],
             [
              0.7777777777777778,
              "#fb9f3a"
             ],
             [
              0.8888888888888888,
              "#fdca26"
             ],
             [
              1,
              "#f0f921"
             ]
            ],
            "type": "contour"
           }
          ],
          "contourcarpet": [
           {
            "colorbar": {
             "outlinewidth": 0,
             "ticks": ""
            },
            "type": "contourcarpet"
           }
          ],
          "heatmap": [
           {
            "colorbar": {
             "outlinewidth": 0,
             "ticks": ""
            },
            "colorscale": [
             [
              0,
              "#0d0887"
             ],
             [
              0.1111111111111111,
              "#46039f"
             ],
             [
              0.2222222222222222,
              "#7201a8"
             ],
             [
              0.3333333333333333,
              "#9c179e"
             ],
             [
              0.4444444444444444,
              "#bd3786"
             ],
             [
              0.5555555555555556,
              "#d8576b"
             ],
             [
              0.6666666666666666,
              "#ed7953"
             ],
             [
              0.7777777777777778,
              "#fb9f3a"
             ],
             [
              0.8888888888888888,
              "#fdca26"
             ],
             [
              1,
              "#f0f921"
             ]
            ],
            "type": "heatmap"
           }
          ],
          "heatmapgl": [
           {
            "colorbar": {
             "outlinewidth": 0,
             "ticks": ""
            },
            "colorscale": [
             [
              0,
              "#0d0887"
             ],
             [
              0.1111111111111111,
              "#46039f"
             ],
             [
              0.2222222222222222,
              "#7201a8"
             ],
             [
              0.3333333333333333,
              "#9c179e"
             ],
             [
              0.4444444444444444,
              "#bd3786"
             ],
             [
              0.5555555555555556,
              "#d8576b"
             ],
             [
              0.6666666666666666,
              "#ed7953"
             ],
             [
              0.7777777777777778,
              "#fb9f3a"
             ],
             [
              0.8888888888888888,
              "#fdca26"
             ],
             [
              1,
              "#f0f921"
             ]
            ],
            "type": "heatmapgl"
           }
          ],
          "histogram": [
           {
            "marker": {
             "pattern": {
              "fillmode": "overlay",
              "size": 10,
              "solidity": 0.2
             }
            },
            "type": "histogram"
           }
          ],
          "histogram2d": [
           {
            "colorbar": {
             "outlinewidth": 0,
             "ticks": ""
            },
            "colorscale": [
             [
              0,
              "#0d0887"
             ],
             [
              0.1111111111111111,
              "#46039f"
             ],
             [
              0.2222222222222222,
              "#7201a8"
             ],
             [
              0.3333333333333333,
              "#9c179e"
             ],
             [
              0.4444444444444444,
              "#bd3786"
             ],
             [
              0.5555555555555556,
              "#d8576b"
             ],
             [
              0.6666666666666666,
              "#ed7953"
             ],
             [
              0.7777777777777778,
              "#fb9f3a"
             ],
             [
              0.8888888888888888,
              "#fdca26"
             ],
             [
              1,
              "#f0f921"
             ]
            ],
            "type": "histogram2d"
           }
          ],
          "histogram2dcontour": [
           {
            "colorbar": {
             "outlinewidth": 0,
             "ticks": ""
            },
            "colorscale": [
             [
              0,
              "#0d0887"
             ],
             [
              0.1111111111111111,
              "#46039f"
             ],
             [
              0.2222222222222222,
              "#7201a8"
             ],
             [
              0.3333333333333333,
              "#9c179e"
             ],
             [
              0.4444444444444444,
              "#bd3786"
             ],
             [
              0.5555555555555556,
              "#d8576b"
             ],
             [
              0.6666666666666666,
              "#ed7953"
             ],
             [
              0.7777777777777778,
              "#fb9f3a"
             ],
             [
              0.8888888888888888,
              "#fdca26"
             ],
             [
              1,
              "#f0f921"
             ]
            ],
            "type": "histogram2dcontour"
           }
          ],
          "mesh3d": [
           {
            "colorbar": {
             "outlinewidth": 0,
             "ticks": ""
            },
            "type": "mesh3d"
           }
          ],
          "parcoords": [
           {
            "line": {
             "colorbar": {
              "outlinewidth": 0,
              "ticks": ""
             }
            },
            "type": "parcoords"
           }
          ],
          "pie": [
           {
            "automargin": true,
            "type": "pie"
           }
          ],
          "scatter": [
           {
            "marker": {
             "colorbar": {
              "outlinewidth": 0,
              "ticks": ""
             }
            },
            "type": "scatter"
           }
          ],
          "scatter3d": [
           {
            "line": {
             "colorbar": {
              "outlinewidth": 0,
              "ticks": ""
             }
            },
            "marker": {
             "colorbar": {
              "outlinewidth": 0,
              "ticks": ""
             }
            },
            "type": "scatter3d"
           }
          ],
          "scattercarpet": [
           {
            "marker": {
             "colorbar": {
              "outlinewidth": 0,
              "ticks": ""
             }
            },
            "type": "scattercarpet"
           }
          ],
          "scattergeo": [
           {
            "marker": {
             "colorbar": {
              "outlinewidth": 0,
              "ticks": ""
             }
            },
            "type": "scattergeo"
           }
          ],
          "scattergl": [
           {
            "marker": {
             "colorbar": {
              "outlinewidth": 0,
              "ticks": ""
             }
            },
            "type": "scattergl"
           }
          ],
          "scattermapbox": [
           {
            "marker": {
             "colorbar": {
              "outlinewidth": 0,
              "ticks": ""
             }
            },
            "type": "scattermapbox"
           }
          ],
          "scatterpolar": [
           {
            "marker": {
             "colorbar": {
              "outlinewidth": 0,
              "ticks": ""
             }
            },
            "type": "scatterpolar"
           }
          ],
          "scatterpolargl": [
           {
            "marker": {
             "colorbar": {
              "outlinewidth": 0,
              "ticks": ""
             }
            },
            "type": "scatterpolargl"
           }
          ],
          "scatterternary": [
           {
            "marker": {
             "colorbar": {
              "outlinewidth": 0,
              "ticks": ""
             }
            },
            "type": "scatterternary"
           }
          ],
          "surface": [
           {
            "colorbar": {
             "outlinewidth": 0,
             "ticks": ""
            },
            "colorscale": [
             [
              0,
              "#0d0887"
             ],
             [
              0.1111111111111111,
              "#46039f"
             ],
             [
              0.2222222222222222,
              "#7201a8"
             ],
             [
              0.3333333333333333,
              "#9c179e"
             ],
             [
              0.4444444444444444,
              "#bd3786"
             ],
             [
              0.5555555555555556,
              "#d8576b"
             ],
             [
              0.6666666666666666,
              "#ed7953"
             ],
             [
              0.7777777777777778,
              "#fb9f3a"
             ],
             [
              0.8888888888888888,
              "#fdca26"
             ],
             [
              1,
              "#f0f921"
             ]
            ],
            "type": "surface"
           }
          ],
          "table": [
           {
            "cells": {
             "fill": {
              "color": "#EBF0F8"
             },
             "line": {
              "color": "white"
             }
            },
            "header": {
             "fill": {
              "color": "#C8D4E3"
             },
             "line": {
              "color": "white"
             }
            },
            "type": "table"
           }
          ]
         },
         "layout": {
          "annotationdefaults": {
           "arrowcolor": "#2a3f5f",
           "arrowhead": 0,
           "arrowwidth": 1
          },
          "autotypenumbers": "strict",
          "coloraxis": {
           "colorbar": {
            "outlinewidth": 0,
            "ticks": ""
           }
          },
          "colorscale": {
           "diverging": [
            [
             0,
             "#8e0152"
            ],
            [
             0.1,
             "#c51b7d"
            ],
            [
             0.2,
             "#de77ae"
            ],
            [
             0.3,
             "#f1b6da"
            ],
            [
             0.4,
             "#fde0ef"
            ],
            [
             0.5,
             "#f7f7f7"
            ],
            [
             0.6,
             "#e6f5d0"
            ],
            [
             0.7,
             "#b8e186"
            ],
            [
             0.8,
             "#7fbc41"
            ],
            [
             0.9,
             "#4d9221"
            ],
            [
             1,
             "#276419"
            ]
           ],
           "sequential": [
            [
             0,
             "#0d0887"
            ],
            [
             0.1111111111111111,
             "#46039f"
            ],
            [
             0.2222222222222222,
             "#7201a8"
            ],
            [
             0.3333333333333333,
             "#9c179e"
            ],
            [
             0.4444444444444444,
             "#bd3786"
            ],
            [
             0.5555555555555556,
             "#d8576b"
            ],
            [
             0.6666666666666666,
             "#ed7953"
            ],
            [
             0.7777777777777778,
             "#fb9f3a"
            ],
            [
             0.8888888888888888,
             "#fdca26"
            ],
            [
             1,
             "#f0f921"
            ]
           ],
           "sequentialminus": [
            [
             0,
             "#0d0887"
            ],
            [
             0.1111111111111111,
             "#46039f"
            ],
            [
             0.2222222222222222,
             "#7201a8"
            ],
            [
             0.3333333333333333,
             "#9c179e"
            ],
            [
             0.4444444444444444,
             "#bd3786"
            ],
            [
             0.5555555555555556,
             "#d8576b"
            ],
            [
             0.6666666666666666,
             "#ed7953"
            ],
            [
             0.7777777777777778,
             "#fb9f3a"
            ],
            [
             0.8888888888888888,
             "#fdca26"
            ],
            [
             1,
             "#f0f921"
            ]
           ]
          },
          "colorway": [
           "#636efa",
           "#EF553B",
           "#00cc96",
           "#ab63fa",
           "#FFA15A",
           "#19d3f3",
           "#FF6692",
           "#B6E880",
           "#FF97FF",
           "#FECB52"
          ],
          "font": {
           "color": "#2a3f5f"
          },
          "geo": {
           "bgcolor": "white",
           "lakecolor": "white",
           "landcolor": "#E5ECF6",
           "showlakes": true,
           "showland": true,
           "subunitcolor": "white"
          },
          "hoverlabel": {
           "align": "left"
          },
          "hovermode": "closest",
          "mapbox": {
           "style": "light"
          },
          "paper_bgcolor": "white",
          "plot_bgcolor": "#E5ECF6",
          "polar": {
           "angularaxis": {
            "gridcolor": "white",
            "linecolor": "white",
            "ticks": ""
           },
           "bgcolor": "#E5ECF6",
           "radialaxis": {
            "gridcolor": "white",
            "linecolor": "white",
            "ticks": ""
           }
          },
          "scene": {
           "xaxis": {
            "backgroundcolor": "#E5ECF6",
            "gridcolor": "white",
            "gridwidth": 2,
            "linecolor": "white",
            "showbackground": true,
            "ticks": "",
            "zerolinecolor": "white"
           },
           "yaxis": {
            "backgroundcolor": "#E5ECF6",
            "gridcolor": "white",
            "gridwidth": 2,
            "linecolor": "white",
            "showbackground": true,
            "ticks": "",
            "zerolinecolor": "white"
           },
           "zaxis": {
            "backgroundcolor": "#E5ECF6",
            "gridcolor": "white",
            "gridwidth": 2,
            "linecolor": "white",
            "showbackground": true,
            "ticks": "",
            "zerolinecolor": "white"
           }
          },
          "shapedefaults": {
           "line": {
            "color": "#2a3f5f"
           }
          },
          "ternary": {
           "aaxis": {
            "gridcolor": "white",
            "linecolor": "white",
            "ticks": ""
           },
           "baxis": {
            "gridcolor": "white",
            "linecolor": "white",
            "ticks": ""
           },
           "bgcolor": "#E5ECF6",
           "caxis": {
            "gridcolor": "white",
            "linecolor": "white",
            "ticks": ""
           }
          },
          "title": {
           "x": 0.05
          },
          "xaxis": {
           "automargin": true,
           "gridcolor": "white",
           "linecolor": "white",
           "ticks": "",
           "title": {
            "standoff": 15
           },
           "zerolinecolor": "white",
           "zerolinewidth": 2
          },
          "yaxis": {
           "automargin": true,
           "gridcolor": "white",
           "linecolor": "white",
           "ticks": "",
           "title": {
            "standoff": 15
           },
           "zerolinecolor": "white",
           "zerolinewidth": 2
          }
         }
        },
        "title": {
         "text": "JFK to LAX Flight Quotes"
        },
        "xaxis": {
         "anchor": "y",
         "domain": [
          0,
          1
         ],
         "title": {
          "text": "Carriers"
         }
        },
        "yaxis": {
         "anchor": "x",
         "domain": [
          0,
          1
         ],
         "title": {
          "text": "Flight Cost (USD)"
         }
        }
       }
      }
     },
     "metadata": {},
     "output_type": "display_data"
    }
   ],
   "source": [
    "# Plot a comparison of the quotes\n",
    "\n",
    "flight_quotes_plot = px.bar(flight_quotes_df, \n",
    "    x='Carriers', \n",
    "    y='Flight Cost',\n",
    "    title = f\"{departure_airport_code} to {arrival_airport_code} Flight Quotes\",\n",
    "    color_discrete_sequence =['orange']*len(flight_quotes_df),\n",
    ")\n",
    "\n",
    "\n",
    "flight_quotes_plot.update_layout(\n",
    "    yaxis_title=\"Flight Cost (USD)\",\n",
    "    hover_datae=\"Price\"\n",
    ")\n",
    "\n",
    "flight_quotes_plot"
   ]
  },
  {
   "cell_type": "code",
   "execution_count": 28,
   "metadata": {},
   "outputs": [
    {
     "name": "stdout",
     "output_type": "stream",
     "text": [
      "Here are some flight options we have found:\n",
      "----------------------------------------------------------\n",
      "Option 1:\n",
      "-Flight with layover(s)-\n",
      "Alaska Airlines for $104, leaving on 2021-12-01\n",
      "Departing from New York John F. Kennedy, JFK\n",
      "Arriving at Los Angeles International, LAX\n",
      " \n",
      "Option 2:\n",
      "-Direct flight-\n",
      "jetBlue for $148, leaving on 2021-12-01\n",
      "Departing from New York John F. Kennedy, JFK\n",
      "Arriving at Los Angeles International, LAX\n",
      " \n"
     ]
    }
   ],
   "source": [
    "# Print itinerary quote(s)\n",
    "\n",
    "if len(flight_response['Quotes']) == 1:  # if there's only one quote, the message below is printed\n",
    "\n",
    "    print(f\"Here's the cheapest flight information we have found:\")\n",
    "    print(f\"----------------------------------------------------------\")\n",
    "    print(f\"-{layover[quote]}-\")\n",
    "    print(f\"{airline} for ${flight_price}, leaving on {departure_date}\")\n",
    "    print(f\"Departing from {departure_airport}, {departure_airport_code}\")\n",
    "    print(f\"Arriving at {arrival_airport}, {arrival_airport_code}\")\n",
    "\n",
    "elif len(flight_response['Quotes']) > 1: # if there's more than one quote, all options are printed\n",
    "    \n",
    "    print(f\"Here are some flight options we have found:\")\n",
    "    print(f\"----------------------------------------------------------\")\n",
    "\n",
    "    for quote in range(len(flight_response['Quotes'])):\n",
    "        print(f\"Option {quote + 1 }:\")\n",
    "        print(f\"-{layover[quote]}-\")\n",
    "        print(f\"{airline[quote]} for ${flight_price[quote]}, leaving on {departure_date}\")\n",
    "        print(f\"Departing from {departure_airport}, {departure_airport_code}\")\n",
    "        print(f\"Arriving at {arrival_airport}, {arrival_airport_code}\")\n",
    "        print(f\" \")\n"
   ]
  },
  {
   "cell_type": "code",
   "execution_count": 29,
   "metadata": {},
   "outputs": [],
   "source": [
    "# Export the flight quotes to a text file that contains the final results\n",
    "\n",
    "# Set output file name\n",
    "output_path = 'flights_output.txt'\n",
    "\n",
    "# Open the output path as a file object\n",
    "with open(output_path, 'w') as file:\n",
    "    if len(flight_response['Quotes']) == 1:  # if there's only one quote, the message below is printed\n",
    "\n",
    "        file.write(f\"Here's the cheapest flight information we have found:\\n\")\n",
    "        file.write(f\"----------------------------------------------------------\\n\")\n",
    "        file.write(f\"-{layover[quote]}-\\n\")\n",
    "        file.write(f\"{airline} for ${flight_price}, leaving on {departure_date}\\n\")\n",
    "        file.write(f\"Departing from {departure_airport}, {departure_airport_code}\\n\")\n",
    "        file.write(f\"Arriving at {arrival_airport}, {arrival_airport_code}\\n\")\n",
    "\n",
    "    elif len(flight_response['Quotes']) > 1: # if there's more than one quote, all options are printed\n",
    "    \n",
    "        file.write(f\"Here are some flight options we have found:\\n\")\n",
    "        file.write(f\"----------------------------------------------------------\\n\")\n",
    "\n",
    "        for quote in range(len(flight_response['Quotes'])):\n",
    "            file.write(f\"Option {quote + 1 }:\\n\")\n",
    "            file.write(f\"-{layover[quote]}-\\n\")\n",
    "            file.write(f\"{airline[quote]} for ${flight_price[quote]}, leaving on {departure_date}\\n\")\n",
    "            file.write(f\"Departing from {departure_airport}, {departure_airport_code}\\n\")\n",
    "            file.write(f\"Arriving at {arrival_airport}, {arrival_airport_code}\\n\")\n",
    "            file.write(f\" \\n\")\n"
   ]
  },
  {
   "cell_type": "markdown",
   "metadata": {},
   "source": [
    "# BOOKING.COM API Requests"
   ]
  },
  {
   "cell_type": "code",
   "execution_count": 57,
   "metadata": {},
   "outputs": [],
   "source": [
    "# Read the Mapbox API key\n",
    "load_dotenv()\n",
    "map_box_api = os.getenv(\"mapbox\")"
   ]
  },
  {
   "cell_type": "code",
   "execution_count": 61,
   "metadata": {},
   "outputs": [],
   "source": [
    "# Make API request from Booking.com for number of hotels in the city by location (districts, landmarks, areas, etc.)\n",
    "location_endpoint_response = booking_locations_api(destination_city, locale_booking)"
   ]
  },
  {
   "cell_type": "code",
   "execution_count": 62,
   "metadata": {},
   "outputs": [
    {
     "data": {
      "text/html": [
       "<div>\n",
       "<style scoped>\n",
       "    .dataframe tbody tr th:only-of-type {\n",
       "        vertical-align: middle;\n",
       "    }\n",
       "\n",
       "    .dataframe tbody tr th {\n",
       "        vertical-align: top;\n",
       "    }\n",
       "\n",
       "    .dataframe thead th {\n",
       "        text-align: right;\n",
       "    }\n",
       "</style>\n",
       "<table border=\"1\" class=\"dataframe\">\n",
       "  <thead>\n",
       "    <tr style=\"text-align: right;\">\n",
       "      <th></th>\n",
       "      <th>name</th>\n",
       "      <th>label</th>\n",
       "      <th>latitude</th>\n",
       "      <th>dest_type</th>\n",
       "      <th>longitude</th>\n",
       "      <th>city_name</th>\n",
       "      <th>nr_hotels</th>\n",
       "    </tr>\n",
       "    <tr>\n",
       "      <th>dest_id</th>\n",
       "      <th></th>\n",
       "      <th></th>\n",
       "      <th></th>\n",
       "      <th></th>\n",
       "      <th></th>\n",
       "      <th></th>\n",
       "      <th></th>\n",
       "    </tr>\n",
       "  </thead>\n",
       "  <tbody>\n",
       "    <tr>\n",
       "      <th>20088325</th>\n",
       "      <td>New York</td>\n",
       "      <td>New York, New York State, United States</td>\n",
       "      <td>40.768074</td>\n",
       "      <td>city</td>\n",
       "      <td>-73.981895</td>\n",
       "      <td>New York</td>\n",
       "      <td>1382</td>\n",
       "    </tr>\n",
       "    <tr>\n",
       "      <th>929</th>\n",
       "      <td>Manhattan</td>\n",
       "      <td>Manhattan, New York, New York State, United St...</td>\n",
       "      <td>40.776115</td>\n",
       "      <td>district</td>\n",
       "      <td>-73.970891</td>\n",
       "      <td>New York</td>\n",
       "      <td>638</td>\n",
       "    </tr>\n",
       "    <tr>\n",
       "      <th>1174</th>\n",
       "      <td>Times Square</td>\n",
       "      <td>Times Square, New York, New York State, United...</td>\n",
       "      <td>40.756727</td>\n",
       "      <td>district</td>\n",
       "      <td>-73.987197</td>\n",
       "      <td>New York</td>\n",
       "      <td>88</td>\n",
       "    </tr>\n",
       "    <tr>\n",
       "      <th>20085207</th>\n",
       "      <td>Brooklyn</td>\n",
       "      <td>Brooklyn, New York State, United States</td>\n",
       "      <td>40.696086</td>\n",
       "      <td>city</td>\n",
       "      <td>-73.984507</td>\n",
       "      <td>Brooklyn</td>\n",
       "      <td>496</td>\n",
       "    </tr>\n",
       "    <tr>\n",
       "      <th>2306</th>\n",
       "      <td>Central New York City</td>\n",
       "      <td>Central New York City, New York, New York Stat...</td>\n",
       "      <td>40.759591</td>\n",
       "      <td>district</td>\n",
       "      <td>-73.984912</td>\n",
       "      <td>New York</td>\n",
       "      <td>252</td>\n",
       "    </tr>\n",
       "  </tbody>\n",
       "</table>\n",
       "</div>"
      ],
      "text/plain": [
       "                           name  \\\n",
       "dest_id                           \n",
       "20088325               New York   \n",
       "929                   Manhattan   \n",
       "1174               Times Square   \n",
       "20085207               Brooklyn   \n",
       "2306      Central New York City   \n",
       "\n",
       "                                                      label   latitude  \\\n",
       "dest_id                                                                  \n",
       "20088325            New York, New York State, United States  40.768074   \n",
       "929       Manhattan, New York, New York State, United St...  40.776115   \n",
       "1174      Times Square, New York, New York State, United...  40.756727   \n",
       "20085207            Brooklyn, New York State, United States  40.696086   \n",
       "2306      Central New York City, New York, New York Stat...  40.759591   \n",
       "\n",
       "         dest_type  longitude city_name  nr_hotels  \n",
       "dest_id                                             \n",
       "20088325      city -73.981895  New York       1382  \n",
       "929       district -73.970891  New York        638  \n",
       "1174      district -73.987197  New York         88  \n",
       "20085207      city -73.984507  Brooklyn        496  \n",
       "2306      district -73.984912  New York        252  "
      ]
     },
     "execution_count": 62,
     "metadata": {},
     "output_type": "execute_result"
    }
   ],
   "source": [
    "# Make changes to the dataframe\n",
    "locations_df = pd.DataFrame.from_dict(location_endpoint_response).set_index('dest_id')\n",
    "locations_df.drop(columns = ['country', 'city_ufi', 'landmark_type', 'region','rtl', 'timezone', 'lc', 'cc1', 'image_url', 'hotels', 'type'], inplace =True)\n",
    "locations_df"
   ]
  },
  {
   "cell_type": "code",
   "execution_count": 63,
   "metadata": {},
   "outputs": [
    {
     "data": {
      "application/vnd.plotly.v1+json": {
       "config": {
        "plotlyServerURL": "https://plot.ly"
       },
       "data": [
        {
         "customdata": [
          [
           "New York",
           "city",
           1382,
           -73.981895,
           40.768074,
           "New York"
          ],
          [
           "Brooklyn",
           "city",
           496,
           -73.984507,
           40.696086,
           "Brooklyn"
          ]
         ],
         "hovertemplate": "<b>%{hovertext}</b><br><br>dest_type=%{customdata[1]}<br>nr_hotels=%{customdata[2]}<br>name=%{customdata[0]}<extra></extra>",
         "hovertext": [
          "New York",
          "Brooklyn"
         ],
         "lat": [
          40.768074,
          40.696086
         ],
         "legendgroup": "city",
         "lon": [
          -73.981895,
          -73.984507
         ],
         "marker": {
          "color": "#636efa",
          "opacity": 0.9,
          "size": [
           1382,
           496
          ],
          "sizemode": "area",
          "sizeref": 3.455
         },
         "mode": "markers",
         "name": "city",
         "showlegend": true,
         "subplot": "mapbox",
         "type": "scattermapbox"
        },
        {
         "customdata": [
          [
           "Manhattan",
           "district",
           638,
           -73.970890883,
           40.7761146670001,
           "New York"
          ],
          [
           "Times Square",
           "district",
           88,
           -73.987197094,
           40.7567268780001,
           "New York"
          ],
          [
           "Central New York City",
           "district",
           252,
           -73.984912181,
           40.7595910840001,
           "New York"
          ]
         ],
         "hovertemplate": "<b>%{hovertext}</b><br><br>dest_type=%{customdata[1]}<br>nr_hotels=%{customdata[2]}<br>name=%{customdata[0]}<extra></extra>",
         "hovertext": [
          "Manhattan",
          "Times Square",
          "Central New York City"
         ],
         "lat": [
          40.7761146670001,
          40.7567268780001,
          40.7595910840001
         ],
         "legendgroup": "district",
         "lon": [
          -73.970890883,
          -73.987197094,
          -73.984912181
         ],
         "marker": {
          "color": "#EF553B",
          "opacity": 0.9,
          "size": [
           638,
           88,
           252
          ],
          "sizemode": "area",
          "sizeref": 3.455
         },
         "mode": "markers",
         "name": "district",
         "showlegend": true,
         "subplot": "mapbox",
         "type": "scattermapbox"
        }
       ],
       "layout": {
        "height": 1000,
        "legend": {
         "itemsizing": "constant",
         "title": {
          "text": "dest_type"
         },
         "tracegroupgap": 0
        },
        "mapbox": {
         "accesstoken": "pk.eyJ1IjoiYW1hcmNlY28iLCJhIjoiY2t1dzhtaHJlNGtlOTJvb2Y2a3Vnc3I5cSJ9.cdjd7d-Jkkf2Om7Y6tZtng",
         "center": {
          "lat": 40.751318525800066,
          "lon": -73.9818804316
         },
         "domain": {
          "x": [
           0,
           1
          ],
          "y": [
           0,
           1
          ]
         },
         "zoom": 10
        },
        "margin": {
         "t": 60
        },
        "template": {
         "data": {
          "bar": [
           {
            "error_x": {
             "color": "#2a3f5f"
            },
            "error_y": {
             "color": "#2a3f5f"
            },
            "marker": {
             "line": {
              "color": "#E5ECF6",
              "width": 0.5
             },
             "pattern": {
              "fillmode": "overlay",
              "size": 10,
              "solidity": 0.2
             }
            },
            "type": "bar"
           }
          ],
          "barpolar": [
           {
            "marker": {
             "line": {
              "color": "#E5ECF6",
              "width": 0.5
             },
             "pattern": {
              "fillmode": "overlay",
              "size": 10,
              "solidity": 0.2
             }
            },
            "type": "barpolar"
           }
          ],
          "carpet": [
           {
            "aaxis": {
             "endlinecolor": "#2a3f5f",
             "gridcolor": "white",
             "linecolor": "white",
             "minorgridcolor": "white",
             "startlinecolor": "#2a3f5f"
            },
            "baxis": {
             "endlinecolor": "#2a3f5f",
             "gridcolor": "white",
             "linecolor": "white",
             "minorgridcolor": "white",
             "startlinecolor": "#2a3f5f"
            },
            "type": "carpet"
           }
          ],
          "choropleth": [
           {
            "colorbar": {
             "outlinewidth": 0,
             "ticks": ""
            },
            "type": "choropleth"
           }
          ],
          "contour": [
           {
            "colorbar": {
             "outlinewidth": 0,
             "ticks": ""
            },
            "colorscale": [
             [
              0,
              "#0d0887"
             ],
             [
              0.1111111111111111,
              "#46039f"
             ],
             [
              0.2222222222222222,
              "#7201a8"
             ],
             [
              0.3333333333333333,
              "#9c179e"
             ],
             [
              0.4444444444444444,
              "#bd3786"
             ],
             [
              0.5555555555555556,
              "#d8576b"
             ],
             [
              0.6666666666666666,
              "#ed7953"
             ],
             [
              0.7777777777777778,
              "#fb9f3a"
             ],
             [
              0.8888888888888888,
              "#fdca26"
             ],
             [
              1,
              "#f0f921"
             ]
            ],
            "type": "contour"
           }
          ],
          "contourcarpet": [
           {
            "colorbar": {
             "outlinewidth": 0,
             "ticks": ""
            },
            "type": "contourcarpet"
           }
          ],
          "heatmap": [
           {
            "colorbar": {
             "outlinewidth": 0,
             "ticks": ""
            },
            "colorscale": [
             [
              0,
              "#0d0887"
             ],
             [
              0.1111111111111111,
              "#46039f"
             ],
             [
              0.2222222222222222,
              "#7201a8"
             ],
             [
              0.3333333333333333,
              "#9c179e"
             ],
             [
              0.4444444444444444,
              "#bd3786"
             ],
             [
              0.5555555555555556,
              "#d8576b"
             ],
             [
              0.6666666666666666,
              "#ed7953"
             ],
             [
              0.7777777777777778,
              "#fb9f3a"
             ],
             [
              0.8888888888888888,
              "#fdca26"
             ],
             [
              1,
              "#f0f921"
             ]
            ],
            "type": "heatmap"
           }
          ],
          "heatmapgl": [
           {
            "colorbar": {
             "outlinewidth": 0,
             "ticks": ""
            },
            "colorscale": [
             [
              0,
              "#0d0887"
             ],
             [
              0.1111111111111111,
              "#46039f"
             ],
             [
              0.2222222222222222,
              "#7201a8"
             ],
             [
              0.3333333333333333,
              "#9c179e"
             ],
             [
              0.4444444444444444,
              "#bd3786"
             ],
             [
              0.5555555555555556,
              "#d8576b"
             ],
             [
              0.6666666666666666,
              "#ed7953"
             ],
             [
              0.7777777777777778,
              "#fb9f3a"
             ],
             [
              0.8888888888888888,
              "#fdca26"
             ],
             [
              1,
              "#f0f921"
             ]
            ],
            "type": "heatmapgl"
           }
          ],
          "histogram": [
           {
            "marker": {
             "pattern": {
              "fillmode": "overlay",
              "size": 10,
              "solidity": 0.2
             }
            },
            "type": "histogram"
           }
          ],
          "histogram2d": [
           {
            "colorbar": {
             "outlinewidth": 0,
             "ticks": ""
            },
            "colorscale": [
             [
              0,
              "#0d0887"
             ],
             [
              0.1111111111111111,
              "#46039f"
             ],
             [
              0.2222222222222222,
              "#7201a8"
             ],
             [
              0.3333333333333333,
              "#9c179e"
             ],
             [
              0.4444444444444444,
              "#bd3786"
             ],
             [
              0.5555555555555556,
              "#d8576b"
             ],
             [
              0.6666666666666666,
              "#ed7953"
             ],
             [
              0.7777777777777778,
              "#fb9f3a"
             ],
             [
              0.8888888888888888,
              "#fdca26"
             ],
             [
              1,
              "#f0f921"
             ]
            ],
            "type": "histogram2d"
           }
          ],
          "histogram2dcontour": [
           {
            "colorbar": {
             "outlinewidth": 0,
             "ticks": ""
            },
            "colorscale": [
             [
              0,
              "#0d0887"
             ],
             [
              0.1111111111111111,
              "#46039f"
             ],
             [
              0.2222222222222222,
              "#7201a8"
             ],
             [
              0.3333333333333333,
              "#9c179e"
             ],
             [
              0.4444444444444444,
              "#bd3786"
             ],
             [
              0.5555555555555556,
              "#d8576b"
             ],
             [
              0.6666666666666666,
              "#ed7953"
             ],
             [
              0.7777777777777778,
              "#fb9f3a"
             ],
             [
              0.8888888888888888,
              "#fdca26"
             ],
             [
              1,
              "#f0f921"
             ]
            ],
            "type": "histogram2dcontour"
           }
          ],
          "mesh3d": [
           {
            "colorbar": {
             "outlinewidth": 0,
             "ticks": ""
            },
            "type": "mesh3d"
           }
          ],
          "parcoords": [
           {
            "line": {
             "colorbar": {
              "outlinewidth": 0,
              "ticks": ""
             }
            },
            "type": "parcoords"
           }
          ],
          "pie": [
           {
            "automargin": true,
            "type": "pie"
           }
          ],
          "scatter": [
           {
            "marker": {
             "colorbar": {
              "outlinewidth": 0,
              "ticks": ""
             }
            },
            "type": "scatter"
           }
          ],
          "scatter3d": [
           {
            "line": {
             "colorbar": {
              "outlinewidth": 0,
              "ticks": ""
             }
            },
            "marker": {
             "colorbar": {
              "outlinewidth": 0,
              "ticks": ""
             }
            },
            "type": "scatter3d"
           }
          ],
          "scattercarpet": [
           {
            "marker": {
             "colorbar": {
              "outlinewidth": 0,
              "ticks": ""
             }
            },
            "type": "scattercarpet"
           }
          ],
          "scattergeo": [
           {
            "marker": {
             "colorbar": {
              "outlinewidth": 0,
              "ticks": ""
             }
            },
            "type": "scattergeo"
           }
          ],
          "scattergl": [
           {
            "marker": {
             "colorbar": {
              "outlinewidth": 0,
              "ticks": ""
             }
            },
            "type": "scattergl"
           }
          ],
          "scattermapbox": [
           {
            "marker": {
             "colorbar": {
              "outlinewidth": 0,
              "ticks": ""
             }
            },
            "type": "scattermapbox"
           }
          ],
          "scatterpolar": [
           {
            "marker": {
             "colorbar": {
              "outlinewidth": 0,
              "ticks": ""
             }
            },
            "type": "scatterpolar"
           }
          ],
          "scatterpolargl": [
           {
            "marker": {
             "colorbar": {
              "outlinewidth": 0,
              "ticks": ""
             }
            },
            "type": "scatterpolargl"
           }
          ],
          "scatterternary": [
           {
            "marker": {
             "colorbar": {
              "outlinewidth": 0,
              "ticks": ""
             }
            },
            "type": "scatterternary"
           }
          ],
          "surface": [
           {
            "colorbar": {
             "outlinewidth": 0,
             "ticks": ""
            },
            "colorscale": [
             [
              0,
              "#0d0887"
             ],
             [
              0.1111111111111111,
              "#46039f"
             ],
             [
              0.2222222222222222,
              "#7201a8"
             ],
             [
              0.3333333333333333,
              "#9c179e"
             ],
             [
              0.4444444444444444,
              "#bd3786"
             ],
             [
              0.5555555555555556,
              "#d8576b"
             ],
             [
              0.6666666666666666,
              "#ed7953"
             ],
             [
              0.7777777777777778,
              "#fb9f3a"
             ],
             [
              0.8888888888888888,
              "#fdca26"
             ],
             [
              1,
              "#f0f921"
             ]
            ],
            "type": "surface"
           }
          ],
          "table": [
           {
            "cells": {
             "fill": {
              "color": "#EBF0F8"
             },
             "line": {
              "color": "white"
             }
            },
            "header": {
             "fill": {
              "color": "#C8D4E3"
             },
             "line": {
              "color": "white"
             }
            },
            "type": "table"
           }
          ]
         },
         "layout": {
          "annotationdefaults": {
           "arrowcolor": "#2a3f5f",
           "arrowhead": 0,
           "arrowwidth": 1
          },
          "autotypenumbers": "strict",
          "coloraxis": {
           "colorbar": {
            "outlinewidth": 0,
            "ticks": ""
           }
          },
          "colorscale": {
           "diverging": [
            [
             0,
             "#8e0152"
            ],
            [
             0.1,
             "#c51b7d"
            ],
            [
             0.2,
             "#de77ae"
            ],
            [
             0.3,
             "#f1b6da"
            ],
            [
             0.4,
             "#fde0ef"
            ],
            [
             0.5,
             "#f7f7f7"
            ],
            [
             0.6,
             "#e6f5d0"
            ],
            [
             0.7,
             "#b8e186"
            ],
            [
             0.8,
             "#7fbc41"
            ],
            [
             0.9,
             "#4d9221"
            ],
            [
             1,
             "#276419"
            ]
           ],
           "sequential": [
            [
             0,
             "#0d0887"
            ],
            [
             0.1111111111111111,
             "#46039f"
            ],
            [
             0.2222222222222222,
             "#7201a8"
            ],
            [
             0.3333333333333333,
             "#9c179e"
            ],
            [
             0.4444444444444444,
             "#bd3786"
            ],
            [
             0.5555555555555556,
             "#d8576b"
            ],
            [
             0.6666666666666666,
             "#ed7953"
            ],
            [
             0.7777777777777778,
             "#fb9f3a"
            ],
            [
             0.8888888888888888,
             "#fdca26"
            ],
            [
             1,
             "#f0f921"
            ]
           ],
           "sequentialminus": [
            [
             0,
             "#0d0887"
            ],
            [
             0.1111111111111111,
             "#46039f"
            ],
            [
             0.2222222222222222,
             "#7201a8"
            ],
            [
             0.3333333333333333,
             "#9c179e"
            ],
            [
             0.4444444444444444,
             "#bd3786"
            ],
            [
             0.5555555555555556,
             "#d8576b"
            ],
            [
             0.6666666666666666,
             "#ed7953"
            ],
            [
             0.7777777777777778,
             "#fb9f3a"
            ],
            [
             0.8888888888888888,
             "#fdca26"
            ],
            [
             1,
             "#f0f921"
            ]
           ]
          },
          "colorway": [
           "#636efa",
           "#EF553B",
           "#00cc96",
           "#ab63fa",
           "#FFA15A",
           "#19d3f3",
           "#FF6692",
           "#B6E880",
           "#FF97FF",
           "#FECB52"
          ],
          "font": {
           "color": "#2a3f5f"
          },
          "geo": {
           "bgcolor": "white",
           "lakecolor": "white",
           "landcolor": "#E5ECF6",
           "showlakes": true,
           "showland": true,
           "subunitcolor": "white"
          },
          "hoverlabel": {
           "align": "left"
          },
          "hovermode": "closest",
          "mapbox": {
           "style": "light"
          },
          "paper_bgcolor": "white",
          "plot_bgcolor": "#E5ECF6",
          "polar": {
           "angularaxis": {
            "gridcolor": "white",
            "linecolor": "white",
            "ticks": ""
           },
           "bgcolor": "#E5ECF6",
           "radialaxis": {
            "gridcolor": "white",
            "linecolor": "white",
            "ticks": ""
           }
          },
          "scene": {
           "xaxis": {
            "backgroundcolor": "#E5ECF6",
            "gridcolor": "white",
            "gridwidth": 2,
            "linecolor": "white",
            "showbackground": true,
            "ticks": "",
            "zerolinecolor": "white"
           },
           "yaxis": {
            "backgroundcolor": "#E5ECF6",
            "gridcolor": "white",
            "gridwidth": 2,
            "linecolor": "white",
            "showbackground": true,
            "ticks": "",
            "zerolinecolor": "white"
           },
           "zaxis": {
            "backgroundcolor": "#E5ECF6",
            "gridcolor": "white",
            "gridwidth": 2,
            "linecolor": "white",
            "showbackground": true,
            "ticks": "",
            "zerolinecolor": "white"
           }
          },
          "shapedefaults": {
           "line": {
            "color": "#2a3f5f"
           }
          },
          "ternary": {
           "aaxis": {
            "gridcolor": "white",
            "linecolor": "white",
            "ticks": ""
           },
           "baxis": {
            "gridcolor": "white",
            "linecolor": "white",
            "ticks": ""
           },
           "bgcolor": "#E5ECF6",
           "caxis": {
            "gridcolor": "white",
            "linecolor": "white",
            "ticks": ""
           }
          },
          "title": {
           "x": 0.05
          },
          "xaxis": {
           "automargin": true,
           "gridcolor": "white",
           "linecolor": "white",
           "ticks": "",
           "title": {
            "standoff": 15
           },
           "zerolinecolor": "white",
           "zerolinewidth": 2
          },
          "yaxis": {
           "automargin": true,
           "gridcolor": "white",
           "linecolor": "white",
           "ticks": "",
           "title": {
            "standoff": 15
           },
           "zerolinecolor": "white",
           "zerolinewidth": 2
          }
         }
        },
        "width": 1000
       }
      }
     },
     "metadata": {},
     "output_type": "display_data"
    }
   ],
   "source": [
    "# Set the mapbox access token\n",
    "px.set_mapbox_access_token(map_box_api)\n",
    "\n",
    "# Create a scatter mapbox to analyze neighborhood info\n",
    "locations_map_plot = px.scatter_mapbox(\n",
    "    locations_df,\n",
    "    lat=\"latitude\",\n",
    "    lon=\"longitude\",\n",
    "    width=1000, \n",
    "    height=1000,\n",
    "    opacity=0.9,\n",
    "    color = locations_df['dest_type'],\n",
    "    size = locations_df['nr_hotels'],\n",
    "    hover_name = locations_df['name'],\n",
    "    hover_data = {'name':True, 'dest_type': True, 'nr_hotels':True, 'longitude': False, 'latitude': False, 'city_name': False},\n",
    "    zoom = 10\n",
    ")\n",
    "\n",
    "locations_map_plot.show()"
   ]
  },
  {
   "cell_type": "code",
   "execution_count": 65,
   "metadata": {},
   "outputs": [],
   "source": [
    "# Make API request from Booking.com for hotels in a specific dest_id (districts, landmarks, areas, etc.)\n",
    "\n",
    "\n",
    "# Select a random dest_id from the locations_df\n",
    "list_dest_ids = locations_df.index.values.tolist()\n",
    "random_dest_id = random.choice(list_dest_ids)\n",
    "dest_type = locations_df.loc[random_dest_id]['dest_type']\n",
    "\n",
    "# Run API request\n",
    "hotels_endpoint_response = booking_hotels_api(dest_type, departure_date, return_date, nr_rooms, locale_booking, random_dest_id, nr_adults)\n",
    "\n"
   ]
  },
  {
   "cell_type": "code",
   "execution_count": 66,
   "metadata": {},
   "outputs": [
    {
     "data": {
      "text/plain": [
       "'20088325'"
      ]
     },
     "execution_count": 66,
     "metadata": {},
     "output_type": "execute_result"
    }
   ],
   "source": [
    "random_dest_id"
   ]
  },
  {
   "cell_type": "code",
   "execution_count": 67,
   "metadata": {},
   "outputs": [
    {
     "data": {
      "text/html": [
       "<div>\n",
       "<style scoped>\n",
       "    .dataframe tbody tr th:only-of-type {\n",
       "        vertical-align: middle;\n",
       "    }\n",
       "\n",
       "    .dataframe tbody tr th {\n",
       "        vertical-align: top;\n",
       "    }\n",
       "\n",
       "    .dataframe thead th {\n",
       "        text-align: right;\n",
       "    }\n",
       "</style>\n",
       "<table border=\"1\" class=\"dataframe\">\n",
       "  <thead>\n",
       "    <tr style=\"text-align: right;\">\n",
       "      <th></th>\n",
       "      <th>hotel_name</th>\n",
       "      <th>min_total_price</th>\n",
       "      <th>distance_to_cc</th>\n",
       "      <th>district</th>\n",
       "      <th>address</th>\n",
       "      <th>zip</th>\n",
       "      <th>review_score_word</th>\n",
       "      <th>review_score</th>\n",
       "      <th>checkout</th>\n",
       "      <th>latitude</th>\n",
       "      <th>longitude</th>\n",
       "      <th>urgency_message</th>\n",
       "      <th>url</th>\n",
       "    </tr>\n",
       "    <tr>\n",
       "      <th>hotel_id</th>\n",
       "      <th></th>\n",
       "      <th></th>\n",
       "      <th></th>\n",
       "      <th></th>\n",
       "      <th></th>\n",
       "      <th></th>\n",
       "      <th></th>\n",
       "      <th></th>\n",
       "      <th></th>\n",
       "      <th></th>\n",
       "      <th></th>\n",
       "      <th></th>\n",
       "      <th></th>\n",
       "    </tr>\n",
       "  </thead>\n",
       "  <tbody>\n",
       "    <tr>\n",
       "      <th>1106729</th>\n",
       "      <td>West Side YMCA</td>\n",
       "      <td>1371.200000</td>\n",
       "      <td>0.35</td>\n",
       "      <td>Upper West Side</td>\n",
       "      <td>5 West 63rd Street</td>\n",
       "      <td>NY 10023</td>\n",
       "      <td>Good</td>\n",
       "      <td>7.3</td>\n",
       "      <td>{'until': '11:00', 'from': ''}</td>\n",
       "      <td>40.770845</td>\n",
       "      <td>-73.980612</td>\n",
       "      <td>NaN</td>\n",
       "      <td>https://www.booking.com/hotel/us/west-side-ymc...</td>\n",
       "    </tr>\n",
       "    <tr>\n",
       "      <th>183147</th>\n",
       "      <td>Pod 51</td>\n",
       "      <td>2486.324425</td>\n",
       "      <td>1.75</td>\n",
       "      <td>Midtown East</td>\n",
       "      <td>230 East 51st Street</td>\n",
       "      <td>NY 10022</td>\n",
       "      <td>Very Good</td>\n",
       "      <td>8.0</td>\n",
       "      <td>{'until': '12:00', 'from': ''}</td>\n",
       "      <td>40.755910</td>\n",
       "      <td>-73.969078</td>\n",
       "      <td>NaN</td>\n",
       "      <td>https://www.booking.com/hotel/us/pod.html</td>\n",
       "    </tr>\n",
       "    <tr>\n",
       "      <th>2377260</th>\n",
       "      <td>Pod Times Square</td>\n",
       "      <td>2729.766550</td>\n",
       "      <td>1.45</td>\n",
       "      <td>Hell's Kitchen</td>\n",
       "      <td>400 West 42nd Street</td>\n",
       "      <td>NY 10036</td>\n",
       "      <td>Very Good</td>\n",
       "      <td>8.5</td>\n",
       "      <td>{'from': '', 'until': '12:00'}</td>\n",
       "      <td>40.758395</td>\n",
       "      <td>-73.993099</td>\n",
       "      <td>NaN</td>\n",
       "      <td>https://www.booking.com/hotel/us/pod-times-squ...</td>\n",
       "    </tr>\n",
       "    <tr>\n",
       "      <th>56276</th>\n",
       "      <td>The New Yorker, A Wyndham Hotel</td>\n",
       "      <td>2754.690250</td>\n",
       "      <td>2.00</td>\n",
       "      <td>Hell's Kitchen</td>\n",
       "      <td>481 Eighth Avenue</td>\n",
       "      <td>NY 10001</td>\n",
       "      <td>Good</td>\n",
       "      <td>7.8</td>\n",
       "      <td>{'until': '12:00', 'from': ''}</td>\n",
       "      <td>40.752628</td>\n",
       "      <td>-73.993352</td>\n",
       "      <td>NaN</td>\n",
       "      <td>https://www.booking.com/hotel/us/new-yorker-ra...</td>\n",
       "    </tr>\n",
       "    <tr>\n",
       "      <th>6162805</th>\n",
       "      <td>TBA Times Square</td>\n",
       "      <td>3225.418700</td>\n",
       "      <td>1.60</td>\n",
       "      <td>Hell's Kitchen</td>\n",
       "      <td>340 West 40th Street</td>\n",
       "      <td>NY 10018</td>\n",
       "      <td>Good</td>\n",
       "      <td>7.4</td>\n",
       "      <td>{'until': '11:00', 'from': '11:00'}</td>\n",
       "      <td>40.756511</td>\n",
       "      <td>-73.992690</td>\n",
       "      <td>NaN</td>\n",
       "      <td>https://www.booking.com/hotel/us/tba-times-squ...</td>\n",
       "    </tr>\n",
       "  </tbody>\n",
       "</table>\n",
       "</div>"
      ],
      "text/plain": [
       "                               hotel_name  min_total_price distance_to_cc  \\\n",
       "hotel_id                                                                    \n",
       "1106729                    West Side YMCA      1371.200000           0.35   \n",
       "183147                             Pod 51      2486.324425           1.75   \n",
       "2377260                  Pod Times Square      2729.766550           1.45   \n",
       "56276     The New Yorker, A Wyndham Hotel      2754.690250           2.00   \n",
       "6162805                  TBA Times Square      3225.418700           1.60   \n",
       "\n",
       "                 district               address        zip review_score_word  \\\n",
       "hotel_id                                                                       \n",
       "1106729   Upper West Side    5 West 63rd Street   NY 10023              Good   \n",
       "183147       Midtown East  230 East 51st Street   NY 10022         Very Good   \n",
       "2377260    Hell's Kitchen  400 West 42nd Street   NY 10036         Very Good   \n",
       "56276      Hell's Kitchen     481 Eighth Avenue  NY 10001               Good   \n",
       "6162805    Hell's Kitchen  340 West 40th Street   NY 10018              Good   \n",
       "\n",
       "          review_score                             checkout   latitude  \\\n",
       "hotel_id                                                                 \n",
       "1106729            7.3       {'until': '11:00', 'from': ''}  40.770845   \n",
       "183147             8.0       {'until': '12:00', 'from': ''}  40.755910   \n",
       "2377260            8.5       {'from': '', 'until': '12:00'}  40.758395   \n",
       "56276              7.8       {'until': '12:00', 'from': ''}  40.752628   \n",
       "6162805            7.4  {'until': '11:00', 'from': '11:00'}  40.756511   \n",
       "\n",
       "          longitude urgency_message  \\\n",
       "hotel_id                              \n",
       "1106729  -73.980612             NaN   \n",
       "183147   -73.969078             NaN   \n",
       "2377260  -73.993099             NaN   \n",
       "56276    -73.993352             NaN   \n",
       "6162805  -73.992690             NaN   \n",
       "\n",
       "                                                        url  \n",
       "hotel_id                                                     \n",
       "1106729   https://www.booking.com/hotel/us/west-side-ymc...  \n",
       "183147            https://www.booking.com/hotel/us/pod.html  \n",
       "2377260   https://www.booking.com/hotel/us/pod-times-squ...  \n",
       "56276     https://www.booking.com/hotel/us/new-yorker-ra...  \n",
       "6162805   https://www.booking.com/hotel/us/tba-times-squ...  "
      ]
     },
     "execution_count": 67,
     "metadata": {},
     "output_type": "execute_result"
    }
   ],
   "source": [
    "# Generate dataframe with hotel results\n",
    "\n",
    "hotels_df = pd.DataFrame.from_dict(hotels_endpoint_response[\"result\"])\n",
    "\n",
    "# Filter out desired columns from dataframe\n",
    "desired_cols = [\"hotel_id\",\"hotel_name\",\"min_total_price\",\"distance_to_cc\", \"district\",\"address\",\"zip\",\"review_score_word\",\"review_score\",\"checkout\",\"latitude\",\"longitude\",\"urgency_message\",\"url\"]\n",
    "hotels_df = hotels_df[hotels_df.columns.intersection(desired_cols)]\n",
    "\n",
    "# Organize dataframe columns, sort by price(lowest to highest) and set index to hotel_id\n",
    "hotels_df = hotels_df.reindex(columns=desired_cols).set_index('hotel_id').sort_values('min_total_price')\n",
    "#hotels_df['min_total_price'] = hotels_df['min_total_price'].map('${:,.2f}'.format)\n",
    "hotels_df.head(5)"
   ]
  },
  {
   "cell_type": "code",
   "execution_count": 68,
   "metadata": {},
   "outputs": [
    {
     "data": {
      "application/vnd.plotly.v1+json": {
       "config": {
        "plotlyServerURL": "https://plot.ly"
       },
       "data": [
        {
         "hovertemplate": "<b>Price</b>: $%{x:.2f} <br> <b>Score</b>: %{y}",
         "hovertext": [
          "West Side YMCA"
         ],
         "legendgroup": "Upper West Side",
         "marker": {
          "color": "#636efa",
          "size": [
           1371.2
          ],
          "sizemode": "area",
          "sizeref": 17.81063875,
          "symbol": "circle"
         },
         "mode": "markers",
         "name": "Upper West Side",
         "orientation": "v",
         "showlegend": true,
         "type": "scatter",
         "x": [
          1371.2
         ],
         "xaxis": "x",
         "y": [
          7.3
         ],
         "yaxis": "y"
        },
        {
         "hovertemplate": "<b>Price</b>: $%{x:.2f} <br> <b>Score</b>: %{y}",
         "hovertext": [
          "Pod 51"
         ],
         "legendgroup": "Midtown East",
         "marker": {
          "color": "#EF553B",
          "size": [
           2486.324425
          ],
          "sizemode": "area",
          "sizeref": 17.81063875,
          "symbol": "circle"
         },
         "mode": "markers",
         "name": "Midtown East",
         "orientation": "v",
         "showlegend": true,
         "type": "scatter",
         "x": [
          2486.324425
         ],
         "xaxis": "x",
         "y": [
          8
         ],
         "yaxis": "y"
        },
        {
         "hovertemplate": "<b>Price</b>: $%{x:.2f} <br> <b>Score</b>: %{y}",
         "hovertext": [
          "Pod Times Square",
          "The New Yorker, A Wyndham Hotel",
          "TBA Times Square",
          "The Belvedere Hotel",
          "Crowne Plaza HY36 Midtown Manhattan, an IHG Hotel",
          "Fairfield Inn & Suites by Marriott New York Midtown Manhattan/Penn Station"
         ],
         "legendgroup": "Hell's Kitchen",
         "marker": {
          "color": "#00cc96",
          "size": [
           2729.76655,
           2754.69025,
           3225.4187,
           4380.4004,
           5566.639,
           6036.655
          ],
          "sizemode": "area",
          "sizeref": 17.81063875,
          "symbol": "circle"
         },
         "mode": "markers",
         "name": "Hell's Kitchen",
         "orientation": "v",
         "showlegend": true,
         "type": "scatter",
         "x": [
          2729.76655,
          2754.69025,
          3225.4187,
          4380.4004,
          5566.639,
          6036.655
         ],
         "xaxis": "x",
         "y": [
          8.5,
          7.8,
          7.4,
          8.3,
          8.6,
          8.1
         ],
         "yaxis": "y"
        },
        {
         "hovertemplate": "<b>Price</b>: $%{x:.2f} <br> <b>Score</b>: %{y}",
         "hovertext": [
          "Holiday Inn Manhattan Financial District, an IHG Hotel",
          "DoubleTree by Hilton New York Downtown"
         ],
         "legendgroup": "Wall Street - Financial District",
         "marker": {
          "color": "#ab63fa",
          "size": [
           3557.4583,
           4149.0175
          ],
          "sizemode": "area",
          "sizeref": 17.81063875,
          "symbol": "circle"
         },
         "mode": "markers",
         "name": "Wall Street - Financial District",
         "orientation": "v",
         "showlegend": true,
         "type": "scatter",
         "x": [
          3557.4583,
          4149.0175
         ],
         "xaxis": "x",
         "y": [
          8.1,
          7.7
         ],
         "yaxis": "y"
        },
        {
         "hovertemplate": "<b>Price</b>: $%{x:.2f} <br> <b>Score</b>: %{y}",
         "hovertext": [
          "Hotel Edison Times Square",
          "MOXY NYC Times Square",
          "Room Mate Grace Boutique Hotel",
          "Hilton Garden Inn Times Square",
          "M Social Hotel Times Square New York",
          "Royalton New York",
          "Embassy Suites By Hilton New York Manhattan Times Square"
         ],
         "legendgroup": "Manhattan",
         "marker": {
          "color": "#FFA15A",
          "size": [
           4275.2425,
           4565.56,
           5186.38045,
           5301.5665,
           5730.043,
           6359.5615,
           7124.2555
          ],
          "sizemode": "area",
          "sizeref": 17.81063875,
          "symbol": "circle"
         },
         "mode": "markers",
         "name": "Manhattan",
         "orientation": "v",
         "showlegend": true,
         "type": "scatter",
         "x": [
          4275.2425,
          4565.56,
          5186.38045,
          5301.5665,
          5730.043,
          6359.5615,
          7124.2555
         ],
         "xaxis": "x",
         "y": [
          7.7,
          8.2,
          8.5,
          8.3,
          8.5,
          8.2,
          8.1
         ],
         "yaxis": "y"
        },
        {
         "hovertemplate": "<b>Price</b>: $%{x:.2f} <br> <b>Score</b>: %{y}",
         "hovertext": [
          "Hotel Hayden New York"
         ],
         "legendgroup": "Chelsea",
         "marker": {
          "color": "#19d3f3",
          "size": [
           4421.893
          ],
          "sizemode": "area",
          "sizeref": 17.81063875,
          "symbol": "circle"
         },
         "mode": "markers",
         "name": "Chelsea",
         "orientation": "v",
         "showlegend": true,
         "type": "scatter",
         "x": [
          4421.893
         ],
         "xaxis": "x",
         "y": [
          8
         ],
         "yaxis": "y"
        },
        {
         "hovertemplate": "<b>Price</b>: $%{x:.2f} <br> <b>Score</b>: %{y}",
         "hovertext": [
          "Freehand New York"
         ],
         "legendgroup": "Gramercy",
         "marker": {
          "color": "#FF6692",
          "size": [
           4805.3875
          ],
          "sizemode": "area",
          "sizeref": 17.81063875,
          "symbol": "circle"
         },
         "mode": "markers",
         "name": "Gramercy",
         "orientation": "v",
         "showlegend": true,
         "type": "scatter",
         "x": [
          4805.3875
         ],
         "xaxis": "x",
         "y": [
          8.5
         ],
         "yaxis": "y"
        },
        {
         "hovertemplate": "<b>Price</b>: $%{x:.2f} <br> <b>Score</b>: %{y}",
         "hovertext": [
          "Hotel Indigo Lower East Side, an IHG Hotel"
         ],
         "legendgroup": "Lower East Side",
         "marker": {
          "color": "#B6E880",
          "size": [
           4890.7156
          ],
          "sizemode": "area",
          "sizeref": 17.81063875,
          "symbol": "circle"
         },
         "mode": "markers",
         "name": "Lower East Side",
         "orientation": "v",
         "showlegend": true,
         "type": "scatter",
         "x": [
          4890.7156
         ],
         "xaxis": "x",
         "y": [
          8.1
         ],
         "yaxis": "y"
        }
       ],
       "layout": {
        "legend": {
         "itemsizing": "constant",
         "title": {
          "text": "District"
         },
         "tracegroupgap": 0
        },
        "template": {
         "data": {
          "bar": [
           {
            "error_x": {
             "color": "#2a3f5f"
            },
            "error_y": {
             "color": "#2a3f5f"
            },
            "marker": {
             "line": {
              "color": "#E5ECF6",
              "width": 0.5
             },
             "pattern": {
              "fillmode": "overlay",
              "size": 10,
              "solidity": 0.2
             }
            },
            "type": "bar"
           }
          ],
          "barpolar": [
           {
            "marker": {
             "line": {
              "color": "#E5ECF6",
              "width": 0.5
             },
             "pattern": {
              "fillmode": "overlay",
              "size": 10,
              "solidity": 0.2
             }
            },
            "type": "barpolar"
           }
          ],
          "carpet": [
           {
            "aaxis": {
             "endlinecolor": "#2a3f5f",
             "gridcolor": "white",
             "linecolor": "white",
             "minorgridcolor": "white",
             "startlinecolor": "#2a3f5f"
            },
            "baxis": {
             "endlinecolor": "#2a3f5f",
             "gridcolor": "white",
             "linecolor": "white",
             "minorgridcolor": "white",
             "startlinecolor": "#2a3f5f"
            },
            "type": "carpet"
           }
          ],
          "choropleth": [
           {
            "colorbar": {
             "outlinewidth": 0,
             "ticks": ""
            },
            "type": "choropleth"
           }
          ],
          "contour": [
           {
            "colorbar": {
             "outlinewidth": 0,
             "ticks": ""
            },
            "colorscale": [
             [
              0,
              "#0d0887"
             ],
             [
              0.1111111111111111,
              "#46039f"
             ],
             [
              0.2222222222222222,
              "#7201a8"
             ],
             [
              0.3333333333333333,
              "#9c179e"
             ],
             [
              0.4444444444444444,
              "#bd3786"
             ],
             [
              0.5555555555555556,
              "#d8576b"
             ],
             [
              0.6666666666666666,
              "#ed7953"
             ],
             [
              0.7777777777777778,
              "#fb9f3a"
             ],
             [
              0.8888888888888888,
              "#fdca26"
             ],
             [
              1,
              "#f0f921"
             ]
            ],
            "type": "contour"
           }
          ],
          "contourcarpet": [
           {
            "colorbar": {
             "outlinewidth": 0,
             "ticks": ""
            },
            "type": "contourcarpet"
           }
          ],
          "heatmap": [
           {
            "colorbar": {
             "outlinewidth": 0,
             "ticks": ""
            },
            "colorscale": [
             [
              0,
              "#0d0887"
             ],
             [
              0.1111111111111111,
              "#46039f"
             ],
             [
              0.2222222222222222,
              "#7201a8"
             ],
             [
              0.3333333333333333,
              "#9c179e"
             ],
             [
              0.4444444444444444,
              "#bd3786"
             ],
             [
              0.5555555555555556,
              "#d8576b"
             ],
             [
              0.6666666666666666,
              "#ed7953"
             ],
             [
              0.7777777777777778,
              "#fb9f3a"
             ],
             [
              0.8888888888888888,
              "#fdca26"
             ],
             [
              1,
              "#f0f921"
             ]
            ],
            "type": "heatmap"
           }
          ],
          "heatmapgl": [
           {
            "colorbar": {
             "outlinewidth": 0,
             "ticks": ""
            },
            "colorscale": [
             [
              0,
              "#0d0887"
             ],
             [
              0.1111111111111111,
              "#46039f"
             ],
             [
              0.2222222222222222,
              "#7201a8"
             ],
             [
              0.3333333333333333,
              "#9c179e"
             ],
             [
              0.4444444444444444,
              "#bd3786"
             ],
             [
              0.5555555555555556,
              "#d8576b"
             ],
             [
              0.6666666666666666,
              "#ed7953"
             ],
             [
              0.7777777777777778,
              "#fb9f3a"
             ],
             [
              0.8888888888888888,
              "#fdca26"
             ],
             [
              1,
              "#f0f921"
             ]
            ],
            "type": "heatmapgl"
           }
          ],
          "histogram": [
           {
            "marker": {
             "pattern": {
              "fillmode": "overlay",
              "size": 10,
              "solidity": 0.2
             }
            },
            "type": "histogram"
           }
          ],
          "histogram2d": [
           {
            "colorbar": {
             "outlinewidth": 0,
             "ticks": ""
            },
            "colorscale": [
             [
              0,
              "#0d0887"
             ],
             [
              0.1111111111111111,
              "#46039f"
             ],
             [
              0.2222222222222222,
              "#7201a8"
             ],
             [
              0.3333333333333333,
              "#9c179e"
             ],
             [
              0.4444444444444444,
              "#bd3786"
             ],
             [
              0.5555555555555556,
              "#d8576b"
             ],
             [
              0.6666666666666666,
              "#ed7953"
             ],
             [
              0.7777777777777778,
              "#fb9f3a"
             ],
             [
              0.8888888888888888,
              "#fdca26"
             ],
             [
              1,
              "#f0f921"
             ]
            ],
            "type": "histogram2d"
           }
          ],
          "histogram2dcontour": [
           {
            "colorbar": {
             "outlinewidth": 0,
             "ticks": ""
            },
            "colorscale": [
             [
              0,
              "#0d0887"
             ],
             [
              0.1111111111111111,
              "#46039f"
             ],
             [
              0.2222222222222222,
              "#7201a8"
             ],
             [
              0.3333333333333333,
              "#9c179e"
             ],
             [
              0.4444444444444444,
              "#bd3786"
             ],
             [
              0.5555555555555556,
              "#d8576b"
             ],
             [
              0.6666666666666666,
              "#ed7953"
             ],
             [
              0.7777777777777778,
              "#fb9f3a"
             ],
             [
              0.8888888888888888,
              "#fdca26"
             ],
             [
              1,
              "#f0f921"
             ]
            ],
            "type": "histogram2dcontour"
           }
          ],
          "mesh3d": [
           {
            "colorbar": {
             "outlinewidth": 0,
             "ticks": ""
            },
            "type": "mesh3d"
           }
          ],
          "parcoords": [
           {
            "line": {
             "colorbar": {
              "outlinewidth": 0,
              "ticks": ""
             }
            },
            "type": "parcoords"
           }
          ],
          "pie": [
           {
            "automargin": true,
            "type": "pie"
           }
          ],
          "scatter": [
           {
            "marker": {
             "colorbar": {
              "outlinewidth": 0,
              "ticks": ""
             }
            },
            "type": "scatter"
           }
          ],
          "scatter3d": [
           {
            "line": {
             "colorbar": {
              "outlinewidth": 0,
              "ticks": ""
             }
            },
            "marker": {
             "colorbar": {
              "outlinewidth": 0,
              "ticks": ""
             }
            },
            "type": "scatter3d"
           }
          ],
          "scattercarpet": [
           {
            "marker": {
             "colorbar": {
              "outlinewidth": 0,
              "ticks": ""
             }
            },
            "type": "scattercarpet"
           }
          ],
          "scattergeo": [
           {
            "marker": {
             "colorbar": {
              "outlinewidth": 0,
              "ticks": ""
             }
            },
            "type": "scattergeo"
           }
          ],
          "scattergl": [
           {
            "marker": {
             "colorbar": {
              "outlinewidth": 0,
              "ticks": ""
             }
            },
            "type": "scattergl"
           }
          ],
          "scattermapbox": [
           {
            "marker": {
             "colorbar": {
              "outlinewidth": 0,
              "ticks": ""
             }
            },
            "type": "scattermapbox"
           }
          ],
          "scatterpolar": [
           {
            "marker": {
             "colorbar": {
              "outlinewidth": 0,
              "ticks": ""
             }
            },
            "type": "scatterpolar"
           }
          ],
          "scatterpolargl": [
           {
            "marker": {
             "colorbar": {
              "outlinewidth": 0,
              "ticks": ""
             }
            },
            "type": "scatterpolargl"
           }
          ],
          "scatterternary": [
           {
            "marker": {
             "colorbar": {
              "outlinewidth": 0,
              "ticks": ""
             }
            },
            "type": "scatterternary"
           }
          ],
          "surface": [
           {
            "colorbar": {
             "outlinewidth": 0,
             "ticks": ""
            },
            "colorscale": [
             [
              0,
              "#0d0887"
             ],
             [
              0.1111111111111111,
              "#46039f"
             ],
             [
              0.2222222222222222,
              "#7201a8"
             ],
             [
              0.3333333333333333,
              "#9c179e"
             ],
             [
              0.4444444444444444,
              "#bd3786"
             ],
             [
              0.5555555555555556,
              "#d8576b"
             ],
             [
              0.6666666666666666,
              "#ed7953"
             ],
             [
              0.7777777777777778,
              "#fb9f3a"
             ],
             [
              0.8888888888888888,
              "#fdca26"
             ],
             [
              1,
              "#f0f921"
             ]
            ],
            "type": "surface"
           }
          ],
          "table": [
           {
            "cells": {
             "fill": {
              "color": "#EBF0F8"
             },
             "line": {
              "color": "white"
             }
            },
            "header": {
             "fill": {
              "color": "#C8D4E3"
             },
             "line": {
              "color": "white"
             }
            },
            "type": "table"
           }
          ]
         },
         "layout": {
          "annotationdefaults": {
           "arrowcolor": "#2a3f5f",
           "arrowhead": 0,
           "arrowwidth": 1
          },
          "autotypenumbers": "strict",
          "coloraxis": {
           "colorbar": {
            "outlinewidth": 0,
            "ticks": ""
           }
          },
          "colorscale": {
           "diverging": [
            [
             0,
             "#8e0152"
            ],
            [
             0.1,
             "#c51b7d"
            ],
            [
             0.2,
             "#de77ae"
            ],
            [
             0.3,
             "#f1b6da"
            ],
            [
             0.4,
             "#fde0ef"
            ],
            [
             0.5,
             "#f7f7f7"
            ],
            [
             0.6,
             "#e6f5d0"
            ],
            [
             0.7,
             "#b8e186"
            ],
            [
             0.8,
             "#7fbc41"
            ],
            [
             0.9,
             "#4d9221"
            ],
            [
             1,
             "#276419"
            ]
           ],
           "sequential": [
            [
             0,
             "#0d0887"
            ],
            [
             0.1111111111111111,
             "#46039f"
            ],
            [
             0.2222222222222222,
             "#7201a8"
            ],
            [
             0.3333333333333333,
             "#9c179e"
            ],
            [
             0.4444444444444444,
             "#bd3786"
            ],
            [
             0.5555555555555556,
             "#d8576b"
            ],
            [
             0.6666666666666666,
             "#ed7953"
            ],
            [
             0.7777777777777778,
             "#fb9f3a"
            ],
            [
             0.8888888888888888,
             "#fdca26"
            ],
            [
             1,
             "#f0f921"
            ]
           ],
           "sequentialminus": [
            [
             0,
             "#0d0887"
            ],
            [
             0.1111111111111111,
             "#46039f"
            ],
            [
             0.2222222222222222,
             "#7201a8"
            ],
            [
             0.3333333333333333,
             "#9c179e"
            ],
            [
             0.4444444444444444,
             "#bd3786"
            ],
            [
             0.5555555555555556,
             "#d8576b"
            ],
            [
             0.6666666666666666,
             "#ed7953"
            ],
            [
             0.7777777777777778,
             "#fb9f3a"
            ],
            [
             0.8888888888888888,
             "#fdca26"
            ],
            [
             1,
             "#f0f921"
            ]
           ]
          },
          "colorway": [
           "#636efa",
           "#EF553B",
           "#00cc96",
           "#ab63fa",
           "#FFA15A",
           "#19d3f3",
           "#FF6692",
           "#B6E880",
           "#FF97FF",
           "#FECB52"
          ],
          "font": {
           "color": "#2a3f5f"
          },
          "geo": {
           "bgcolor": "white",
           "lakecolor": "white",
           "landcolor": "#E5ECF6",
           "showlakes": true,
           "showland": true,
           "subunitcolor": "white"
          },
          "hoverlabel": {
           "align": "left"
          },
          "hovermode": "closest",
          "mapbox": {
           "style": "light"
          },
          "paper_bgcolor": "white",
          "plot_bgcolor": "#E5ECF6",
          "polar": {
           "angularaxis": {
            "gridcolor": "white",
            "linecolor": "white",
            "ticks": ""
           },
           "bgcolor": "#E5ECF6",
           "radialaxis": {
            "gridcolor": "white",
            "linecolor": "white",
            "ticks": ""
           }
          },
          "scene": {
           "xaxis": {
            "backgroundcolor": "#E5ECF6",
            "gridcolor": "white",
            "gridwidth": 2,
            "linecolor": "white",
            "showbackground": true,
            "ticks": "",
            "zerolinecolor": "white"
           },
           "yaxis": {
            "backgroundcolor": "#E5ECF6",
            "gridcolor": "white",
            "gridwidth": 2,
            "linecolor": "white",
            "showbackground": true,
            "ticks": "",
            "zerolinecolor": "white"
           },
           "zaxis": {
            "backgroundcolor": "#E5ECF6",
            "gridcolor": "white",
            "gridwidth": 2,
            "linecolor": "white",
            "showbackground": true,
            "ticks": "",
            "zerolinecolor": "white"
           }
          },
          "shapedefaults": {
           "line": {
            "color": "#2a3f5f"
           }
          },
          "ternary": {
           "aaxis": {
            "gridcolor": "white",
            "linecolor": "white",
            "ticks": ""
           },
           "baxis": {
            "gridcolor": "white",
            "linecolor": "white",
            "ticks": ""
           },
           "bgcolor": "#E5ECF6",
           "caxis": {
            "gridcolor": "white",
            "linecolor": "white",
            "ticks": ""
           }
          },
          "title": {
           "x": 0.05
          },
          "xaxis": {
           "automargin": true,
           "gridcolor": "white",
           "linecolor": "white",
           "ticks": "",
           "title": {
            "standoff": 15
           },
           "zerolinecolor": "white",
           "zerolinewidth": 2
          },
          "yaxis": {
           "automargin": true,
           "gridcolor": "white",
           "linecolor": "white",
           "ticks": "",
           "title": {
            "standoff": 15
           },
           "zerolinecolor": "white",
           "zerolinewidth": 2
          }
         }
        },
        "title": {
         "text": "Hotel Pricing and Reviews by District"
        },
        "xaxis": {
         "anchor": "y",
         "domain": [
          0,
          1
         ],
         "title": {
          "text": "Price in USD for entire stay"
         }
        },
        "yaxis": {
         "anchor": "x",
         "domain": [
          0,
          1
         ],
         "title": {
          "text": "Review Scores"
         }
        }
       }
      }
     },
     "metadata": {},
     "output_type": "display_data"
    }
   ],
   "source": [
    "hotel_pricing_plot = px.scatter(\n",
    "    hotels_df,\n",
    "    x= hotels_df['min_total_price'],\n",
    "    y = hotels_df['review_score'],\n",
    "    color = hotels_df['district'],\n",
    "    size = hotels_df['min_total_price'], \n",
    "    labels=dict(review_score=\"Review Scores\", district=\"District\", min_total_price = \"Price in USD for entire stay\"),\n",
    "    title=\"Hotel Pricing and Reviews by District\" \n",
    ")\n",
    "\n",
    "hotel_pricing_plot.update_traces(hovertemplate ='<b>Price</b>: $%{x:.2f} <br> <b>Score</b>: %{y}')\n",
    "\n",
    "hotel_pricing_plot"
   ]
  },
  {
   "cell_type": "code",
   "execution_count": 87,
   "metadata": {},
   "outputs": [
    {
     "name": "stdout",
     "output_type": "stream",
     "text": [
      "95% of the hotels are within a price range of : (3772.012427388473, 5119.805140111525)\n"
     ]
    },
    {
     "data": {
      "text/plain": [
       "<AxesSubplot:ylabel='Frequency'>"
      ]
     },
     "execution_count": 87,
     "metadata": {},
     "output_type": "execute_result"
    },
    {
     "data": {
      "image/png": "[encoded data removed]",
      "text/plain": [
       "<Figure size 432x288 with 1 Axes>"
      ]
     },
     "metadata": {
      "needs_background": "light"
     },
     "output_type": "display_data"
    }
   ],
   "source": [
    "# Calculate 95% confidence interval\n",
    "\n",
    "#Calculate the sample parameters\n",
    "confidenceLevel = 0.95   # 95% CI given\n",
    "degrees_freedom = len(hotels_df['min_total_price'])-1  #degree of freedom = sample size-1\n",
    "sampleMean = np.mean(hotels_df['min_total_price'])    #sample mean\n",
    "sampleStandardError = st.sem(hotels_df['min_total_price'])  #sample standard error\n",
    "\n",
    "#create 95% confidence interval for the population mean\n",
    "confidenceInterval = st.t.interval(alpha=confidenceLevel, df=degrees_freedom, loc=sampleMean, scale=sampleStandardError)\n",
    "\n",
    "#print the 95% confidence interval for the population mean\n",
    "print(f\"95% of the hotels are within a price range of : {confidenceInterval}\")\n",
    "\n",
    "# plot\n",
    "\n",
    "hotels_95_interval = hotels_df['min_total_price'].plot(kind='hist', bins=10,density=True)\n",
    "hotels_95_interval .axvline(confidenceInterval[0], color='r')\n",
    "hotels_95_interval .axvline(confidenceInterval[1], color='r')\n",
    "hotels_95_interval"
   ]
  },
  {
   "cell_type": "code",
   "execution_count": 50,
   "metadata": {},
   "outputs": [
    {
     "data": {
      "text/html": [
       "<div style=\"width:100%;\"><div style=\"position:relative;width:100%;height:0;padding-bottom:60%;\"><span style=\"color:#565656\">Make this Notebook Trusted to load map: File -> Trust Notebook</span><iframe src=\"about:blank\" style=\"position:absolute;width:100%;height:100%;left:0;top:0;border:none !important;\" data-html=%3C%21DOCTYPE%20html%3E%0A%3Chead%3E%20%20%20%20%0A%20%20%20%20%3Cmeta%20http-equiv%3D%22content-type%22%20content%3D%22text/html%3B%20charset%3DUTF-8%22%20/%3E%0A%20%20%20%20%0A%20%20%20%20%20%20%20%20%3Cscript%3E%0A%20%20%20%20%20%20%20%20%20%20%20%20L_NO_TOUCH%20%3D%20false%3B%0A%20%20%20%20%20%20%20%20%20%20%20%20L_DISABLE_3D%20%3D%20false%3B%0A%20%20%20%20%20%20%20%20%3C/script%3E%0A%20%20%20%20%0A%20%20%20%20%3Cstyle%3Ehtml%2C%20body%20%7Bwidth%3A%20100%25%3Bheight%3A%20100%25%3Bmargin%3A%200%3Bpadding%3A%200%3B%7D%3C/style%3E%0A%20%20%20%20%3Cstyle%3E%23map%20%7Bposition%3Aabsolute%3Btop%3A0%3Bbottom%3A0%3Bright%3A0%3Bleft%3A0%3B%7D%3C/style%3E%0A%20%20%20%20%3Cscript%20src%3D%22https%3A//cdn.jsdelivr.net/npm/leaflet%401.6.0/dist/leaflet.js%22%3E%3C/script%3E%0A%20%20%20%20%3Cscript%20src%3D%22https%3A//code.jquery.com/jquery-1.12.4.min.js%22%3E%3C/script%3E%0A%20%20%20%20%3Cscript%20src%3D%22https%3A//maxcdn.bootstrapcdn.com/bootstrap/3.2.0/js/bootstrap.min.js%22%3E%3C/script%3E%0A%20%20%20%20%3Cscript%20src%3D%22https%3A//cdnjs.cloudflare.com/ajax/libs/Leaflet.awesome-markers/2.0.2/leaflet.awesome-markers.js%22%3E%3C/script%3E%0A%20%20%20%20%3Clink%20rel%3D%22stylesheet%22%20href%3D%22https%3A//cdn.jsdelivr.net/npm/leaflet%401.6.0/dist/leaflet.css%22/%3E%0A%20%20%20%20%3Clink%20rel%3D%22stylesheet%22%20href%3D%22https%3A//maxcdn.bootstrapcdn.com/bootstrap/3.2.0/css/bootstrap.min.css%22/%3E%0A%20%20%20%20%3Clink%20rel%3D%22stylesheet%22%20href%3D%22https%3A//maxcdn.bootstrapcdn.com/bootstrap/3.2.0/css/bootstrap-theme.min.css%22/%3E%0A%20%20%20%20%3Clink%20rel%3D%22stylesheet%22%20href%3D%22https%3A//maxcdn.bootstrapcdn.com/font-awesome/4.6.3/css/font-awesome.min.css%22/%3E%0A%20%20%20%20%3Clink%20rel%3D%22stylesheet%22%20href%3D%22https%3A//cdnjs.cloudflare.com/ajax/libs/Leaflet.awesome-markers/2.0.2/leaflet.awesome-markers.css%22/%3E%0A%20%20%20%20%3Clink%20rel%3D%22stylesheet%22%20href%3D%22https%3A//cdn.jsdelivr.net/gh/python-visualization/folium/folium/templates/leaflet.awesome.rotate.min.css%22/%3E%0A%20%20%20%20%0A%20%20%20%20%20%20%20%20%20%20%20%20%3Cmeta%20name%3D%22viewport%22%20content%3D%22width%3Ddevice-width%2C%0A%20%20%20%20%20%20%20%20%20%20%20%20%20%20%20%20initial-scale%3D1.0%2C%20maximum-scale%3D1.0%2C%20user-scalable%3Dno%22%20/%3E%0A%20%20%20%20%20%20%20%20%20%20%20%20%3Cstyle%3E%0A%20%20%20%20%20%20%20%20%20%20%20%20%20%20%20%20%23map_34e66f4566cb450b8e550cb4f2627b76%20%7B%0A%20%20%20%20%20%20%20%20%20%20%20%20%20%20%20%20%20%20%20%20position%3A%20relative%3B%0A%20%20%20%20%20%20%20%20%20%20%20%20%20%20%20%20%20%20%20%20width%3A%20100.0%25%3B%0A%20%20%20%20%20%20%20%20%20%20%20%20%20%20%20%20%20%20%20%20height%3A%20100.0%25%3B%0A%20%20%20%20%20%20%20%20%20%20%20%20%20%20%20%20%20%20%20%20left%3A%200.0%25%3B%0A%20%20%20%20%20%20%20%20%20%20%20%20%20%20%20%20%20%20%20%20top%3A%200.0%25%3B%0A%20%20%20%20%20%20%20%20%20%20%20%20%20%20%20%20%7D%0A%20%20%20%20%20%20%20%20%20%20%20%20%3C/style%3E%0A%20%20%20%20%20%20%20%20%0A%3C/head%3E%0A%3Cbody%3E%20%20%20%20%0A%20%20%20%20%0A%20%20%20%20%20%20%20%20%20%20%20%20%3Cdiv%20class%3D%22folium-map%22%20id%3D%22map_34e66f4566cb450b8e550cb4f2627b76%22%20%3E%3C/div%3E%0A%20%20%20%20%20%20%20%20%0A%3C/body%3E%0A%3Cscript%3E%20%20%20%20%0A%20%20%20%20%0A%20%20%20%20%20%20%20%20%20%20%20%20var%20map_34e66f4566cb450b8e550cb4f2627b76%20%3D%20L.map%28%0A%20%20%20%20%20%20%20%20%20%20%20%20%20%20%20%20%22map_34e66f4566cb450b8e550cb4f2627b76%22%2C%0A%20%20%20%20%20%20%20%20%20%20%20%20%20%20%20%20%7B%0A%20%20%20%20%20%20%20%20%20%20%20%20%20%20%20%20%20%20%20%20center%3A%20%5B40.7708451%2C%20-73.9806124%5D%2C%0A%20%20%20%20%20%20%20%20%20%20%20%20%20%20%20%20%20%20%20%20crs%3A%20L.CRS.EPSG3857%2C%0A%20%20%20%20%20%20%20%20%20%20%20%20%20%20%20%20%20%20%20%20zoom%3A%2012%2C%0A%20%20%20%20%20%20%20%20%20%20%20%20%20%20%20%20%20%20%20%20zoomControl%3A%20true%2C%0A%20%20%20%20%20%20%20%20%20%20%20%20%20%20%20%20%20%20%20%20preferCanvas%3A%20false%2C%0A%20%20%20%20%20%20%20%20%20%20%20%20%20%20%20%20%7D%0A%20%20%20%20%20%20%20%20%20%20%20%20%29%3B%0A%0A%20%20%20%20%20%20%20%20%20%20%20%20%0A%0A%20%20%20%20%20%20%20%20%0A%20%20%20%20%0A%20%20%20%20%20%20%20%20%20%20%20%20var%20tile_layer_9ed8f7fb09f14c8f88fad673fbfadc14%20%3D%20L.tileLayer%28%0A%20%20%20%20%20%20%20%20%20%20%20%20%20%20%20%20%22https%3A//%7Bs%7D.tile.openstreetmap.org/%7Bz%7D/%7Bx%7D/%7By%7D.png%22%2C%0A%20%20%20%20%20%20%20%20%20%20%20%20%20%20%20%20%7B%22attribution%22%3A%20%22Data%20by%20%5Cu0026copy%3B%20%5Cu003ca%20href%3D%5C%22http%3A//openstreetmap.org%5C%22%5Cu003eOpenStreetMap%5Cu003c/a%5Cu003e%2C%20under%20%5Cu003ca%20href%3D%5C%22http%3A//www.openstreetmap.org/copyright%5C%22%5Cu003eODbL%5Cu003c/a%5Cu003e.%22%2C%20%22detectRetina%22%3A%20false%2C%20%22maxNativeZoom%22%3A%2018%2C%20%22maxZoom%22%3A%2018%2C%20%22minZoom%22%3A%200%2C%20%22noWrap%22%3A%20false%2C%20%22opacity%22%3A%201%2C%20%22subdomains%22%3A%20%22abc%22%2C%20%22tms%22%3A%20false%7D%0A%20%20%20%20%20%20%20%20%20%20%20%20%29.addTo%28map_34e66f4566cb450b8e550cb4f2627b76%29%3B%0A%20%20%20%20%20%20%20%20%0A%20%20%20%20%0A%20%20%20%20%20%20%20%20%20%20%20%20var%20marker_d685746ce44b4128a75f24c44a5c9435%20%3D%20L.marker%28%0A%20%20%20%20%20%20%20%20%20%20%20%20%20%20%20%20%5B40.7708451%2C%20-73.9806124%5D%2C%0A%20%20%20%20%20%20%20%20%20%20%20%20%20%20%20%20%7B%7D%0A%20%20%20%20%20%20%20%20%20%20%20%20%29.addTo%28map_34e66f4566cb450b8e550cb4f2627b76%29%3B%0A%20%20%20%20%20%20%20%20%0A%20%20%20%20%0A%20%20%20%20%20%20%20%20%20%20%20%20var%20icon_5180b712d3154f229da30a88e26f5151%20%3D%20L.AwesomeMarkers.icon%28%0A%20%20%20%20%20%20%20%20%20%20%20%20%20%20%20%20%7B%22extraClasses%22%3A%20%22fa-rotate-0%22%2C%20%22icon%22%3A%20%22bed%22%2C%20%22iconColor%22%3A%20%22white%22%2C%20%22markerColor%22%3A%20%22blue%22%2C%20%22prefix%22%3A%20%22fa%22%7D%0A%20%20%20%20%20%20%20%20%20%20%20%20%29%3B%0A%20%20%20%20%20%20%20%20%20%20%20%20marker_d685746ce44b4128a75f24c44a5c9435.setIcon%28icon_5180b712d3154f229da30a88e26f5151%29%3B%0A%20%20%20%20%20%20%20%20%0A%20%20%20%20%0A%20%20%20%20%20%20%20%20var%20popup_1296778905b0444e91569177284574f6%20%3D%20L.popup%28%7B%22maxWidth%22%3A%20%22100%25%22%7D%29%3B%0A%0A%20%20%20%20%20%20%20%20%0A%20%20%20%20%20%20%20%20%20%20%20%20var%20html_86377b39de4842c88beccfe361c733fd%20%3D%20%24%28%60%3Cdiv%20id%3D%22html_86377b39de4842c88beccfe361c733fd%22%20style%3D%22width%3A%20100.0%25%3B%20height%3A%20100.0%25%3B%22%3E7.3/10%3C/div%3E%60%29%5B0%5D%3B%0A%20%20%20%20%20%20%20%20%20%20%20%20popup_1296778905b0444e91569177284574f6.setContent%28html_86377b39de4842c88beccfe361c733fd%29%3B%0A%20%20%20%20%20%20%20%20%0A%0A%20%20%20%20%20%20%20%20marker_d685746ce44b4128a75f24c44a5c9435.bindPopup%28popup_1296778905b0444e91569177284574f6%29%0A%20%20%20%20%20%20%20%20%3B%0A%0A%20%20%20%20%20%20%20%20%0A%20%20%20%20%0A%20%20%20%20%0A%20%20%20%20%20%20%20%20%20%20%20%20marker_d685746ce44b4128a75f24c44a5c9435.bindTooltip%28%0A%20%20%20%20%20%20%20%20%20%20%20%20%20%20%20%20%60%3Cdiv%3E%0A%20%20%20%20%20%20%20%20%20%20%20%20%20%20%20%20%20%20%20%20%20West%20Side%20YMCA%0A%20%20%20%20%20%20%20%20%20%20%20%20%20%20%20%20%20%3C/div%3E%60%2C%0A%20%20%20%20%20%20%20%20%20%20%20%20%20%20%20%20%7B%22sticky%22%3A%20true%7D%0A%20%20%20%20%20%20%20%20%20%20%20%20%29%3B%0A%20%20%20%20%20%20%20%20%0A%20%20%20%20%0A%20%20%20%20%20%20%20%20%20%20%20%20var%20marker_1b9dd03986bc4720b544194e551fd637%20%3D%20L.marker%28%0A%20%20%20%20%20%20%20%20%20%20%20%20%20%20%20%20%5B40.7583945%2C%20-73.9930985%5D%2C%0A%20%20%20%20%20%20%20%20%20%20%20%20%20%20%20%20%7B%7D%0A%20%20%20%20%20%20%20%20%20%20%20%20%29.addTo%28map_34e66f4566cb450b8e550cb4f2627b76%29%3B%0A%20%20%20%20%20%20%20%20%0A%20%20%20%20%0A%20%20%20%20%20%20%20%20%20%20%20%20var%20icon_bed02382924f4467a56040b0f364ab47%20%3D%20L.AwesomeMarkers.icon%28%0A%20%20%20%20%20%20%20%20%20%20%20%20%20%20%20%20%7B%22extraClasses%22%3A%20%22fa-rotate-0%22%2C%20%22icon%22%3A%20%22bed%22%2C%20%22iconColor%22%3A%20%22white%22%2C%20%22markerColor%22%3A%20%22blue%22%2C%20%22prefix%22%3A%20%22fa%22%7D%0A%20%20%20%20%20%20%20%20%20%20%20%20%29%3B%0A%20%20%20%20%20%20%20%20%20%20%20%20marker_1b9dd03986bc4720b544194e551fd637.setIcon%28icon_bed02382924f4467a56040b0f364ab47%29%3B%0A%20%20%20%20%20%20%20%20%0A%20%20%20%20%0A%20%20%20%20%20%20%20%20var%20popup_4d00d62011a9460b99f950cd4403c32e%20%3D%20L.popup%28%7B%22maxWidth%22%3A%20%22100%25%22%7D%29%3B%0A%0A%20%20%20%20%20%20%20%20%0A%20%20%20%20%20%20%20%20%20%20%20%20var%20html_f7911d0c1aa7477e9f1d78d667c62f44%20%3D%20%24%28%60%3Cdiv%20id%3D%22html_f7911d0c1aa7477e9f1d78d667c62f44%22%20style%3D%22width%3A%20100.0%25%3B%20height%3A%20100.0%25%3B%22%3E8.5/10%3C/div%3E%60%29%5B0%5D%3B%0A%20%20%20%20%20%20%20%20%20%20%20%20popup_4d00d62011a9460b99f950cd4403c32e.setContent%28html_f7911d0c1aa7477e9f1d78d667c62f44%29%3B%0A%20%20%20%20%20%20%20%20%0A%0A%20%20%20%20%20%20%20%20marker_1b9dd03986bc4720b544194e551fd637.bindPopup%28popup_4d00d62011a9460b99f950cd4403c32e%29%0A%20%20%20%20%20%20%20%20%3B%0A%0A%20%20%20%20%20%20%20%20%0A%20%20%20%20%0A%20%20%20%20%0A%20%20%20%20%20%20%20%20%20%20%20%20marker_1b9dd03986bc4720b544194e551fd637.bindTooltip%28%0A%20%20%20%20%20%20%20%20%20%20%20%20%20%20%20%20%60%3Cdiv%3E%0A%20%20%20%20%20%20%20%20%20%20%20%20%20%20%20%20%20%20%20%20%20Pod%20Times%20Square%0A%20%20%20%20%20%20%20%20%20%20%20%20%20%20%20%20%20%3C/div%3E%60%2C%0A%20%20%20%20%20%20%20%20%20%20%20%20%20%20%20%20%7B%22sticky%22%3A%20true%7D%0A%20%20%20%20%20%20%20%20%20%20%20%20%29%3B%0A%20%20%20%20%20%20%20%20%0A%20%20%20%20%0A%20%20%20%20%20%20%20%20%20%20%20%20var%20marker_396e5369e7434bbb93bf41eb55a8106b%20%3D%20L.marker%28%0A%20%20%20%20%20%20%20%20%20%20%20%20%20%20%20%20%5B40.7526284209899%2C%20-73.9933524280787%5D%2C%0A%20%20%20%20%20%20%20%20%20%20%20%20%20%20%20%20%7B%7D%0A%20%20%20%20%20%20%20%20%20%20%20%20%29.addTo%28map_34e66f4566cb450b8e550cb4f2627b76%29%3B%0A%20%20%20%20%20%20%20%20%0A%20%20%20%20%0A%20%20%20%20%20%20%20%20%20%20%20%20var%20icon_50bf847535b94ecaae01fb52fa8a8c49%20%3D%20L.AwesomeMarkers.icon%28%0A%20%20%20%20%20%20%20%20%20%20%20%20%20%20%20%20%7B%22extraClasses%22%3A%20%22fa-rotate-0%22%2C%20%22icon%22%3A%20%22bed%22%2C%20%22iconColor%22%3A%20%22white%22%2C%20%22markerColor%22%3A%20%22blue%22%2C%20%22prefix%22%3A%20%22fa%22%7D%0A%20%20%20%20%20%20%20%20%20%20%20%20%29%3B%0A%20%20%20%20%20%20%20%20%20%20%20%20marker_396e5369e7434bbb93bf41eb55a8106b.setIcon%28icon_50bf847535b94ecaae01fb52fa8a8c49%29%3B%0A%20%20%20%20%20%20%20%20%0A%20%20%20%20%0A%20%20%20%20%20%20%20%20var%20popup_8d4b4796b87c44f8b273c8d7dacd4feb%20%3D%20L.popup%28%7B%22maxWidth%22%3A%20%22100%25%22%7D%29%3B%0A%0A%20%20%20%20%20%20%20%20%0A%20%20%20%20%20%20%20%20%20%20%20%20var%20html_e2f50492208b46419064cfb1f9062339%20%3D%20%24%28%60%3Cdiv%20id%3D%22html_e2f50492208b46419064cfb1f9062339%22%20style%3D%22width%3A%20100.0%25%3B%20height%3A%20100.0%25%3B%22%3E7.8/10%3C/div%3E%60%29%5B0%5D%3B%0A%20%20%20%20%20%20%20%20%20%20%20%20popup_8d4b4796b87c44f8b273c8d7dacd4feb.setContent%28html_e2f50492208b46419064cfb1f9062339%29%3B%0A%20%20%20%20%20%20%20%20%0A%0A%20%20%20%20%20%20%20%20marker_396e5369e7434bbb93bf41eb55a8106b.bindPopup%28popup_8d4b4796b87c44f8b273c8d7dacd4feb%29%0A%20%20%20%20%20%20%20%20%3B%0A%0A%20%20%20%20%20%20%20%20%0A%20%20%20%20%0A%20%20%20%20%0A%20%20%20%20%20%20%20%20%20%20%20%20marker_396e5369e7434bbb93bf41eb55a8106b.bindTooltip%28%0A%20%20%20%20%20%20%20%20%20%20%20%20%20%20%20%20%60%3Cdiv%3E%0A%20%20%20%20%20%20%20%20%20%20%20%20%20%20%20%20%20%20%20%20%20The%20New%20Yorker%2C%20A%20Wyndham%20Hotel%0A%20%20%20%20%20%20%20%20%20%20%20%20%20%20%20%20%20%3C/div%3E%60%2C%0A%20%20%20%20%20%20%20%20%20%20%20%20%20%20%20%20%7B%22sticky%22%3A%20true%7D%0A%20%20%20%20%20%20%20%20%20%20%20%20%29%3B%0A%20%20%20%20%20%20%20%20%0A%20%20%20%20%0A%20%20%20%20%20%20%20%20%20%20%20%20var%20marker_1559ef1822d14e6ebeaa34ceade34b53%20%3D%20L.marker%28%0A%20%20%20%20%20%20%20%20%20%20%20%20%20%20%20%20%5B40.7082110697503%2C%20-74.0141777374344%5D%2C%0A%20%20%20%20%20%20%20%20%20%20%20%20%20%20%20%20%7B%7D%0A%20%20%20%20%20%20%20%20%20%20%20%20%29.addTo%28map_34e66f4566cb450b8e550cb4f2627b76%29%3B%0A%20%20%20%20%20%20%20%20%0A%20%20%20%20%0A%20%20%20%20%20%20%20%20%20%20%20%20var%20icon_4339cb3761f945e283fef50877ce19c3%20%3D%20L.AwesomeMarkers.icon%28%0A%20%20%20%20%20%20%20%20%20%20%20%20%20%20%20%20%7B%22extraClasses%22%3A%20%22fa-rotate-0%22%2C%20%22icon%22%3A%20%22bed%22%2C%20%22iconColor%22%3A%20%22white%22%2C%20%22markerColor%22%3A%20%22blue%22%2C%20%22prefix%22%3A%20%22fa%22%7D%0A%20%20%20%20%20%20%20%20%20%20%20%20%29%3B%0A%20%20%20%20%20%20%20%20%20%20%20%20marker_1559ef1822d14e6ebeaa34ceade34b53.setIcon%28icon_4339cb3761f945e283fef50877ce19c3%29%3B%0A%20%20%20%20%20%20%20%20%0A%20%20%20%20%0A%20%20%20%20%20%20%20%20var%20popup_816a38a03202413787548e24034bb079%20%3D%20L.popup%28%7B%22maxWidth%22%3A%20%22100%25%22%7D%29%3B%0A%0A%20%20%20%20%20%20%20%20%0A%20%20%20%20%20%20%20%20%20%20%20%20var%20html_2ff7827e6c9241aa8974ae62ca66deef%20%3D%20%24%28%60%3Cdiv%20id%3D%22html_2ff7827e6c9241aa8974ae62ca66deef%22%20style%3D%22width%3A%20100.0%25%3B%20height%3A%20100.0%25%3B%22%3E8.1/10%3C/div%3E%60%29%5B0%5D%3B%0A%20%20%20%20%20%20%20%20%20%20%20%20popup_816a38a03202413787548e24034bb079.setContent%28html_2ff7827e6c9241aa8974ae62ca66deef%29%3B%0A%20%20%20%20%20%20%20%20%0A%0A%20%20%20%20%20%20%20%20marker_1559ef1822d14e6ebeaa34ceade34b53.bindPopup%28popup_816a38a03202413787548e24034bb079%29%0A%20%20%20%20%20%20%20%20%3B%0A%0A%20%20%20%20%20%20%20%20%0A%20%20%20%20%0A%20%20%20%20%0A%20%20%20%20%20%20%20%20%20%20%20%20marker_1559ef1822d14e6ebeaa34ceade34b53.bindTooltip%28%0A%20%20%20%20%20%20%20%20%20%20%20%20%20%20%20%20%60%3Cdiv%3E%0A%20%20%20%20%20%20%20%20%20%20%20%20%20%20%20%20%20%20%20%20%20Holiday%20Inn%20Manhattan%20Financial%20District%2C%20an%20IHG%20Hotel%0A%20%20%20%20%20%20%20%20%20%20%20%20%20%20%20%20%20%3C/div%3E%60%2C%0A%20%20%20%20%20%20%20%20%20%20%20%20%20%20%20%20%7B%22sticky%22%3A%20true%7D%0A%20%20%20%20%20%20%20%20%20%20%20%20%29%3B%0A%20%20%20%20%20%20%20%20%0A%20%20%20%20%0A%20%20%20%20%20%20%20%20%20%20%20%20var%20marker_600717f38f974e12ab1d5c467663e599%20%3D%20L.marker%28%0A%20%20%20%20%20%20%20%20%20%20%20%20%20%20%20%20%5B40.7596825%2C%20-73.9863504%5D%2C%0A%20%20%20%20%20%20%20%20%20%20%20%20%20%20%20%20%7B%7D%0A%20%20%20%20%20%20%20%20%20%20%20%20%29.addTo%28map_34e66f4566cb450b8e550cb4f2627b76%29%3B%0A%20%20%20%20%20%20%20%20%0A%20%20%20%20%0A%20%20%20%20%20%20%20%20%20%20%20%20var%20icon_b1091079ae744dbaa88a8a98279588a8%20%3D%20L.AwesomeMarkers.icon%28%0A%20%20%20%20%20%20%20%20%20%20%20%20%20%20%20%20%7B%22extraClasses%22%3A%20%22fa-rotate-0%22%2C%20%22icon%22%3A%20%22bed%22%2C%20%22iconColor%22%3A%20%22white%22%2C%20%22markerColor%22%3A%20%22blue%22%2C%20%22prefix%22%3A%20%22fa%22%7D%0A%20%20%20%20%20%20%20%20%20%20%20%20%29%3B%0A%20%20%20%20%20%20%20%20%20%20%20%20marker_600717f38f974e12ab1d5c467663e599.setIcon%28icon_b1091079ae744dbaa88a8a98279588a8%29%3B%0A%20%20%20%20%20%20%20%20%0A%20%20%20%20%0A%20%20%20%20%20%20%20%20var%20popup_3556bc2d44dd47ebbef8beb2e7620227%20%3D%20L.popup%28%7B%22maxWidth%22%3A%20%22100%25%22%7D%29%3B%0A%0A%20%20%20%20%20%20%20%20%0A%20%20%20%20%20%20%20%20%20%20%20%20var%20html_8b6620455d764effb3d332378c9818b1%20%3D%20%24%28%60%3Cdiv%20id%3D%22html_8b6620455d764effb3d332378c9818b1%22%20style%3D%22width%3A%20100.0%25%3B%20height%3A%20100.0%25%3B%22%3E7.7/10%3C/div%3E%60%29%5B0%5D%3B%0A%20%20%20%20%20%20%20%20%20%20%20%20popup_3556bc2d44dd47ebbef8beb2e7620227.setContent%28html_8b6620455d764effb3d332378c9818b1%29%3B%0A%20%20%20%20%20%20%20%20%0A%0A%20%20%20%20%20%20%20%20marker_600717f38f974e12ab1d5c467663e599.bindPopup%28popup_3556bc2d44dd47ebbef8beb2e7620227%29%0A%20%20%20%20%20%20%20%20%3B%0A%0A%20%20%20%20%20%20%20%20%0A%20%20%20%20%0A%20%20%20%20%0A%20%20%20%20%20%20%20%20%20%20%20%20marker_600717f38f974e12ab1d5c467663e599.bindTooltip%28%0A%20%20%20%20%20%20%20%20%20%20%20%20%20%20%20%20%60%3Cdiv%3E%0A%20%20%20%20%20%20%20%20%20%20%20%20%20%20%20%20%20%20%20%20%20Hotel%20Edison%20Times%20Square%0A%20%20%20%20%20%20%20%20%20%20%20%20%20%20%20%20%20%3C/div%3E%60%2C%0A%20%20%20%20%20%20%20%20%20%20%20%20%20%20%20%20%7B%22sticky%22%3A%20true%7D%0A%20%20%20%20%20%20%20%20%20%20%20%20%29%3B%0A%20%20%20%20%20%20%20%20%0A%20%20%20%20%0A%20%20%20%20%20%20%20%20%20%20%20%20var%20marker_01c1d2e77df44085a5b992f3faac6599%20%3D%20L.marker%28%0A%20%20%20%20%20%20%20%20%20%20%20%20%20%20%20%20%5B40.7468737613227%2C%20-73.9921530466964%5D%2C%0A%20%20%20%20%20%20%20%20%20%20%20%20%20%20%20%20%7B%7D%0A%20%20%20%20%20%20%20%20%20%20%20%20%29.addTo%28map_34e66f4566cb450b8e550cb4f2627b76%29%3B%0A%20%20%20%20%20%20%20%20%0A%20%20%20%20%0A%20%20%20%20%20%20%20%20%20%20%20%20var%20icon_78128ce4b85d40918ba171fc72f29f99%20%3D%20L.AwesomeMarkers.icon%28%0A%20%20%20%20%20%20%20%20%20%20%20%20%20%20%20%20%7B%22extraClasses%22%3A%20%22fa-rotate-0%22%2C%20%22icon%22%3A%20%22bed%22%2C%20%22iconColor%22%3A%20%22white%22%2C%20%22markerColor%22%3A%20%22blue%22%2C%20%22prefix%22%3A%20%22fa%22%7D%0A%20%20%20%20%20%20%20%20%20%20%20%20%29%3B%0A%20%20%20%20%20%20%20%20%20%20%20%20marker_01c1d2e77df44085a5b992f3faac6599.setIcon%28icon_78128ce4b85d40918ba171fc72f29f99%29%3B%0A%20%20%20%20%20%20%20%20%0A%20%20%20%20%0A%20%20%20%20%20%20%20%20var%20popup_6469f1a546f94f5a9b6b550cc88fbbeb%20%3D%20L.popup%28%7B%22maxWidth%22%3A%20%22100%25%22%7D%29%3B%0A%0A%20%20%20%20%20%20%20%20%0A%20%20%20%20%20%20%20%20%20%20%20%20var%20html_d102536e208244ee9788f5c5718dd126%20%3D%20%24%28%60%3Cdiv%20id%3D%22html_d102536e208244ee9788f5c5718dd126%22%20style%3D%22width%3A%20100.0%25%3B%20height%3A%20100.0%25%3B%22%3E8.0/10%3C/div%3E%60%29%5B0%5D%3B%0A%20%20%20%20%20%20%20%20%20%20%20%20popup_6469f1a546f94f5a9b6b550cc88fbbeb.setContent%28html_d102536e208244ee9788f5c5718dd126%29%3B%0A%20%20%20%20%20%20%20%20%0A%0A%20%20%20%20%20%20%20%20marker_01c1d2e77df44085a5b992f3faac6599.bindPopup%28popup_6469f1a546f94f5a9b6b550cc88fbbeb%29%0A%20%20%20%20%20%20%20%20%3B%0A%0A%20%20%20%20%20%20%20%20%0A%20%20%20%20%0A%20%20%20%20%0A%20%20%20%20%20%20%20%20%20%20%20%20marker_01c1d2e77df44085a5b992f3faac6599.bindTooltip%28%0A%20%20%20%20%20%20%20%20%20%20%20%20%20%20%20%20%60%3Cdiv%3E%0A%20%20%20%20%20%20%20%20%20%20%20%20%20%20%20%20%20%20%20%20%20Hotel%20Hayden%20New%20York%0A%20%20%20%20%20%20%20%20%20%20%20%20%20%20%20%20%20%3C/div%3E%60%2C%0A%20%20%20%20%20%20%20%20%20%20%20%20%20%20%20%20%7B%22sticky%22%3A%20true%7D%0A%20%20%20%20%20%20%20%20%20%20%20%20%29%3B%0A%20%20%20%20%20%20%20%20%0A%20%20%20%20%0A%20%20%20%20%20%20%20%20%20%20%20%20var%20marker_effc5aa44591418bb7650addad3cd497%20%3D%20L.marker%28%0A%20%20%20%20%20%20%20%20%20%20%20%20%20%20%20%20%5B40.7641430317166%2C%20-73.9826068282127%5D%2C%0A%20%20%20%20%20%20%20%20%20%20%20%20%20%20%20%20%7B%7D%0A%20%20%20%20%20%20%20%20%20%20%20%20%29.addTo%28map_34e66f4566cb450b8e550cb4f2627b76%29%3B%0A%20%20%20%20%20%20%20%20%0A%20%20%20%20%0A%20%20%20%20%20%20%20%20%20%20%20%20var%20icon_75a5cc3acd3d40bdb6076a415010d537%20%3D%20L.AwesomeMarkers.icon%28%0A%20%20%20%20%20%20%20%20%20%20%20%20%20%20%20%20%7B%22extraClasses%22%3A%20%22fa-rotate-0%22%2C%20%22icon%22%3A%20%22bed%22%2C%20%22iconColor%22%3A%20%22white%22%2C%20%22markerColor%22%3A%20%22blue%22%2C%20%22prefix%22%3A%20%22fa%22%7D%0A%20%20%20%20%20%20%20%20%20%20%20%20%29%3B%0A%20%20%20%20%20%20%20%20%20%20%20%20marker_effc5aa44591418bb7650addad3cd497.setIcon%28icon_75a5cc3acd3d40bdb6076a415010d537%29%3B%0A%20%20%20%20%20%20%20%20%0A%20%20%20%20%0A%20%20%20%20%20%20%20%20var%20popup_40c9e26a215a4cd99b497449f5c7e7c7%20%3D%20L.popup%28%7B%22maxWidth%22%3A%20%22100%25%22%7D%29%3B%0A%0A%20%20%20%20%20%20%20%20%0A%20%20%20%20%20%20%20%20%20%20%20%20var%20html_10a5be1ce6e0403fae77ced60190d640%20%3D%20%24%28%60%3Cdiv%20id%3D%22html_10a5be1ce6e0403fae77ced60190d640%22%20style%3D%22width%3A%20100.0%25%3B%20height%3A%20100.0%25%3B%22%3E8.2/10%3C/div%3E%60%29%5B0%5D%3B%0A%20%20%20%20%20%20%20%20%20%20%20%20popup_40c9e26a215a4cd99b497449f5c7e7c7.setContent%28html_10a5be1ce6e0403fae77ced60190d640%29%3B%0A%20%20%20%20%20%20%20%20%0A%0A%20%20%20%20%20%20%20%20marker_effc5aa44591418bb7650addad3cd497.bindPopup%28popup_40c9e26a215a4cd99b497449f5c7e7c7%29%0A%20%20%20%20%20%20%20%20%3B%0A%0A%20%20%20%20%20%20%20%20%0A%20%20%20%20%0A%20%20%20%20%0A%20%20%20%20%20%20%20%20%20%20%20%20marker_effc5aa44591418bb7650addad3cd497.bindTooltip%28%0A%20%20%20%20%20%20%20%20%20%20%20%20%20%20%20%20%60%3Cdiv%3E%0A%20%20%20%20%20%20%20%20%20%20%20%20%20%20%20%20%20%20%20%20%20Ameritania%20at%20Times%20Square%0A%20%20%20%20%20%20%20%20%20%20%20%20%20%20%20%20%20%3C/div%3E%60%2C%0A%20%20%20%20%20%20%20%20%20%20%20%20%20%20%20%20%7B%22sticky%22%3A%20true%7D%0A%20%20%20%20%20%20%20%20%20%20%20%20%29%3B%0A%20%20%20%20%20%20%20%20%0A%20%20%20%20%0A%20%20%20%20%20%20%20%20%20%20%20%20var%20marker_91ca23cae9c84eecb979ded6142ed181%20%3D%20L.marker%28%0A%20%20%20%20%20%20%20%20%20%20%20%20%20%20%20%20%5B40.721723%2C%20-73.987496%5D%2C%0A%20%20%20%20%20%20%20%20%20%20%20%20%20%20%20%20%7B%7D%0A%20%20%20%20%20%20%20%20%20%20%20%20%29.addTo%28map_34e66f4566cb450b8e550cb4f2627b76%29%3B%0A%20%20%20%20%20%20%20%20%0A%20%20%20%20%0A%20%20%20%20%20%20%20%20%20%20%20%20var%20icon_32836685975d461fbd913a7569e3869a%20%3D%20L.AwesomeMarkers.icon%28%0A%20%20%20%20%20%20%20%20%20%20%20%20%20%20%20%20%7B%22extraClasses%22%3A%20%22fa-rotate-0%22%2C%20%22icon%22%3A%20%22bed%22%2C%20%22iconColor%22%3A%20%22white%22%2C%20%22markerColor%22%3A%20%22blue%22%2C%20%22prefix%22%3A%20%22fa%22%7D%0A%20%20%20%20%20%20%20%20%20%20%20%20%29%3B%0A%20%20%20%20%20%20%20%20%20%20%20%20marker_91ca23cae9c84eecb979ded6142ed181.setIcon%28icon_32836685975d461fbd913a7569e3869a%29%3B%0A%20%20%20%20%20%20%20%20%0A%20%20%20%20%0A%20%20%20%20%20%20%20%20var%20popup_64198ad54c8a4a9b868fd454c7e1eba5%20%3D%20L.popup%28%7B%22maxWidth%22%3A%20%22100%25%22%7D%29%3B%0A%0A%20%20%20%20%20%20%20%20%0A%20%20%20%20%20%20%20%20%20%20%20%20var%20html_4852334968e74e8cadea12897976a2c0%20%3D%20%24%28%60%3Cdiv%20id%3D%22html_4852334968e74e8cadea12897976a2c0%22%20style%3D%22width%3A%20100.0%25%3B%20height%3A%20100.0%25%3B%22%3E8.1/10%3C/div%3E%60%29%5B0%5D%3B%0A%20%20%20%20%20%20%20%20%20%20%20%20popup_64198ad54c8a4a9b868fd454c7e1eba5.setContent%28html_4852334968e74e8cadea12897976a2c0%29%3B%0A%20%20%20%20%20%20%20%20%0A%0A%20%20%20%20%20%20%20%20marker_91ca23cae9c84eecb979ded6142ed181.bindPopup%28popup_64198ad54c8a4a9b868fd454c7e1eba5%29%0A%20%20%20%20%20%20%20%20%3B%0A%0A%20%20%20%20%20%20%20%20%0A%20%20%20%20%0A%20%20%20%20%0A%20%20%20%20%20%20%20%20%20%20%20%20marker_91ca23cae9c84eecb979ded6142ed181.bindTooltip%28%0A%20%20%20%20%20%20%20%20%20%20%20%20%20%20%20%20%60%3Cdiv%3E%0A%20%20%20%20%20%20%20%20%20%20%20%20%20%20%20%20%20%20%20%20%20Hotel%20Indigo%20Lower%20East%20Side%2C%20an%20IHG%20Hotel%0A%20%20%20%20%20%20%20%20%20%20%20%20%20%20%20%20%20%3C/div%3E%60%2C%0A%20%20%20%20%20%20%20%20%20%20%20%20%20%20%20%20%7B%22sticky%22%3A%20true%7D%0A%20%20%20%20%20%20%20%20%20%20%20%20%29%3B%0A%20%20%20%20%20%20%20%20%0A%20%20%20%20%0A%20%20%20%20%20%20%20%20%20%20%20%20var%20marker_2dbaaa5e7f874bad83a5b66a8f344c31%20%3D%20L.marker%28%0A%20%20%20%20%20%20%20%20%20%20%20%20%20%20%20%20%5B40.752419%2C%20-73.989375%5D%2C%0A%20%20%20%20%20%20%20%20%20%20%20%20%20%20%20%20%7B%7D%0A%20%20%20%20%20%20%20%20%20%20%20%20%29.addTo%28map_34e66f4566cb450b8e550cb4f2627b76%29%3B%0A%20%20%20%20%20%20%20%20%0A%20%20%20%20%0A%20%20%20%20%20%20%20%20%20%20%20%20var%20icon_c484782833a047e09149cddc0f736c5a%20%3D%20L.AwesomeMarkers.icon%28%0A%20%20%20%20%20%20%20%20%20%20%20%20%20%20%20%20%7B%22extraClasses%22%3A%20%22fa-rotate-0%22%2C%20%22icon%22%3A%20%22bed%22%2C%20%22iconColor%22%3A%20%22white%22%2C%20%22markerColor%22%3A%20%22blue%22%2C%20%22prefix%22%3A%20%22fa%22%7D%0A%20%20%20%20%20%20%20%20%20%20%20%20%29%3B%0A%20%20%20%20%20%20%20%20%20%20%20%20marker_2dbaaa5e7f874bad83a5b66a8f344c31.setIcon%28icon_c484782833a047e09149cddc0f736c5a%29%3B%0A%20%20%20%20%20%20%20%20%0A%20%20%20%20%0A%20%20%20%20%20%20%20%20var%20popup_bf2f63847acc41f49889f7d5ef13ef98%20%3D%20L.popup%28%7B%22maxWidth%22%3A%20%22100%25%22%7D%29%3B%0A%0A%20%20%20%20%20%20%20%20%0A%20%20%20%20%20%20%20%20%20%20%20%20var%20html_fadb514310b347adb849ce82082b6aba%20%3D%20%24%28%60%3Cdiv%20id%3D%22html_fadb514310b347adb849ce82082b6aba%22%20style%3D%22width%3A%20100.0%25%3B%20height%3A%20100.0%25%3B%22%3E8.2/10%3C/div%3E%60%29%5B0%5D%3B%0A%20%20%20%20%20%20%20%20%20%20%20%20popup_bf2f63847acc41f49889f7d5ef13ef98.setContent%28html_fadb514310b347adb849ce82082b6aba%29%3B%0A%20%20%20%20%20%20%20%20%0A%0A%20%20%20%20%20%20%20%20marker_2dbaaa5e7f874bad83a5b66a8f344c31.bindPopup%28popup_bf2f63847acc41f49889f7d5ef13ef98%29%0A%20%20%20%20%20%20%20%20%3B%0A%0A%20%20%20%20%20%20%20%20%0A%20%20%20%20%0A%20%20%20%20%0A%20%20%20%20%20%20%20%20%20%20%20%20marker_2dbaaa5e7f874bad83a5b66a8f344c31.bindTooltip%28%0A%20%20%20%20%20%20%20%20%20%20%20%20%20%20%20%20%60%3Cdiv%3E%0A%20%20%20%20%20%20%20%20%20%20%20%20%20%20%20%20%20%20%20%20%20MOXY%20NYC%20Times%20Square%0A%20%20%20%20%20%20%20%20%20%20%20%20%20%20%20%20%20%3C/div%3E%60%2C%0A%20%20%20%20%20%20%20%20%20%20%20%20%20%20%20%20%7B%22sticky%22%3A%20true%7D%0A%20%20%20%20%20%20%20%20%20%20%20%20%29%3B%0A%20%20%20%20%20%20%20%20%0A%20%20%20%20%0A%20%20%20%20%20%20%20%20%20%20%20%20var%20marker_e11ffebe45f24da9ba2b8adb86ac68ad%20%3D%20L.marker%28%0A%20%20%20%20%20%20%20%20%20%20%20%20%20%20%20%20%5B40.720619%2C%20-73.99347%5D%2C%0A%20%20%20%20%20%20%20%20%20%20%20%20%20%20%20%20%7B%7D%0A%20%20%20%20%20%20%20%20%20%20%20%20%29.addTo%28map_34e66f4566cb450b8e550cb4f2627b76%29%3B%0A%20%20%20%20%20%20%20%20%0A%20%20%20%20%0A%20%20%20%20%20%20%20%20%20%20%20%20var%20icon_9201aa146e1e4c538f042c1c52a7dddb%20%3D%20L.AwesomeMarkers.icon%28%0A%20%20%20%20%20%20%20%20%20%20%20%20%20%20%20%20%7B%22extraClasses%22%3A%20%22fa-rotate-0%22%2C%20%22icon%22%3A%20%22bed%22%2C%20%22iconColor%22%3A%20%22white%22%2C%20%22markerColor%22%3A%20%22blue%22%2C%20%22prefix%22%3A%20%22fa%22%7D%0A%20%20%20%20%20%20%20%20%20%20%20%20%29%3B%0A%20%20%20%20%20%20%20%20%20%20%20%20marker_e11ffebe45f24da9ba2b8adb86ac68ad.setIcon%28icon_9201aa146e1e4c538f042c1c52a7dddb%29%3B%0A%20%20%20%20%20%20%20%20%0A%20%20%20%20%0A%20%20%20%20%20%20%20%20var%20popup_f292f3384f9d47fcb535adc719ec5262%20%3D%20L.popup%28%7B%22maxWidth%22%3A%20%22100%25%22%7D%29%3B%0A%0A%20%20%20%20%20%20%20%20%0A%20%20%20%20%20%20%20%20%20%20%20%20var%20html_e4cecb9b37784d709ecb04124dc45044%20%3D%20%24%28%60%3Cdiv%20id%3D%22html_e4cecb9b37784d709ecb04124dc45044%22%20style%3D%22width%3A%20100.0%25%3B%20height%3A%20100.0%25%3B%22%3E9.1/10%3C/div%3E%60%29%5B0%5D%3B%0A%20%20%20%20%20%20%20%20%20%20%20%20popup_f292f3384f9d47fcb535adc719ec5262.setContent%28html_e4cecb9b37784d709ecb04124dc45044%29%3B%0A%20%20%20%20%20%20%20%20%0A%0A%20%20%20%20%20%20%20%20marker_e11ffebe45f24da9ba2b8adb86ac68ad.bindPopup%28popup_f292f3384f9d47fcb535adc719ec5262%29%0A%20%20%20%20%20%20%20%20%3B%0A%0A%20%20%20%20%20%20%20%20%0A%20%20%20%20%0A%20%20%20%20%0A%20%20%20%20%20%20%20%20%20%20%20%20marker_e11ffebe45f24da9ba2b8adb86ac68ad.bindTooltip%28%0A%20%20%20%20%20%20%20%20%20%20%20%20%20%20%20%20%60%3Cdiv%3E%0A%20%20%20%20%20%20%20%20%20%20%20%20%20%20%20%20%20%20%20%20%20citizenM%20New%20York%20Bowery%0A%20%20%20%20%20%20%20%20%20%20%20%20%20%20%20%20%20%3C/div%3E%60%2C%0A%20%20%20%20%20%20%20%20%20%20%20%20%20%20%20%20%7B%22sticky%22%3A%20true%7D%0A%20%20%20%20%20%20%20%20%20%20%20%20%29%3B%0A%20%20%20%20%20%20%20%20%0A%20%20%20%20%0A%20%20%20%20%20%20%20%20%20%20%20%20var%20marker_7c64e2c08de44e9a89fe71d26aa3e510%20%3D%20L.marker%28%0A%20%20%20%20%20%20%20%20%20%20%20%20%20%20%20%20%5B40.7615731895647%2C%20-73.9850216441803%5D%2C%0A%20%20%20%20%20%20%20%20%20%20%20%20%20%20%20%20%7B%7D%0A%20%20%20%20%20%20%20%20%20%20%20%20%29.addTo%28map_34e66f4566cb450b8e550cb4f2627b76%29%3B%0A%20%20%20%20%20%20%20%20%0A%20%20%20%20%0A%20%20%20%20%20%20%20%20%20%20%20%20var%20icon_88bade72ae1142f5a705db4a550f2626%20%3D%20L.AwesomeMarkers.icon%28%0A%20%20%20%20%20%20%20%20%20%20%20%20%20%20%20%20%7B%22extraClasses%22%3A%20%22fa-rotate-0%22%2C%20%22icon%22%3A%20%22bed%22%2C%20%22iconColor%22%3A%20%22white%22%2C%20%22markerColor%22%3A%20%22blue%22%2C%20%22prefix%22%3A%20%22fa%22%7D%0A%20%20%20%20%20%20%20%20%20%20%20%20%29%3B%0A%20%20%20%20%20%20%20%20%20%20%20%20marker_7c64e2c08de44e9a89fe71d26aa3e510.setIcon%28icon_88bade72ae1142f5a705db4a550f2626%29%3B%0A%20%20%20%20%20%20%20%20%0A%20%20%20%20%0A%20%20%20%20%20%20%20%20var%20popup_24b54c56209b4c26b0dc3f44b35768b4%20%3D%20L.popup%28%7B%22maxWidth%22%3A%20%22100%25%22%7D%29%3B%0A%0A%20%20%20%20%20%20%20%20%0A%20%20%20%20%20%20%20%20%20%20%20%20var%20html_d9e108601ec347c784362dce11a98761%20%3D%20%24%28%60%3Cdiv%20id%3D%22html_d9e108601ec347c784362dce11a98761%22%20style%3D%22width%3A%20100.0%25%3B%20height%3A%20100.0%25%3B%22%3E9.1/10%3C/div%3E%60%29%5B0%5D%3B%0A%20%20%20%20%20%20%20%20%20%20%20%20popup_24b54c56209b4c26b0dc3f44b35768b4.setContent%28html_d9e108601ec347c784362dce11a98761%29%3B%0A%20%20%20%20%20%20%20%20%0A%0A%20%20%20%20%20%20%20%20marker_7c64e2c08de44e9a89fe71d26aa3e510.bindPopup%28popup_24b54c56209b4c26b0dc3f44b35768b4%29%0A%20%20%20%20%20%20%20%20%3B%0A%0A%20%20%20%20%20%20%20%20%0A%20%20%20%20%0A%20%20%20%20%0A%20%20%20%20%20%20%20%20%20%20%20%20marker_7c64e2c08de44e9a89fe71d26aa3e510.bindTooltip%28%0A%20%20%20%20%20%20%20%20%20%20%20%20%20%20%20%20%60%3Cdiv%3E%0A%20%20%20%20%20%20%20%20%20%20%20%20%20%20%20%20%20%20%20%20%20citizenM%20New%20York%20Times%20Square%0A%20%20%20%20%20%20%20%20%20%20%20%20%20%20%20%20%20%3C/div%3E%60%2C%0A%20%20%20%20%20%20%20%20%20%20%20%20%20%20%20%20%7B%22sticky%22%3A%20true%7D%0A%20%20%20%20%20%20%20%20%20%20%20%20%29%3B%0A%20%20%20%20%20%20%20%20%0A%20%20%20%20%0A%20%20%20%20%20%20%20%20%20%20%20%20var%20marker_2db4dd6c97a1494390a57a72d610ff1f%20%3D%20L.marker%28%0A%20%20%20%20%20%20%20%20%20%20%20%20%20%20%20%20%5B40.75374%2C%20-73.9937379%5D%2C%0A%20%20%20%20%20%20%20%20%20%20%20%20%20%20%20%20%7B%7D%0A%20%20%20%20%20%20%20%20%20%20%20%20%29.addTo%28map_34e66f4566cb450b8e550cb4f2627b76%29%3B%0A%20%20%20%20%20%20%20%20%0A%20%20%20%20%0A%20%20%20%20%20%20%20%20%20%20%20%20var%20icon_af52dba0f70d4910980ade90a3fb4389%20%3D%20L.AwesomeMarkers.icon%28%0A%20%20%20%20%20%20%20%20%20%20%20%20%20%20%20%20%7B%22extraClasses%22%3A%20%22fa-rotate-0%22%2C%20%22icon%22%3A%20%22bed%22%2C%20%22iconColor%22%3A%20%22white%22%2C%20%22markerColor%22%3A%20%22blue%22%2C%20%22prefix%22%3A%20%22fa%22%7D%0A%20%20%20%20%20%20%20%20%20%20%20%20%29%3B%0A%20%20%20%20%20%20%20%20%20%20%20%20marker_2db4dd6c97a1494390a57a72d610ff1f.setIcon%28icon_af52dba0f70d4910980ade90a3fb4389%29%3B%0A%20%20%20%20%20%20%20%20%0A%20%20%20%20%0A%20%20%20%20%20%20%20%20var%20popup_6882463dc73a4ab694f4fcc8ffb8617c%20%3D%20L.popup%28%7B%22maxWidth%22%3A%20%22100%25%22%7D%29%3B%0A%0A%20%20%20%20%20%20%20%20%0A%20%20%20%20%20%20%20%20%20%20%20%20var%20html_b6d5074bf57047c8ad6bdf5dbd394f7a%20%3D%20%24%28%60%3Cdiv%20id%3D%22html_b6d5074bf57047c8ad6bdf5dbd394f7a%22%20style%3D%22width%3A%20100.0%25%3B%20height%3A%20100.0%25%3B%22%3E8.6/10%3C/div%3E%60%29%5B0%5D%3B%0A%20%20%20%20%20%20%20%20%20%20%20%20popup_6882463dc73a4ab694f4fcc8ffb8617c.setContent%28html_b6d5074bf57047c8ad6bdf5dbd394f7a%29%3B%0A%20%20%20%20%20%20%20%20%0A%0A%20%20%20%20%20%20%20%20marker_2db4dd6c97a1494390a57a72d610ff1f.bindPopup%28popup_6882463dc73a4ab694f4fcc8ffb8617c%29%0A%20%20%20%20%20%20%20%20%3B%0A%0A%20%20%20%20%20%20%20%20%0A%20%20%20%20%0A%20%20%20%20%0A%20%20%20%20%20%20%20%20%20%20%20%20marker_2db4dd6c97a1494390a57a72d610ff1f.bindTooltip%28%0A%20%20%20%20%20%20%20%20%20%20%20%20%20%20%20%20%60%3Cdiv%3E%0A%20%20%20%20%20%20%20%20%20%20%20%20%20%20%20%20%20%20%20%20%20Crowne%20Plaza%20HY36%20Midtown%20Manhattan%2C%20an%20IHG%20Hotel%0A%20%20%20%20%20%20%20%20%20%20%20%20%20%20%20%20%20%3C/div%3E%60%2C%0A%20%20%20%20%20%20%20%20%20%20%20%20%20%20%20%20%7B%22sticky%22%3A%20true%7D%0A%20%20%20%20%20%20%20%20%20%20%20%20%29%3B%0A%20%20%20%20%20%20%20%20%0A%20%20%20%20%0A%20%20%20%20%20%20%20%20%20%20%20%20var%20marker_7255546c00e84c52a7c791f5d965a280%20%3D%20L.marker%28%0A%20%20%20%20%20%20%20%20%20%20%20%20%20%20%20%20%5B40.7573147577722%2C%20-73.9837320148945%5D%2C%0A%20%20%20%20%20%20%20%20%20%20%20%20%20%20%20%20%7B%7D%0A%20%20%20%20%20%20%20%20%20%20%20%20%29.addTo%28map_34e66f4566cb450b8e550cb4f2627b76%29%3B%0A%20%20%20%20%20%20%20%20%0A%20%20%20%20%0A%20%20%20%20%20%20%20%20%20%20%20%20var%20icon_adc30dcd7afd4bdbb0b8b185c8d4cad5%20%3D%20L.AwesomeMarkers.icon%28%0A%20%20%20%20%20%20%20%20%20%20%20%20%20%20%20%20%7B%22extraClasses%22%3A%20%22fa-rotate-0%22%2C%20%22icon%22%3A%20%22bed%22%2C%20%22iconColor%22%3A%20%22white%22%2C%20%22markerColor%22%3A%20%22blue%22%2C%20%22prefix%22%3A%20%22fa%22%7D%0A%20%20%20%20%20%20%20%20%20%20%20%20%29%3B%0A%20%20%20%20%20%20%20%20%20%20%20%20marker_7255546c00e84c52a7c791f5d965a280.setIcon%28icon_adc30dcd7afd4bdbb0b8b185c8d4cad5%29%3B%0A%20%20%20%20%20%20%20%20%0A%20%20%20%20%0A%20%20%20%20%20%20%20%20var%20popup_5ef134310b204b1fbe2b5e7c202d6f25%20%3D%20L.popup%28%7B%22maxWidth%22%3A%20%22100%25%22%7D%29%3B%0A%0A%20%20%20%20%20%20%20%20%0A%20%20%20%20%20%20%20%20%20%20%20%20var%20html_3db0a413f1dd45a9aa5c6138d6c6c6dd%20%3D%20%24%28%60%3Cdiv%20id%3D%22html_3db0a413f1dd45a9aa5c6138d6c6c6dd%22%20style%3D%22width%3A%20100.0%25%3B%20height%3A%20100.0%25%3B%22%3E8.5/10%3C/div%3E%60%29%5B0%5D%3B%0A%20%20%20%20%20%20%20%20%20%20%20%20popup_5ef134310b204b1fbe2b5e7c202d6f25.setContent%28html_3db0a413f1dd45a9aa5c6138d6c6c6dd%29%3B%0A%20%20%20%20%20%20%20%20%0A%0A%20%20%20%20%20%20%20%20marker_7255546c00e84c52a7c791f5d965a280.bindPopup%28popup_5ef134310b204b1fbe2b5e7c202d6f25%29%0A%20%20%20%20%20%20%20%20%3B%0A%0A%20%20%20%20%20%20%20%20%0A%20%20%20%20%0A%20%20%20%20%0A%20%20%20%20%20%20%20%20%20%20%20%20marker_7255546c00e84c52a7c791f5d965a280.bindTooltip%28%0A%20%20%20%20%20%20%20%20%20%20%20%20%20%20%20%20%60%3Cdiv%3E%0A%20%20%20%20%20%20%20%20%20%20%20%20%20%20%20%20%20%20%20%20%20Room%20Mate%20Grace%20Boutique%20Hotel%0A%20%20%20%20%20%20%20%20%20%20%20%20%20%20%20%20%20%3C/div%3E%60%2C%0A%20%20%20%20%20%20%20%20%20%20%20%20%20%20%20%20%7B%22sticky%22%3A%20true%7D%0A%20%20%20%20%20%20%20%20%20%20%20%20%29%3B%0A%20%20%20%20%20%20%20%20%0A%20%20%20%20%0A%20%20%20%20%20%20%20%20%20%20%20%20var%20marker_6fbdcf5e83a6474c85f51b7921ad3b7b%20%3D%20L.marker%28%0A%20%20%20%20%20%20%20%20%20%20%20%20%20%20%20%20%5B40.7613079915298%2C%20-73.9866274595261%5D%2C%0A%20%20%20%20%20%20%20%20%20%20%20%20%20%20%20%20%7B%7D%0A%20%20%20%20%20%20%20%20%20%20%20%20%29.addTo%28map_34e66f4566cb450b8e550cb4f2627b76%29%3B%0A%20%20%20%20%20%20%20%20%0A%20%20%20%20%0A%20%20%20%20%20%20%20%20%20%20%20%20var%20icon_8a29255bd75244ed969cfb9b122a237f%20%3D%20L.AwesomeMarkers.icon%28%0A%20%20%20%20%20%20%20%20%20%20%20%20%20%20%20%20%7B%22extraClasses%22%3A%20%22fa-rotate-0%22%2C%20%22icon%22%3A%20%22bed%22%2C%20%22iconColor%22%3A%20%22white%22%2C%20%22markerColor%22%3A%20%22blue%22%2C%20%22prefix%22%3A%20%22fa%22%7D%0A%20%20%20%20%20%20%20%20%20%20%20%20%29%3B%0A%20%20%20%20%20%20%20%20%20%20%20%20marker_6fbdcf5e83a6474c85f51b7921ad3b7b.setIcon%28icon_8a29255bd75244ed969cfb9b122a237f%29%3B%0A%20%20%20%20%20%20%20%20%0A%20%20%20%20%0A%20%20%20%20%20%20%20%20var%20popup_b1bd6d38e5d74923a62c962e7b712b65%20%3D%20L.popup%28%7B%22maxWidth%22%3A%20%22100%25%22%7D%29%3B%0A%0A%20%20%20%20%20%20%20%20%0A%20%20%20%20%20%20%20%20%20%20%20%20var%20html_b59cdbb8d97040f0923c935a7a7a3f1f%20%3D%20%24%28%60%3Cdiv%20id%3D%22html_b59cdbb8d97040f0923c935a7a7a3f1f%22%20style%3D%22width%3A%20100.0%25%3B%20height%3A%20100.0%25%3B%22%3E8.3/10%3C/div%3E%60%29%5B0%5D%3B%0A%20%20%20%20%20%20%20%20%20%20%20%20popup_b1bd6d38e5d74923a62c962e7b712b65.setContent%28html_b59cdbb8d97040f0923c935a7a7a3f1f%29%3B%0A%20%20%20%20%20%20%20%20%0A%0A%20%20%20%20%20%20%20%20marker_6fbdcf5e83a6474c85f51b7921ad3b7b.bindPopup%28popup_b1bd6d38e5d74923a62c962e7b712b65%29%0A%20%20%20%20%20%20%20%20%3B%0A%0A%20%20%20%20%20%20%20%20%0A%20%20%20%20%0A%20%20%20%20%0A%20%20%20%20%20%20%20%20%20%20%20%20marker_6fbdcf5e83a6474c85f51b7921ad3b7b.bindTooltip%28%0A%20%20%20%20%20%20%20%20%20%20%20%20%20%20%20%20%60%3Cdiv%3E%0A%20%20%20%20%20%20%20%20%20%20%20%20%20%20%20%20%20%20%20%20%20Hilton%20Garden%20Inn%20Times%20Square%0A%20%20%20%20%20%20%20%20%20%20%20%20%20%20%20%20%20%3C/div%3E%60%2C%0A%20%20%20%20%20%20%20%20%20%20%20%20%20%20%20%20%7B%22sticky%22%3A%20true%7D%0A%20%20%20%20%20%20%20%20%20%20%20%20%29%3B%0A%20%20%20%20%20%20%20%20%0A%20%20%20%20%0A%20%20%20%20%20%20%20%20%20%20%20%20var%20marker_7c52f328cda94b6cbac2af9ded0a5f4a%20%3D%20L.marker%28%0A%20%20%20%20%20%20%20%20%20%20%20%20%20%20%20%20%5B40.7555207211933%2C%20-73.9780641719699%5D%2C%0A%20%20%20%20%20%20%20%20%20%20%20%20%20%20%20%20%7B%7D%0A%20%20%20%20%20%20%20%20%20%20%20%20%29.addTo%28map_34e66f4566cb450b8e550cb4f2627b76%29%3B%0A%20%20%20%20%20%20%20%20%0A%20%20%20%20%0A%20%20%20%20%20%20%20%20%20%20%20%20var%20icon_b73cbfde469e46ff8530a2c6a5068729%20%3D%20L.AwesomeMarkers.icon%28%0A%20%20%20%20%20%20%20%20%20%20%20%20%20%20%20%20%7B%22extraClasses%22%3A%20%22fa-rotate-0%22%2C%20%22icon%22%3A%20%22bed%22%2C%20%22iconColor%22%3A%20%22white%22%2C%20%22markerColor%22%3A%20%22blue%22%2C%20%22prefix%22%3A%20%22fa%22%7D%0A%20%20%20%20%20%20%20%20%20%20%20%20%29%3B%0A%20%20%20%20%20%20%20%20%20%20%20%20marker_7c52f328cda94b6cbac2af9ded0a5f4a.setIcon%28icon_b73cbfde469e46ff8530a2c6a5068729%29%3B%0A%20%20%20%20%20%20%20%20%0A%20%20%20%20%0A%20%20%20%20%20%20%20%20var%20popup_e1d87ca800ef4c8ca323e942280b0dd2%20%3D%20L.popup%28%7B%22maxWidth%22%3A%20%22100%25%22%7D%29%3B%0A%0A%20%20%20%20%20%20%20%20%0A%20%20%20%20%20%20%20%20%20%20%20%20var%20html_4ba7b7500cf847748bafbc5153fc6d11%20%3D%20%24%28%60%3Cdiv%20id%3D%22html_4ba7b7500cf847748bafbc5153fc6d11%22%20style%3D%22width%3A%20100.0%25%3B%20height%3A%20100.0%25%3B%22%3E8.3/10%3C/div%3E%60%29%5B0%5D%3B%0A%20%20%20%20%20%20%20%20%20%20%20%20popup_e1d87ca800ef4c8ca323e942280b0dd2.setContent%28html_4ba7b7500cf847748bafbc5153fc6d11%29%3B%0A%20%20%20%20%20%20%20%20%0A%0A%20%20%20%20%20%20%20%20marker_7c52f328cda94b6cbac2af9ded0a5f4a.bindPopup%28popup_e1d87ca800ef4c8ca323e942280b0dd2%29%0A%20%20%20%20%20%20%20%20%3B%0A%0A%20%20%20%20%20%20%20%20%0A%20%20%20%20%0A%20%20%20%20%0A%20%20%20%20%20%20%20%20%20%20%20%20marker_7c52f328cda94b6cbac2af9ded0a5f4a.bindTooltip%28%0A%20%20%20%20%20%20%20%20%20%20%20%20%20%20%20%20%60%3Cdiv%3E%0A%20%20%20%20%20%20%20%20%20%20%20%20%20%20%20%20%20%20%20%20%20The%20Gotham%20Hotel%0A%20%20%20%20%20%20%20%20%20%20%20%20%20%20%20%20%20%3C/div%3E%60%2C%0A%20%20%20%20%20%20%20%20%20%20%20%20%20%20%20%20%7B%22sticky%22%3A%20true%7D%0A%20%20%20%20%20%20%20%20%20%20%20%20%29%3B%0A%20%20%20%20%20%20%20%20%0A%20%20%20%20%0A%20%20%20%20%20%20%20%20%20%20%20%20var%20marker_ff9a62864fae455b8adf77055618c751%20%3D%20L.marker%28%0A%20%20%20%20%20%20%20%20%20%20%20%20%20%20%20%20%5B40.764368%2C%20-73.98313%5D%2C%0A%20%20%20%20%20%20%20%20%20%20%20%20%20%20%20%20%7B%7D%0A%20%20%20%20%20%20%20%20%20%20%20%20%29.addTo%28map_34e66f4566cb450b8e550cb4f2627b76%29%3B%0A%20%20%20%20%20%20%20%20%0A%20%20%20%20%0A%20%20%20%20%20%20%20%20%20%20%20%20var%20icon_8c2f82b7f27c46ed8d374e21ee670e4f%20%3D%20L.AwesomeMarkers.icon%28%0A%20%20%20%20%20%20%20%20%20%20%20%20%20%20%20%20%7B%22extraClasses%22%3A%20%22fa-rotate-0%22%2C%20%22icon%22%3A%20%22bed%22%2C%20%22iconColor%22%3A%20%22white%22%2C%20%22markerColor%22%3A%20%22blue%22%2C%20%22prefix%22%3A%20%22fa%22%7D%0A%20%20%20%20%20%20%20%20%20%20%20%20%29%3B%0A%20%20%20%20%20%20%20%20%20%20%20%20marker_ff9a62864fae455b8adf77055618c751.setIcon%28icon_8c2f82b7f27c46ed8d374e21ee670e4f%29%3B%0A%20%20%20%20%20%20%20%20%0A%20%20%20%20%0A%20%20%20%20%20%20%20%20var%20popup_8f39fc8fcb854b17983801573f172420%20%3D%20L.popup%28%7B%22maxWidth%22%3A%20%22100%25%22%7D%29%3B%0A%0A%20%20%20%20%20%20%20%20%0A%20%20%20%20%20%20%20%20%20%20%20%20var%20html_71393f05e73f43839689dd7df57b8a60%20%3D%20%24%28%60%3Cdiv%20id%3D%22html_71393f05e73f43839689dd7df57b8a60%22%20style%3D%22width%3A%20100.0%25%3B%20height%3A%20100.0%25%3B%22%3E7.9/10%3C/div%3E%60%29%5B0%5D%3B%0A%20%20%20%20%20%20%20%20%20%20%20%20popup_8f39fc8fcb854b17983801573f172420.setContent%28html_71393f05e73f43839689dd7df57b8a60%29%3B%0A%20%20%20%20%20%20%20%20%0A%0A%20%20%20%20%20%20%20%20marker_ff9a62864fae455b8adf77055618c751.bindPopup%28popup_8f39fc8fcb854b17983801573f172420%29%0A%20%20%20%20%20%20%20%20%3B%0A%0A%20%20%20%20%20%20%20%20%0A%20%20%20%20%0A%20%20%20%20%0A%20%20%20%20%20%20%20%20%20%20%20%20marker_ff9a62864fae455b8adf77055618c751.bindTooltip%28%0A%20%20%20%20%20%20%20%20%20%20%20%20%20%20%20%20%60%3Cdiv%3E%0A%20%20%20%20%20%20%20%20%20%20%20%20%20%20%20%20%20%20%20%20%20Hilton%20Garden%20Inn%20Central%20Park%20South%0A%20%20%20%20%20%20%20%20%20%20%20%20%20%20%20%20%20%3C/div%3E%60%2C%0A%20%20%20%20%20%20%20%20%20%20%20%20%20%20%20%20%7B%22sticky%22%3A%20true%7D%0A%20%20%20%20%20%20%20%20%20%20%20%20%29%3B%0A%20%20%20%20%20%20%20%20%0A%20%20%20%20%0A%20%20%20%20%20%20%20%20%20%20%20%20var%20marker_b234566b717e43ba8e5bee91d774e9f5%20%3D%20L.marker%28%0A%20%20%20%20%20%20%20%20%20%20%20%20%20%20%20%20%5B40.7586963157974%2C%20-73.9893659949303%5D%2C%0A%20%20%20%20%20%20%20%20%20%20%20%20%20%20%20%20%7B%7D%0A%20%20%20%20%20%20%20%20%20%20%20%20%29.addTo%28map_34e66f4566cb450b8e550cb4f2627b76%29%3B%0A%20%20%20%20%20%20%20%20%0A%20%20%20%20%0A%20%20%20%20%20%20%20%20%20%20%20%20var%20icon_e34824b4448948f3a2f23a36d4ea6a65%20%3D%20L.AwesomeMarkers.icon%28%0A%20%20%20%20%20%20%20%20%20%20%20%20%20%20%20%20%7B%22extraClasses%22%3A%20%22fa-rotate-0%22%2C%20%22icon%22%3A%20%22bed%22%2C%20%22iconColor%22%3A%20%22white%22%2C%20%22markerColor%22%3A%20%22blue%22%2C%20%22prefix%22%3A%20%22fa%22%7D%0A%20%20%20%20%20%20%20%20%20%20%20%20%29%3B%0A%20%20%20%20%20%20%20%20%20%20%20%20marker_b234566b717e43ba8e5bee91d774e9f5.setIcon%28icon_e34824b4448948f3a2f23a36d4ea6a65%29%3B%0A%20%20%20%20%20%20%20%20%0A%20%20%20%20%0A%20%20%20%20%20%20%20%20var%20popup_04c66e033c6949fcad59cb8d132ea0c0%20%3D%20L.popup%28%7B%22maxWidth%22%3A%20%22100%25%22%7D%29%3B%0A%0A%20%20%20%20%20%20%20%20%0A%20%20%20%20%20%20%20%20%20%20%20%20var%20html_9f7884a7839c4d41a980489ff4e80051%20%3D%20%24%28%60%3Cdiv%20id%3D%22html_9f7884a7839c4d41a980489ff4e80051%22%20style%3D%22width%3A%20100.0%25%3B%20height%3A%20100.0%25%3B%22%3E8.2/10%3C/div%3E%60%29%5B0%5D%3B%0A%20%20%20%20%20%20%20%20%20%20%20%20popup_04c66e033c6949fcad59cb8d132ea0c0.setContent%28html_9f7884a7839c4d41a980489ff4e80051%29%3B%0A%20%20%20%20%20%20%20%20%0A%0A%20%20%20%20%20%20%20%20marker_b234566b717e43ba8e5bee91d774e9f5.bindPopup%28popup_04c66e033c6949fcad59cb8d132ea0c0%29%0A%20%20%20%20%20%20%20%20%3B%0A%0A%20%20%20%20%20%20%20%20%0A%20%20%20%20%0A%20%20%20%20%0A%20%20%20%20%20%20%20%20%20%20%20%20marker_b234566b717e43ba8e5bee91d774e9f5.bindTooltip%28%0A%20%20%20%20%20%20%20%20%20%20%20%20%20%20%20%20%60%3Cdiv%3E%0A%20%20%20%20%20%20%20%20%20%20%20%20%20%20%20%20%20%20%20%20%20InterContinental%20New%20York%20Times%20Square%2C%20an%20IHG%20Hotel%0A%20%20%20%20%20%20%20%20%20%20%20%20%20%20%20%20%20%3C/div%3E%60%2C%0A%20%20%20%20%20%20%20%20%20%20%20%20%20%20%20%20%7B%22sticky%22%3A%20true%7D%0A%20%20%20%20%20%20%20%20%20%20%20%20%29%3B%0A%20%20%20%20%20%20%20%20%0A%20%20%20%20%0A%20%20%20%20%20%20%20%20%20%20%20%20var%20marker_4a6b24cc0c0e4580b0c8804f1f14a072%20%3D%20L.marker%28%0A%20%20%20%20%20%20%20%20%20%20%20%20%20%20%20%20%5B40.7545457995103%2C%20-73.9857049558197%5D%2C%0A%20%20%20%20%20%20%20%20%20%20%20%20%20%20%20%20%7B%7D%0A%20%20%20%20%20%20%20%20%20%20%20%20%29.addTo%28map_34e66f4566cb450b8e550cb4f2627b76%29%3B%0A%20%20%20%20%20%20%20%20%0A%20%20%20%20%0A%20%20%20%20%20%20%20%20%20%20%20%20var%20icon_2c093dc118a54601b58053574d9b7f35%20%3D%20L.AwesomeMarkers.icon%28%0A%20%20%20%20%20%20%20%20%20%20%20%20%20%20%20%20%7B%22extraClasses%22%3A%20%22fa-rotate-0%22%2C%20%22icon%22%3A%20%22bed%22%2C%20%22iconColor%22%3A%20%22white%22%2C%20%22markerColor%22%3A%20%22blue%22%2C%20%22prefix%22%3A%20%22fa%22%7D%0A%20%20%20%20%20%20%20%20%20%20%20%20%29%3B%0A%20%20%20%20%20%20%20%20%20%20%20%20marker_4a6b24cc0c0e4580b0c8804f1f14a072.setIcon%28icon_2c093dc118a54601b58053574d9b7f35%29%3B%0A%20%20%20%20%20%20%20%20%0A%20%20%20%20%0A%20%20%20%20%20%20%20%20var%20popup_81c337d1daad44148f2ffc7976cc42c6%20%3D%20L.popup%28%7B%22maxWidth%22%3A%20%22100%25%22%7D%29%3B%0A%0A%20%20%20%20%20%20%20%20%0A%20%20%20%20%20%20%20%20%20%20%20%20var%20html_08c664ca439a4ed6b23fe0b0e26f661f%20%3D%20%24%28%60%3Cdiv%20id%3D%22html_08c664ca439a4ed6b23fe0b0e26f661f%22%20style%3D%22width%3A%20100.0%25%3B%20height%3A%20100.0%25%3B%22%3E9.1/10%3C/div%3E%60%29%5B0%5D%3B%0A%20%20%20%20%20%20%20%20%20%20%20%20popup_81c337d1daad44148f2ffc7976cc42c6.setContent%28html_08c664ca439a4ed6b23fe0b0e26f661f%29%3B%0A%20%20%20%20%20%20%20%20%0A%0A%20%20%20%20%20%20%20%20marker_4a6b24cc0c0e4580b0c8804f1f14a072.bindPopup%28popup_81c337d1daad44148f2ffc7976cc42c6%29%0A%20%20%20%20%20%20%20%20%3B%0A%0A%20%20%20%20%20%20%20%20%0A%20%20%20%20%0A%20%20%20%20%0A%20%20%20%20%20%20%20%20%20%20%20%20marker_4a6b24cc0c0e4580b0c8804f1f14a072.bindTooltip%28%0A%20%20%20%20%20%20%20%20%20%20%20%20%20%20%20%20%60%3Cdiv%3E%0A%20%20%20%20%20%20%20%20%20%20%20%20%20%20%20%20%20%20%20%20%20LUMA%20Hotel%20-%20Times%20Square%0A%20%20%20%20%20%20%20%20%20%20%20%20%20%20%20%20%20%3C/div%3E%60%2C%0A%20%20%20%20%20%20%20%20%20%20%20%20%20%20%20%20%7B%22sticky%22%3A%20true%7D%0A%20%20%20%20%20%20%20%20%20%20%20%20%29%3B%0A%20%20%20%20%20%20%20%20%0A%20%20%20%20%0A%20%20%20%20%20%20%20%20%20%20%20%20var%20marker_e0c3dab4ca914d348274012b6b65edb7%20%3D%20L.marker%28%0A%20%20%20%20%20%20%20%20%20%20%20%20%20%20%20%20%5B40.752494%2C%20-73.983108%5D%2C%0A%20%20%20%20%20%20%20%20%20%20%20%20%20%20%20%20%7B%7D%0A%20%20%20%20%20%20%20%20%20%20%20%20%29.addTo%28map_34e66f4566cb450b8e550cb4f2627b76%29%3B%0A%20%20%20%20%20%20%20%20%0A%20%20%20%20%0A%20%20%20%20%20%20%20%20%20%20%20%20var%20icon_2a91c62b50ac46438589f759dd126fb9%20%3D%20L.AwesomeMarkers.icon%28%0A%20%20%20%20%20%20%20%20%20%20%20%20%20%20%20%20%7B%22extraClasses%22%3A%20%22fa-rotate-0%22%2C%20%22icon%22%3A%20%22bed%22%2C%20%22iconColor%22%3A%20%22white%22%2C%20%22markerColor%22%3A%20%22blue%22%2C%20%22prefix%22%3A%20%22fa%22%7D%0A%20%20%20%20%20%20%20%20%20%20%20%20%29%3B%0A%20%20%20%20%20%20%20%20%20%20%20%20marker_e0c3dab4ca914d348274012b6b65edb7.setIcon%28icon_2a91c62b50ac46438589f759dd126fb9%29%3B%0A%20%20%20%20%20%20%20%20%0A%20%20%20%20%0A%20%20%20%20%20%20%20%20var%20popup_0494665dcb854195b8f1e6ca7dfad846%20%3D%20L.popup%28%7B%22maxWidth%22%3A%20%22100%25%22%7D%29%3B%0A%0A%20%20%20%20%20%20%20%20%0A%20%20%20%20%20%20%20%20%20%20%20%20var%20html_22a7d538efcf44949d0e9581f71e71eb%20%3D%20%24%28%60%3Cdiv%20id%3D%22html_22a7d538efcf44949d0e9581f71e71eb%22%20style%3D%22width%3A%20100.0%25%3B%20height%3A%20100.0%25%3B%22%3E9.0/10%3C/div%3E%60%29%5B0%5D%3B%0A%20%20%20%20%20%20%20%20%20%20%20%20popup_0494665dcb854195b8f1e6ca7dfad846.setContent%28html_22a7d538efcf44949d0e9581f71e71eb%29%3B%0A%20%20%20%20%20%20%20%20%0A%0A%20%20%20%20%20%20%20%20marker_e0c3dab4ca914d348274012b6b65edb7.bindPopup%28popup_0494665dcb854195b8f1e6ca7dfad846%29%0A%20%20%20%20%20%20%20%20%3B%0A%0A%20%20%20%20%20%20%20%20%0A%20%20%20%20%0A%20%20%20%20%0A%20%20%20%20%20%20%20%20%20%20%20%20marker_e0c3dab4ca914d348274012b6b65edb7.bindTooltip%28%0A%20%20%20%20%20%20%20%20%20%20%20%20%20%20%20%20%60%3Cdiv%3E%0A%20%20%20%20%20%20%20%20%20%20%20%20%20%20%20%20%20%20%20%20%20Park%20Terrace%20Hotel%20on%20Bryant%20Park%0A%20%20%20%20%20%20%20%20%20%20%20%20%20%20%20%20%20%3C/div%3E%60%2C%0A%20%20%20%20%20%20%20%20%20%20%20%20%20%20%20%20%7B%22sticky%22%3A%20true%7D%0A%20%20%20%20%20%20%20%20%20%20%20%20%29%3B%0A%20%20%20%20%20%20%20%20%0A%20%20%20%20%0A%20%20%20%20%20%20%20%20%20%20%20%20var%20marker_db4cc4ccb7fe48c6a2ee846cd905bebc%20%3D%20L.marker%28%0A%20%20%20%20%20%20%20%20%20%20%20%20%20%20%20%20%5B40.760003%2C%20-73.970399%5D%2C%0A%20%20%20%20%20%20%20%20%20%20%20%20%20%20%20%20%7B%7D%0A%20%20%20%20%20%20%20%20%20%20%20%20%29.addTo%28map_34e66f4566cb450b8e550cb4f2627b76%29%3B%0A%20%20%20%20%20%20%20%20%0A%20%20%20%20%0A%20%20%20%20%20%20%20%20%20%20%20%20var%20icon_30d5913abbc84438bcc0ca1e3eade6a7%20%3D%20L.AwesomeMarkers.icon%28%0A%20%20%20%20%20%20%20%20%20%20%20%20%20%20%20%20%7B%22extraClasses%22%3A%20%22fa-rotate-0%22%2C%20%22icon%22%3A%20%22bed%22%2C%20%22iconColor%22%3A%20%22white%22%2C%20%22markerColor%22%3A%20%22blue%22%2C%20%22prefix%22%3A%20%22fa%22%7D%0A%20%20%20%20%20%20%20%20%20%20%20%20%29%3B%0A%20%20%20%20%20%20%20%20%20%20%20%20marker_db4cc4ccb7fe48c6a2ee846cd905bebc.setIcon%28icon_30d5913abbc84438bcc0ca1e3eade6a7%29%3B%0A%20%20%20%20%20%20%20%20%0A%20%20%20%20%0A%20%20%20%20%20%20%20%20var%20popup_cbd05b395e8c4e41911a971885e514df%20%3D%20L.popup%28%7B%22maxWidth%22%3A%20%22100%25%22%7D%29%3B%0A%0A%20%20%20%20%20%20%20%20%0A%20%20%20%20%20%20%20%20%20%20%20%20var%20html_ac65582263dd466aa7c3f8a9aba200f5%20%3D%20%24%28%60%3Cdiv%20id%3D%22html_ac65582263dd466aa7c3f8a9aba200f5%22%20style%3D%22width%3A%20100.0%25%3B%20height%3A%20100.0%25%3B%22%3E8.9/10%3C/div%3E%60%29%5B0%5D%3B%0A%20%20%20%20%20%20%20%20%20%20%20%20popup_cbd05b395e8c4e41911a971885e514df.setContent%28html_ac65582263dd466aa7c3f8a9aba200f5%29%3B%0A%20%20%20%20%20%20%20%20%0A%0A%20%20%20%20%20%20%20%20marker_db4cc4ccb7fe48c6a2ee846cd905bebc.bindPopup%28popup_cbd05b395e8c4e41911a971885e514df%29%0A%20%20%20%20%20%20%20%20%3B%0A%0A%20%20%20%20%20%20%20%20%0A%20%20%20%20%0A%20%20%20%20%0A%20%20%20%20%20%20%20%20%20%20%20%20marker_db4cc4ccb7fe48c6a2ee846cd905bebc.bindTooltip%28%0A%20%20%20%20%20%20%20%20%20%20%20%20%20%20%20%20%60%3Cdiv%3E%0A%20%20%20%20%20%20%20%20%20%20%20%20%20%20%20%20%20%20%20%20%20Concorde%20Hotel%20New%20York%0A%20%20%20%20%20%20%20%20%20%20%20%20%20%20%20%20%20%3C/div%3E%60%2C%0A%20%20%20%20%20%20%20%20%20%20%20%20%20%20%20%20%7B%22sticky%22%3A%20true%7D%0A%20%20%20%20%20%20%20%20%20%20%20%20%29%3B%0A%20%20%20%20%20%20%20%20%0A%3C/script%3E onload=\"this.contentDocument.open();this.contentDocument.write(    decodeURIComponent(this.getAttribute('data-html')));this.contentDocument.close();\" allowfullscreen webkitallowfullscreen mozallowfullscreen></iframe></div></div>"
      ],
      "text/plain": [
       "<folium.folium.Map at 0x24bfef9c730>"
      ]
     },
     "execution_count": 50,
     "metadata": {},
     "output_type": "execute_result"
    }
   ],
   "source": [
    "# Use folium to create Map of hotels in dest_id of choice (district, landmark, city, etc.)\n",
    "\n",
    "# Creates map around a set of coordinates from the dataframe\n",
    "start_coords = [hotels_df['latitude'].iloc[0], hotels_df['longitude'].iloc[0]]\n",
    "m = folium.Map(location=start_coords, zoom_start=12)\n",
    "\n",
    "\n",
    "# Create loop that adds all hotel coordinates to the map\n",
    "coords = [hotels_df['latitude'].to_list(), hotels_df['longitude'].to_list()]\n",
    "\n",
    "for i in range(len(coords[0])):\n",
    "    folium.Marker(location= [coords[0][i], coords[1][i]],\n",
    "    tooltip= hotels_df['hotel_name'].iloc[i],\n",
    "    icon=folium.Icon(icon='bed', prefix='fa'),\n",
    "    popup =f\"{hotels_df['review_score'].iloc[i]}/10\"\n",
    "    ).add_to(m) \n",
    " \n",
    "hotels_map = m\n",
    "hotels_map\n",
    "\n",
    "# icon examples for hotels: \"bed\" \"h-square\" these two need the prefix 'fa' for font awesome website (recommended by folium documentation)"
   ]
  },
  {
   "cell_type": "code",
   "execution_count": 54,
   "metadata": {},
   "outputs": [],
   "source": [
    "# Save map\n",
    "hotels_map.save('hotels_map.html')"
   ]
  },
  {
   "cell_type": "code",
   "execution_count": 55,
   "metadata": {},
   "outputs": [
    {
     "name": "stdout",
     "output_type": "stream",
     "text": [
      "Here are some hotel options for you:\n",
      "----------------------------------------------------------\n",
      "\u001b[32mWest Side YMCA\u001b[0m (7.3/10.0)\n",
      "5 West 63rd Street NY 10023\n",
      "Price: $1231.20\n",
      "\u001b[34mhttps://www.booking.com/hotel/us/west-side-ymca.html\u001b[0m\n",
      " \n",
      "\u001b[32mPod Times Square\u001b[0m (8.5/10.0)\n",
      "400 West 42nd Street NY 10036\n",
      "Price: $2196.18\n",
      "\u001b[34mhttps://www.booking.com/hotel/us/pod-times-square.html\u001b[0m\n",
      " \n",
      "\u001b[32mThe New Yorker, A Wyndham Hotel\u001b[0m (7.8/10.0)\n",
      "481 Eighth Avenue NY 10001 \n",
      "Price: $2308.50\n",
      "\u001b[34mhttps://www.booking.com/hotel/us/new-yorker-ramada-plaza.html\u001b[0m\n",
      " \n",
      "\u001b[32mHoliday Inn Manhattan Financial District, an IHG Hotel\u001b[0m (8.1/10.0)\n",
      "99 Washington Street NY 10006\n",
      "Price: $3057.48\n",
      "\u001b[34mhttps://www.booking.com/hotel/us/holiday-inn-financial-district.html\u001b[0m\n",
      " \n",
      "\u001b[32mHotel Edison Times Square\u001b[0m (7.7/10.0)\n",
      "228 West 47th Street NY 10036\n",
      "Price: $3249.00\n",
      "\u001b[34mhttps://www.booking.com/hotel/us/edison-triumph-group.html\u001b[0m\n",
      " \n",
      "\u001b[32mHotel Hayden New York\u001b[0m (8.0/10.0)\n",
      "127 West 28th Street NY 10001\n",
      "Price: $3460.80\n",
      "\u001b[34mhttps://www.booking.com/hotel/us/hayden.html\u001b[0m\n",
      " \n",
      "\u001b[32mAmeritania at Times Square\u001b[0m (8.2/10.0)\n",
      "230 West 54th Street NY 10019\n",
      "Price: $3473.10\n",
      "\u001b[34mhttps://www.booking.com/hotel/us/ameritania-manhattan.html\u001b[0m\n",
      "Only 2 left at this price on Booking.com\n",
      " \n",
      "\u001b[32mHotel Indigo Lower East Side, an IHG Hotel\u001b[0m (8.1/10.0)\n",
      "171 Ludlow Street NY 10002\n",
      "Price: $3817.84\n",
      "\u001b[34mhttps://www.booking.com/hotel/us/indigo-lower-east-side.html\u001b[0m\n",
      "Only 1 left at this price on Booking.com\n",
      " \n",
      "\u001b[32mMOXY NYC Times Square\u001b[0m (8.2/10.0)\n",
      "485 7th Avenue NY 10018\n",
      "Price: $3936.00\n",
      "\u001b[34mhttps://www.booking.com/hotel/us/moxy-nyc-times-square.html\u001b[0m\n",
      " \n",
      "\u001b[32mcitizenM New York Bowery\u001b[0m (9.1/10.0)\n",
      "189 Bowery NY 10002\n",
      "Price: $3968.23\n",
      "\u001b[34mhttps://www.booking.com/hotel/us/citizenm-new-york-bowery.html\u001b[0m\n",
      " \n",
      "\u001b[32mcitizenM New York Times Square\u001b[0m (9.1/10.0)\n",
      "218 West 50th Street NY 10019\n",
      "Price: $4374.93\n",
      "\u001b[34mhttps://www.booking.com/hotel/us/citizenm-new-york-times-square-new-york.html\u001b[0m\n",
      " \n",
      "\u001b[32mCrowne Plaza HY36 Midtown Manhattan, an IHG Hotel\u001b[0m (8.6/10.0)\n",
      "320 West 36th Street NY 10018\n",
      "Price: $4388.40\n",
      "\u001b[34mhttps://www.booking.com/hotel/us/crowne-plaza-midtown-manhattan.html\u001b[0m\n",
      "Only 1 left at this price on Booking.com\n",
      " \n",
      "\u001b[32mRoom Mate Grace Boutique Hotel\u001b[0m (8.5/10.0)\n",
      "125 West 45th Street NY 10036\n",
      "Price: $4477.02\n",
      "\u001b[34mhttps://www.booking.com/hotel/us/room-mate-grace.html\u001b[0m\n",
      " \n",
      "\u001b[32mHilton Garden Inn Times Square\u001b[0m (8.3/10.0)\n",
      "790 Eighth Avenue NY 10019\n",
      "Price: $4577.40\n",
      "\u001b[34mhttps://www.booking.com/hotel/us/hilton-garden-inn-times-square.html\u001b[0m\n",
      " \n",
      "\u001b[32mThe Gotham Hotel\u001b[0m (8.3/10.0)\n",
      "16 East 46th Street NY 10017\n",
      "Price: $4654.32\n",
      "\u001b[34mhttps://www.booking.com/hotel/us/the-gotham-on-46th-street.html\u001b[0m\n",
      " \n",
      "\u001b[32mHilton Garden Inn Central Park South\u001b[0m (7.9/10.0)\n",
      "237 West 54th Street NY 10019\n",
      "Price: $5221.89\n",
      "\u001b[34mhttps://www.booking.com/hotel/us/hilton-garden-inn-central-park-south.html\u001b[0m\n",
      " \n",
      "\u001b[32mInterContinental New York Times Square, an IHG Hotel\u001b[0m (8.2/10.0)\n",
      "300 West 44th Street NY 10036\n",
      "Price: $5567.00\n",
      "\u001b[34mhttps://www.booking.com/hotel/us/intercontinental-new-york-times-square.html\u001b[0m\n",
      " \n",
      "\u001b[32mLUMA Hotel - Times Square\u001b[0m (9.1/10.0)\n",
      "120 West 41st Street NY 10036-7315\n",
      "Price: $5911.15\n",
      "\u001b[34mhttps://www.booking.com/hotel/us/luma-times-square.html\u001b[0m\n",
      "Only 1 left at this price on Booking.com\n",
      " \n",
      "\u001b[32mPark Terrace Hotel on Bryant Park\u001b[0m (9.0/10.0)\n",
      "18 West 40th Street NY 10018\n",
      "Price: $6064.00\n",
      "\u001b[34mhttps://www.booking.com/hotel/us/park-terrace.html\u001b[0m\n",
      " \n",
      "\u001b[32mConcorde Hotel New York\u001b[0m (8.9/10.0)\n",
      "127 East 55th Street NY 10022\n",
      "Price: $6446.00\n",
      "\u001b[34mhttps://www.booking.com/hotel/us/concorde-new-york.html\u001b[0m\n",
      " \n"
     ]
    }
   ],
   "source": [
    "# Print hotel quotes\n",
    "\n",
    "print(f\"Here are some hotel options for you:\")\n",
    "print(f\"----------------------------------------------------------\")\n",
    "\n",
    "for quote in range(len(hotels_df)):\n",
    "    print(green(f\"{hotels_df['hotel_name'].iloc[quote]}\"), f\"({hotels_df['review_score'].iloc[quote]}/10.0)\")\n",
    "    print(f\"{hotels_df['address'].iloc[quote]} {hotels_df['zip'].iloc[quote]}\")\n",
    "    print(f\"Price: ${hotels_df['min_total_price'].iloc[quote]:.2f}\")\n",
    "    print(blue(f\"{hotels_df['url'].iloc[quote]}\"))\n",
    "\n",
    "    #this loop checks if there is an urgency_message for the hotel, if present, it prints the message\n",
    "    if type(hotels_df['urgency_message'].iloc[quote])==str:\n",
    "        print(f\"{hotels_df['urgency_message'].iloc[quote]}\")\n",
    "    elif type(hotels_df['urgency_message'].iloc[quote])==float:\n",
    "        pass\n",
    "\n",
    "    print(f\" \")"
   ]
  },
  {
   "cell_type": "code",
   "execution_count": 56,
   "metadata": {},
   "outputs": [],
   "source": [
    "# Export the analysis to a text file that contains the final results\n",
    "\n",
    "# Set output file name\n",
    "output_path = 'hotels_output.txt'\n",
    "\n",
    "# Open the output path as a file object\n",
    "with open(output_path, 'w') as file:\n",
    "    file.write(f\"Here are some hotel options for you:\\n\")\n",
    "    file.write(f\"----------------------------------------------------------\\n\")\n",
    "\n",
    "    for quote in range(len(hotels_df)):\n",
    "        file.write(f\"{hotels_df['hotel_name'].iloc[quote]}\\n\") \n",
    "        file.write(f\"{hotels_df['review_score'].iloc[quote]}/10.0)\\n\")\n",
    "        file.write(f\"{hotels_df['address'].iloc[quote]} {hotels_df['zip'].iloc[quote]}\\n\")\n",
    "        file.write(f\"Price: ${hotels_df['min_total_price'].iloc[quote]:.2f}\\n\")\n",
    "        file.write(f\"{hotels_df['url'].iloc[quote]}\\n\")\n",
    "\n",
    "        #this loop checks if there is an urgency_message for the hotel, if present, it prints the message\n",
    "        if type(hotels_df['urgency_message'].iloc[quote])==str:\n",
    "            file.write(f\"{hotels_df['urgency_message'].iloc[quote]}\\n\")\n",
    "        elif type(hotels_df['urgency_message'].iloc[quote])==float:\n",
    "            pass\n",
    "\n",
    "        file.write(f\" \\n\")"
   ]
  }
 ],
 "metadata": {
  "interpreter": {
   "hash": "1b96bea370aa25765d77d0a7c5b93f2dc962ef269c95db79ebc3fe3f05623299"
  },
  "kernelspec": {
   "display_name": "Python 3.8.8 64-bit ('FinTech': conda)",
   "name": "python3"
  },
  "language_info": {
   "codemirror_mode": {
    "name": "ipython",
    "version": 3
   },
   "file_extension": ".py",
   "mimetype": "text/x-python",
   "name": "python",
   "nbconvert_exporter": "python",
   "pygments_lexer": "ipython3",
   "version": "3.8.8"
  },
  "widgets": {
   "application/vnd.jupyter.widget-state+json": {
    "state": {},
    "version_major": 2,
    "version_minor": 0
   }
  }
 },
 "nbformat": 4,
 "nbformat_minor": 4
}
